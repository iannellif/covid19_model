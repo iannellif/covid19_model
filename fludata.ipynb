{
 "cells": [
  {
   "cell_type": "code",
   "execution_count": 1,
   "metadata": {},
   "outputs": [],
   "source": [
    "import numpy as np\n",
    "import matplotlib.pyplot as plt\n",
    "from scipy.optimize import curve_fit"
   ]
  },
  {
   "cell_type": "code",
   "execution_count": 3,
   "metadata": {},
   "outputs": [],
   "source": [
    "my_data = np.genfromtxt('italy2020.csv', delimiter=',',skip_header=4)"
   ]
  },
  {
   "cell_type": "code",
   "execution_count": 4,
   "metadata": {},
   "outputs": [],
   "source": [
    "time = my_data[:,4]"
   ]
  },
  {
   "cell_type": "code",
   "execution_count": 5,
   "metadata": {},
   "outputs": [
    {
     "data": {
      "text/plain": [
       "array([43., 44., 45., 46., 47., 48., 49., 50., 51., 52.,  1.,  2.,  3.,\n",
       "        4.,  5.,  6.,  7.,  8.,  9., 10.])"
      ]
     },
     "execution_count": 5,
     "metadata": {},
     "output_type": "execute_result"
    }
   ],
   "source": [
    "time"
   ]
  },
  {
   "cell_type": "code",
   "execution_count": 6,
   "metadata": {},
   "outputs": [],
   "source": [
    "cases = my_data[:,19]"
   ]
  },
  {
   "cell_type": "code",
   "execution_count": 8,
   "metadata": {},
   "outputs": [
    {
     "data": {
      "text/plain": [
       "array([ nan,  nan,  nan,   3.,   4.,  18.,  27.,  45.,  75.,  68.,  85.,\n",
       "       178., 454., 419., 544., 513., 505., 319.,  nan,  nan])"
      ]
     },
     "execution_count": 8,
     "metadata": {},
     "output_type": "execute_result"
    }
   ],
   "source": [
    "cases"
   ]
  },
  {
   "cell_type": "code",
   "execution_count": 10,
   "metadata": {},
   "outputs": [
    {
     "data": {
      "text/plain": [
       "array([  3.,   4.,  18.,  27.,  45.,  75.,  68.,  85., 178., 454., 419.,\n",
       "       544., 513., 505., 319.])"
      ]
     },
     "execution_count": 10,
     "metadata": {},
     "output_type": "execute_result"
    }
   ],
   "source": [
    "cases[3:18]"
   ]
  },
  {
   "cell_type": "code",
   "execution_count": 11,
   "metadata": {},
   "outputs": [],
   "source": [
    "def fitExp(t, a, b, c):\n",
    "    return a*np.exp(b*t) + c\n",
    "\n",
    "def fitPowerlaw(t, a, b, c):\n",
    "    return a*t**(b) + c\n"
   ]
  },
  {
   "cell_type": "code",
   "execution_count": 12,
   "metadata": {},
   "outputs": [
    {
     "data": {
      "text/plain": [
       "(array([ 1,  2,  3,  4,  5,  6,  7,  8,  9, 10, 11, 12, 13, 14, 15]),\n",
       " array([3.000e+00, 7.000e+00, 2.500e+01, 5.200e+01, 9.700e+01, 1.720e+02,\n",
       "        2.400e+02, 3.250e+02, 5.030e+02, 9.570e+02, 1.376e+03, 1.920e+03,\n",
       "        2.433e+03, 2.938e+03, 3.257e+03]))"
      ]
     },
     "execution_count": 12,
     "metadata": {},
     "output_type": "execute_result"
    }
   ],
   "source": [
    "ydata = np.cumsum(cases[3:18])\n",
    "t = np.arange(1,len(ydata)+1,1)\n",
    "xdata = t\n",
    "xdata,ydata"
   ]
  },
  {
   "cell_type": "code",
   "execution_count": 13,
   "metadata": {},
   "outputs": [
    {
     "data": {
      "text/plain": [
       "(array([ 1.63942396e+02,  2.10762357e-01, -3.46394863e+02]),\n",
       " array([-143.98847852,  -96.5001108 ,  -37.87007345,   34.51568005,\n",
       "         123.88450099,  234.22093834,  370.44439166,  538.62844472,\n",
       "         746.27165898, 1002.63190029, 1319.13910502, 1709.90488886,\n",
       "        2192.35171959, 2787.98970558, 3523.37563364]))"
      ]
     },
     "execution_count": 13,
     "metadata": {},
     "output_type": "execute_result"
    }
   ],
   "source": [
    "# Initial guess.\n",
    "A0,B0,C0 = 1,1,1\n",
    "x0 = np.array([A0, B0, C0])\n",
    "\n",
    "func = fitExp\n",
    "popt, pcov = curve_fit(func, xdata, ydata, x0,maxfev = 5000)\n",
    "A, B, C = popt[0], popt[1], popt[2]\n",
    "x = np.array([A, B, C])\n",
    "curve = fitExp(t, A, B, C)\n",
    "x,curve"
   ]
  },
  {
   "cell_type": "code",
   "execution_count": 15,
   "metadata": {},
   "outputs": [
    {
     "data": {
      "image/png": "[encoded data removed]",
      "text/plain": [
       "<Figure size 432x288 with 1 Axes>"
      ]
     },
     "metadata": {
      "needs_background": "light"
     },
     "output_type": "display_data"
    }
   ],
   "source": [
    "coltri = [\"darkred\", \"skyblue\", \"orange\"]\n",
    "\n",
    "\n",
    "\n",
    "fig = plt.figure()\n",
    "ax = fig.add_subplot(111)\n",
    "#plt.plot(xdata,func(xdata,popt[0],popt[1],popt[2]), label=r'fit: $A+B\\ln(t) + Ct$')\n",
    "# plt.plot(xdata,func(xdata,A0,B0,C0), color=coltri[0], label=r'theory')\n",
    "plt.plot(xdata,ydata, 'X', color=coltri[1],  label=r'data')\n",
    "plt.plot(xdata, func(xdata, *popt), '--',color=coltri[2], lw=3, label=r'fit: $Ae^{Bt}+C$')\n",
    "plt.legend(loc='best',prop={'size':20},frameon=True)\n",
    "plt.xlabel(r\"$t$\", fontsize=20)\n",
    "plt.ylabel(r\"$R(t)$\", fontsize=20)\n",
    "ax.tick_params(which = 'major', axis='both', width=1.5, length = 10, labelsize=20,direction='in')\n",
    "ax.tick_params(which = 'minor', axis='both', width=1.5, length = 5, labelsize=20,direction='in')\n",
    "#plt.xticks(fontsize = 20)\n",
    "#plt.yticks(fontsize = 20)\n",
    "# plt.yscale('log')\n",
    "# plt.xscale('log')\n",
    "plt.show()\n",
    "# fig.savefig(\"fig_diamter_SISnoinset.pdf\", bbox_inches='tight')\n",
    "# plt.close(\"all\")\n"
   ]
  },
  {
   "cell_type": "code",
   "execution_count": 16,
   "metadata": {},
   "outputs": [
    {
     "data": {
      "text/plain": [
       "(array([  1.06187606,   2.99473947, -52.47142943]),\n",
       " array([-3.12549826e+01,  3.71436440e+02,  8.41727296e+03,  1.69174324e+05,\n",
       "         3.38112491e+06,  6.75563913e+07,  1.34978808e+09,  2.69689743e+10,\n",
       "         5.38844254e+11,  1.07661910e+13,  2.15110152e+14,  4.29793390e+15,\n",
       "         8.58733800e+16,  1.71576333e+18,  3.42812151e+19]))"
      ]
     },
     "execution_count": 16,
     "metadata": {},
     "output_type": "execute_result"
    }
   ],
   "source": [
    "# Initial guess.\n",
    "A0,B0,C0 = 0.3,1,0.05\n",
    "x0 = np.array([A0, B0, C0])\n",
    "\n",
    "func = fitPowerlaw\n",
    "popt, pcov = curve_fit(func, xdata, ydata, x0,maxfev = 5000)\n",
    "A, B, C = popt[0], popt[1], popt[2]\n",
    "x = np.array([A, B, C])\n",
    "curve = fitExp(t, A, B, C)\n",
    "x,curve"
   ]
  },
  {
   "cell_type": "code",
   "execution_count": 17,
   "metadata": {},
   "outputs": [
    {
     "data": {
      "image/png": "[encoded data removed]",
      "text/plain": [
       "<Figure size 432x288 with 1 Axes>"
      ]
     },
     "metadata": {
      "needs_background": "light"
     },
     "output_type": "display_data"
    }
   ],
   "source": [
    "coltri = [\"darkred\", \"skyblue\", \"orange\"]\n",
    "\n",
    "\n",
    "\n",
    "fig = plt.figure()\n",
    "ax = fig.add_subplot(111)\n",
    "#plt.plot(xdata,func(xdata,popt[0],popt[1],popt[2]), label=r'fit: $A+B\\ln(t) + Ct$')\n",
    "# plt.plot(xdata,func(xdata,A0,B0,C0), color=coltri[0], label=r'theory')\n",
    "plt.plot(xdata,ydata, 'X', color=coltri[1],  label=r'data')\n",
    "plt.plot(xdata, func(xdata, *popt), '--',color=coltri[0], lw=3, label=r'fit: $At^{B}+C$')\n",
    "plt.legend(loc='best',prop={'size':20},frameon=True)\n",
    "plt.xlabel(r\"$t$\", fontsize=20)\n",
    "plt.ylabel(r\"$R(t)$\", fontsize=20)\n",
    "ax.tick_params(which = 'major', axis='both', width=1.5, length = 10, labelsize=20,direction='in')\n",
    "ax.tick_params(which = 'minor', axis='both', width=1.5, length = 5, labelsize=20,direction='in')\n",
    "#plt.xticks(fontsize = 20)\n",
    "#plt.yticks(fontsize = 20)\n",
    "# plt.yscale('log')\n",
    "plt.xscale('log')\n",
    "plt.show()\n",
    "# fig.savefig(\"fig_diamter_SISnoinset.pdf\", bbox_inches='tight')\n",
    "# plt.close(\"all\")"
   ]
  },
  {
   "cell_type": "code",
   "execution_count": null,
   "metadata": {},
   "outputs": [],
   "source": []
  }
 ],
 "metadata": {
  "kernelspec": {
   "display_name": "Python 3",
   "language": "python",
   "name": "python3"
  },
  "language_info": {
   "codemirror_mode": {
    "name": "ipython",
    "version": 3
   },
   "file_extension": ".py",
   "mimetype": "text/x-python",
   "name": "python",
   "nbconvert_exporter": "python",
   "pygments_lexer": "ipython3",
   "version": "3.7.6"
  }
 },
 "nbformat": 4,
 "nbformat_minor": 2
}
