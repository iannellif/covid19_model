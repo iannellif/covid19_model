{
 "cells": [
  {
   "cell_type": "code",
   "execution_count": 1,
   "metadata": {},
   "outputs": [],
   "source": [
    "import numpy as np\n",
    "import matplotlib.pyplot as plt\n",
    "from scipy.optimize import curve_fit\n",
    "import pandas as pd "
   ]
  },
  {
   "cell_type": "code",
   "execution_count": 2,
   "metadata": {},
   "outputs": [],
   "source": [
    "plt.rc('text', usetex=True)\n",
    "plt.rc('font', family='sans-serif')\n",
    "coltri = [\"darkred\", \"skyblue\", \"orange\"]"
   ]
  },
  {
   "cell_type": "code",
   "execution_count": 114,
   "metadata": {},
   "outputs": [],
   "source": [
    "N=100*10e6\n",
    "\n",
    "#max hospital ccpacity\n",
    "c = 50e-4\n",
    "#fraction hospital care needed\n",
    "q = 0.2\n",
    "\n",
    "R0 = 2.4\n",
    "kav = 4."
   ]
  },
  {
   "cell_type": "code",
   "execution_count": 115,
   "metadata": {},
   "outputs": [],
   "source": [
    "from scipy.integrate import odeint\n",
    "\n",
    "t = np.arange(1,100,1)\n",
    "A0 = 10000\n",
    "S0 = N - A0\n",
    "y0 = S0, A0, 0\n",
    "\n",
    "\n",
    "# muA = 1./5\n",
    "# muI = 1./5 \n",
    "# mu = (1./muA + 1./muI)**(-1)\n",
    "# beta = kav*R0*mu\n",
    "# p = 3./4\n",
    "# betaA = p*beta\n",
    "# betaI = (1-p)*beta\n",
    "# def SAIR(y, t, N, muA, muI, betaA, betaI):\n",
    "#     S, A, I = y\n",
    "#     dSdt = -(betaA+betaI) * S * (A + I) / N \n",
    "#     dAdt = betaA * S * (A + I) / N - muA * A \n",
    "#     dIdt = betaI * S * (A + I) / N - muI * I \n",
    "# #     dRdt = muA * A + muI * I\n",
    "#     return dSdt, dAdt, dIdt\n",
    "# ret = odeint(SAIR, y0, t, args=(N, muA, muI, betaA, betaI))\n",
    "# S, A, I = ret.T\n",
    "# R = N - S - A - I\n",
    "\n",
    "muAI = 1./5\n",
    "muAR = 1./13\n",
    "muIR = 1./13 \n",
    "mu = (1./muAI + 1./muIR)**(-1)\n",
    "beta = kav*R0*mu\n",
    "def SAIR(y, t, N, muAI, muAR, muIR, beta):\n",
    "    S, A, I = y\n",
    "    dSdt = -beta*S/N*A \n",
    "    dAdt = beta*S/N*A - muAI*A - muAR*A \n",
    "    dIdt = muAI*A - muIR*I \n",
    "#     dRdt = muA * A + muI * I\n",
    "    return dSdt, dAdt, dIdt\n",
    "ret = odeint(SAIR, y0, t, args=(N, muAI, muAR, muIR, beta))\n",
    "S, A, I = ret.T\n",
    "R = N - S - A - I"
   ]
  },
  {
   "cell_type": "code",
   "execution_count": 116,
   "metadata": {},
   "outputs": [
    {
     "data": {
      "image/png": "[encoded data removed]",
      "text/plain": [
       "<Figure size 432x288 with 1 Axes>"
      ]
     },
     "metadata": {
      "needs_background": "light"
     },
     "output_type": "display_data"
    }
   ],
   "source": [
    "ls = 1\n",
    "# fig, (ax1, ax2, ax3) = plt.subplots(1,3, sharex=False, sharey=True, figsize=(12,3))\n",
    "fig = plt.figure()\n",
    "ax1 = fig.add_subplot(111)\n",
    "ax1.plot(t[::ls], (A/N)[::ls], '-', alpha=0.7, lw=1, color=coltri[0], label='$A$',mfc='none')\n",
    "ax1.plot(t[::ls], (I/N)[::ls], '-', alpha=0.7, lw=1, color='blue', label='$I$',mfc='none')\n",
    "# ax1.plot(t[::ls], np.exp((beta - muAI - muAR)*t)[::ls], '-s', alpha=0.7, lw=1, color='blue', label='$I$',mfc='none')\n",
    "\n",
    "# ax1.plot(t[::ls], (A/(p*N))[::ls], '-o', alpha=0.7, lw=1, color=coltri[0], label='$A$',mfc='none')\n",
    "# ax1.plot(t[::ls], (S/N)[::ls], '-', alpha=0.7, lw=1, color=coltri[1], label='$S$',mfc='none')\n",
    "# ax1.plot(t[::ls], (R/N)[::ls], '-', alpha=0.7, lw=1, color=coltri[2], label='$R$',mfc='none')\n",
    "# ax1.plot(t[::ls], (I/((1-p)*N))[::ls], '-s', alpha=0.7, lw=1, color='blue', label='$I$',mfc='none')\n",
    "plt.legend(loc='best',prop={'size':15},frameon=True)\n",
    "\n",
    "ax1.set_ylabel(r'$\\rho(t)$',fontsize=15)\n",
    "ax1.set_xlabel(r'$t$',fontsize=15)\n",
    "# plt.xlim(0,40)\n",
    "# plt.yscale('log')\n",
    "# plt.xscale('log')\n",
    "# ax2.set_xlabel(r'$t$')\n",
    "# ax3.set_xlabel(r'$t$')\n",
    "plt.show()"
   ]
  },
  {
   "cell_type": "code",
   "execution_count": 101,
   "metadata": {},
   "outputs": [
    {
     "data": {
      "text/plain": [
       "(0.05555555555555555, 0.2, 0.07692307692307693, 0.13333333333333333)"
      ]
     },
     "execution_count": 101,
     "metadata": {},
     "output_type": "execute_result"
    }
   ],
   "source": [
    "mu,muAI,muAR,beta"
   ]
  },
  {
   "cell_type": "code",
   "execution_count": 97,
   "metadata": {},
   "outputs": [
    {
     "data": {
      "text/plain": [
       "0.2564102564102564"
      ]
     },
     "execution_count": 97,
     "metadata": {},
     "output_type": "execute_result"
    }
   ],
   "source": [
    "x = kav*(R0*mu) - (muAI + muAR)\n",
    "x"
   ]
  },
  {
   "cell_type": "code",
   "execution_count": 64,
   "metadata": {},
   "outputs": [
    {
     "data": {
      "text/plain": [
       "3.576923076923077"
      ]
     },
     "execution_count": 64,
     "metadata": {},
     "output_type": "execute_result"
    }
   ],
   "source": [
    "kav  = (muAI + muAR + 0.2)/(R0*mu)\n",
    "kav"
   ]
  },
  {
   "cell_type": "code",
   "execution_count": 30,
   "metadata": {},
   "outputs": [
    {
     "data": {
      "text/plain": [
       "0.6931471805599453"
      ]
     },
     "execution_count": 30,
     "metadata": {},
     "output_type": "execute_result"
    }
   ],
   "source": [
    "np.log(2)"
   ]
  },
  {
   "cell_type": "code",
   "execution_count": 118,
   "metadata": {},
   "outputs": [
    {
     "name": "stdout",
     "output_type": "stream",
     "text": [
      "-0.1435897435897436\n",
      "-0.07692307692307693\n",
      "-0.010256410256410275\n",
      "0.056410256410256376\n",
      "0.12307692307692308\n",
      "0.18974358974358974\n",
      "0.2564102564102564\n",
      "0.32307692307692304\n",
      "0.3897435897435897\n",
      "0.45641025641025634\n",
      "0.5230769230769231\n",
      "0.5897435897435898\n",
      "0.6564102564102564\n",
      "0.7230769230769231\n",
      "0.7897435897435897\n",
      "0.8564102564102564\n",
      "0.923076923076923\n",
      "0.9897435897435897\n"
     ]
    }
   ],
   "source": [
    "for k in np.arange(1,10,0.5):\n",
    "    print(k*(R0*mu) - (muAI + muAR))"
   ]
  },
  {
   "cell_type": "code",
   "execution_count": 119,
   "metadata": {},
   "outputs": [
    {
     "name": "stdout",
     "output_type": "stream",
     "text": [
      "1.772453850905516\n"
     ]
    }
   ],
   "source": [
    "from mpmath import gamma\n",
    "print(float(gamma(0.5)))"
   ]
  },
  {
   "cell_type": "code",
   "execution_count": null,
   "metadata": {},
   "outputs": [],
   "source": []
  },
  {
   "cell_type": "code",
   "execution_count": 99,
   "metadata": {},
   "outputs": [
    {
     "data": {
      "text/plain": [
       "array([0.00000000e+00, 1.09681191e-07, 5.12278883e-07, 1.76642077e-06,\n",
       "       5.14909392e-06, 1.32497863e-05, 3.08291907e-05, 6.59505881e-05,\n",
       "       1.31345501e-04, 2.45916269e-04, 4.36207196e-04, 7.37591768e-04,\n",
       "       1.19482593e-03, 1.86151375e-03, 2.79794570e-03, 4.06675607e-03,\n",
       "       5.72598817e-03, 7.81956371e-03, 1.03658943e-02, 1.33463914e-02,\n",
       "       1.66966384e-02, 2.03034561e-02, 2.40104514e-02, 2.76326715e-02,\n",
       "       3.09781986e-02, 3.38720821e-02, 3.61771095e-02, 3.78070425e-02,\n",
       "       3.87304748e-02, 3.89661852e-02, 3.85726947e-02, 3.76352842e-02,\n",
       "       3.62532451e-02, 3.45291475e-02, 3.25609042e-02, 3.04366546e-02,\n",
       "       2.82320598e-02, 2.60094235e-02, 2.38180628e-02, 2.16954341e-02,\n",
       "       1.96686457e-02, 1.77560948e-02, 1.59690659e-02, 1.43131949e-02,\n",
       "       1.27897521e-02, 1.13967321e-02, 1.01297555e-02, 8.98279873e-03,\n",
       "       7.94877299e-03, 7.01997538e-03, 6.18843298e-03, 5.44616000e-03,\n",
       "       4.78534458e-03, 4.19848015e-03, 3.67845311e-03, 3.21859709e-03,\n",
       "       2.81272160e-03, 2.45512165e-03, 2.14057347e-03, 1.86432021e-03,\n",
       "       1.62205096e-03, 1.40987531e-03, 1.22429533e-03, 1.06217642e-03,\n",
       "       9.20717918e-04, 7.97424268e-04, 6.90077266e-04, 5.96709674e-04,\n",
       "       5.15580457e-04, 4.45151747e-04, 3.84067570e-04, 3.31134346e-04,\n",
       "       2.85303092e-04, 2.45653277e-04, 2.11378227e-04, 1.81771981e-04,\n",
       "       1.56217501e-04, 1.34176119e-04, 1.15178125e-04, 9.88143914e-05,\n",
       "       8.47289324e-05, 7.26123170e-05, 6.21958417e-05, 5.32463887e-05,\n",
       "       4.55618960e-05, 3.89673726e-05, 3.33113992e-05, 2.84630601e-05,\n",
       "       2.43092556e-05, 2.07523523e-05, 1.77081304e-05, 1.51039929e-05,\n",
       "       1.28774051e-05, 1.09745368e-05, 9.34908055e-06, 7.96122626e-06,\n",
       "       6.77677066e-06, 5.76634548e-06, 4.90474884e-06])"
      ]
     },
     "execution_count": 99,
     "metadata": {},
     "output_type": "execute_result"
    }
   ],
   "source": [
    "eta = 0.2\n",
    "# gamma = betaA/eta\n",
    "# beta, 1./mu, 1./muA, gamma \n",
    "\n",
    "def SAIR_t(y, t, N, eta, muA, muI, betaA, betaI):\n",
    "    S, A, I = y\n",
    "    dSdt = -(betaA+betaI)/(1+eta*t) * S * (A + I) / N \n",
    "    dAdt = betaA/(1+eta*t) * S * (A + I) / N - muA * A \n",
    "    dIdt = betaI/(1+eta*t) * S * (A + I) / N - muI * I \n",
    "    return dSdt, dAdt, dIdt\n",
    "\n",
    "t = np.arange(1,100,1)\n",
    "A0 = 100\n",
    "S0 = N - A0\n",
    "y0 = S0, A0, 0\n",
    "ret = odeint(SAIR_t, y0, t, args=(N, eta, muA, muI, betaA, betaI))\n",
    "S_t, A_t, I_t = ret.T\n",
    "R_t = N - S_t - A_t - I_t\n",
    "I_t/N"
   ]
  },
  {
   "cell_type": "code",
   "execution_count": 101,
   "metadata": {},
   "outputs": [
    {
     "data": {
      "text/plain": [
       "array([0.2 , 0.21, 0.22, 0.23, 0.24])"
      ]
     },
     "execution_count": 101,
     "metadata": {},
     "output_type": "execute_result"
    }
   ],
   "source": [
    "np.arange(0.2,0.25,0.01)"
   ]
  },
  {
   "cell_type": "code",
   "execution_count": 103,
   "metadata": {},
   "outputs": [],
   "source": [
    "inflist = []\n",
    "etarange = np.arange(0.2,0.25,0.01)\n",
    "for eta in etarange:\n",
    "    ret = odeint(SAIR_t, y0, t, args=(N, eta, muA, muI, betaA, betaI))\n",
    "    S_t, A_t, I_t = ret.T\n",
    "    inflist.append(I_t/N)\n",
    "    \n",
    "infarray = np.asarray(inflist) \n",
    "labe = ['$\\eta=0.2$','$\\eta=0.21$', '$\\eta=0.22$', '$\\eta=0.23$', '$\\eta=0.24$']"
   ]
  },
  {
   "cell_type": "code",
   "execution_count": 106,
   "metadata": {},
   "outputs": [
    {
     "data": {
      "image/png": "[encoded data removed]",
      "text/plain": [
       "<Figure size 432x288 with 1 Axes>"
      ]
     },
     "metadata": {
      "needs_background": "light"
     },
     "output_type": "display_data"
    }
   ],
   "source": [
    "ls = 1\n",
    "\n",
    "\n",
    "# fig, (ax1, ax2, ax3) = plt.subplots(1,3, sharex=False, sharey=True, figsize=(12,3))\n",
    "fig = plt.figure()\n",
    "ax1 = fig.add_subplot(111)\n",
    "# ax1.plot(t[::ls], (A/N)[::ls], '-o', alpha=0.7, lw=1, color=coltri[0], label='$A$',mfc='none')\n",
    "# ax1.plot(t[::ls], (S/N)[::ls], '-', alpha=0.7, lw=1, color=coltri[1], label='$S$',mfc='none')\n",
    "# ax1.plot(t[::ls], (R/N)[::ls], '-', alpha=0.7, lw=1, color=coltri[2], label='$R$',mfc='none')\n",
    "ax1.plot(t[::ls], (I/N)[::ls], '-', alpha=0.7, lw=1, color='blue', label='$\\eta=0$',mfc='none')\n",
    "# ax1.plot(t[::ls], (I_t/N)[::ls], '-s', alpha=0.7, lw=1, color=coltri[1], label='',mfc='none')\n",
    "for ii in range(len(etarange)):\n",
    "    ax1.plot(t[::ls], infarray[ii][::ls], '-', alpha=0.7, lw=1, label=labe[ii],mfc='none')\n",
    "    \n",
    "\n",
    "\n",
    "plt.hlines(c/q, 0, 60, colors='k', linestyles='--', label='max')\n",
    "\n",
    "plt.legend(loc='best',prop={'size':15},frameon=True)\n",
    "\n",
    "ax1.set_ylabel(r'$\\rho(t)$',fontsize=15)\n",
    "ax1.set_xlabel(r'$t$',fontsize=15)\n",
    "plt.xlim(0,60)\n",
    "# plt.yscale('log')\n",
    "# plt.xscale('log')\n",
    "# ax2.set_xlabel(r'$t$')\n",
    "# ax3.set_xlabel(r'$t$')\n",
    "plt.show()"
   ]
  },
  {
   "cell_type": "code",
   "execution_count": null,
   "metadata": {},
   "outputs": [],
   "source": []
  },
  {
   "cell_type": "code",
   "execution_count": null,
   "metadata": {},
   "outputs": [],
   "source": []
  },
  {
   "cell_type": "code",
   "execution_count": 198,
   "metadata": {},
   "outputs": [],
   "source": [
    "def asym_curve(t, A0, eta, muA, beta):\n",
    "    return A0*(1+eta*t)**(beta/eta) * np.exp(-muA*t)"
   ]
  },
  {
   "cell_type": "code",
   "execution_count": 301,
   "metadata": {},
   "outputs": [
    {
     "data": {
      "text/plain": [
       "0.7222222222222222"
      ]
     },
     "execution_count": 301,
     "metadata": {},
     "output_type": "execute_result"
    }
   ],
   "source": [
    "1./5/(1./5+1./13)"
   ]
  },
  {
   "cell_type": "code",
   "execution_count": 283,
   "metadata": {},
   "outputs": [
    {
     "data": {
      "image/png": "[encoded data removed]",
      "text/plain": [
       "<Figure size 432x288 with 1 Axes>"
      ]
     },
     "metadata": {
      "needs_background": "light"
     },
     "output_type": "display_data"
    }
   ],
   "source": [
    "fig = plt.figure()\n",
    "ax = fig.add_subplot(111)\n",
    "#plt.plot(xdata,func(xdata,popt[0],popt[1],popt[2]), label=r'fit: $A+B\\ln(t) + Ct$')\n",
    "# plt.plot(xdata,func(xdata,A0,B0,C0), color=coltri[0], label=r'theory')\n",
    "# plt.plot(np.arange(1,len(ydata_IT)+1,1)-7,ydata_IT, 'o-', color=coltri[2],  label=r'IT (-39)')\n",
    "# plt.plot(xdata[:],ydata_UK[:], 'o-', color=coltri[0],  label=r'UK')\n",
    "plt.plot(xdata, asym_curve(xdata,A0, eta, muA, beta), '--',color=coltri[0], lw=1, label=r'$1/\\eta$ days delay')\n",
    "plt.plot(xdata, asym_curve(xdata,A0, 2*eta, muA, beta), '--',color=coltri[1], lw=1, label=r'$1/(2\\eta)$ days delay')\n",
    "plt.legend(loc='best',prop={'size':20},frameon=True)\n",
    "plt.xlabel(r\"days\", fontsize=20)\n",
    "plt.ylabel(r\"cases\", fontsize=20)\n",
    "ax.tick_params(which = 'major', axis='both', width=1.5, length = 10, labelsize=20,direction='in')\n",
    "ax.tick_params(which = 'minor', axis='both', width=1.5, length = 5, labelsize=20,direction='in')\n",
    "#plt.xticks(fontsize = 20)\n",
    "#plt.yticks(fontsize = 20)\n",
    "# plt.ylim(10,10000)\n",
    "# plt.yscale('log')\n",
    "# plt.xscale('log')\n",
    "plt.title('',fontsize = 25)\n",
    "plt.show()"
   ]
  },
  {
   "cell_type": "code",
   "execution_count": null,
   "metadata": {},
   "outputs": [],
   "source": []
  },
  {
   "cell_type": "code",
   "execution_count": null,
   "metadata": {},
   "outputs": [],
   "source": []
  },
  {
   "cell_type": "code",
   "execution_count": null,
   "metadata": {},
   "outputs": [],
   "source": []
  },
  {
   "cell_type": "code",
   "execution_count": 3,
   "metadata": {},
   "outputs": [],
   "source": [
    "def fitExp(t, a, b, c):\n",
    "    return a*np.exp(b*t) + c\n",
    "\n",
    "def fitPowerlaw(t, a, b, c):\n",
    "    return a*t**(b) + c\n",
    "\n",
    "def fitAlgebraic(t, a, b, c):\n",
    "    return a*t + b*t**(2) "
   ]
  },
  {
   "cell_type": "code",
   "execution_count": 5,
   "metadata": {},
   "outputs": [],
   "source": [
    "data = pd.read_csv('COVID-19-geographic-disbtribution-worldwide-2020-03-14.csv',sep=';') "
   ]
  },
  {
   "cell_type": "code",
   "execution_count": 6,
   "metadata": {},
   "outputs": [
    {
     "data": {
      "text/html": [
       "<div>\n",
       "<style scoped>\n",
       "    .dataframe tbody tr th:only-of-type {\n",
       "        vertical-align: middle;\n",
       "    }\n",
       "\n",
       "    .dataframe tbody tr th {\n",
       "        vertical-align: top;\n",
       "    }\n",
       "\n",
       "    .dataframe thead th {\n",
       "        text-align: right;\n",
       "    }\n",
       "</style>\n",
       "<table border=\"1\" class=\"dataframe\">\n",
       "  <thead>\n",
       "    <tr style=\"text-align: right;\">\n",
       "      <th></th>\n",
       "      <th>DateRep</th>\n",
       "      <th>CountryExp</th>\n",
       "      <th>NewConfCases</th>\n",
       "      <th>NewDeaths</th>\n",
       "      <th>GeoId</th>\n",
       "      <th>Gaul1Nuts1</th>\n",
       "      <th>EU</th>\n",
       "    </tr>\n",
       "  </thead>\n",
       "  <tbody>\n",
       "    <tr>\n",
       "      <th>0</th>\n",
       "      <td>11/03/2020</td>\n",
       "      <td>Afghanistan</td>\n",
       "      <td>3</td>\n",
       "      <td>0</td>\n",
       "      <td>AF</td>\n",
       "      <td>NaN</td>\n",
       "      <td>Non-EU/EEA</td>\n",
       "    </tr>\n",
       "    <tr>\n",
       "      <th>1</th>\n",
       "      <td>08/03/2020</td>\n",
       "      <td>Afghanistan</td>\n",
       "      <td>3</td>\n",
       "      <td>0</td>\n",
       "      <td>AF</td>\n",
       "      <td>NaN</td>\n",
       "      <td>Non-EU/EEA</td>\n",
       "    </tr>\n",
       "    <tr>\n",
       "      <th>2</th>\n",
       "      <td>02/03/2020</td>\n",
       "      <td>Afghanistan</td>\n",
       "      <td>0</td>\n",
       "      <td>0</td>\n",
       "      <td>AF</td>\n",
       "      <td>NaN</td>\n",
       "      <td>Non-EU/EEA</td>\n",
       "    </tr>\n",
       "    <tr>\n",
       "      <th>3</th>\n",
       "      <td>01/03/2020</td>\n",
       "      <td>Afghanistan</td>\n",
       "      <td>0</td>\n",
       "      <td>0</td>\n",
       "      <td>AF</td>\n",
       "      <td>NaN</td>\n",
       "      <td>Non-EU/EEA</td>\n",
       "    </tr>\n",
       "    <tr>\n",
       "      <th>4</th>\n",
       "      <td>29/02/2020</td>\n",
       "      <td>Afghanistan</td>\n",
       "      <td>0</td>\n",
       "      <td>0</td>\n",
       "      <td>AF</td>\n",
       "      <td>NaN</td>\n",
       "      <td>Non-EU/EEA</td>\n",
       "    </tr>\n",
       "  </tbody>\n",
       "</table>\n",
       "</div>"
      ],
      "text/plain": [
       "      DateRep   CountryExp  NewConfCases  NewDeaths GeoId Gaul1Nuts1  \\\n",
       "0  11/03/2020  Afghanistan             3          0    AF        NaN   \n",
       "1  08/03/2020  Afghanistan             3          0    AF        NaN   \n",
       "2  02/03/2020  Afghanistan             0          0    AF        NaN   \n",
       "3  01/03/2020  Afghanistan             0          0    AF        NaN   \n",
       "4  29/02/2020  Afghanistan             0          0    AF        NaN   \n",
       "\n",
       "           EU  \n",
       "0  Non-EU/EEA  \n",
       "1  Non-EU/EEA  \n",
       "2  Non-EU/EEA  \n",
       "3  Non-EU/EEA  \n",
       "4  Non-EU/EEA  "
      ]
     },
     "execution_count": 6,
     "metadata": {},
     "output_type": "execute_result"
    }
   ],
   "source": [
    "data.head()"
   ]
  },
  {
   "cell_type": "code",
   "execution_count": 7,
   "metadata": {},
   "outputs": [
    {
     "data": {
      "text/html": [
       "<div>\n",
       "<style scoped>\n",
       "    .dataframe tbody tr th:only-of-type {\n",
       "        vertical-align: middle;\n",
       "    }\n",
       "\n",
       "    .dataframe tbody tr th {\n",
       "        vertical-align: top;\n",
       "    }\n",
       "\n",
       "    .dataframe thead th {\n",
       "        text-align: right;\n",
       "    }\n",
       "</style>\n",
       "<table border=\"1\" class=\"dataframe\">\n",
       "  <thead>\n",
       "    <tr style=\"text-align: right;\">\n",
       "      <th></th>\n",
       "      <th>CountryExp</th>\n",
       "      <th>NewConfCases</th>\n",
       "    </tr>\n",
       "  </thead>\n",
       "  <tbody>\n",
       "    <tr>\n",
       "      <th>0</th>\n",
       "      <td>Afghanistan</td>\n",
       "      <td>3</td>\n",
       "    </tr>\n",
       "    <tr>\n",
       "      <th>1</th>\n",
       "      <td>Afghanistan</td>\n",
       "      <td>3</td>\n",
       "    </tr>\n",
       "    <tr>\n",
       "      <th>2</th>\n",
       "      <td>Afghanistan</td>\n",
       "      <td>0</td>\n",
       "    </tr>\n",
       "    <tr>\n",
       "      <th>3</th>\n",
       "      <td>Afghanistan</td>\n",
       "      <td>0</td>\n",
       "    </tr>\n",
       "    <tr>\n",
       "      <th>4</th>\n",
       "      <td>Afghanistan</td>\n",
       "      <td>0</td>\n",
       "    </tr>\n",
       "    <tr>\n",
       "      <th>...</th>\n",
       "      <td>...</td>\n",
       "      <td>...</td>\n",
       "    </tr>\n",
       "    <tr>\n",
       "      <th>4996</th>\n",
       "      <td>Vietnam</td>\n",
       "      <td>0</td>\n",
       "    </tr>\n",
       "    <tr>\n",
       "      <th>4997</th>\n",
       "      <td>Vietnam</td>\n",
       "      <td>0</td>\n",
       "    </tr>\n",
       "    <tr>\n",
       "      <th>4998</th>\n",
       "      <td>Vietnam</td>\n",
       "      <td>0</td>\n",
       "    </tr>\n",
       "    <tr>\n",
       "      <th>4999</th>\n",
       "      <td>Vietnam</td>\n",
       "      <td>0</td>\n",
       "    </tr>\n",
       "    <tr>\n",
       "      <th>5000</th>\n",
       "      <td>Vietnam</td>\n",
       "      <td>0</td>\n",
       "    </tr>\n",
       "  </tbody>\n",
       "</table>\n",
       "<p>5001 rows × 2 columns</p>\n",
       "</div>"
      ],
      "text/plain": [
       "       CountryExp  NewConfCases\n",
       "0     Afghanistan             3\n",
       "1     Afghanistan             3\n",
       "2     Afghanistan             0\n",
       "3     Afghanistan             0\n",
       "4     Afghanistan             0\n",
       "...           ...           ...\n",
       "4996      Vietnam             0\n",
       "4997      Vietnam             0\n",
       "4998      Vietnam             0\n",
       "4999      Vietnam             0\n",
       "5000      Vietnam             0\n",
       "\n",
       "[5001 rows x 2 columns]"
      ]
     },
     "execution_count": 7,
     "metadata": {},
     "output_type": "execute_result"
    }
   ],
   "source": [
    "data[['CountryExp','NewConfCases']]"
   ]
  },
  {
   "cell_type": "code",
   "execution_count": 8,
   "metadata": {},
   "outputs": [
    {
     "data": {
      "text/html": [
       "<div>\n",
       "<style scoped>\n",
       "    .dataframe tbody tr th:only-of-type {\n",
       "        vertical-align: middle;\n",
       "    }\n",
       "\n",
       "    .dataframe tbody tr th {\n",
       "        vertical-align: top;\n",
       "    }\n",
       "\n",
       "    .dataframe thead th {\n",
       "        text-align: right;\n",
       "    }\n",
       "</style>\n",
       "<table border=\"1\" class=\"dataframe\">\n",
       "  <thead>\n",
       "    <tr style=\"text-align: right;\">\n",
       "      <th></th>\n",
       "      <th>DateRep</th>\n",
       "      <th>CountryExp</th>\n",
       "      <th>NewConfCases</th>\n",
       "      <th>NewDeaths</th>\n",
       "      <th>GeoId</th>\n",
       "      <th>Gaul1Nuts1</th>\n",
       "      <th>EU</th>\n",
       "    </tr>\n",
       "  </thead>\n",
       "  <tbody>\n",
       "    <tr>\n",
       "      <th>4780</th>\n",
       "      <td>14/03/2020</td>\n",
       "      <td>United Kingdom</td>\n",
       "      <td>117</td>\n",
       "      <td>0</td>\n",
       "      <td>UK</td>\n",
       "      <td>NaN</td>\n",
       "      <td>Former EU</td>\n",
       "    </tr>\n",
       "    <tr>\n",
       "      <th>4781</th>\n",
       "      <td>13/03/2020</td>\n",
       "      <td>United Kingdom</td>\n",
       "      <td>134</td>\n",
       "      <td>4</td>\n",
       "      <td>UK</td>\n",
       "      <td>NaN</td>\n",
       "      <td>Former EU</td>\n",
       "    </tr>\n",
       "    <tr>\n",
       "      <th>4783</th>\n",
       "      <td>11/03/2020</td>\n",
       "      <td>United Kingdom</td>\n",
       "      <td>52</td>\n",
       "      <td>1</td>\n",
       "      <td>UK</td>\n",
       "      <td>NaN</td>\n",
       "      <td>Former EU</td>\n",
       "    </tr>\n",
       "    <tr>\n",
       "      <th>4784</th>\n",
       "      <td>10/03/2020</td>\n",
       "      <td>United Kingdom</td>\n",
       "      <td>48</td>\n",
       "      <td>2</td>\n",
       "      <td>UK</td>\n",
       "      <td>NaN</td>\n",
       "      <td>Former EU</td>\n",
       "    </tr>\n",
       "    <tr>\n",
       "      <th>4785</th>\n",
       "      <td>09/03/2020</td>\n",
       "      <td>United Kingdom</td>\n",
       "      <td>67</td>\n",
       "      <td>1</td>\n",
       "      <td>UK</td>\n",
       "      <td>NaN</td>\n",
       "      <td>Former EU</td>\n",
       "    </tr>\n",
       "    <tr>\n",
       "      <th>...</th>\n",
       "      <td>...</td>\n",
       "      <td>...</td>\n",
       "      <td>...</td>\n",
       "      <td>...</td>\n",
       "      <td>...</td>\n",
       "      <td>...</td>\n",
       "      <td>...</td>\n",
       "    </tr>\n",
       "    <tr>\n",
       "      <th>4850</th>\n",
       "      <td>04/01/2020</td>\n",
       "      <td>United Kingdom</td>\n",
       "      <td>0</td>\n",
       "      <td>0</td>\n",
       "      <td>UK</td>\n",
       "      <td>NaN</td>\n",
       "      <td>Former EU</td>\n",
       "    </tr>\n",
       "    <tr>\n",
       "      <th>4851</th>\n",
       "      <td>03/01/2020</td>\n",
       "      <td>United Kingdom</td>\n",
       "      <td>0</td>\n",
       "      <td>0</td>\n",
       "      <td>UK</td>\n",
       "      <td>NaN</td>\n",
       "      <td>Former EU</td>\n",
       "    </tr>\n",
       "    <tr>\n",
       "      <th>4852</th>\n",
       "      <td>02/01/2020</td>\n",
       "      <td>United Kingdom</td>\n",
       "      <td>0</td>\n",
       "      <td>0</td>\n",
       "      <td>UK</td>\n",
       "      <td>NaN</td>\n",
       "      <td>Former EU</td>\n",
       "    </tr>\n",
       "    <tr>\n",
       "      <th>4853</th>\n",
       "      <td>01/01/2020</td>\n",
       "      <td>United Kingdom</td>\n",
       "      <td>0</td>\n",
       "      <td>0</td>\n",
       "      <td>UK</td>\n",
       "      <td>NaN</td>\n",
       "      <td>Former EU</td>\n",
       "    </tr>\n",
       "    <tr>\n",
       "      <th>4854</th>\n",
       "      <td>31/12/2019</td>\n",
       "      <td>United Kingdom</td>\n",
       "      <td>0</td>\n",
       "      <td>0</td>\n",
       "      <td>UK</td>\n",
       "      <td>NaN</td>\n",
       "      <td>Former EU</td>\n",
       "    </tr>\n",
       "  </tbody>\n",
       "</table>\n",
       "<p>74 rows × 7 columns</p>\n",
       "</div>"
      ],
      "text/plain": [
       "         DateRep      CountryExp  NewConfCases  NewDeaths GeoId Gaul1Nuts1  \\\n",
       "4780  14/03/2020  United Kingdom           117          0    UK        NaN   \n",
       "4781  13/03/2020  United Kingdom           134          4    UK        NaN   \n",
       "4783  11/03/2020  United Kingdom            52          1    UK        NaN   \n",
       "4784  10/03/2020  United Kingdom            48          2    UK        NaN   \n",
       "4785  09/03/2020  United Kingdom            67          1    UK        NaN   \n",
       "...          ...             ...           ...        ...   ...        ...   \n",
       "4850  04/01/2020  United Kingdom             0          0    UK        NaN   \n",
       "4851  03/01/2020  United Kingdom             0          0    UK        NaN   \n",
       "4852  02/01/2020  United Kingdom             0          0    UK        NaN   \n",
       "4853  01/01/2020  United Kingdom             0          0    UK        NaN   \n",
       "4854  31/12/2019  United Kingdom             0          0    UK        NaN   \n",
       "\n",
       "             EU  \n",
       "4780  Former EU  \n",
       "4781  Former EU  \n",
       "4783  Former EU  \n",
       "4784  Former EU  \n",
       "4785  Former EU  \n",
       "...         ...  \n",
       "4850  Former EU  \n",
       "4851  Former EU  \n",
       "4852  Former EU  \n",
       "4853  Former EU  \n",
       "4854  Former EU  \n",
       "\n",
       "[74 rows x 7 columns]"
      ]
     },
     "execution_count": 8,
     "metadata": {},
     "output_type": "execute_result"
    }
   ],
   "source": [
    "england = data[data.CountryExp =='United Kingdom']\n",
    "england"
   ]
  },
  {
   "cell_type": "code",
   "execution_count": 9,
   "metadata": {},
   "outputs": [],
   "source": [
    "newcases_UK = np.flip(england.NewConfCases.to_numpy()[:21])"
   ]
  },
  {
   "cell_type": "code",
   "execution_count": 10,
   "metadata": {},
   "outputs": [
    {
     "data": {
      "text/plain": [
       "(array([ 1,  2,  3,  4,  5,  6,  7,  8,  9, 10, 11, 12, 13, 14, 15, 16, 17,\n",
       "        18, 19, 20, 21]),\n",
       " array([  0,   0,   4,   4,   4,   4,   7,   9,  14,  27,  31,  42,  76,\n",
       "        106, 154, 197, 264, 312, 364, 498, 615]))"
      ]
     },
     "execution_count": 10,
     "metadata": {},
     "output_type": "execute_result"
    }
   ],
   "source": [
    "ydata_UK = np.cumsum(newcases_UK)\n",
    "t = np.arange(1,len(ydata_UK)+1,1)\n",
    "xdata = t\n",
    "xdata,ydata_UK"
   ]
  },
  {
   "cell_type": "code",
   "execution_count": 13,
   "metadata": {},
   "outputs": [],
   "source": [
    "# Initial guess.\n",
    "A0,B0,C0 = 1,1,1\n",
    "x0 = np.array([A0, B0, C0])\n",
    "\n",
    "# func = fitAlgebraic\n",
    "# func = fitPowerlaw\n",
    "func = fitExp\n",
    "\n",
    "popt_UK, pcov_UK = curve_fit(func, xdata[5:], ydata_UK[5:]+1, x0,maxfev = 5000)"
   ]
  },
  {
   "cell_type": "code",
   "execution_count": 15,
   "metadata": {},
   "outputs": [
    {
     "data": {
      "image/png": "[encoded data removed]",
      "text/plain": [
       "<Figure size 432x288 with 1 Axes>"
      ]
     },
     "metadata": {
      "needs_background": "light"
     },
     "output_type": "display_data"
    }
   ],
   "source": [
    "fig = plt.figure()\n",
    "ax = fig.add_subplot(111)\n",
    "#plt.plot(xdata,func(xdata,popt[0],popt[1],popt[2]), label=r'fit: $A+B\\ln(t) + Ct$')\n",
    "# plt.plot(xdata,func(xdata,A0,B0,C0), color=coltri[0], label=r'theory')\n",
    "# plt.plot(np.arange(1,len(ydata_IT)+1,1)-7,ydata_IT, 'o-', color=coltri[2],  label=r'IT (-39)')\n",
    "plt.plot(xdata[:],ydata_UK[:], 'o-', color=coltri[0],  label=r'UK')\n",
    "plt.plot(xdata[10:], func(xdata, *popt_UK)[10:], '--',color='black', lw=2, label=r'fit')\n",
    "plt.legend(loc='best',prop={'size':20},frameon=True)\n",
    "plt.xlabel(r\"days of the year\", fontsize=20)\n",
    "plt.ylabel(r\"infected\", fontsize=20)\n",
    "ax.tick_params(which = 'major', axis='both', width=1.5, length = 10, labelsize=20,direction='in')\n",
    "ax.tick_params(which = 'minor', axis='both', width=1.5, length = 5, labelsize=20,direction='in')\n",
    "#plt.xticks(fontsize = 20)\n",
    "#plt.yticks(fontsize = 20)\n",
    "# plt.ylim(10,10000)\n",
    "plt.yscale('log')\n",
    "# plt.xscale('log')\n",
    "plt.title('',fontsize = 25)\n",
    "plt.show()"
   ]
  },
  {
   "cell_type": "code",
   "execution_count": 16,
   "metadata": {},
   "outputs": [
    {
     "data": {
      "text/plain": [
       "array([-2.32109803e+01, -2.10925639e+01, -1.84665855e+01, -1.52114359e+01,\n",
       "       -1.11763688e+01, -6.17451980e+00,  2.57471863e-02,  7.71156708e+00,\n",
       "        1.72388709e+01,  2.90488691e+01,  4.36884836e+01,  6.18356765e+01,\n",
       "        8.43308459e+01,  1.12215745e+02,  1.46781727e+02,  1.89629544e+02,\n",
       "        2.42743484e+02,  3.08583258e+02,  3.90197913e+02,  4.91367029e+02,\n",
       "        6.16775759e+02,  7.72231793e+02,  9.64934314e+02,  1.20380739e+03,\n",
       "        1.49991327e+03,  1.86696462e+03,  2.32195965e+03,  2.88596920e+03,\n",
       "        3.58511262e+03])"
      ]
     },
     "execution_count": 16,
     "metadata": {},
     "output_type": "execute_result"
    }
   ],
   "source": [
    "func(np.arange(1,30), *popt_UK)"
   ]
  },
  {
   "cell_type": "code",
   "execution_count": null,
   "metadata": {},
   "outputs": [],
   "source": []
  },
  {
   "cell_type": "code",
   "execution_count": 17,
   "metadata": {},
   "outputs": [],
   "source": [
    "italy = data[data.CountryExp =='Italy']"
   ]
  },
  {
   "cell_type": "code",
   "execution_count": 18,
   "metadata": {},
   "outputs": [
    {
     "data": {
      "text/html": [
       "<div>\n",
       "<style scoped>\n",
       "    .dataframe tbody tr th:only-of-type {\n",
       "        vertical-align: middle;\n",
       "    }\n",
       "\n",
       "    .dataframe tbody tr th {\n",
       "        vertical-align: top;\n",
       "    }\n",
       "\n",
       "    .dataframe thead th {\n",
       "        text-align: right;\n",
       "    }\n",
       "</style>\n",
       "<table border=\"1\" class=\"dataframe\">\n",
       "  <thead>\n",
       "    <tr style=\"text-align: right;\">\n",
       "      <th></th>\n",
       "      <th>DateRep</th>\n",
       "      <th>CountryExp</th>\n",
       "      <th>NewConfCases</th>\n",
       "      <th>NewDeaths</th>\n",
       "      <th>GeoId</th>\n",
       "      <th>Gaul1Nuts1</th>\n",
       "      <th>EU</th>\n",
       "    </tr>\n",
       "  </thead>\n",
       "  <tbody>\n",
       "    <tr>\n",
       "      <th>2447</th>\n",
       "      <td>14/03/2020</td>\n",
       "      <td>Italy</td>\n",
       "      <td>2547</td>\n",
       "      <td>252</td>\n",
       "      <td>IT</td>\n",
       "      <td>NaN</td>\n",
       "      <td>EU</td>\n",
       "    </tr>\n",
       "    <tr>\n",
       "      <th>2448</th>\n",
       "      <td>13/03/2020</td>\n",
       "      <td>Italy</td>\n",
       "      <td>2651</td>\n",
       "      <td>189</td>\n",
       "      <td>IT</td>\n",
       "      <td>NaN</td>\n",
       "      <td>EU</td>\n",
       "    </tr>\n",
       "    <tr>\n",
       "      <th>2449</th>\n",
       "      <td>12/03/2020</td>\n",
       "      <td>Italy</td>\n",
       "      <td>2313</td>\n",
       "      <td>196</td>\n",
       "      <td>IT</td>\n",
       "      <td>NaN</td>\n",
       "      <td>EU</td>\n",
       "    </tr>\n",
       "    <tr>\n",
       "      <th>2450</th>\n",
       "      <td>11/03/2020</td>\n",
       "      <td>Italy</td>\n",
       "      <td>977</td>\n",
       "      <td>167</td>\n",
       "      <td>IT</td>\n",
       "      <td>NaN</td>\n",
       "      <td>EU</td>\n",
       "    </tr>\n",
       "    <tr>\n",
       "      <th>2451</th>\n",
       "      <td>10/03/2020</td>\n",
       "      <td>Italy</td>\n",
       "      <td>1797</td>\n",
       "      <td>98</td>\n",
       "      <td>IT</td>\n",
       "      <td>NaN</td>\n",
       "      <td>EU</td>\n",
       "    </tr>\n",
       "    <tr>\n",
       "      <th>...</th>\n",
       "      <td>...</td>\n",
       "      <td>...</td>\n",
       "      <td>...</td>\n",
       "      <td>...</td>\n",
       "      <td>...</td>\n",
       "      <td>...</td>\n",
       "      <td>...</td>\n",
       "    </tr>\n",
       "    <tr>\n",
       "      <th>2517</th>\n",
       "      <td>04/01/2020</td>\n",
       "      <td>Italy</td>\n",
       "      <td>0</td>\n",
       "      <td>0</td>\n",
       "      <td>IT</td>\n",
       "      <td>NaN</td>\n",
       "      <td>EU</td>\n",
       "    </tr>\n",
       "    <tr>\n",
       "      <th>2518</th>\n",
       "      <td>03/01/2020</td>\n",
       "      <td>Italy</td>\n",
       "      <td>0</td>\n",
       "      <td>0</td>\n",
       "      <td>IT</td>\n",
       "      <td>NaN</td>\n",
       "      <td>EU</td>\n",
       "    </tr>\n",
       "    <tr>\n",
       "      <th>2519</th>\n",
       "      <td>02/01/2020</td>\n",
       "      <td>Italy</td>\n",
       "      <td>0</td>\n",
       "      <td>0</td>\n",
       "      <td>IT</td>\n",
       "      <td>NaN</td>\n",
       "      <td>EU</td>\n",
       "    </tr>\n",
       "    <tr>\n",
       "      <th>2520</th>\n",
       "      <td>01/01/2020</td>\n",
       "      <td>Italy</td>\n",
       "      <td>0</td>\n",
       "      <td>0</td>\n",
       "      <td>IT</td>\n",
       "      <td>NaN</td>\n",
       "      <td>EU</td>\n",
       "    </tr>\n",
       "    <tr>\n",
       "      <th>2521</th>\n",
       "      <td>31/12/2019</td>\n",
       "      <td>Italy</td>\n",
       "      <td>0</td>\n",
       "      <td>0</td>\n",
       "      <td>IT</td>\n",
       "      <td>NaN</td>\n",
       "      <td>EU</td>\n",
       "    </tr>\n",
       "  </tbody>\n",
       "</table>\n",
       "<p>75 rows × 7 columns</p>\n",
       "</div>"
      ],
      "text/plain": [
       "         DateRep CountryExp  NewConfCases  NewDeaths GeoId Gaul1Nuts1  EU\n",
       "2447  14/03/2020      Italy          2547        252    IT        NaN  EU\n",
       "2448  13/03/2020      Italy          2651        189    IT        NaN  EU\n",
       "2449  12/03/2020      Italy          2313        196    IT        NaN  EU\n",
       "2450  11/03/2020      Italy           977        167    IT        NaN  EU\n",
       "2451  10/03/2020      Italy          1797         98    IT        NaN  EU\n",
       "...          ...        ...           ...        ...   ...        ...  ..\n",
       "2517  04/01/2020      Italy             0          0    IT        NaN  EU\n",
       "2518  03/01/2020      Italy             0          0    IT        NaN  EU\n",
       "2519  02/01/2020      Italy             0          0    IT        NaN  EU\n",
       "2520  01/01/2020      Italy             0          0    IT        NaN  EU\n",
       "2521  31/12/2019      Italy             0          0    IT        NaN  EU\n",
       "\n",
       "[75 rows x 7 columns]"
      ]
     },
     "execution_count": 18,
     "metadata": {},
     "output_type": "execute_result"
    }
   ],
   "source": [
    "italy"
   ]
  },
  {
   "cell_type": "code",
   "execution_count": 19,
   "metadata": {},
   "outputs": [],
   "source": [
    "# cases_it[[\"DateRep\", \"NewConfCases\"]].to_numpy()\n",
    "newcases_IT = np.flip(italy.NewConfCases.to_numpy()[:21])"
   ]
  },
  {
   "cell_type": "code",
   "execution_count": 20,
   "metadata": {},
   "outputs": [
    {
     "data": {
      "text/plain": [
       "array([  62,   53,   97,   93,   78,  250,  238,  240,  561,  146,  667,\n",
       "        587,  769,  778, 1247, 1492, 1797,  977, 2313, 2651, 2547])"
      ]
     },
     "execution_count": 20,
     "metadata": {},
     "output_type": "execute_result"
    }
   ],
   "source": [
    "newcases_IT"
   ]
  },
  {
   "cell_type": "code",
   "execution_count": 21,
   "metadata": {},
   "outputs": [
    {
     "data": {
      "text/plain": [
       "(array([ 1,  2,  3,  4,  5,  6,  7,  8,  9, 10, 11, 12, 13, 14, 15, 16, 17,\n",
       "        18, 19, 20, 21]),\n",
       " array([   62,   115,   212,   305,   383,   633,   871,  1111,  1672,\n",
       "         1818,  2485,  3072,  3841,  4619,  5866,  7358,  9155, 10132,\n",
       "        12445, 15096, 17643]))"
      ]
     },
     "execution_count": 21,
     "metadata": {},
     "output_type": "execute_result"
    }
   ],
   "source": [
    "ydata_IT = np.cumsum(newcases_IT)\n",
    "t = np.arange(1,len(ydata_IT)+1,1)\n",
    "xdata = t\n",
    "xdata,ydata_IT"
   ]
  },
  {
   "cell_type": "code",
   "execution_count": 22,
   "metadata": {},
   "outputs": [
    {
     "data": {
      "text/plain": [
       "(array([ 4.94194735e+02,  1.72755669e-01, -7.23353819e+02]),\n",
       " array([ -135.9659842 ,   -25.1989333 ,   106.45608775,   262.9380418 ,\n",
       "          448.92868421,   669.99263547,   932.7438681 ,  1245.04358884,\n",
       "         1616.23543674,  2057.42503377,  2581.81225193,  3205.08613786,\n",
       "         3945.89431058,  4826.40087624,  5872.94955203,  7116.8518391 ,\n",
       "         8595.32382569, 10352.59964861, 12441.25492638, 14923.77975968,\n",
       "        17874.44836139]))"
      ]
     },
     "execution_count": 22,
     "metadata": {},
     "output_type": "execute_result"
    }
   ],
   "source": [
    "# Initial guess.\n",
    "A0,B0,C0 = 1,1,1\n",
    "x0 = np.array([A0, B0, C0])\n",
    "\n",
    "# func = fitAlgebraic\n",
    "# func = fitPowerlaw\n",
    "func = fitExp\n",
    "\n",
    "popt_IT, pcov_IT = curve_fit(func, xdata[:], ydata_IT[:]+1, x0,maxfev = 5000)\n",
    "A_IT, B_IT, C_IT = popt_IT[0], popt_IT[1], popt_IT[2]\n",
    "x_IT = np.array([A_IT, B_IT, C_IT])\n",
    "curve_IT = func(t, A_IT, B_IT, C_IT)\n",
    "x_IT,curve_IT"
   ]
  },
  {
   "cell_type": "code",
   "execution_count": 23,
   "metadata": {},
   "outputs": [
    {
     "data": {
      "image/png": "[encoded data removed]",
      "text/plain": [
       "<Figure size 432x288 with 1 Axes>"
      ]
     },
     "metadata": {
      "needs_background": "light"
     },
     "output_type": "display_data"
    }
   ],
   "source": [
    "coltri = [\"darkred\", \"skyblue\", \"orange\"]\n",
    "\n",
    "\n",
    "\n",
    "fig = plt.figure()\n",
    "ax = fig.add_subplot(111)\n",
    "# plt.hlines(60e+6, 0, 70, colors='k', linestyles='--', label='max') \n",
    "#plt.plot(xdata,func(xdata,popt[0],popt[1],popt[2]), label=r'fit: $A+B\\ln(t) + Ct$')\n",
    "# plt.plot(xdata,func(xdata,A0,B0,C0), color=coltri[0], label=r'theory')\n",
    "plt.plot(xdata,ydata_IT, 'o-', color=coltri[2],  label=r'data')\n",
    "plt.plot(np.arange(1,30), func(np.arange(1,30), *popt_IT), '--',color='black', lw=2, label=r'fit: $Ae^{Bt}+C$')\n",
    "plt.legend(loc='best',prop={'size':20},frameon=True)\n",
    "plt.xlabel(r\"days since 20 February\", fontsize=20)\n",
    "plt.ylabel(r\"infected\", fontsize=20)\n",
    "ax.tick_params(which = 'major', axis='both', width=1.5, length = 10, labelsize=20,direction='in')\n",
    "ax.tick_params(which = 'minor', axis='both', width=1.5, length = 5, labelsize=20,direction='in')\n",
    "#plt.xticks(fontsize = 20)\n",
    "#plt.yticks(fontsize = 20)\n",
    "plt.yscale('log')\n",
    "# plt.xscale('log')\n",
    "plt.title('ITALY',fontsize = 20)\n",
    "plt.show()\n",
    "# fig.savefig(\"fig_diamter_SISnoinset.pdf\", bbox_inches='tight')\n",
    "# plt.close(\"all\")\n"
   ]
  },
  {
   "cell_type": "code",
   "execution_count": 24,
   "metadata": {},
   "outputs": [],
   "source": [
    "newdeaths_IT = np.flip(italy.NewDeaths.to_numpy()[:21])\n",
    "ydata_deaths_IT = np.cumsum(newdeaths_IT)\n",
    "popt_deaths_IT = curve_fit(func, xdata, ydata_deaths_IT, x0,maxfev = 5000)[0]"
   ]
  },
  {
   "cell_type": "code",
   "execution_count": 25,
   "metadata": {},
   "outputs": [
    {
     "data": {
      "image/png": "[encoded data removed]",
      "text/plain": [
       "<Figure size 432x288 with 1 Axes>"
      ]
     },
     "metadata": {
      "needs_background": "light"
     },
     "output_type": "display_data"
    }
   ],
   "source": [
    "fig = plt.figure()\n",
    "ax = fig.add_subplot(111)\n",
    "# plt.hlines(5e+3, 0, 70, colors='k', linestyles='--', label='max') \n",
    "#plt.plot(xdata,func(xdata,popt[0],popt[1],popt[2]), label=r'fit: $A+B\\ln(t) + Ct$')\n",
    "# plt.plot(xdata,func(xdata,A0,B0,C0), color=coltri[0], label=r'theory')\n",
    "plt.plot(xdata,ydata_deaths_IT, 'o-', color=coltri[2],  label=r'data')\n",
    "plt.plot(np.arange(1,30), func(np.arange(1,30), *popt_deaths_IT), '--',color='black', lw=2, label=r'fit: $Ae^{Bt}+C$')\n",
    "plt.legend(loc='best',prop={'size':20},frameon=True)\n",
    "plt.xlabel(r\"days since 20 February\", fontsize=20)\n",
    "plt.ylabel(r\"deaths\", fontsize=20)\n",
    "ax.tick_params(which = 'major', axis='both', width=1.5, length = 10, labelsize=20,direction='in')\n",
    "ax.tick_params(which = 'minor', axis='both', width=1.5, length = 5, labelsize=20,direction='in')\n",
    "#plt.xticks(fontsize = 20)\n",
    "#plt.yticks(fontsize = 20)\n",
    "plt.yscale('log')\n",
    "# plt.xscale('log')\n",
    "plt.title('ITALY',fontsize = 20)\n",
    "plt.show()\n",
    "# fig.savefig(\"fig_diamter_SISnoinset.pdf\", bbox_inches='tight')\n",
    "# plt.close(\"all\")"
   ]
  },
  {
   "cell_type": "code",
   "execution_count": 26,
   "metadata": {},
   "outputs": [
    {
     "data": {
      "text/plain": [
       "array([  6.95815336,   0.24977701, -19.79758495])"
      ]
     },
     "execution_count": 26,
     "metadata": {},
     "output_type": "execute_result"
    }
   ],
   "source": [
    "popt_deaths_IT"
   ]
  },
  {
   "cell_type": "code",
   "execution_count": null,
   "metadata": {},
   "outputs": [],
   "source": []
  },
  {
   "cell_type": "code",
   "execution_count": null,
   "metadata": {},
   "outputs": [],
   "source": []
  },
  {
   "cell_type": "code",
   "execution_count": 35,
   "metadata": {},
   "outputs": [
    {
     "data": {
      "image/png": "[encoded data removed]",
      "text/plain": [
       "<Figure size 432x288 with 1 Axes>"
      ]
     },
     "metadata": {
      "needs_background": "light"
     },
     "output_type": "display_data"
    }
   ],
   "source": [
    "fig = plt.figure()\n",
    "ax = fig.add_subplot(111)\n",
    "#plt.plot(xdata,func(xdata,popt[0],popt[1],popt[2]), label=r'fit: $A+B\\ln(t) + Ct$')\n",
    "# plt.plot(xdata,func(xdata,A0,B0,C0), color=coltri[0], label=r'theory')\n",
    "plt.plot(xdata,ydata_IT, 'o-', color=coltri[2],  label=r'IT')\n",
    "# plt.plot(xdata-9,ydata_DE, 'o-', color=coltri[1],  label=r'DE (+9)')\n",
    "plt.plot(xdata-16,ydata_UK, 'o-', color=coltri[0],  label=r'UK (-16)')\n",
    "\n",
    "\n",
    "plt.plot(np.arange(10,25), func(np.arange(10,25), *popt_IT), '--',color='black', lw=2, label=r'fit: $Ae^{Bt}+C$')\n",
    "plt.legend(loc='best',prop={'size':20},frameon=True)\n",
    "plt.xlabel(r\"days since 20 February\", fontsize=20)\n",
    "plt.ylabel(r\"infected\", fontsize=20)\n",
    "ax.tick_params(which = 'major', axis='both', width=1.5, length = 10, labelsize=20,direction='in')\n",
    "ax.tick_params(which = 'minor', axis='both', width=1.5, length = 5, labelsize=20,direction='in')\n",
    "#plt.xticks(fontsize = 20)\n",
    "#plt.yticks(fontsize = 20)\n",
    "# plt.ylim(-100,2600)\n",
    "plt.yscale('log')\n",
    "# plt.xscale('log')\n",
    "plt.title('',fontsize = 25)\n",
    "plt.show()"
   ]
  },
  {
   "cell_type": "code",
   "execution_count": 30,
   "metadata": {},
   "outputs": [],
   "source": [
    "newdeaths_UK = np.flip(england.NewDeaths.to_numpy()[:21])\n",
    "ydata_deaths_UK = np.cumsum(newdeaths_UK)\n",
    "popt_deaths_UK = curve_fit(func, xdata, ydata_deaths_UK, x0,maxfev = 5000)[0]"
   ]
  },
  {
   "cell_type": "code",
   "execution_count": 32,
   "metadata": {},
   "outputs": [
    {
     "data": {
      "image/png": "[encoded data removed]",
      "text/plain": [
       "<Figure size 432x288 with 1 Axes>"
      ]
     },
     "metadata": {
      "needs_background": "light"
     },
     "output_type": "display_data"
    }
   ],
   "source": [
    "fig = plt.figure()\n",
    "ax = fig.add_subplot(111)\n",
    "# plt.hlines(5e+3, 0, 70, colors='k', linestyles='--', label='max') \n",
    "#plt.plot(xdata,func(xdata,popt[0],popt[1],popt[2]), label=r'fit: $A+B\\ln(t) + Ct$')\n",
    "# plt.plot(xdata,func(xdata,A0,B0,C0), color=coltri[0], label=r'theory')\n",
    "plt.plot(xdata,ydata_deaths_IT, 'o-', color=coltri[2],  label=r'IT')\n",
    "plt.plot(xdata-16,ydata_deaths_UK, 'o-', color=coltri[0],  label=r'UK (-16)')\n",
    "plt.plot(np.arange(10,30), func(np.arange(10,30), *popt_deaths_IT), '--',color='black', lw=2, label=r'fit: $Ae^{Bt}+C$')\n",
    "plt.legend(loc='best',prop={'size':20},frameon=True)\n",
    "plt.xlabel(r\"days since 20 February\", fontsize=20)\n",
    "plt.ylabel(r\"deaths\", fontsize=20)\n",
    "ax.tick_params(which = 'major', axis='both', width=1.5, length = 10, labelsize=20,direction='in')\n",
    "ax.tick_params(which = 'minor', axis='both', width=1.5, length = 5, labelsize=20,direction='in')\n",
    "#plt.xticks(fontsize = 20)\n",
    "#plt.yticks(fontsize = 20)\n",
    "plt.yscale('log')\n",
    "# plt.xscale('log')\n",
    "# plt.title('ITALY',fontsize = 20)\n",
    "plt.show()\n",
    "# fig.savefig(\"fig_diamter_SISnoinset.pdf\", bbox_inches='tight')\n",
    "# plt.close(\"all\")"
   ]
  },
  {
   "cell_type": "code",
   "execution_count": 34,
   "metadata": {},
   "outputs": [
    {
     "data": {
      "text/plain": [
       "array([  6.95815336,   0.24977701, -19.79758495])"
      ]
     },
     "execution_count": 34,
     "metadata": {},
     "output_type": "execute_result"
    }
   ],
   "source": [
    "popt_deaths_IT"
   ]
  },
  {
   "cell_type": "code",
   "execution_count": null,
   "metadata": {},
   "outputs": [],
   "source": []
  },
  {
   "cell_type": "code",
   "execution_count": 24,
   "metadata": {},
   "outputs": [
    {
     "data": {
      "text/html": [
       "<div>\n",
       "<style scoped>\n",
       "    .dataframe tbody tr th:only-of-type {\n",
       "        vertical-align: middle;\n",
       "    }\n",
       "\n",
       "    .dataframe tbody tr th {\n",
       "        vertical-align: top;\n",
       "    }\n",
       "\n",
       "    .dataframe thead th {\n",
       "        text-align: right;\n",
       "    }\n",
       "</style>\n",
       "<table border=\"1\" class=\"dataframe\">\n",
       "  <thead>\n",
       "    <tr style=\"text-align: right;\">\n",
       "      <th></th>\n",
       "      <th>DateRep</th>\n",
       "      <th>CountryExp</th>\n",
       "      <th>NewConfCases</th>\n",
       "      <th>NewDeaths</th>\n",
       "      <th>GeoId</th>\n",
       "      <th>Gaul1Nuts1</th>\n",
       "      <th>EU</th>\n",
       "    </tr>\n",
       "  </thead>\n",
       "  <tbody>\n",
       "    <tr>\n",
       "      <th>1742</th>\n",
       "      <td>13/03/2020</td>\n",
       "      <td>Germany</td>\n",
       "      <td>802</td>\n",
       "      <td>2</td>\n",
       "      <td>DE</td>\n",
       "      <td>NaN</td>\n",
       "      <td>EU</td>\n",
       "    </tr>\n",
       "    <tr>\n",
       "      <th>1743</th>\n",
       "      <td>12/03/2020</td>\n",
       "      <td>Germany</td>\n",
       "      <td>271</td>\n",
       "      <td>1</td>\n",
       "      <td>DE</td>\n",
       "      <td>NaN</td>\n",
       "      <td>EU</td>\n",
       "    </tr>\n",
       "    <tr>\n",
       "      <th>1744</th>\n",
       "      <td>11/03/2020</td>\n",
       "      <td>Germany</td>\n",
       "      <td>157</td>\n",
       "      <td>0</td>\n",
       "      <td>DE</td>\n",
       "      <td>NaN</td>\n",
       "      <td>EU</td>\n",
       "    </tr>\n",
       "    <tr>\n",
       "      <th>1745</th>\n",
       "      <td>10/03/2020</td>\n",
       "      <td>Germany</td>\n",
       "      <td>237</td>\n",
       "      <td>2</td>\n",
       "      <td>DE</td>\n",
       "      <td>NaN</td>\n",
       "      <td>EU</td>\n",
       "    </tr>\n",
       "    <tr>\n",
       "      <th>1746</th>\n",
       "      <td>09/03/2020</td>\n",
       "      <td>Germany</td>\n",
       "      <td>55</td>\n",
       "      <td>0</td>\n",
       "      <td>DE</td>\n",
       "      <td>NaN</td>\n",
       "      <td>EU</td>\n",
       "    </tr>\n",
       "    <tr>\n",
       "      <th>...</th>\n",
       "      <td>...</td>\n",
       "      <td>...</td>\n",
       "      <td>...</td>\n",
       "      <td>...</td>\n",
       "      <td>...</td>\n",
       "      <td>...</td>\n",
       "      <td>...</td>\n",
       "    </tr>\n",
       "    <tr>\n",
       "      <th>1811</th>\n",
       "      <td>04/01/2020</td>\n",
       "      <td>Germany</td>\n",
       "      <td>0</td>\n",
       "      <td>0</td>\n",
       "      <td>DE</td>\n",
       "      <td>NaN</td>\n",
       "      <td>EU</td>\n",
       "    </tr>\n",
       "    <tr>\n",
       "      <th>1812</th>\n",
       "      <td>03/01/2020</td>\n",
       "      <td>Germany</td>\n",
       "      <td>0</td>\n",
       "      <td>0</td>\n",
       "      <td>DE</td>\n",
       "      <td>NaN</td>\n",
       "      <td>EU</td>\n",
       "    </tr>\n",
       "    <tr>\n",
       "      <th>1813</th>\n",
       "      <td>02/01/2020</td>\n",
       "      <td>Germany</td>\n",
       "      <td>0</td>\n",
       "      <td>0</td>\n",
       "      <td>DE</td>\n",
       "      <td>NaN</td>\n",
       "      <td>EU</td>\n",
       "    </tr>\n",
       "    <tr>\n",
       "      <th>1814</th>\n",
       "      <td>01/01/2020</td>\n",
       "      <td>Germany</td>\n",
       "      <td>0</td>\n",
       "      <td>0</td>\n",
       "      <td>DE</td>\n",
       "      <td>NaN</td>\n",
       "      <td>EU</td>\n",
       "    </tr>\n",
       "    <tr>\n",
       "      <th>1815</th>\n",
       "      <td>31/12/2019</td>\n",
       "      <td>Germany</td>\n",
       "      <td>0</td>\n",
       "      <td>0</td>\n",
       "      <td>DE</td>\n",
       "      <td>NaN</td>\n",
       "      <td>EU</td>\n",
       "    </tr>\n",
       "  </tbody>\n",
       "</table>\n",
       "<p>74 rows × 7 columns</p>\n",
       "</div>"
      ],
      "text/plain": [
       "         DateRep CountryExp  NewConfCases  NewDeaths GeoId Gaul1Nuts1  EU\n",
       "1742  13/03/2020    Germany           802          2    DE        NaN  EU\n",
       "1743  12/03/2020    Germany           271          1    DE        NaN  EU\n",
       "1744  11/03/2020    Germany           157          0    DE        NaN  EU\n",
       "1745  10/03/2020    Germany           237          2    DE        NaN  EU\n",
       "1746  09/03/2020    Germany            55          0    DE        NaN  EU\n",
       "...          ...        ...           ...        ...   ...        ...  ..\n",
       "1811  04/01/2020    Germany             0          0    DE        NaN  EU\n",
       "1812  03/01/2020    Germany             0          0    DE        NaN  EU\n",
       "1813  02/01/2020    Germany             0          0    DE        NaN  EU\n",
       "1814  01/01/2020    Germany             0          0    DE        NaN  EU\n",
       "1815  31/12/2019    Germany             0          0    DE        NaN  EU\n",
       "\n",
       "[74 rows x 7 columns]"
      ]
     },
     "execution_count": 24,
     "metadata": {},
     "output_type": "execute_result"
    }
   ],
   "source": [
    "germany = data[data.CountryExp =='Germany']\n",
    "germany"
   ]
  },
  {
   "cell_type": "code",
   "execution_count": 25,
   "metadata": {},
   "outputs": [
    {
     "data": {
      "text/plain": [
       "array([  0,   0,   0,   0,   2,   4,  26,  10,  54,  18,  28,  39,  66,\n",
       "       138, 284, 163,  55, 237, 157, 271, 802])"
      ]
     },
     "execution_count": 25,
     "metadata": {},
     "output_type": "execute_result"
    }
   ],
   "source": [
    "newcases_DE = np.flip(germany.NewConfCases.to_numpy()[:21])\n",
    "newcases_DE"
   ]
  },
  {
   "cell_type": "code",
   "execution_count": 26,
   "metadata": {},
   "outputs": [
    {
     "data": {
      "text/plain": [
       "(array([ 1,  2,  3,  4,  5,  6,  7,  8,  9, 10, 11, 12, 13, 14, 15, 16, 17,\n",
       "        18, 19, 20, 21]),\n",
       " array([   0,    0,    0,    0,    2,    6,   32,   42,   96,  114,  142,\n",
       "         181,  247,  385,  669,  832,  887, 1124, 1281, 1552, 2354]))"
      ]
     },
     "execution_count": 26,
     "metadata": {},
     "output_type": "execute_result"
    }
   ],
   "source": [
    "ydata_DE = np.cumsum(newcases_DE)\n",
    "t = np.arange(1,len(ydata_DE)+1,1)\n",
    "xdata = t\n",
    "xdata,ydata_DE"
   ]
  },
  {
   "cell_type": "code",
   "execution_count": 27,
   "metadata": {},
   "outputs": [
    {
     "data": {
      "text/plain": [
       "(array([ 19.36277632,   0.22673493, -53.20863493]),\n",
       " array([ -28.91808434,  -22.73620484,  -14.98105369,   -5.25223753,\n",
       "           6.95253606,   22.26339157,   41.47081844,   65.56648357,\n",
       "          95.79443038,  133.715308  ,  181.28694654,  240.96543859,\n",
       "         315.83194565,  409.75177652,  527.57395065,  675.38154982,\n",
       "         860.8057837 , 1093.41998423, 1385.23387043, 1751.3136024 ,\n",
       "        2210.55963726]))"
      ]
     },
     "execution_count": 27,
     "metadata": {},
     "output_type": "execute_result"
    }
   ],
   "source": [
    "# Initial guess.\n",
    "A0,B0,C0 = 1,1,1\n",
    "x0 = np.array([A0, B0, C0])\n",
    "\n",
    "func = fitExp\n",
    "popt_DE, pcov_DE = curve_fit(func, xdata, ydata_DE, x0,maxfev = 5000)\n",
    "A_DE, B_DE, C_DE = popt_DE[0], popt_DE[1], popt_DE[2]\n",
    "x_DE = np.array([A_DE, B_DE, C_DE])\n",
    "curve_DE = fitExp(t, A_DE, B_DE, C_DE)\n",
    "x_DE,curve_DE"
   ]
  },
  {
   "cell_type": "code",
   "execution_count": 28,
   "metadata": {},
   "outputs": [
    {
     "data": {
      "image/png": "[encoded data removed]",
      "text/plain": [
       "<Figure size 432x288 with 1 Axes>"
      ]
     },
     "metadata": {
      "needs_background": "light"
     },
     "output_type": "display_data"
    }
   ],
   "source": [
    "\n",
    "fig = plt.figure()\n",
    "ax = fig.add_subplot(111)\n",
    "#plt.plot(xdata,func(xdata,popt[0],popt[1],popt[2]), label=r'fit: $A+B\\ln(t) + Ct$')\n",
    "# plt.plot(xdata,func(xdata,A0,B0,C0), color=coltri[0], label=r'theory')\n",
    "plt.plot(xdata,ydata_DE, 'o', color=coltri[1],  label=r'data')\n",
    "plt.plot(np.arange(1,30), func(np.arange(1,30), *popt_DE), '--',color=coltri[0], lw=2, label=r'fit: $Ae^{Bt}+C$')\n",
    "plt.legend(loc='best',prop={'size':20},frameon=True)\n",
    "plt.xlabel(r\"days since 20 February\", fontsize=20)\n",
    "plt.ylabel(r\"infected\", fontsize=20)\n",
    "ax.tick_params(which = 'major', axis='both', width=1.5, length = 10, labelsize=20,direction='in')\n",
    "ax.tick_params(which = 'minor', axis='both', width=1.5, length = 5, labelsize=20,direction='in')\n",
    "#plt.xticks(fontsize = 20)\n",
    "#plt.yticks(fontsize = 20)\n",
    "plt.yscale('log')\n",
    "# plt.xscale('log')\n",
    "plt.title('GERMANY',fontsize = 20)\n",
    "plt.show()"
   ]
  },
  {
   "cell_type": "code",
   "execution_count": 24,
   "metadata": {},
   "outputs": [
    {
     "data": {
      "text/plain": [
       "array([-2.89180843e+01, -2.27362048e+01, -1.49810537e+01, -5.25223753e+00,\n",
       "        6.95253606e+00,  2.22633916e+01,  4.14708184e+01,  6.55664836e+01,\n",
       "        9.57944304e+01,  1.33715308e+02,  1.81286947e+02,  2.40965439e+02,\n",
       "        3.15831946e+02,  4.09751777e+02,  5.27573951e+02,  6.75381550e+02,\n",
       "        8.60805784e+02,  1.09341998e+03,  1.38523387e+03,  1.75131360e+03,\n",
       "        2.21055964e+03,  2.78668255e+03,  3.50942718e+03,  4.41610837e+03,\n",
       "        5.55353748e+03,  6.98043922e+03,  8.77048360e+03,  1.10160894e+04,\n",
       "        1.38331959e+04])"
      ]
     },
     "execution_count": 24,
     "metadata": {},
     "output_type": "execute_result"
    }
   ],
   "source": [
    "func(np.arange(1,30), *popt_DE)\n"
   ]
  },
  {
   "cell_type": "code",
   "execution_count": 31,
   "metadata": {},
   "outputs": [
    {
     "data": {
      "text/html": [
       "<div>\n",
       "<style scoped>\n",
       "    .dataframe tbody tr th:only-of-type {\n",
       "        vertical-align: middle;\n",
       "    }\n",
       "\n",
       "    .dataframe tbody tr th {\n",
       "        vertical-align: top;\n",
       "    }\n",
       "\n",
       "    .dataframe thead th {\n",
       "        text-align: right;\n",
       "    }\n",
       "</style>\n",
       "<table border=\"1\" class=\"dataframe\">\n",
       "  <thead>\n",
       "    <tr style=\"text-align: right;\">\n",
       "      <th></th>\n",
       "      <th>DateRep</th>\n",
       "      <th>CountryExp</th>\n",
       "      <th>NewConfCases</th>\n",
       "      <th>NewDeaths</th>\n",
       "      <th>GeoId</th>\n",
       "      <th>Gaul1Nuts1</th>\n",
       "      <th>EU</th>\n",
       "    </tr>\n",
       "  </thead>\n",
       "  <tbody>\n",
       "    <tr>\n",
       "      <th>4761</th>\n",
       "      <td>13/03/2020</td>\n",
       "      <td>United States of America</td>\n",
       "      <td>351</td>\n",
       "      <td>10</td>\n",
       "      <td>US</td>\n",
       "      <td>NaN</td>\n",
       "      <td>Non-EU/EEA</td>\n",
       "    </tr>\n",
       "    <tr>\n",
       "      <th>4762</th>\n",
       "      <td>12/03/2020</td>\n",
       "      <td>United States of America</td>\n",
       "      <td>287</td>\n",
       "      <td>2</td>\n",
       "      <td>US</td>\n",
       "      <td>NaN</td>\n",
       "      <td>Non-EU/EEA</td>\n",
       "    </tr>\n",
       "    <tr>\n",
       "      <th>4763</th>\n",
       "      <td>11/03/2020</td>\n",
       "      <td>United States of America</td>\n",
       "      <td>271</td>\n",
       "      <td>2</td>\n",
       "      <td>US</td>\n",
       "      <td>NaN</td>\n",
       "      <td>Non-EU/EEA</td>\n",
       "    </tr>\n",
       "    <tr>\n",
       "      <th>4764</th>\n",
       "      <td>10/03/2020</td>\n",
       "      <td>United States of America</td>\n",
       "      <td>200</td>\n",
       "      <td>5</td>\n",
       "      <td>US</td>\n",
       "      <td>NaN</td>\n",
       "      <td>Non-EU/EEA</td>\n",
       "    </tr>\n",
       "    <tr>\n",
       "      <th>4765</th>\n",
       "      <td>09/03/2020</td>\n",
       "      <td>United States of America</td>\n",
       "      <td>121</td>\n",
       "      <td>4</td>\n",
       "      <td>US</td>\n",
       "      <td>NaN</td>\n",
       "      <td>Non-EU/EEA</td>\n",
       "    </tr>\n",
       "    <tr>\n",
       "      <th>...</th>\n",
       "      <td>...</td>\n",
       "      <td>...</td>\n",
       "      <td>...</td>\n",
       "      <td>...</td>\n",
       "      <td>...</td>\n",
       "      <td>...</td>\n",
       "      <td>...</td>\n",
       "    </tr>\n",
       "    <tr>\n",
       "      <th>4830</th>\n",
       "      <td>04/01/2020</td>\n",
       "      <td>United States of America</td>\n",
       "      <td>0</td>\n",
       "      <td>0</td>\n",
       "      <td>US</td>\n",
       "      <td>NaN</td>\n",
       "      <td>Non-EU/EEA</td>\n",
       "    </tr>\n",
       "    <tr>\n",
       "      <th>4831</th>\n",
       "      <td>03/01/2020</td>\n",
       "      <td>United States of America</td>\n",
       "      <td>0</td>\n",
       "      <td>0</td>\n",
       "      <td>US</td>\n",
       "      <td>NaN</td>\n",
       "      <td>Non-EU/EEA</td>\n",
       "    </tr>\n",
       "    <tr>\n",
       "      <th>4832</th>\n",
       "      <td>02/01/2020</td>\n",
       "      <td>United States of America</td>\n",
       "      <td>0</td>\n",
       "      <td>0</td>\n",
       "      <td>US</td>\n",
       "      <td>NaN</td>\n",
       "      <td>Non-EU/EEA</td>\n",
       "    </tr>\n",
       "    <tr>\n",
       "      <th>4833</th>\n",
       "      <td>01/01/2020</td>\n",
       "      <td>United States of America</td>\n",
       "      <td>0</td>\n",
       "      <td>0</td>\n",
       "      <td>US</td>\n",
       "      <td>NaN</td>\n",
       "      <td>Non-EU/EEA</td>\n",
       "    </tr>\n",
       "    <tr>\n",
       "      <th>4834</th>\n",
       "      <td>31/12/2019</td>\n",
       "      <td>United States of America</td>\n",
       "      <td>0</td>\n",
       "      <td>0</td>\n",
       "      <td>US</td>\n",
       "      <td>NaN</td>\n",
       "      <td>Non-EU/EEA</td>\n",
       "    </tr>\n",
       "  </tbody>\n",
       "</table>\n",
       "<p>74 rows × 7 columns</p>\n",
       "</div>"
      ],
      "text/plain": [
       "         DateRep                CountryExp  NewConfCases  NewDeaths GeoId  \\\n",
       "4761  13/03/2020  United States of America           351         10    US   \n",
       "4762  12/03/2020  United States of America           287          2    US   \n",
       "4763  11/03/2020  United States of America           271          2    US   \n",
       "4764  10/03/2020  United States of America           200          5    US   \n",
       "4765  09/03/2020  United States of America           121          4    US   \n",
       "...          ...                       ...           ...        ...   ...   \n",
       "4830  04/01/2020  United States of America             0          0    US   \n",
       "4831  03/01/2020  United States of America             0          0    US   \n",
       "4832  02/01/2020  United States of America             0          0    US   \n",
       "4833  01/01/2020  United States of America             0          0    US   \n",
       "4834  31/12/2019  United States of America             0          0    US   \n",
       "\n",
       "     Gaul1Nuts1          EU  \n",
       "4761        NaN  Non-EU/EEA  \n",
       "4762        NaN  Non-EU/EEA  \n",
       "4763        NaN  Non-EU/EEA  \n",
       "4764        NaN  Non-EU/EEA  \n",
       "4765        NaN  Non-EU/EEA  \n",
       "...         ...         ...  \n",
       "4830        NaN  Non-EU/EEA  \n",
       "4831        NaN  Non-EU/EEA  \n",
       "4832        NaN  Non-EU/EEA  \n",
       "4833        NaN  Non-EU/EEA  \n",
       "4834        NaN  Non-EU/EEA  \n",
       "\n",
       "[74 rows x 7 columns]"
      ]
     },
     "execution_count": 31,
     "metadata": {},
     "output_type": "execute_result"
    }
   ],
   "source": [
    "usa = data[data.CountryExp =='United States of America']\n",
    "usa"
   ]
  },
  {
   "cell_type": "code",
   "execution_count": 32,
   "metadata": {},
   "outputs": [
    {
     "data": {
      "text/plain": [
       "array([ 19,   0,   0,  18,   0,   6,   1,   6,   3,  20,  14,  22,  34,\n",
       "        74, 105,  95, 121, 200, 271, 287, 351])"
      ]
     },
     "execution_count": 32,
     "metadata": {},
     "output_type": "execute_result"
    }
   ],
   "source": [
    "newcases_US = np.flip(usa.NewConfCases.to_numpy()[:21])\n",
    "newcases_US"
   ]
  },
  {
   "cell_type": "code",
   "execution_count": 33,
   "metadata": {},
   "outputs": [
    {
     "data": {
      "text/plain": [
       "(array([ 1,  2,  3,  4,  5,  6,  7,  8,  9, 10, 11, 12, 13, 14, 15, 16, 17,\n",
       "        18, 19, 20, 21]),\n",
       " array([  19,   19,   19,   37,   37,   43,   44,   50,   53,   73,   87,\n",
       "         109,  143,  217,  322,  417,  538,  738, 1009, 1296, 1647]))"
      ]
     },
     "execution_count": 33,
     "metadata": {},
     "output_type": "execute_result"
    }
   ],
   "source": [
    "ydata_US = np.cumsum(newcases_US)\n",
    "t = np.arange(1,len(ydata_US)+1,1)\n",
    "xdata = t\n",
    "xdata,ydata_US"
   ]
  },
  {
   "cell_type": "code",
   "execution_count": 34,
   "metadata": {},
   "outputs": [
    {
     "data": {
      "image/png": "[encoded data removed]",
      "text/plain": [
       "<Figure size 432x288 with 1 Axes>"
      ]
     },
     "metadata": {
      "needs_background": "light"
     },
     "output_type": "display_data"
    }
   ],
   "source": [
    "fig = plt.figure()\n",
    "ax = fig.add_subplot(111)\n",
    "#plt.plot(xdata,func(xdata,popt[0],popt[1],popt[2]), label=r'fit: $A+B\\ln(t) + Ct$')\n",
    "# plt.plot(xdata,func(xdata,A0,B0,C0), color=coltri[0], label=r'theory')\n",
    "plt.plot(xdata,ydata_IT, 'o-', color=coltri[2],  label=r'IT')\n",
    "# plt.plot(xdata-9,ydata_DE, 'o-', color=coltri[1],  label=r'DE (+9)')\n",
    "plt.plot(xdata-10,ydata_US, 'o-', color=coltri[0],  label=r'US (+10)')\n",
    "\n",
    "\n",
    "plt.plot(np.arange(10,20), func(np.arange(10,20)+10, 1.10748188e+02,  2.11390555e-01, 1000), '--',color='black', lw=2, label=r'fit')\n",
    "plt.legend(loc='best',prop={'size':20},frameon=True)\n",
    "plt.xlabel(r\"days since 20 February\", fontsize=20)\n",
    "plt.ylabel(r\"infected\", fontsize=20)\n",
    "ax.tick_params(which = 'major', axis='both', width=1.5, length = 10, labelsize=20,direction='in')\n",
    "ax.tick_params(which = 'minor', axis='both', width=1.5, length = 5, labelsize=20,direction='in')\n",
    "#plt.xticks(fontsize = 20)\n",
    "#plt.yticks(fontsize = 20)\n",
    "# plt.ylim(-100,2600)\n",
    "plt.yscale('log')\n",
    "# plt.xscale('log')\n",
    "plt.title('',fontsize = 25)\n",
    "plt.show()"
   ]
  },
  {
   "cell_type": "code",
   "execution_count": null,
   "metadata": {},
   "outputs": [],
   "source": []
  },
  {
   "cell_type": "code",
   "execution_count": null,
   "metadata": {},
   "outputs": [],
   "source": []
  },
  {
   "cell_type": "code",
   "execution_count": 35,
   "metadata": {},
   "outputs": [
    {
     "data": {
      "text/html": [
       "<div>\n",
       "<style scoped>\n",
       "    .dataframe tbody tr th:only-of-type {\n",
       "        vertical-align: middle;\n",
       "    }\n",
       "\n",
       "    .dataframe tbody tr th {\n",
       "        vertical-align: top;\n",
       "    }\n",
       "\n",
       "    .dataframe thead th {\n",
       "        text-align: right;\n",
       "    }\n",
       "</style>\n",
       "<table border=\"1\" class=\"dataframe\">\n",
       "  <thead>\n",
       "    <tr style=\"text-align: right;\">\n",
       "      <th></th>\n",
       "      <th>DateRep</th>\n",
       "      <th>CountryExp</th>\n",
       "      <th>NewConfCases</th>\n",
       "      <th>NewDeaths</th>\n",
       "      <th>GeoId</th>\n",
       "      <th>Gaul1Nuts1</th>\n",
       "      <th>EU</th>\n",
       "    </tr>\n",
       "  </thead>\n",
       "  <tbody>\n",
       "    <tr>\n",
       "      <th>4394</th>\n",
       "      <td>13/03/2020</td>\n",
       "      <td>Switzerland</td>\n",
       "      <td>212</td>\n",
       "      <td>0</td>\n",
       "      <td>CH</td>\n",
       "      <td>NaN</td>\n",
       "      <td>Non-EU/EEA</td>\n",
       "    </tr>\n",
       "    <tr>\n",
       "      <th>4395</th>\n",
       "      <td>12/03/2020</td>\n",
       "      <td>Switzerland</td>\n",
       "      <td>152</td>\n",
       "      <td>1</td>\n",
       "      <td>CH</td>\n",
       "      <td>NaN</td>\n",
       "      <td>Non-EU/EEA</td>\n",
       "    </tr>\n",
       "    <tr>\n",
       "      <th>4396</th>\n",
       "      <td>11/03/2020</td>\n",
       "      <td>Switzerland</td>\n",
       "      <td>116</td>\n",
       "      <td>1</td>\n",
       "      <td>CH</td>\n",
       "      <td>NaN</td>\n",
       "      <td>Non-EU/EEA</td>\n",
       "    </tr>\n",
       "    <tr>\n",
       "      <th>4397</th>\n",
       "      <td>10/03/2020</td>\n",
       "      <td>Switzerland</td>\n",
       "      <td>42</td>\n",
       "      <td>0</td>\n",
       "      <td>CH</td>\n",
       "      <td>NaN</td>\n",
       "      <td>Non-EU/EEA</td>\n",
       "    </tr>\n",
       "    <tr>\n",
       "      <th>4398</th>\n",
       "      <td>09/03/2020</td>\n",
       "      <td>Switzerland</td>\n",
       "      <td>68</td>\n",
       "      <td>1</td>\n",
       "      <td>CH</td>\n",
       "      <td>NaN</td>\n",
       "      <td>Non-EU/EEA</td>\n",
       "    </tr>\n",
       "    <tr>\n",
       "      <th>...</th>\n",
       "      <td>...</td>\n",
       "      <td>...</td>\n",
       "      <td>...</td>\n",
       "      <td>...</td>\n",
       "      <td>...</td>\n",
       "      <td>...</td>\n",
       "      <td>...</td>\n",
       "    </tr>\n",
       "    <tr>\n",
       "      <th>4463</th>\n",
       "      <td>04/01/2020</td>\n",
       "      <td>Switzerland</td>\n",
       "      <td>0</td>\n",
       "      <td>0</td>\n",
       "      <td>CH</td>\n",
       "      <td>NaN</td>\n",
       "      <td>Non-EU/EEA</td>\n",
       "    </tr>\n",
       "    <tr>\n",
       "      <th>4464</th>\n",
       "      <td>03/01/2020</td>\n",
       "      <td>Switzerland</td>\n",
       "      <td>0</td>\n",
       "      <td>0</td>\n",
       "      <td>CH</td>\n",
       "      <td>NaN</td>\n",
       "      <td>Non-EU/EEA</td>\n",
       "    </tr>\n",
       "    <tr>\n",
       "      <th>4465</th>\n",
       "      <td>02/01/2020</td>\n",
       "      <td>Switzerland</td>\n",
       "      <td>0</td>\n",
       "      <td>0</td>\n",
       "      <td>CH</td>\n",
       "      <td>NaN</td>\n",
       "      <td>Non-EU/EEA</td>\n",
       "    </tr>\n",
       "    <tr>\n",
       "      <th>4466</th>\n",
       "      <td>01/01/2020</td>\n",
       "      <td>Switzerland</td>\n",
       "      <td>0</td>\n",
       "      <td>0</td>\n",
       "      <td>CH</td>\n",
       "      <td>NaN</td>\n",
       "      <td>Non-EU/EEA</td>\n",
       "    </tr>\n",
       "    <tr>\n",
       "      <th>4467</th>\n",
       "      <td>31/12/2019</td>\n",
       "      <td>Switzerland</td>\n",
       "      <td>0</td>\n",
       "      <td>0</td>\n",
       "      <td>CH</td>\n",
       "      <td>NaN</td>\n",
       "      <td>Non-EU/EEA</td>\n",
       "    </tr>\n",
       "  </tbody>\n",
       "</table>\n",
       "<p>74 rows × 7 columns</p>\n",
       "</div>"
      ],
      "text/plain": [
       "         DateRep   CountryExp  NewConfCases  NewDeaths GeoId Gaul1Nuts1  \\\n",
       "4394  13/03/2020  Switzerland           212          0    CH        NaN   \n",
       "4395  12/03/2020  Switzerland           152          1    CH        NaN   \n",
       "4396  11/03/2020  Switzerland           116          1    CH        NaN   \n",
       "4397  10/03/2020  Switzerland            42          0    CH        NaN   \n",
       "4398  09/03/2020  Switzerland            68          1    CH        NaN   \n",
       "...          ...          ...           ...        ...   ...        ...   \n",
       "4463  04/01/2020  Switzerland             0          0    CH        NaN   \n",
       "4464  03/01/2020  Switzerland             0          0    CH        NaN   \n",
       "4465  02/01/2020  Switzerland             0          0    CH        NaN   \n",
       "4466  01/01/2020  Switzerland             0          0    CH        NaN   \n",
       "4467  31/12/2019  Switzerland             0          0    CH        NaN   \n",
       "\n",
       "              EU  \n",
       "4394  Non-EU/EEA  \n",
       "4395  Non-EU/EEA  \n",
       "4396  Non-EU/EEA  \n",
       "4397  Non-EU/EEA  \n",
       "4398  Non-EU/EEA  \n",
       "...          ...  \n",
       "4463  Non-EU/EEA  \n",
       "4464  Non-EU/EEA  \n",
       "4465  Non-EU/EEA  \n",
       "4466  Non-EU/EEA  \n",
       "4467  Non-EU/EEA  \n",
       "\n",
       "[74 rows x 7 columns]"
      ]
     },
     "execution_count": 35,
     "metadata": {},
     "output_type": "execute_result"
    }
   ],
   "source": [
    "switzerland = data[data.CountryExp =='Switzerland']\n",
    "switzerland"
   ]
  },
  {
   "cell_type": "code",
   "execution_count": 36,
   "metadata": {},
   "outputs": [
    {
     "data": {
      "text/plain": [
       "array([  0,   0,   0,   0,   1,   0,   7,   4,   6,   6,   6,   7,  20,\n",
       "        30, 122,  55,  68,  42, 116, 152, 212])"
      ]
     },
     "execution_count": 36,
     "metadata": {},
     "output_type": "execute_result"
    }
   ],
   "source": [
    "newcases_CH = np.flip(switzerland.NewConfCases.to_numpy()[:21])\n",
    "newcases_CH"
   ]
  },
  {
   "cell_type": "code",
   "execution_count": 37,
   "metadata": {},
   "outputs": [
    {
     "data": {
      "text/plain": [
       "(array([ 1,  2,  3,  4,  5,  6,  7,  8,  9, 10, 11, 12, 13, 14, 15, 16, 17,\n",
       "        18, 19, 20, 21]),\n",
       " array([  0,   0,   0,   0,   1,   1,   8,  12,  18,  24,  30,  37,  57,\n",
       "         87, 209, 264, 332, 374, 490, 642, 854]))"
      ]
     },
     "execution_count": 37,
     "metadata": {},
     "output_type": "execute_result"
    }
   ],
   "source": [
    "ydata_CH = np.cumsum(newcases_CH)\n",
    "t = np.arange(1,len(ydata_CH)+1,1)\n",
    "xdata = t\n",
    "xdata,ydata_CH"
   ]
  },
  {
   "cell_type": "code",
   "execution_count": 38,
   "metadata": {},
   "outputs": [
    {
     "data": {
      "text/plain": [
       "array([ 3.63951274e+02,  1.79342096e-01, -5.72145652e+02])"
      ]
     },
     "execution_count": 38,
     "metadata": {},
     "output_type": "execute_result"
    }
   ],
   "source": [
    "popt_IT"
   ]
  },
  {
   "cell_type": "code",
   "execution_count": 39,
   "metadata": {},
   "outputs": [
    {
     "data": {
      "image/png": "[encoded data removed]",
      "text/plain": [
       "<Figure size 432x288 with 1 Axes>"
      ]
     },
     "metadata": {
      "needs_background": "light"
     },
     "output_type": "display_data"
    }
   ],
   "source": [
    "fig = plt.figure()\n",
    "ax = fig.add_subplot(111)\n",
    "#plt.plot(xdata,func(xdata,popt[0],popt[1],popt[2]), label=r'fit: $A+B\\ln(t) + Ct$')\n",
    "# plt.plot(xdata,func(xdata,A0,B0,C0), color=coltri[0], label=r'theory')\n",
    "plt.plot(xdata,ydata_IT, 'o-', color=coltri[2],  label=r'IT')\n",
    "plt.plot(xdata-9,ydata_DE, 'o-', color=coltri[1],  label=r'DE (-9)')\n",
    "plt.plot(xdata-10,ydata_US, 'o-', color='violet',  label=r'US (-10)')\n",
    "plt.plot(xdata-12,ydata_CH, 'o-', color=coltri[0],  label=r'CH (-12)')\n",
    "\n",
    "\n",
    "plt.plot(np.arange(5,20), func(np.arange(5,20), *popt_IT), '--',color='black', lw=2, label=r'fit')\n",
    "# plt.legend(loc='best',prop={'size':20},frameon=True)\n",
    "plt.legend(bbox_to_anchor=(1.04,1), loc=\"upper left\",prop={'size':20},frameon=True)\n",
    "plt.xlabel(r\"days since 20 February\", fontsize=20)\n",
    "plt.ylabel(r\"infected\", fontsize=20)\n",
    "ax.tick_params(which = 'major', axis='both', width=1.5, length = 10, labelsize=20,direction='in')\n",
    "ax.tick_params(which = 'minor', axis='both', width=1.5, length = 5, labelsize=20,direction='in')\n",
    "#plt.xticks(fontsize = 20)\n",
    "#plt.yticks(fontsize = 20)\n",
    "# plt.ylim(-100,2600)\n",
    "plt.yscale('log')\n",
    "# plt.xscale('log')\n",
    "plt.title('',fontsize = 25)\n",
    "plt.show()"
   ]
  },
  {
   "cell_type": "code",
   "execution_count": 30,
   "metadata": {},
   "outputs": [
    {
     "data": {
      "text/plain": [
       "array([ 2.86061083e+02,  1.82237032e-01, -5.09659404e+02])"
      ]
     },
     "execution_count": 30,
     "metadata": {},
     "output_type": "execute_result"
    }
   ],
   "source": [
    "popt_IT"
   ]
  },
  {
   "cell_type": "code",
   "execution_count": null,
   "metadata": {},
   "outputs": [],
   "source": []
  },
  {
   "cell_type": "code",
   "execution_count": 43,
   "metadata": {},
   "outputs": [
    {
     "data": {
      "text/plain": [
       "array([ 9, 12, 27, 12,  0, 20, 22, 24, 20,  9, 15,  0, 14, 49, 32, 59, 47,\n",
       "       33, 26, 54, 51])"
      ]
     },
     "execution_count": 43,
     "metadata": {},
     "output_type": "execute_result"
    }
   ],
   "source": [
    "japan = data[data.CountryExp =='Japan']\n",
    "newcases_JP = np.flip(japan.NewConfCases.to_numpy()[:21])\n",
    "newcases_JP"
   ]
  },
  {
   "cell_type": "code",
   "execution_count": 89,
   "metadata": {},
   "outputs": [
    {
     "data": {
      "text/plain": [
       "(array([ 1,  2,  3,  4,  5,  6,  7,  8,  9, 10, 11, 12, 13, 14, 15, 16, 17,\n",
       "        18, 19, 20, 21]),\n",
       " array([  9,  21,  48,  60,  60,  80, 102, 126, 146, 155, 170, 170, 184,\n",
       "        233, 265, 324, 371, 404, 430, 484, 535]))"
      ]
     },
     "execution_count": 89,
     "metadata": {},
     "output_type": "execute_result"
    }
   ],
   "source": [
    "ydata_JP = np.cumsum(newcases_JP)\n",
    "t = np.arange(1,len(ydata_JP)+1,1)\n",
    "xdata = t\n",
    "xdata,ydata_JP"
   ]
  },
  {
   "cell_type": "code",
   "execution_count": 6,
   "metadata": {},
   "outputs": [
    {
     "data": {
      "text/html": [
       "<div>\n",
       "<style scoped>\n",
       "    .dataframe tbody tr th:only-of-type {\n",
       "        vertical-align: middle;\n",
       "    }\n",
       "\n",
       "    .dataframe tbody tr th {\n",
       "        vertical-align: top;\n",
       "    }\n",
       "\n",
       "    .dataframe thead th {\n",
       "        text-align: right;\n",
       "    }\n",
       "</style>\n",
       "<table border=\"1\" class=\"dataframe\">\n",
       "  <thead>\n",
       "    <tr style=\"text-align: right;\">\n",
       "      <th></th>\n",
       "      <th>DateRep</th>\n",
       "      <th>CountryExp</th>\n",
       "      <th>NewConfCases</th>\n",
       "      <th>NewDeaths</th>\n",
       "      <th>GeoId</th>\n",
       "      <th>Gaul1Nuts1</th>\n",
       "      <th>EU</th>\n",
       "    </tr>\n",
       "  </thead>\n",
       "  <tbody>\n",
       "    <tr>\n",
       "      <th>946</th>\n",
       "      <td>13/03/2020</td>\n",
       "      <td>China</td>\n",
       "      <td>22</td>\n",
       "      <td>7</td>\n",
       "      <td>CN</td>\n",
       "      <td>NaN</td>\n",
       "      <td>Non-EU/EEA</td>\n",
       "    </tr>\n",
       "    <tr>\n",
       "      <th>947</th>\n",
       "      <td>12/03/2020</td>\n",
       "      <td>China</td>\n",
       "      <td>24</td>\n",
       "      <td>11</td>\n",
       "      <td>CN</td>\n",
       "      <td>NaN</td>\n",
       "      <td>Non-EU/EEA</td>\n",
       "    </tr>\n",
       "    <tr>\n",
       "      <th>948</th>\n",
       "      <td>11/03/2020</td>\n",
       "      <td>China</td>\n",
       "      <td>29</td>\n",
       "      <td>22</td>\n",
       "      <td>CN</td>\n",
       "      <td>NaN</td>\n",
       "      <td>Non-EU/EEA</td>\n",
       "    </tr>\n",
       "    <tr>\n",
       "      <th>949</th>\n",
       "      <td>10/03/2020</td>\n",
       "      <td>China</td>\n",
       "      <td>20</td>\n",
       "      <td>17</td>\n",
       "      <td>CN</td>\n",
       "      <td>NaN</td>\n",
       "      <td>Non-EU/EEA</td>\n",
       "    </tr>\n",
       "    <tr>\n",
       "      <th>950</th>\n",
       "      <td>09/03/2020</td>\n",
       "      <td>China</td>\n",
       "      <td>45</td>\n",
       "      <td>23</td>\n",
       "      <td>CN</td>\n",
       "      <td>NaN</td>\n",
       "      <td>Non-EU/EEA</td>\n",
       "    </tr>\n",
       "    <tr>\n",
       "      <th>...</th>\n",
       "      <td>...</td>\n",
       "      <td>...</td>\n",
       "      <td>...</td>\n",
       "      <td>...</td>\n",
       "      <td>...</td>\n",
       "      <td>...</td>\n",
       "      <td>...</td>\n",
       "    </tr>\n",
       "    <tr>\n",
       "      <th>1015</th>\n",
       "      <td>04/01/2020</td>\n",
       "      <td>China</td>\n",
       "      <td>0</td>\n",
       "      <td>0</td>\n",
       "      <td>CN</td>\n",
       "      <td>NaN</td>\n",
       "      <td>Non-EU/EEA</td>\n",
       "    </tr>\n",
       "    <tr>\n",
       "      <th>1016</th>\n",
       "      <td>03/01/2020</td>\n",
       "      <td>China</td>\n",
       "      <td>17</td>\n",
       "      <td>0</td>\n",
       "      <td>CN</td>\n",
       "      <td>NaN</td>\n",
       "      <td>Non-EU/EEA</td>\n",
       "    </tr>\n",
       "    <tr>\n",
       "      <th>1017</th>\n",
       "      <td>02/01/2020</td>\n",
       "      <td>China</td>\n",
       "      <td>0</td>\n",
       "      <td>0</td>\n",
       "      <td>CN</td>\n",
       "      <td>NaN</td>\n",
       "      <td>Non-EU/EEA</td>\n",
       "    </tr>\n",
       "    <tr>\n",
       "      <th>1018</th>\n",
       "      <td>01/01/2020</td>\n",
       "      <td>China</td>\n",
       "      <td>0</td>\n",
       "      <td>0</td>\n",
       "      <td>CN</td>\n",
       "      <td>NaN</td>\n",
       "      <td>Non-EU/EEA</td>\n",
       "    </tr>\n",
       "    <tr>\n",
       "      <th>1019</th>\n",
       "      <td>31/12/2019</td>\n",
       "      <td>China</td>\n",
       "      <td>27</td>\n",
       "      <td>0</td>\n",
       "      <td>CN</td>\n",
       "      <td>NaN</td>\n",
       "      <td>Non-EU/EEA</td>\n",
       "    </tr>\n",
       "  </tbody>\n",
       "</table>\n",
       "<p>74 rows × 7 columns</p>\n",
       "</div>"
      ],
      "text/plain": [
       "         DateRep CountryExp  NewConfCases  NewDeaths GeoId Gaul1Nuts1  \\\n",
       "946   13/03/2020      China            22          7    CN        NaN   \n",
       "947   12/03/2020      China            24         11    CN        NaN   \n",
       "948   11/03/2020      China            29         22    CN        NaN   \n",
       "949   10/03/2020      China            20         17    CN        NaN   \n",
       "950   09/03/2020      China            45         23    CN        NaN   \n",
       "...          ...        ...           ...        ...   ...        ...   \n",
       "1015  04/01/2020      China             0          0    CN        NaN   \n",
       "1016  03/01/2020      China            17          0    CN        NaN   \n",
       "1017  02/01/2020      China             0          0    CN        NaN   \n",
       "1018  01/01/2020      China             0          0    CN        NaN   \n",
       "1019  31/12/2019      China            27          0    CN        NaN   \n",
       "\n",
       "              EU  \n",
       "946   Non-EU/EEA  \n",
       "947   Non-EU/EEA  \n",
       "948   Non-EU/EEA  \n",
       "949   Non-EU/EEA  \n",
       "950   Non-EU/EEA  \n",
       "...          ...  \n",
       "1015  Non-EU/EEA  \n",
       "1016  Non-EU/EEA  \n",
       "1017  Non-EU/EEA  \n",
       "1018  Non-EU/EEA  \n",
       "1019  Non-EU/EEA  \n",
       "\n",
       "[74 rows x 7 columns]"
      ]
     },
     "execution_count": 6,
     "metadata": {},
     "output_type": "execute_result"
    }
   ],
   "source": [
    "china = data[data.CountryExp =='China']\n",
    "china"
   ]
  },
  {
   "cell_type": "code",
   "execution_count": 7,
   "metadata": {},
   "outputs": [
    {
     "data": {
      "text/plain": [
       "array([   27,     0,     0,    17,     0,    15,     0,     0,     0,\n",
       "           0,     0,     0,     0,     0,     0,     0,     0,     4,\n",
       "          17,   136,    19,   151,   140,    97,   259,   441,   665,\n",
       "         787,  1753,  1466,  1740,  1980,  2095,  2590,  2812,  3237,\n",
       "        3872,  3727,  3160,  3418,  2607,  2974,  2490,  2028, 15141,\n",
       "        4156,  2538,  2007,  2052,  1890,  1750,   394,   891,   826,\n",
       "         647,   218,   515,   410,   439,   329,   428,   574,   205,\n",
       "         127,   119,   117,   170,   101,    46,    45,    20,    29,\n",
       "          24,    22])"
      ]
     },
     "execution_count": 7,
     "metadata": {},
     "output_type": "execute_result"
    }
   ],
   "source": [
    "newcases_CN = np.flip(china.NewConfCases.to_numpy())\n",
    "newcases_CN"
   ]
  },
  {
   "cell_type": "code",
   "execution_count": 8,
   "metadata": {},
   "outputs": [
    {
     "data": {
      "text/plain": [
       "(array([ 1,  2,  3,  4,  5,  6,  7,  8,  9, 10, 11, 12, 13, 14, 15, 16, 17,\n",
       "        18, 19, 20, 21, 22, 23, 24, 25, 26, 27, 28, 29, 30]),\n",
       " array([  235,   386,   526,   623,   882,  1323,  1988,  2775,  4528,\n",
       "         5994,  7734,  9714, 11809, 14399, 17211, 20448, 24320, 28047,\n",
       "        31207, 34625, 37232, 40206, 42696, 44724, 59865, 64021, 66559,\n",
       "        68566, 70618, 72508]))"
      ]
     },
     "execution_count": 8,
     "metadata": {},
     "output_type": "execute_result"
    }
   ],
   "source": [
    "ydata_CN = np.cumsum(newcases_CN)[20:50]\n",
    "# ydata_CN = np.cumsum(newcases_CN)[20:]\n",
    "xdata_CN = np.arange(1,len(ydata_CN)+1,1)\n",
    "xdata_CN,ydata_CN"
   ]
  },
  {
   "cell_type": "code",
   "execution_count": 109,
   "metadata": {},
   "outputs": [
    {
     "name": "stderr",
     "output_type": "stream",
     "text": [
      "/usr/local/lib/python3.7/site-packages/scipy/optimize/minpack.py:787: OptimizeWarning: Covariance of the parameters could not be estimated\n",
      "  category=OptimizeWarning)\n"
     ]
    },
    {
     "data": {
      "image/png": "[encoded data removed]",
      "text/plain": [
       "<Figure size 432x288 with 5 Axes>"
      ]
     },
     "metadata": {
      "needs_background": "light"
     },
     "output_type": "display_data"
    }
   ],
   "source": [
    "func = fitAlgebraic\n",
    "# func = fitPowerlaw\n",
    "# func = fitExp\n",
    "\n",
    "popt_IT, pcov_IT = curve_fit(func, xdata[:10], ydata_IT[:10], x0,maxfev = 5000)\n",
    "popt_DE, pcov_DE = curve_fit(func, xdata[:10], ydata_DE[:10], x0,maxfev = 5000)\n",
    "popt_JP, pcov_JP = curve_fit(func, xdata[:10], ydata_JP[:10], x0,maxfev = 5000)\n",
    "popt_CN, pcov_CN = curve_fit(func, xdata_CN[:10], ydata_CN[:10], x0,maxfev = 5000)\n",
    "\n",
    "fig = plt.figure()\n",
    "ax1 = fig.add_subplot(221)\n",
    "plt.plot(xdata,ydata_IT, 'o', color=coltri[2],  label=r'IT')\n",
    "plt.plot(np.arange(1,30), func(np.arange(1,30), *popt_IT), '--',color='black', lw=2, label=r'fit: $At + Bt^2$')\n",
    "plt.title('Italy',fontsize = 15)\n",
    "ax2 = fig.add_subplot(222)\n",
    "plt.plot(xdata,ydata_JP, 'o', color=coltri[1],  label=r'JP')\n",
    "plt.plot(np.arange(1,30), func(np.arange(1,30), *popt_JP), '--',color='black', lw=2, label=r'fit: $At + Bt^2$')\n",
    "plt.title('Japan',fontsize = 15)\n",
    "ax3 = fig.add_subplot(223)\n",
    "plt.plot(xdata_CN,ydata_CN, 'o', color=coltri[0],  label=r'CN')\n",
    "plt.plot(np.arange(1,30), func(np.arange(1,30), *popt_CN), '--',color='black', lw=2, label=r'fit: $At + Bt^2$')\n",
    "plt.title('China',fontsize = 15)\n",
    "ax4 = fig.add_subplot(224)\n",
    "plt.plot(xdata,ydata_DE, 'o', color='violet',  label=r'DE')\n",
    "plt.plot(np.arange(1,30), func(np.arange(1,30), *popt_DE), '--',color='black', lw=2, label=r'fit: $At + Bt^2$')\n",
    "plt.title('Germany',fontsize = 15)\n",
    "\n",
    "fig.add_subplot(111, frameon=False)\n",
    "# hide tick and tick label of the big axis\n",
    "plt.tick_params(labelcolor='none', top=False, bottom=False, left=False, right=False)\n",
    "plt.xlabel(r\"days\",fontsize = 15)\n",
    "plt.ylabel(r\"cases\",fontsize = 15)\n",
    "#plt.xticks(fontsize = 20)\n",
    "#plt.yticks(fontsize = 20)\n",
    "# plt.yscale('log')\n",
    "# plt.xscale('log')\n",
    "# plt.legend(loc='best',prop={'size':20},frameon=True)\n",
    "# ax.tick_params(which = 'major', axis='both', width=1.5, length = 10, labelsize=20,direction='in')\n",
    "# ax.tick_params(which = 'minor', axis='both', width=1.5, length = 5, labelsize=20,direction='in')\n",
    "fig.tight_layout(pad=1.0)\n",
    "plt.show()\n",
    "# fig.savefig(\"fig_diamter_SISnoinset.pdf\", bbox_inches='tight')\n",
    "# plt.close(\"all\")"
   ]
  },
  {
   "cell_type": "code",
   "execution_count": null,
   "metadata": {},
   "outputs": [],
   "source": []
  },
  {
   "cell_type": "code",
   "execution_count": null,
   "metadata": {},
   "outputs": [],
   "source": []
  },
  {
   "cell_type": "code",
   "execution_count": null,
   "metadata": {},
   "outputs": [],
   "source": []
  },
  {
   "cell_type": "code",
   "execution_count": 61,
   "metadata": {},
   "outputs": [
    {
     "data": {
      "text/plain": [
       "979    20/01/2020\n",
       "978    21/01/2020\n",
       "977    22/01/2020\n",
       "976    23/01/2020\n",
       "975    24/01/2020\n",
       "974    25/01/2020\n",
       "973    26/01/2020\n",
       "972    27/01/2020\n",
       "971    28/01/2020\n",
       "970    29/01/2020\n",
       "969    30/01/2020\n",
       "968    31/01/2020\n",
       "967    01/02/2020\n",
       "966    02/02/2020\n",
       "965    03/02/2020\n",
       "964    04/02/2020\n",
       "963    05/02/2020\n",
       "962    06/02/2020\n",
       "961    07/02/2020\n",
       "960    08/02/2020\n",
       "959    09/02/2020\n",
       "958    10/02/2020\n",
       "957    11/02/2020\n",
       "956    12/02/2020\n",
       "955    13/02/2020\n",
       "954    14/02/2020\n",
       "953    15/02/2020\n",
       "952    16/02/2020\n",
       "951    17/02/2020\n",
       "950    18/02/2020\n",
       "949    19/02/2020\n",
       "948    20/02/2020\n",
       "947    21/02/2020\n",
       "946    22/02/2020\n",
       "945    23/02/2020\n",
       "944    24/02/2020\n",
       "943    25/02/2020\n",
       "942    26/02/2020\n",
       "941    27/02/2020\n",
       "940    28/02/2020\n",
       "939    29/02/2020\n",
       "938    01/03/2020\n",
       "937    02/03/2020\n",
       "936    03/03/2020\n",
       "935    04/03/2020\n",
       "934    05/03/2020\n",
       "933    06/03/2020\n",
       "932    07/03/2020\n",
       "931    08/03/2020\n",
       "930    09/03/2020\n",
       "929    10/03/2020\n",
       "928    11/03/2020\n",
       "927    12/03/2020\n",
       "Name: DateRep, dtype: object"
      ]
     },
     "execution_count": 61,
     "metadata": {},
     "output_type": "execute_result"
    }
   ],
   "source": [
    "date_CN = np.flip(china.DateRep)[20:]"
   ]
  },
  {
   "cell_type": "code",
   "execution_count": 72,
   "metadata": {},
   "outputs": [
    {
     "data": {
      "text/plain": [
       "(array([ 3.04960181e+03,  1.29702824e-01, -4.58457153e+03]),\n",
       " array([[ 2.88766620e+05, -4.38189512e+00, -4.90715393e+05],\n",
       "        [-4.38189512e+00,  6.72092111e-05,  7.28637003e+00],\n",
       "        [-4.90715393e+05,  7.28637003e+00,  9.09852306e+05]]))"
      ]
     },
     "execution_count": 72,
     "metadata": {},
     "output_type": "execute_result"
    }
   ],
   "source": [
    "# Initial guess.\n",
    "A0,B0,C0 = 1,1,1\n",
    "x0 = np.array([A0, B0, C0])\n",
    "\n",
    "func = fitExp\n",
    "# func = fitPowerlaw\n",
    "\n",
    "popt_CN, pcov_CN = curve_fit(func, xdata[:20], ydata_CN[:20], x0,maxfev = 5000)\n",
    "popt_CN, pcov_CN"
   ]
  },
  {
   "cell_type": "code",
   "execution_count": 82,
   "metadata": {},
   "outputs": [
    {
     "data": {
      "image/png": "[encoded data removed]",
      "text/plain": [
       "<Figure size 432x288 with 1 Axes>"
      ]
     },
     "metadata": {
      "needs_background": "light"
     },
     "output_type": "display_data"
    }
   ],
   "source": [
    "fig = plt.figure()\n",
    "ax = fig.add_subplot(111)\n",
    "#plt.plot(xdata,func(xdata,popt[0],popt[1],popt[2]), label=r'fit: $A+B\\ln(t) + Ct$')\n",
    "# plt.plot(xdata,func(xdata,A0,B0,C0), color=coltri[0], label=r'theory')\n",
    "plt.plot(np.arange(1,len(ydata_IT)+1,1)-7,ydata_IT, 'o-', color=coltri[2],  label=r'IT (-39)')\n",
    "plt.plot(xdata[:20],ydata_CN[:20], 'o-', color=coltri[0],  label=r'CN')\n",
    "plt.plot(xdata[7:20], func(xdata, *popt_CN)[7:20], '--',color='black', lw=2, label=r'fit')\n",
    "plt.legend(loc='best',prop={'size':20},frameon=True)\n",
    "plt.xlabel(r\"days since 20 January\", fontsize=20)\n",
    "plt.ylabel(r\"infected\", fontsize=20)\n",
    "ax.tick_params(which = 'major', axis='both', width=1.5, length = 10, labelsize=20,direction='in')\n",
    "ax.tick_params(which = 'minor', axis='both', width=1.5, length = 5, labelsize=20,direction='in')\n",
    "#plt.xticks(fontsize = 20)\n",
    "#plt.yticks(fontsize = 20)\n",
    "# plt.ylim(10,10000)\n",
    "plt.yscale('log')\n",
    "# plt.xscale('log')\n",
    "plt.title('',fontsize = 25)\n",
    "plt.show()"
   ]
  },
  {
   "cell_type": "code",
   "execution_count": null,
   "metadata": {},
   "outputs": [],
   "source": []
  },
  {
   "cell_type": "code",
   "execution_count": null,
   "metadata": {},
   "outputs": [],
   "source": []
  },
  {
   "cell_type": "code",
   "execution_count": 9,
   "metadata": {},
   "outputs": [
    {
     "data": {
      "text/plain": [
       "(array([ 1,  2,  3,  4,  5,  6,  7,  8,  9, 10, 11, 12, 13, 14, 15, 16, 17,\n",
       "        18, 19, 20, 21, 22, 23, 24, 25, 26, 27, 28, 29, 30, 31, 32, 33, 34,\n",
       "        35, 36, 37, 38, 39, 40, 41, 42, 43, 44, 45, 46, 47, 48, 49, 50, 51,\n",
       "        52, 53, 54, 55, 56, 57, 58, 59, 60, 61, 62, 63, 64, 65, 66, 67, 68,\n",
       "        69, 70, 71, 72, 73, 74]),\n",
       " array([   27,    27,    27,    44,    44,    59,    59,    59,    59,\n",
       "           59,    59,    59,    59,    59,    59,    59,    59,    63,\n",
       "           80,   216,   235,   386,   526,   623,   882,  1323,  1988,\n",
       "         2775,  4528,  5994,  7734,  9714, 11809, 14399, 17211, 20448,\n",
       "        24320, 28047, 31207, 34625, 37232, 40206, 42696, 44724, 59865,\n",
       "        64021, 66559, 68566, 70618, 72508, 74258, 74652, 75543, 76369,\n",
       "        77016, 77234, 77749, 78159, 78598, 78927, 79355, 79929, 80134,\n",
       "        80261, 80380, 80497, 80667, 80768, 80814, 80859, 80879, 80908,\n",
       "        80932, 80954]))"
      ]
     },
     "execution_count": 9,
     "metadata": {},
     "output_type": "execute_result"
    }
   ],
   "source": [
    "ydata_CN = np.cumsum(newcases_CN)[:]\n",
    "# ydata_CN = np.cumsum(newcases_CN)[20:]\n",
    "xdata_CN = np.arange(1,len(ydata_CN)+1,1)\n",
    "xdata_CN,ydata_CN"
   ]
  },
  {
   "cell_type": "code",
   "execution_count": 14,
   "metadata": {},
   "outputs": [
    {
     "data": {
      "image/png": "[encoded data removed]",
      "text/plain": [
       "<Figure size 432x288 with 1 Axes>"
      ]
     },
     "metadata": {
      "needs_background": "light"
     },
     "output_type": "display_data"
    }
   ],
   "source": [
    "fig = plt.figure()\n",
    "ax = fig.add_subplot(111)\n",
    "#plt.plot(xdata,func(xdata,popt[0],popt[1],popt[2]), label=r'fit: $A+B\\ln(t) + Ct$')\n",
    "# plt.plot(xdata,func(xdata,A0,B0,C0), color=coltri[0], label=r'theory')\n",
    "# plt.plot(np.arange(1,len(ydata_IT)+1,1)-7,ydata_IT, 'o-', color=coltri[2],  label=r'IT (-39)')\n",
    "plt.plot(xdata_CN[:],ydata_CN[:], 'o-', color=coltri[0],  label=r'CN')\n",
    "# plt.plot(xdata[7:20], func(xdata, *popt_CN)[7:20], '--',color='black', lw=2, label=r'fit')\n",
    "plt.legend(loc='best',prop={'size':20},frameon=True)\n",
    "plt.xlabel(r\"days of the year\", fontsize=20)\n",
    "plt.ylabel(r\"infected\", fontsize=20)\n",
    "ax.tick_params(which = 'major', axis='both', width=1.5, length = 10, labelsize=20,direction='in')\n",
    "ax.tick_params(which = 'minor', axis='both', width=1.5, length = 5, labelsize=20,direction='in')\n",
    "#plt.xticks(fontsize = 20)\n",
    "#plt.yticks(fontsize = 20)\n",
    "# plt.ylim(10,10000)\n",
    "plt.yscale('log')\n",
    "# plt.xscale('log')\n",
    "plt.title('',fontsize = 25)\n",
    "plt.show()"
   ]
  },
  {
   "cell_type": "code",
   "execution_count": null,
   "metadata": {},
   "outputs": [],
   "source": []
  },
  {
   "cell_type": "code",
   "execution_count": null,
   "metadata": {},
   "outputs": [],
   "source": [
    "folder = 'COVID-19/csse_covid_19_data/csse_covid_19_time_series/'\n",
    "data = pd.read_csv(folder+'time_series_19-covid-Confirmed.csv',sep=',') \n",
    "data.rename(columns={'Province/State': 'State', 'Country/Region': 'Country'}, inplace=True)\n",
    "italy = data[data.Country =='Italy']\n",
    "italy"
   ]
  }
 ],
 "metadata": {
  "kernelspec": {
   "display_name": "Python 3",
   "language": "python",
   "name": "python3"
  },
  "language_info": {
   "codemirror_mode": {
    "name": "ipython",
    "version": 3
   },
   "file_extension": ".py",
   "mimetype": "text/x-python",
   "name": "python",
   "nbconvert_exporter": "python",
   "pygments_lexer": "ipython3",
   "version": "3.7.6"
  }
 },
 "nbformat": 4,
 "nbformat_minor": 2
}
