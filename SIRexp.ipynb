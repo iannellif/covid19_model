{
 "cells": [
  {
   "cell_type": "code",
   "execution_count": 1,
   "metadata": {},
   "outputs": [],
   "source": [
    "import numpy as np\n",
    "import matplotlib.pyplot as plt\n",
    "from scipy.optimize import curve_fit\n",
    "import pandas as pd \n",
    "from scipy.integrate import odeint"
   ]
  },
  {
   "cell_type": "code",
   "execution_count": 2,
   "metadata": {},
   "outputs": [],
   "source": [
    "plt.rc('text', usetex=True)\n",
    "plt.rc('font', family='sans-serif')\n",
    "coltri = [\"darkred\", \"skyblue\", \"orange\"]\n",
    "\n",
    "plt.rcParams['text.latex.preamble'] = r\"\"\"\n",
    "    \\usepackage[utf8]{inputenc}\n",
    "    \\usepackage{mathtools}\n",
    "    \\DeclarePairedDelimiter\\braket{\\langle}{\\rangle}\n",
    "    \"\"\""
   ]
  },
  {
   "cell_type": "code",
   "execution_count": 3,
   "metadata": {},
   "outputs": [
    {
     "data": {
      "text/html": [
       "<div>\n",
       "<style scoped>\n",
       "    .dataframe tbody tr th:only-of-type {\n",
       "        vertical-align: middle;\n",
       "    }\n",
       "\n",
       "    .dataframe tbody tr th {\n",
       "        vertical-align: top;\n",
       "    }\n",
       "\n",
       "    .dataframe thead th {\n",
       "        text-align: right;\n",
       "    }\n",
       "</style>\n",
       "<table border=\"1\" class=\"dataframe\">\n",
       "  <thead>\n",
       "    <tr style=\"text-align: right;\">\n",
       "      <th></th>\n",
       "      <th>Unnamed: 0</th>\n",
       "      <th>date</th>\n",
       "      <th>CR</th>\n",
       "      <th>LO</th>\n",
       "      <th>PC</th>\n",
       "      <th>BG</th>\n",
       "      <th>BS</th>\n",
       "      <th>PU</th>\n",
       "      <th>AO</th>\n",
       "      <th>RN</th>\n",
       "      <th>...</th>\n",
       "      <th>BT</th>\n",
       "      <th>CA</th>\n",
       "      <th>CE</th>\n",
       "      <th>AQ</th>\n",
       "      <th>SR</th>\n",
       "      <th>AG</th>\n",
       "      <th>CS</th>\n",
       "      <th>PA</th>\n",
       "      <th>TA</th>\n",
       "      <th>SU</th>\n",
       "    </tr>\n",
       "  </thead>\n",
       "  <tbody>\n",
       "    <tr>\n",
       "      <th>0</th>\n",
       "      <td>0</td>\n",
       "      <td>2020-02-07</td>\n",
       "      <td>0.261868</td>\n",
       "      <td>0.301355</td>\n",
       "      <td>0.259885</td>\n",
       "      <td>0.386066</td>\n",
       "      <td>0.244493</td>\n",
       "      <td>0.204562</td>\n",
       "      <td>0.477614</td>\n",
       "      <td>0.282004</td>\n",
       "      <td>...</td>\n",
       "      <td>0.397691</td>\n",
       "      <td>0.305823</td>\n",
       "      <td>0.148371</td>\n",
       "      <td>0.148114</td>\n",
       "      <td>0.282201</td>\n",
       "      <td>0.175965</td>\n",
       "      <td>0.213432</td>\n",
       "      <td>0.501969</td>\n",
       "      <td>0.446288</td>\n",
       "      <td>0.118079</td>\n",
       "    </tr>\n",
       "    <tr>\n",
       "      <th>1</th>\n",
       "      <td>1</td>\n",
       "      <td>2020-02-08</td>\n",
       "      <td>0.392103</td>\n",
       "      <td>0.351264</td>\n",
       "      <td>0.321691</td>\n",
       "      <td>0.422912</td>\n",
       "      <td>0.297358</td>\n",
       "      <td>0.318823</td>\n",
       "      <td>0.430306</td>\n",
       "      <td>0.376406</td>\n",
       "      <td>...</td>\n",
       "      <td>0.402716</td>\n",
       "      <td>0.269005</td>\n",
       "      <td>0.174966</td>\n",
       "      <td>0.197693</td>\n",
       "      <td>0.234874</td>\n",
       "      <td>0.181547</td>\n",
       "      <td>0.232585</td>\n",
       "      <td>0.440796</td>\n",
       "      <td>0.380787</td>\n",
       "      <td>0.127859</td>\n",
       "    </tr>\n",
       "    <tr>\n",
       "      <th>2</th>\n",
       "      <td>2</td>\n",
       "      <td>2020-02-09</td>\n",
       "      <td>0.732007</td>\n",
       "      <td>0.233021</td>\n",
       "      <td>0.211343</td>\n",
       "      <td>0.481504</td>\n",
       "      <td>0.272724</td>\n",
       "      <td>0.368586</td>\n",
       "      <td>0.321464</td>\n",
       "      <td>0.523685</td>\n",
       "      <td>...</td>\n",
       "      <td>0.278137</td>\n",
       "      <td>0.255590</td>\n",
       "      <td>0.199755</td>\n",
       "      <td>0.130626</td>\n",
       "      <td>0.178081</td>\n",
       "      <td>0.132732</td>\n",
       "      <td>0.159012</td>\n",
       "      <td>0.333384</td>\n",
       "      <td>0.256775</td>\n",
       "      <td>0.105426</td>\n",
       "    </tr>\n",
       "    <tr>\n",
       "      <th>3</th>\n",
       "      <td>3</td>\n",
       "      <td>2020-02-10</td>\n",
       "      <td>0.255944</td>\n",
       "      <td>0.217943</td>\n",
       "      <td>0.243337</td>\n",
       "      <td>0.380477</td>\n",
       "      <td>0.215091</td>\n",
       "      <td>0.211072</td>\n",
       "      <td>0.505598</td>\n",
       "      <td>0.265253</td>\n",
       "      <td>...</td>\n",
       "      <td>0.358541</td>\n",
       "      <td>0.275442</td>\n",
       "      <td>0.153387</td>\n",
       "      <td>0.147016</td>\n",
       "      <td>0.250855</td>\n",
       "      <td>0.154742</td>\n",
       "      <td>0.171248</td>\n",
       "      <td>0.495611</td>\n",
       "      <td>0.335827</td>\n",
       "      <td>0.132458</td>\n",
       "    </tr>\n",
       "    <tr>\n",
       "      <th>4</th>\n",
       "      <td>4</td>\n",
       "      <td>2020-02-11</td>\n",
       "      <td>0.275818</td>\n",
       "      <td>0.239225</td>\n",
       "      <td>0.249625</td>\n",
       "      <td>0.385870</td>\n",
       "      <td>0.234331</td>\n",
       "      <td>0.254169</td>\n",
       "      <td>0.628011</td>\n",
       "      <td>0.230851</td>\n",
       "      <td>...</td>\n",
       "      <td>0.338833</td>\n",
       "      <td>0.308717</td>\n",
       "      <td>0.148056</td>\n",
       "      <td>0.154906</td>\n",
       "      <td>0.268974</td>\n",
       "      <td>0.165107</td>\n",
       "      <td>0.200436</td>\n",
       "      <td>0.502685</td>\n",
       "      <td>0.432393</td>\n",
       "      <td>0.106316</td>\n",
       "    </tr>\n",
       "  </tbody>\n",
       "</table>\n",
       "<p>5 rows × 89 columns</p>\n",
       "</div>"
      ],
      "text/plain": [
       "   Unnamed: 0        date        CR        LO        PC        BG        BS  \\\n",
       "0           0  2020-02-07  0.261868  0.301355  0.259885  0.386066  0.244493   \n",
       "1           1  2020-02-08  0.392103  0.351264  0.321691  0.422912  0.297358   \n",
       "2           2  2020-02-09  0.732007  0.233021  0.211343  0.481504  0.272724   \n",
       "3           3  2020-02-10  0.255944  0.217943  0.243337  0.380477  0.215091   \n",
       "4           4  2020-02-11  0.275818  0.239225  0.249625  0.385870  0.234331   \n",
       "\n",
       "         PU        AO        RN  ...        BT        CA        CE        AQ  \\\n",
       "0  0.204562  0.477614  0.282004  ...  0.397691  0.305823  0.148371  0.148114   \n",
       "1  0.318823  0.430306  0.376406  ...  0.402716  0.269005  0.174966  0.197693   \n",
       "2  0.368586  0.321464  0.523685  ...  0.278137  0.255590  0.199755  0.130626   \n",
       "3  0.211072  0.505598  0.265253  ...  0.358541  0.275442  0.153387  0.147016   \n",
       "4  0.254169  0.628011  0.230851  ...  0.338833  0.308717  0.148056  0.154906   \n",
       "\n",
       "         SR        AG        CS        PA        TA        SU  \n",
       "0  0.282201  0.175965  0.213432  0.501969  0.446288  0.118079  \n",
       "1  0.234874  0.181547  0.232585  0.440796  0.380787  0.127859  \n",
       "2  0.178081  0.132732  0.159012  0.333384  0.256775  0.105426  \n",
       "3  0.250855  0.154742  0.171248  0.495611  0.335827  0.132458  \n",
       "4  0.268974  0.165107  0.200436  0.502685  0.432393  0.106316  \n",
       "\n",
       "[5 rows x 89 columns]"
      ]
     },
     "execution_count": 3,
     "metadata": {},
     "output_type": "execute_result"
    }
   ],
   "source": [
    "data = pd.read_csv('average_network_degree_by_province_20200321_allusers.csv',sep=',') \n",
    "data.head()"
   ]
  },
  {
   "cell_type": "code",
   "execution_count": 4,
   "metadata": {},
   "outputs": [
    {
     "data": {
      "text/plain": [
       "array([[26, '2020-03-04', 0.19376194512596945, 0.21434780450253246,\n",
       "        0.18951774635806348, 0.3036101413365199, 0.19505968844622976,\n",
       "        0.16667037548345634, 0.5586508918888095, 0.2057616855285448,\n",
       "        0.2066106714716376, 0.31171604352051363, 0.2266399741058542,\n",
       "        0.15786767150469658, 0.1366977407435928, 0.37892784666423773,\n",
       "        0.3230631919134497, 0.2257048317330021, 0.7284510348281796,\n",
       "        0.3212213875992293, 0.1768633198910856, 0.2126987564642624,\n",
       "        0.2406337845494979, 0.5434834990007861, 0.2380956851225607,\n",
       "        0.3760721056495757, 0.2337356922529529, 0.44432651879973295,\n",
       "        0.207276057687254, 0.2737018437072319, 0.4682288177294948,\n",
       "        0.2777944025094445, 0.1900134220279602, 0.13257410434106587,\n",
       "        0.6962836049543055, 0.3662828153864393, 0.23720137147917586,\n",
       "        0.21436527793847, 0.289235015528703, 0.2181899245522282,\n",
       "        0.22307563941801847, 1.1480641930309587, 0.4350731167051058,\n",
       "        0.19195124991133727, 0.2583839455454853, 0.451315393364708,\n",
       "        0.23593578997153045, 0.5612294368972387, 0.15101942910447966,\n",
       "        0.2321151772832631, 0.4847441442747379, 0.18218404618295103,\n",
       "        0.1570301828930286, 0.1868832875662684, 0.37042557721248187,\n",
       "        0.25930736482728434, 0.2882483436513761, 0.4020475285585505,\n",
       "        0.25282310941279257, 0.2906730374321556, 0.3321699790773274,\n",
       "        0.20186107161540515, 0.2815943804643511, 0.2428730775159121,\n",
       "        0.17769074475183436, 0.17648117634617508, 0.14064054573611395,\n",
       "        0.14015796269966854, 0.6633368507956539, 0.2437842392469725,\n",
       "        0.27173313201166943, 0.4348945993375384, 0.15163397996424752,\n",
       "        0.3313024795779789, 0.1720881751284913, 0.4113268692025884,\n",
       "        0.2071087471988119, 0.09931150706855364, 0.2916079649492371,\n",
       "        0.3668015044332382, 0.34902284515276283, 0.13716108499610394,\n",
       "        0.1528956702718189, 0.2883876117280832, 0.20898450907673768,\n",
       "        0.1944625030066953, 0.4324778003429807, 0.4221872729076232,\n",
       "        0.08222297826523266]], dtype=object)"
      ]
     },
     "execution_count": 4,
     "metadata": {},
     "output_type": "execute_result"
    }
   ],
   "source": [
    "data[data.date =='2020-03-04'].to_numpy()[:]\n",
    "# newcases_IT = np.flip(italy.Cases.to_numpy()[:lastxdays])"
   ]
  },
  {
   "cell_type": "code",
   "execution_count": 5,
   "metadata": {},
   "outputs": [
    {
     "data": {
      "text/plain": [
       "0     2020-02-07\n",
       "1     2020-02-08\n",
       "2     2020-02-09\n",
       "3     2020-02-10\n",
       "4     2020-02-11\n",
       "5     2020-02-12\n",
       "6     2020-02-13\n",
       "7     2020-02-14\n",
       "8     2020-02-15\n",
       "9     2020-02-16\n",
       "10    2020-02-17\n",
       "11    2020-02-18\n",
       "12    2020-02-19\n",
       "13    2020-02-20\n",
       "14    2020-02-21\n",
       "15    2020-02-22\n",
       "16    2020-02-23\n",
       "17    2020-02-24\n",
       "18    2020-02-25\n",
       "19    2020-02-26\n",
       "20    2020-02-27\n",
       "21    2020-02-28\n",
       "22    2020-02-29\n",
       "23    2020-03-01\n",
       "24    2020-03-02\n",
       "25    2020-03-03\n",
       "26    2020-03-04\n",
       "27    2020-03-05\n",
       "28    2020-03-06\n",
       "29    2020-03-07\n",
       "30    2020-03-08\n",
       "31    2020-03-09\n",
       "32    2020-03-10\n",
       "33    2020-03-11\n",
       "34    2020-03-12\n",
       "35    2020-03-13\n",
       "36    2020-03-14\n",
       "37    2020-03-15\n",
       "38    2020-03-16\n",
       "39    2020-03-17\n",
       "40    2020-03-18\n",
       "41    2020-03-19\n",
       "42    2020-03-20\n",
       "43    2020-03-21\n",
       "Name: date, dtype: object"
      ]
     },
     "execution_count": 5,
     "metadata": {},
     "output_type": "execute_result"
    }
   ],
   "source": [
    "data.date"
   ]
  },
  {
   "cell_type": "code",
   "execution_count": 6,
   "metadata": {},
   "outputs": [
    {
     "data": {
      "text/plain": [
       "array([0.34203097, 0.37603425, 0.31090984, 0.30570919, 0.3206087 ,\n",
       "       0.32258513, 0.33155346, 0.35424541, 0.39016857, 0.33649963,\n",
       "       0.31018679, 0.33440837, 0.32788498, 0.34142494, 0.35235691,\n",
       "       0.37819268, 0.31677897, 0.29261728, 0.32290837, 0.2767471 ,\n",
       "       0.29289615, 0.3221475 , 0.31909597, 0.22696933, 0.26192387,\n",
       "       0.28846616, 0.29252952, 0.25611966, 0.2627805 , 0.25843561,\n",
       "       0.16541468, 0.1917065 , 0.17198136, 0.1495115 , 0.1176707 ,\n",
       "       0.11058572, 0.09507544, 0.07469871, 0.0981258 , 0.09321734,\n",
       "       0.10084394, 0.09769498, 0.09498511, 0.08076668])"
      ]
     },
     "execution_count": 6,
     "metadata": {},
     "output_type": "execute_result"
    }
   ],
   "source": [
    "kavseries = []\n",
    "# for ii in data[data.date]:\n",
    "for index, row in data.iterrows():\n",
    "    kp = np.asarray(list(data[data.date == row['date']].to_numpy()))[0][2:]\n",
    "#     print(row['date'],np.sum(kp)/len(kp))\n",
    "    kavseries.append(np.sum(kp)/len(kp))\n",
    "#     print(ii)\n",
    "#     kp = np.asarray(list(data[data.date =='2020-03-04'].to_numpy()))[0][2:]\n",
    "#     kav = np.sum(kp)\n",
    "#     kav/len(kp)\n",
    "kav = np.asarray(kavseries)\n",
    "kav"
   ]
  },
  {
   "cell_type": "code",
   "execution_count": 7,
   "metadata": {},
   "outputs": [
    {
     "data": {
      "text/plain": [
       "(array([ 1,  2,  3,  4,  5,  6,  7,  8,  9, 10, 11, 12, 13, 14, 15, 16, 17,\n",
       "        18, 19, 20, 21, 22, 23, 24, 25, 26, 27, 28, 29, 30, 31, 32, 33, 34,\n",
       "        35, 36, 37, 38, 39, 40, 41, 42, 43, 44]),\n",
       " array([0.34203097, 0.37603425, 0.31090984, 0.30570919, 0.3206087 ,\n",
       "        0.32258513, 0.33155346, 0.35424541, 0.39016857, 0.33649963,\n",
       "        0.31018679, 0.33440837, 0.32788498, 0.34142494, 0.35235691,\n",
       "        0.37819268, 0.31677897, 0.29261728, 0.32290837, 0.2767471 ,\n",
       "        0.29289615, 0.3221475 , 0.31909597, 0.22696933, 0.26192387,\n",
       "        0.28846616, 0.29252952, 0.25611966, 0.2627805 , 0.25843561,\n",
       "        0.16541468, 0.1917065 , 0.17198136, 0.1495115 , 0.1176707 ,\n",
       "        0.11058572, 0.09507544, 0.07469871, 0.0981258 , 0.09321734,\n",
       "        0.10084394, 0.09769498, 0.09498511, 0.08076668]))"
      ]
     },
     "execution_count": 7,
     "metadata": {},
     "output_type": "execute_result"
    }
   ],
   "source": [
    "xdata,ydata = np.arange(1,len(kav)+1,1),kav\n",
    "xdata,ydata"
   ]
  },
  {
   "cell_type": "code",
   "execution_count": 8,
   "metadata": {},
   "outputs": [
    {
     "data": {
      "text/plain": [
       "(array([0.29094093, 0.09096355]), array([[1.74376803e-04, 7.28379755e-05],\n",
       "        [7.28379755e-05, 5.81649717e-05]]))"
      ]
     },
     "execution_count": 8,
     "metadata": {},
     "output_type": "execute_result"
    }
   ],
   "source": [
    "def kavexp(t, kav0, eta):\n",
    "        return kav0*np.exp(-eta*t)\n",
    "def kavpl(t, kav0, eta):\n",
    "        return kav0/(1+eta*t)\n",
    "    \n",
    "func = kavexp\n",
    "# func = kavpl\n",
    "x0 = 0.3, 0.07\n",
    "\n",
    "xdata,ydata = np.arange(1,len(kav)+1,1),kav\n",
    "\n",
    "popt_kav, pcov_kav = curve_fit(func, xdata[26:]-27, ydata[26:], x0, maxfev = 5000)\n",
    "popt_kav,pcov_kav"
   ]
  },
  {
   "cell_type": "code",
   "execution_count": 9,
   "metadata": {},
   "outputs": [
    {
     "data": {
      "text/plain": [
       "array([ 0,  1,  2,  3,  4,  5,  6,  7,  8,  9, 10, 11, 12, 13, 14, 15, 16,\n",
       "       17])"
      ]
     },
     "execution_count": 9,
     "metadata": {},
     "output_type": "execute_result"
    }
   ],
   "source": [
    "xdata[26:]-27"
   ]
  },
  {
   "cell_type": "code",
   "execution_count": 10,
   "metadata": {},
   "outputs": [
    {
     "data": {
      "text/plain": [
       "0.2925295166487392"
      ]
     },
     "execution_count": 10,
     "metadata": {},
     "output_type": "execute_result"
    }
   ],
   "source": [
    "ydata[26:27][0]"
   ]
  },
  {
   "cell_type": "code",
   "execution_count": 11,
   "metadata": {},
   "outputs": [
    {
     "data": {
      "image/png": "[encoded data removed]",
      "text/plain": [
       "<Figure size 432x288 with 1 Axes>"
      ]
     },
     "metadata": {
      "needs_background": "light"
     },
     "output_type": "display_data"
    }
   ],
   "source": [
    "fig, ax = plt.subplots()\n",
    "#     ax = fig.add_subplot(111)\n",
    "# plt.hlines(5e+3, 0, 70, colors='k', linestyles='--', label='max') \n",
    "#plt.plot(xdata,func(xdata,popt[0],popt[1],popt[2]), label=r'fit: $A+B\\ln(t) + Ct$')\n",
    "# plt.plot(xdata,func(xdata,A0,B0,C0), color=coltri[0], label=r'theory')\n",
    "#     plt.plot(np.arange(-10,100), func(np.arange(-10,100), *x0), '--',color='black', lw=2, label=r'fit:')\n",
    "ax.plot(xdata[26:]-27,ydata[26:]/ydata[26:27][0], 'o-', color=coltri[1],mfc='none',  lw=1, label=r'data')\n",
    "ax.plot(xdata[26:]-27, kavexp(xdata[26:]-27, *popt_kav)/ydata[26:27][0], '-',color=coltri[0], lw=1, label=r'$\\exp\\left(-\\eta t \\Theta(t-t^*)\\right)$')\n",
    "# ax.plot(xdata[26:]-27, kavpl(xdata[26:]-27, *popt_kav), '-',color='blue', lw=1, label=r'powerlaw')\n",
    "ax.legend(loc=1,prop={'size':15},frameon=True)\n",
    "ax.set_xlabel(r\"days since 04 March\", fontsize=15)\n",
    "ax.set_ylabel(r\"$\\braket{k(t)}/\\braket{k(0)}$\", fontsize=15)\n",
    "ax.tick_params(which = 'major', axis='both', width=1.5, length = 10, labelsize=15,direction='in')\n",
    "ax.tick_params(which = 'minor', axis='both', width=1.5, length = 5, labelsize=15,direction='in')\n",
    "# plt.ylim(0.1,3)\n",
    "#plt.xticks(fontsize = 20)\n",
    "#plt.yticks(fontsize = 20)\n",
    "# ax.set_yscale('log')\n",
    "plt.show()"
   ]
  },
  {
   "cell_type": "code",
   "execution_count": null,
   "metadata": {},
   "outputs": [],
   "source": []
  },
  {
   "cell_type": "code",
   "execution_count": 89,
   "metadata": {},
   "outputs": [
    {
     "data": {
      "image/png": "[encoded data removed]",
      "text/plain": [
       "<Figure size 432x288 with 2 Axes>"
      ]
     },
     "metadata": {
      "needs_background": "light"
     },
     "output_type": "display_data"
    }
   ],
   "source": [
    "'''\n",
    "======================\n",
    "3D surface (color map)\n",
    "======================\n",
    "\n",
    "Demonstrates plotting a 3D surface colored with the coolwarm color map.\n",
    "The surface is made opaque by using antialiased=False.\n",
    "\n",
    "Also demonstrates using the LinearLocator and custom formatting for the\n",
    "z axis tick labels.\n",
    "'''\n",
    "\n",
    "from mpl_toolkits.mplot3d import Axes3D\n",
    "import matplotlib.pyplot as plt\n",
    "from matplotlib import cm\n",
    "from matplotlib.ticker import LinearLocator, FormatStrFormatter\n",
    "import numpy as np\n",
    "\n",
    "\n",
    "fig = plt.figure()\n",
    "ax = fig.gca(projection='3d')\n",
    "\n",
    "# Make data.\n",
    "Y = np.arange(1, 10, 1)\n",
    "X = np.arange(1, 1000, 1)\n",
    "X, Y = np.meshgrid(X, Y)\n",
    "Z = np.log(Y)/X\n",
    "\n",
    "# Plot the surface.\n",
    "surf = ax.plot_surface(X, Y, Z, cmap=cm.inferno,\n",
    "                       linewidth=0, antialiased=False)\n",
    "\n",
    "# Customize the z axis.\n",
    "# ax.set_zlim(0.01, 1.01)\n",
    "ax.zaxis.set_major_locator(LinearLocator(10))\n",
    "ax.zaxis.set_major_formatter(FormatStrFormatter('%.02f'))\n",
    "ax.set_zlabel('$\\eta_c$')\n",
    "ax.set_xlabel('days')\n",
    "ax.set_ylabel('$\\mathcal{R}_0$')\n",
    "# Add a color bar which maps values to colors.\n",
    "fig.colorbar(surf, shrink=0.5, aspect=5)\n",
    "\n",
    "plt.show()\n"
   ]
  },
  {
   "cell_type": "code",
   "execution_count": 3,
   "metadata": {},
   "outputs": [
    {
     "data": {
      "image/png": "[encoded data removed]",
      "text/plain": [
       "<Figure size 576x288 with 2 Axes>"
      ]
     },
     "metadata": {
      "needs_background": "light"
     },
     "output_type": "display_data"
    }
   ],
   "source": [
    "from mpl_toolkits.mplot3d import Axes3D\n",
    "import matplotlib.tri as mtri\n",
    "\n",
    "\n",
    "fig = plt.figure(figsize=plt.figaspect(0.5))\n",
    "\n",
    "#============\n",
    "# First plot\n",
    "#============\n",
    "\n",
    "# Make a mesh in the space of parameterisation variables u and v\n",
    "u = np.linspace(0, 2.0 * np.pi, endpoint=True, num=50)\n",
    "v = np.linspace(-0.5, 0.5, endpoint=True, num=10)\n",
    "u, v = np.meshgrid(u, v)\n",
    "u, v = u.flatten(), v.flatten()\n",
    "\n",
    "# This is the Mobius mapping, taking a u, v pair and returning an x, y, z\n",
    "# triple\n",
    "x = (1 + 0.5 * v * np.cos(u / 2.0)) * np.cos(u)\n",
    "y = (1 + 0.5 * v * np.cos(u / 2.0)) * np.sin(u)\n",
    "z = 0.5 * v * np.sin(u / 2.0)\n",
    "\n",
    "# Triangulate parameter space to determine the triangles\n",
    "tri = mtri.Triangulation(u, v)\n",
    "\n",
    "# Plot the surface.  The triangles in parameter space determine which x, y, z\n",
    "# points are connected by an edge.\n",
    "ax = fig.add_subplot(1, 2, 1, projection='3d')\n",
    "ax.plot_trisurf(x, y, z, triangles=tri.triangles, cmap=plt.cm.Spectral)\n",
    "ax.set_zlim(-1, 1)\n",
    "\n",
    "\n",
    "#============\n",
    "# Second plot\n",
    "#============\n",
    "\n",
    "# Make parameter spaces radii and angles.\n",
    "n_angles = 36\n",
    "n_radii = 8\n",
    "min_radius = 0.25\n",
    "radii = np.linspace(min_radius, 0.95, n_radii)\n",
    "\n",
    "angles = np.linspace(0, 2*np.pi, n_angles, endpoint=False)\n",
    "angles = np.repeat(angles[..., np.newaxis], n_radii, axis=1)\n",
    "angles[:, 1::2] += np.pi/n_angles\n",
    "\n",
    "# Map radius, angle pairs to x, y, z points.\n",
    "x = (radii*np.cos(angles)).flatten()\n",
    "y = (radii*np.sin(angles)).flatten()\n",
    "z = (np.cos(radii)*np.cos(angles*3.0)).flatten()\n",
    "\n",
    "# Create the Triangulation; no triangles so Delaunay triangulation created.\n",
    "triang = mtri.Triangulation(x, y)\n",
    "\n",
    "# Mask off unwanted triangles.\n",
    "xmid = x[triang.triangles].mean(axis=1)\n",
    "ymid = y[triang.triangles].mean(axis=1)\n",
    "mask = np.where(xmid**2 + ymid**2 < min_radius**2, 1, 0)\n",
    "triang.set_mask(mask)\n",
    "\n",
    "# Plot the surface.\n",
    "ax = fig.add_subplot(1, 2, 2, projection='3d')\n",
    "ax.plot_trisurf(triang, z, cmap=plt.cm.CMRmap)\n",
    "\n",
    "\n",
    "plt.show()\n"
   ]
  },
  {
   "cell_type": "code",
   "execution_count": null,
   "metadata": {},
   "outputs": [],
   "source": []
  },
  {
   "cell_type": "code",
   "execution_count": 8,
   "metadata": {},
   "outputs": [
    {
     "data": {
      "text/html": [
       "<div>\n",
       "<style scoped>\n",
       "    .dataframe tbody tr th:only-of-type {\n",
       "        vertical-align: middle;\n",
       "    }\n",
       "\n",
       "    .dataframe tbody tr th {\n",
       "        vertical-align: top;\n",
       "    }\n",
       "\n",
       "    .dataframe thead th {\n",
       "        text-align: right;\n",
       "    }\n",
       "</style>\n",
       "<table border=\"1\" class=\"dataframe\">\n",
       "  <thead>\n",
       "    <tr style=\"text-align: right;\">\n",
       "      <th></th>\n",
       "      <th>DateRep</th>\n",
       "      <th>Day</th>\n",
       "      <th>Month</th>\n",
       "      <th>Year</th>\n",
       "      <th>Cases</th>\n",
       "      <th>Deaths</th>\n",
       "      <th>Countries</th>\n",
       "      <th>GeoId</th>\n",
       "      <th>CountryCode</th>\n",
       "      <th>Pop_Data.2018</th>\n",
       "    </tr>\n",
       "  </thead>\n",
       "  <tbody>\n",
       "    <tr>\n",
       "      <th>0</th>\n",
       "      <td>26/03/2020</td>\n",
       "      <td>26</td>\n",
       "      <td>3</td>\n",
       "      <td>2020</td>\n",
       "      <td>33</td>\n",
       "      <td>0</td>\n",
       "      <td>Afghanistan</td>\n",
       "      <td>AF</td>\n",
       "      <td>AFG</td>\n",
       "      <td>37172386.0</td>\n",
       "    </tr>\n",
       "    <tr>\n",
       "      <th>1</th>\n",
       "      <td>25/03/2020</td>\n",
       "      <td>25</td>\n",
       "      <td>3</td>\n",
       "      <td>2020</td>\n",
       "      <td>2</td>\n",
       "      <td>0</td>\n",
       "      <td>Afghanistan</td>\n",
       "      <td>AF</td>\n",
       "      <td>AFG</td>\n",
       "      <td>37172386.0</td>\n",
       "    </tr>\n",
       "    <tr>\n",
       "      <th>2</th>\n",
       "      <td>24/03/2020</td>\n",
       "      <td>24</td>\n",
       "      <td>3</td>\n",
       "      <td>2020</td>\n",
       "      <td>6</td>\n",
       "      <td>1</td>\n",
       "      <td>Afghanistan</td>\n",
       "      <td>AF</td>\n",
       "      <td>AFG</td>\n",
       "      <td>37172386.0</td>\n",
       "    </tr>\n",
       "    <tr>\n",
       "      <th>3</th>\n",
       "      <td>23/03/2020</td>\n",
       "      <td>23</td>\n",
       "      <td>3</td>\n",
       "      <td>2020</td>\n",
       "      <td>10</td>\n",
       "      <td>0</td>\n",
       "      <td>Afghanistan</td>\n",
       "      <td>AF</td>\n",
       "      <td>AFG</td>\n",
       "      <td>37172386.0</td>\n",
       "    </tr>\n",
       "    <tr>\n",
       "      <th>4</th>\n",
       "      <td>22/03/2020</td>\n",
       "      <td>22</td>\n",
       "      <td>3</td>\n",
       "      <td>2020</td>\n",
       "      <td>0</td>\n",
       "      <td>0</td>\n",
       "      <td>Afghanistan</td>\n",
       "      <td>AF</td>\n",
       "      <td>AFG</td>\n",
       "      <td>37172386.0</td>\n",
       "    </tr>\n",
       "  </tbody>\n",
       "</table>\n",
       "</div>"
      ],
      "text/plain": [
       "      DateRep  Day  Month  Year  Cases  Deaths    Countries GeoId CountryCode  \\\n",
       "0  26/03/2020   26      3  2020     33       0  Afghanistan    AF         AFG   \n",
       "1  25/03/2020   25      3  2020      2       0  Afghanistan    AF         AFG   \n",
       "2  24/03/2020   24      3  2020      6       1  Afghanistan    AF         AFG   \n",
       "3  23/03/2020   23      3  2020     10       0  Afghanistan    AF         AFG   \n",
       "4  22/03/2020   22      3  2020      0       0  Afghanistan    AF         AFG   \n",
       "\n",
       "   Pop_Data.2018  \n",
       "0     37172386.0  \n",
       "1     37172386.0  \n",
       "2     37172386.0  \n",
       "3     37172386.0  \n",
       "4     37172386.0  "
      ]
     },
     "execution_count": 8,
     "metadata": {},
     "output_type": "execute_result"
    }
   ],
   "source": [
    "data = pd.read_csv('COVID-19-geographic-disbtribution-worldwide-2020-03-26.csv',sep=';') \n",
    "data.head()"
   ]
  },
  {
   "cell_type": "code",
   "execution_count": 9,
   "metadata": {},
   "outputs": [
    {
     "data": {
      "text/plain": [
       "(array([ 1,  2,  3,  4,  5,  6,  7,  8,  9, 10, 11, 12, 13, 14, 15, 16, 17,\n",
       "        18, 19, 20, 21, 22, 23, 24, 25, 26, 27, 28, 29, 30, 31, 32]),\n",
       " array([  132,   229,   322,   400,   650,   888,  1128,  1689,  1835,\n",
       "         2502,  3089,  3858,  4636,  5883,  7375,  9172, 10149, 12462,\n",
       "        15113, 17660, 17750, 23980, 27980, 31506, 35713, 41035, 47021,\n",
       "        53578, 59138, 63927, 69176, 74386]))"
      ]
     },
     "execution_count": 9,
     "metadata": {},
     "output_type": "execute_result"
    }
   ],
   "source": [
    "# lastxdays = 17 #days since 08 march lockdown\n",
    "lastxdays = 60 \n",
    "italy = data[data.Countries =='Italy']\n",
    "newcases_IT = np.flip(italy.Cases.to_numpy()[:lastxdays])\n",
    "newcases_IT\n",
    "# lastcumdays = 28\n",
    "lastcumdays = 28\n",
    "ydata_IT = np.cumsum(newcases_IT)[lastcumdays:]\n",
    "xdata = np.arange(1,len(ydata_IT)+1,1)\n",
    "xdata,ydata_IT"
   ]
  },
  {
   "cell_type": "code",
   "execution_count": 3,
   "metadata": {},
   "outputs": [
    {
     "data": {
      "text/plain": [
       "(2.4, 0.2, 0.25, 0.33333333333333337)"
      ]
     },
     "execution_count": 3,
     "metadata": {},
     "output_type": "execute_result"
    }
   ],
   "source": [
    "# kav = 1.5\n",
    "kav = 1\n",
    "R0 = 2.4\n",
    "# mu = 1./13\n",
    "mu = 1./4\n",
    "beta = 1./5\n",
    "kav = beta/R0/mu\n",
    "\n",
    "R0, beta, mu, kav"
   ]
  },
  {
   "cell_type": "code",
   "execution_count": 4,
   "metadata": {},
   "outputs": [
    {
     "data": {
      "text/plain": [
       "0.005"
      ]
     },
     "execution_count": 4,
     "metadata": {},
     "output_type": "execute_result"
    }
   ],
   "source": [
    "N_IT = 60.48*10e6\n",
    "N_KO = 51.47 *10e6\n",
    "N_DE = 82.79*10e6\n",
    "\n",
    "N=100*10e6\n",
    "I0 = 10e-5*N\n",
    "\n",
    "#fraction hospital care needed\n",
    "q = 0.2\n",
    "#max hospital capacity needed\n",
    "c = 10e-4/q\n",
    "c"
   ]
  },
  {
   "cell_type": "code",
   "execution_count": 5,
   "metadata": {},
   "outputs": [],
   "source": [
    "import scipy.special as sc\n",
    "from scipy.special import gamma\n",
    "\n",
    "def asym_curve(t, I0, eta, mu, beta):\n",
    "    return (I0/N)*np.exp(-(beta/eta)*(np.exp(-eta*t)-1)  - mu*t)\n",
    "\n",
    "# def sym_curve(t, r0, I0, eta, mu, beta):\n",
    "#     aa = mu/eta\n",
    "#     gfactor =  gamma(aa*beta+1)*(sc.gammainc(aa*beta+1, (1+eta*t)*aa) - sc.gammainc(aa*beta+1, aa))\n",
    "#     phi = np.exp(aa) / aa * gfactor\n",
    "#     return r0 + (I0/N)*phi\n",
    "\n",
    "def rtgamma(t, r0, rho0, R_0, eta):\n",
    "    alpha = mu/eta\n",
    "#     phi =  (sc.gammainc(alpha*R_0 + 1, alpha + mu*t) - sc.gammainc(alpha*R_0 + 1, alpha))\n",
    "    phi =  gamma(alpha*R_0 + 1) * (sc.gammainc(alpha*R_0 + 1, alpha + mu*t) - sc.gammainc(alpha*R_0 + 1, alpha))\n",
    "    return r0 + rho0*np.exp(alpha)/(alpha**(alpha*R_0)) * phi\n",
    "#     return rho0*np.exp(alpha)/alpha*phi\n",
    "\n",
    "    \n",
    "def expI(t, a, b):\n",
    "        return a*np.exp(b*t)\n",
    "\n",
    "def expR(t, a, b, c):\n",
    "    return a*np.exp(b*t) - c\n",
    "\n",
    "def gumbel(t, rho0, eta):\n",
    "    arg = -(np.exp(-eta*t) - 1)*mu*kav*R0/eta - mu*t\n",
    "    return rho0*np.exp(arg)\n",
    "\n",
    "def algebraic(t, rho0, R_0, eta):\n",
    "    return rho0*(1+eta*t)**(mu*R_0/eta) * np.exp(- mu*t)"
   ]
  },
  {
   "cell_type": "code",
   "execution_count": 6,
   "metadata": {},
   "outputs": [],
   "source": [
    "def tm(delta, mu, eta, R0):\n",
    "    return 1./eta*(mu*(1-delta)*R0/(mu-delta*R0) - 1)"
   ]
  },
  {
   "cell_type": "code",
   "execution_count": 10,
   "metadata": {},
   "outputs": [
    {
     "data": {
      "image/png": "[encoded data removed]",
      "text/plain": [
       "<Figure size 432x288 with 1 Axes>"
      ]
     },
     "metadata": {
      "needs_background": "light"
     },
     "output_type": "display_data"
    }
   ],
   "source": [
    "xdata = np.arange(0,1,0.01)\n",
    "fig, ax1 = plt.subplots()\n",
    "#     ax = fig.add_subplot(111)\n",
    "# plt.hlines(5e+3, 0, 70, colors='k', linestyles='--', label='max') \n",
    "#plt.plot(xdata,func(xdata,popt[0],popt[1],popt[2]), label=r'fit: $A+B\\ln(t) + Ct$')\n",
    "# plt.plot(xdata,func(xdata,A0,B0,C0), color=coltri[0], label=r'theory')\n",
    "#     plt.plot(np.arange(-10,100), func(np.arange(-10,100), *x0), '--',color='black', lw=2, label=r'fit:')\n",
    "ax1.plot(xdata,tm(xdata, mu, 0.02, R0), 'o-', color=coltri[2],mfc='none',  lw=1, label=r'data')\n",
    "plt.show()"
   ]
  },
  {
   "cell_type": "code",
   "execution_count": 10,
   "metadata": {},
   "outputs": [
    {
     "data": {
      "text/plain": [
       "array([11, 12, 13, 14, 15, 16, 17, 18, 19, 20, 21, 22, 23, 24, 25, 26, 27,\n",
       "       28, 29, 30, 31, 32, 33, 34, 35, 36, 37, 38, 39, 40, 41, 42])"
      ]
     },
     "execution_count": 10,
     "metadata": {},
     "output_type": "execute_result"
    }
   ],
   "source": [
    "xdata[:]+10"
   ]
  },
  {
   "cell_type": "code",
   "execution_count": 13,
   "metadata": {},
   "outputs": [
    {
     "data": {
      "text/plain": [
       "(array([6.08335043e+02, 4.08286491e+01, 3.30122119e+00, 6.33004746e-02]),\n",
       " array([[ 1.12826555e+05, -6.82873411e+03,  1.13919429e+02,\n",
       "          3.72707721e+00],\n",
       "        [-6.82873411e+03,  8.17717487e+02, -1.42797861e+01,\n",
       "         -4.80420408e-01],\n",
       "        [ 1.13919429e+02, -1.42797861e+01,  2.50753909e-01,\n",
       "          8.46668833e-03],\n",
       "        [ 3.72707721e+00, -4.80420408e-01,  8.46668833e-03,\n",
       "          2.86554566e-04]]))"
      ]
     },
     "execution_count": 13,
     "metadata": {},
     "output_type": "execute_result"
    }
   ],
   "source": [
    "# func = gumbel\n",
    "# func = algebraic\n",
    "# x0 = 1000,0.01\n",
    "\n",
    "func = rtgamma\n",
    "# x0 = 500, 100, 2.4, 0.06\n",
    "x0 = 229, 100, 3., .06\n",
    "\n",
    "\n",
    "popt_IT, pcov_IT = curve_fit(func, xdata[:], ydata_IT[:], x0, maxfev = 5000)\n",
    "popt_IT,pcov_IT"
   ]
  },
  {
   "cell_type": "code",
   "execution_count": 14,
   "metadata": {},
   "outputs": [
    {
     "data": {
      "text/plain": [
       "36.353932563122484"
      ]
     },
     "execution_count": 14,
     "metadata": {},
     "output_type": "execute_result"
    }
   ],
   "source": [
    "tM = (popt_IT[2]-1)/popt_IT[3]\n",
    "tM\n"
   ]
  },
  {
   "cell_type": "code",
   "execution_count": 15,
   "metadata": {},
   "outputs": [
    {
     "name": "stdout",
     "output_type": "stream",
     "text": [
      "['seaborn-dark', 'seaborn-darkgrid', 'seaborn-ticks', 'fivethirtyeight', 'seaborn-whitegrid', 'classic', '_classic_test', 'fast', 'seaborn-talk', 'seaborn-dark-palette', 'seaborn-bright', 'seaborn-pastel', 'grayscale', 'seaborn-notebook', 'ggplot', 'seaborn-colorblind', 'seaborn-muted', 'seaborn', 'Solarize_Light2', 'seaborn-paper', 'bmh', 'tableau-colorblind10', 'seaborn-white', 'dark_background', 'seaborn-poster', 'seaborn-deep']\n"
     ]
    }
   ],
   "source": [
    "print(plt.style.available)"
   ]
  },
  {
   "cell_type": "code",
   "execution_count": 87,
   "metadata": {},
   "outputs": [
    {
     "data": {
      "image/png": "[encoded data removed]",
      "text/plain": [
       "<Figure size 432x288 with 2 Axes>"
      ]
     },
     "metadata": {
      "needs_background": "light"
     },
     "output_type": "display_data"
    }
   ],
   "source": [
    "with plt.style.context('seaborn-colorblind'):\n",
    "#     fig = plt.figure()\n",
    "    fig, ax1 = plt.subplots()\n",
    "#     ax = fig.add_subplot(111)\n",
    "    # plt.hlines(5e+3, 0, 70, colors='k', linestyles='--', label='max') \n",
    "    #plt.plot(xdata,func(xdata,popt[0],popt[1],popt[2]), label=r'fit: $A+B\\ln(t) + Ct$')\n",
    "    # plt.plot(xdata,func(xdata,A0,B0,C0), color=coltri[0], label=r'theory')\n",
    "#     plt.plot(np.arange(-10,100), func(np.arange(-10,100), *x0), '--',color='black', lw=2, label=r'fit:')\n",
    "    ax1.plot(xdata,ydata_IT, 'o-', color=coltri[2],mfc='none',  lw=1, label=r'data')\n",
    "    ax1.plot(np.arange(0,100), func(np.arange(0,100), *popt_IT), '-',color='black', lw=1, label=r'fit')\n",
    "#     plt.plot(np.arange(1,100), func(np.arange(1,100), *popt_IT), '--',color='black', lw=2, label=r'fit: $\\rho(0)(1+\\eta t)^{\\mu\\mathcal{R}_0/\\eta} e^{-\\mu t}$')\n",
    "    left, bottom, width, height = [0.57, 0.25, 0.3, 0.3]\n",
    "    ax2 = fig.add_axes([left, bottom, width, height])\n",
    "#     ax2.plot(range(6)[::-1], color='green')\n",
    "    ax2.plot(np.arange(1,100,1)[::5], (algebraic(np.arange(1,100,1), popt_IT[1]+np.sqrt(pcov_IT[1][1]), popt_IT[2],popt_IT[3])/N_IT)[::5], 'o', alpha=0.7, lw=1, ms = 3,mfc='none', color='purple', label=r'$\\rho(t)$')\n",
    "    ax1.axvline(tM, ls='--', lw=1, label='$t_M$')\n",
    "    ax2.axvline(tM, ls='--', lw=1, label='$t_M$')\n",
    "    ax1.legend(loc=1,prop={'size':15},frameon=True)\n",
    "    ax1.set_xlabel(r\"days since 100 cases\", fontsize=15)\n",
    "#     ax2.set_xlabel(r\"days since 100 cases\", fontsize=15)\n",
    "    ax1.set_ylabel(r\"cases\", fontsize=15)\n",
    "    ax2.set_ylabel(r\"$\\rho(t)$\", fontsize=10)\n",
    "    ax1.tick_params(which = 'major', axis='both', width=1.5, length = 10, labelsize=15,direction='in')\n",
    "    ax1.tick_params(which = 'minor', axis='both', width=1.5, length = 5, labelsize=15,direction='in')\n",
    "    #plt.xticks(fontsize = 20)\n",
    "    #plt.yticks(fontsize = 20)\n",
    "    ax2.set_yscale('log')\n",
    "#     ax1.set_yscale('log')\n",
    "#     plt.grid(True)\n",
    "    # plt.xscale('log')\n",
    "#     plt.title('ITALY',fontsize = 20)\n",
    "plt.show()"
   ]
  },
  {
   "cell_type": "code",
   "execution_count": 40,
   "metadata": {},
   "outputs": [
    {
     "data": {
      "text/plain": [
       "(array([ 1,  2,  3,  4,  5,  6,  7,  8,  9, 10, 11, 12, 13, 14, 15, 16, 17,\n",
       "        18, 19, 20, 21, 22, 23, 24, 25, 26, 27, 28, 29, 30, 31, 32, 33, 34,\n",
       "        35, 36, 37, 38, 39, 40, 41, 42, 43, 44, 45, 46, 47, 48, 49, 50, 51,\n",
       "        52, 53, 54, 55, 56]),\n",
       " array([   3,    8,   11,   11,   12,   14,   19,   20,   20,   21,   23,\n",
       "          24,   24,   24,   24,   24,   25,   26,   27,   42,   76,  151,\n",
       "         341,  597,  758,  888, 1142, 1591, 2018, 2927, 3522, 4208, 4808,\n",
       "        5324, 5762, 6280, 6763, 7130, 7378, 7509, 7751, 7865, 7975, 8082,\n",
       "        8158, 8232, 8316, 8409, 8561, 8648, 8795, 8893, 8957, 9033, 9133,\n",
       "        9237]))"
      ]
     },
     "execution_count": 40,
     "metadata": {},
     "output_type": "execute_result"
    }
   ],
   "source": [
    "lastxdays = 56 #days since 08 march lockdown\n",
    "korea = data[data.Countries =='South_Korea']\n",
    "newcases_KO = np.flip(korea.Cases.to_numpy()[:lastxdays])\n",
    "ydata_KO = np.cumsum(newcases_KO)\n",
    "xdata = np.arange(1,len(ydata_KO)+1,1)\n",
    "xdata,ydata_KO"
   ]
  },
  {
   "cell_type": "code",
   "execution_count": 41,
   "metadata": {},
   "outputs": [
    {
     "data": {
      "text/plain": [
       "(array([6.69502048e+01, 2.00568043e-02]),\n",
       " array([[4.66646059e+01, 4.01730232e-03],\n",
       "        [4.01730232e-03, 3.65400121e-07]]))"
      ]
     },
     "execution_count": 41,
     "metadata": {},
     "output_type": "execute_result"
    }
   ],
   "source": [
    "# func = gumbel\n",
    "# # func = algebraic\n",
    "# x0 = 1000,0.01\n",
    "\n",
    "func = rtgamma\n",
    "# x0 = 500, 100, 2.4, 0.06\n",
    "x0 = 100, 900, 1.4, .02\n",
    "\n",
    "\n",
    "popt_KO, pcov_KO = curve_fit(func, xdata[:], ydata_KO[:], x0,maxfev = 5000)\n",
    "popt_KO,pcov_KO"
   ]
  },
  {
   "cell_type": "code",
   "execution_count": 43,
   "metadata": {},
   "outputs": [
    {
     "data": {
      "image/png": "[encoded data removed]",
      "text/plain": [
       "<Figure size 432x288 with 1 Axes>"
      ]
     },
     "metadata": {
      "needs_background": "light"
     },
     "output_type": "display_data"
    }
   ],
   "source": [
    "fig = plt.figure()\n",
    "ax = fig.add_subplot(111)\n",
    "# plt.hlines(5e+3, 0, 70, colors='k', linestyles='--', label='max') \n",
    "#plt.plot(xdata,func(xdata,popt[0],popt[1],popt[2]), label=r'fit: $A+B\\ln(t) + Ct$')\n",
    "# plt.plot(xdata,func(xdata,A0,B0,C0), color=coltri[0], label=r'theory')\n",
    "plt.plot(xdata,ydata_KO, 'o-', color=coltri[2],  label=r'data')\n",
    "# plt.plot(np.arange(1,100), func(np.arange(1,100), *popt_IT), '--',color='black', lw=2, label=r'fit: $\\rho(0)e^{-(e^{-\\eta t}-1)\\mu\\mathcal{R}_0/\\eta - \\mu t}$')\n",
    "plt.plot(np.arange(1,200), func(np.arange(1,200), *popt_KO), '--',color='black', lw=2, label=r'fit: $\\rho(0)(1+\\eta t)^{\\mu\\mathcal{R}_0/\\eta} e^{-\\mu t}$')\n",
    "plt.legend(loc='best',prop={'size':20},frameon=True)\n",
    "plt.xlabel(r\"days since 30 January\", fontsize=20)\n",
    "plt.ylabel(r\"cases\", fontsize=20)\n",
    "ax.tick_params(which = 'major', axis='both', width=1.5, length = 10, labelsize=20,direction='in')\n",
    "ax.tick_params(which = 'minor', axis='both', width=1.5, length = 5, labelsize=20,direction='in')\n",
    "#plt.xticks(fontsize = 20)\n",
    "#plt.yticks(fontsize = 20)\n",
    "plt.yscale('log')\n",
    "# plt.xscale('log')\n",
    "plt.title('KOREA',fontsize = 20)\n",
    "plt.show()"
   ]
  },
  {
   "cell_type": "code",
   "execution_count": 28,
   "metadata": {},
   "outputs": [
    {
     "data": {
      "text/plain": [
       "63.10892516763837"
      ]
     },
     "execution_count": 28,
     "metadata": {},
     "output_type": "execute_result"
    }
   ],
   "source": [
    "tM1 = np.log(R0*kav)/popt_IT[1]\n",
    "tM1"
   ]
  },
  {
   "cell_type": "code",
   "execution_count": 37,
   "metadata": {},
   "outputs": [
    {
     "data": {
      "text/plain": [
       "128.09654926142647"
      ]
     },
     "execution_count": 37,
     "metadata": {},
     "output_type": "execute_result"
    }
   ],
   "source": [
    "tM2 = (R0*kav - 1)/popt_IT[1]\n",
    "tM2"
   ]
  },
  {
   "cell_type": "code",
   "execution_count": 29,
   "metadata": {},
   "outputs": [
    {
     "data": {
      "text/plain": [
       "49.267903562087106"
      ]
     },
     "execution_count": 29,
     "metadata": {},
     "output_type": "execute_result"
    }
   ],
   "source": [
    "1./popt_IT[1]"
   ]
  },
  {
   "cell_type": "code",
   "execution_count": 87,
   "metadata": {},
   "outputs": [
    {
     "data": {
      "text/plain": [
       "0.9583333333333333"
      ]
     },
     "execution_count": 87,
     "metadata": {},
     "output_type": "execute_result"
    }
   ],
   "source": [
    "(0.1/mu + 1)/R0"
   ]
  },
  {
   "cell_type": "code",
   "execution_count": 8,
   "metadata": {},
   "outputs": [
    {
     "data": {
      "text/plain": [
       "(1000000000.0, 2.4)"
      ]
     },
     "execution_count": 8,
     "metadata": {},
     "output_type": "execute_result"
    }
   ],
   "source": [
    "N,R0"
   ]
  },
  {
   "cell_type": "code",
   "execution_count": 205,
   "metadata": {},
   "outputs": [
    {
     "data": {
      "text/plain": [
       "3.181761713552661"
      ]
     },
     "execution_count": 205,
     "metadata": {},
     "output_type": "execute_result"
    }
   ],
   "source": [
    "popt_IT[2]"
   ]
  },
  {
   "cell_type": "code",
   "execution_count": 9,
   "metadata": {},
   "outputs": [],
   "source": [
    "eta = .014\n",
    "eta = .02\n",
    "# eta = popt_IT[3]\n",
    "\n",
    "tstar = 1\n",
    "# gamma = betaA/eta\n",
    "# beta, 1./mu, 1./muA, gamma \n",
    "\n",
    "def SIRexp(y, t, N, eta, tstar, mu, beta):\n",
    "    S, I = y\n",
    "    dSdt = -beta*np.exp(-eta*t*np.heaviside(t-tstar,1))*S*I/N \n",
    "    dIdt = beta*np.exp(-eta*t*np.heaviside(t-tstar,1))*S*I/N - mu*I \n",
    "    return dSdt, dIdt\n",
    "# def SIR(y, t, N, mu, beta):\n",
    "#     S, I = y\n",
    "#     dSdt = -beta*S*I/N \n",
    "#     dIdt = beta*S*I/N - mu*I \n",
    "#     return dSdt, dIdt\n",
    "\n",
    "t = np.arange(1,300,1)\n",
    "S0 = N - I0\n",
    "y0 = S0, I0\n",
    "ret = odeint(SIRexp, y0, t, args=(N, eta, tstar, mu, mu*R0))\n",
    "S_t, I_t = ret.T\n",
    "R_t = N - S_t - I_t\n",
    "# I_t/N"
   ]
  },
  {
   "cell_type": "code",
   "execution_count": 11,
   "metadata": {},
   "outputs": [],
   "source": [
    "t = np.arange(1,100)"
   ]
  },
  {
   "cell_type": "code",
   "execution_count": 27,
   "metadata": {},
   "outputs": [
    {
     "data": {
      "image/png": "[encoded data removed]",
      "text/plain": [
       "<Figure size 432x288 with 1 Axes>"
      ]
     },
     "metadata": {
      "needs_background": "light"
     },
     "output_type": "display_data"
    }
   ],
   "source": [
    "fig = plt.figure()\n",
    "ax1 = fig.add_subplot(111)\n",
    "# ax1.plot(t[::ls], (I_t/N)[::ls], '-', alpha=0.7, lw=1, color='blue', label='$I$',mfc='none')\n",
    "# ax1.plot(t[::ls], (np.append(np.diff(R_t),0)/N)[::ls], '-', alpha=0.7, lw=1, color='red', label='$R$',mfc='none')\n",
    "ret = odeint(SIRexp, y0, t, args=(N, 0.015, tstar, mu, mu*R0))\n",
    "S_t, I_t = ret.T\n",
    "R_t = N - S_t - I_t\n",
    "plt.plot(t, I_t, '-o',color=coltri[0], lw=1, label=r'$\\eta=0.015$')\n",
    "# ret = odeint(SIRexp, y0, t, args=(N, 0.066, tstar, mu, mu*R0))\n",
    "# S_t, I_t = ret.T\n",
    "# R_t = N - S_t - I_t\n",
    "# plt.plot(t, I_t, '-o',color='green', lw=1, label=r'$\\eta=0.066$')\n",
    "# ret = odeint(SIRexp, y0, t, args=(N, 0.074, tstar, mu, mu*R0))\n",
    "# S_t, I_t = ret.T\n",
    "# R_t = N - S_t - I_t\n",
    "# plt.plot(t, I_t, '-o',color=coltri[1], lw=1, label=r'$\\eta=0.074$')\n",
    "ret = odeint(SIRexp, y0, t, args=(N, 0, tstar, mu, mu*R0))\n",
    "S_t, I_t = ret.T\n",
    "R_t = N - S_t - I_t\n",
    "plt.plot(t, I_t, '-o',color=coltri[2], lw=1, label=r'$\\eta=0$')\n",
    "plt.legend(loc='best',prop={'size':15},frameon=True)\n",
    "plt.hlines(c*N, 0, 100, colors='k', linestyles='--', label='critical')\n",
    "tM = (R0-1)/0.015\n",
    "ax1.axvline(tM, ls='--', lw=1, label='$t_M$')\n",
    "\n",
    "ax1.set_ylabel(r'$\\rho(t)$',fontsize=15)\n",
    "ax1.set_xlabel(r'$t$',fontsize=15)\n",
    "plt.yscale('log')\n",
    "plt.show()"
   ]
  },
  {
   "cell_type": "code",
   "execution_count": 26,
   "metadata": {},
   "outputs": [
    {
     "data": {
      "image/png": "[encoded data removed]",
      "text/plain": [
       "<Figure size 432x288 with 1 Axes>"
      ]
     },
     "metadata": {
      "needs_background": "light"
     },
     "output_type": "display_data"
    }
   ],
   "source": [
    "fig = plt.figure()\n",
    "ax1 = fig.add_subplot(111)\n",
    "# ax1.plot(t[::ls], (I_t/N)[::ls], '-', alpha=0.7, lw=1, color='blue', label='$I$',mfc='none')\n",
    "# ax1.plot(t[::ls], (np.append(np.diff(R_t),0)/N)[::ls], '-', alpha=0.7, lw=1, color='red', label='$R$',mfc='none')\n",
    "ret = odeint(SIRexp, y0, t, args=(N, 0.015, tstar, mu, mu*R0))\n",
    "S_t, I_t = ret.T\n",
    "R_t = N - S_t - I_t\n",
    "plt.plot(t, R_t, '-o',color=coltri[0], lw=1, label=r'$\\eta=0.015$')\n",
    "ret = odeint(SIRexp, y0, t, args=(N, 0.066, tstar, mu, mu*R0))\n",
    "S_t, I_t = ret.T\n",
    "R_t = N - S_t - I_t\n",
    "plt.plot(t, R_t, '-o',color='green', lw=1, label=r'$\\eta=0.066$')\n",
    "ret = odeint(SIRexp, y0, t, args=(N, 0.074, tstar, mu, mu*R0))\n",
    "S_t, I_t = ret.T\n",
    "R_t = N - S_t - I_t\n",
    "plt.plot(t, R_t, '-o',color=coltri[1], lw=1, label=r'$\\eta=0.074$')\n",
    "ret = odeint(SIRexp, y0, t, args=(N, 0, tstar, mu, mu*R0))\n",
    "S_t, I_t = ret.T\n",
    "R_t = N - S_t - I_t\n",
    "plt.plot(t, R_t, '-o',color=coltri[2], lw=1, label=r'$\\eta=0$')\n",
    "plt.legend(loc='best',prop={'size':15},frameon=True)\n",
    "plt.hlines(c*N, 0, 100, colors='k', linestyles='--', label='critical')\n",
    "\n",
    "ax1.set_ylabel(r'$\\rho(t)$',fontsize=15)\n",
    "ax1.set_xlabel(r'$t$',fontsize=15)\n",
    "plt.yscale('log')\n",
    "plt.show()"
   ]
  },
  {
   "cell_type": "code",
   "execution_count": 21,
   "metadata": {},
   "outputs": [
    {
     "data": {
      "text/plain": [
       "0.03352046127529697"
      ]
     },
     "execution_count": 21,
     "metadata": {},
     "output_type": "execute_result"
    }
   ],
   "source": [
    "mu * (-np.log(R0) + R0 -1) / np.log(c/(I0/N))"
   ]
  },
  {
   "cell_type": "code",
   "execution_count": 10,
   "metadata": {},
   "outputs": [
    {
     "data": {
      "text/plain": [
       "(0.0001, 0.02, 0.25, 0.2, 10.0, 12.5)"
      ]
     },
     "execution_count": 10,
     "metadata": {},
     "output_type": "execute_result"
    }
   ],
   "source": [
    "I0/N, eta, mu, beta, beta/eta, mu/eta"
   ]
  },
  {
   "cell_type": "code",
   "execution_count": 195,
   "metadata": {},
   "outputs": [],
   "source": [
    "# rho0, eta, r0, k = 3.44042272e+04, , 2.83619524e-01, 2.48108109e+04, 1.14248816e+00"
   ]
  },
  {
   "cell_type": "code",
   "execution_count": 196,
   "metadata": {},
   "outputs": [
    {
     "data": {
      "text/plain": [
       "array([7.09055230e+02, 6.32642039e+01, 3.18176171e+00, 6.21650437e-02])"
      ]
     },
     "execution_count": 196,
     "metadata": {},
     "output_type": "execute_result"
    }
   ],
   "source": [
    "popt_IT"
   ]
  },
  {
   "cell_type": "code",
   "execution_count": 197,
   "metadata": {},
   "outputs": [
    {
     "data": {
      "text/plain": [
       "(63.26420392148584, 40.64205244740697)"
      ]
     },
     "execution_count": 197,
     "metadata": {},
     "output_type": "execute_result"
    }
   ],
   "source": [
    "popt_IT[1],np.sqrt(pcov_IT[1][1])"
   ]
  },
  {
   "cell_type": "code",
   "execution_count": 224,
   "metadata": {},
   "outputs": [
    {
     "data": {
      "text/plain": [
       "1.3257083333333335"
      ]
     },
     "execution_count": 224,
     "metadata": {},
     "output_type": "execute_result"
    }
   ],
   "source": [
    "3.1817/2.4"
   ]
  },
  {
   "cell_type": "code",
   "execution_count": 252,
   "metadata": {},
   "outputs": [
    {
     "data": {
      "image/png": "[encoded data removed]",
      "text/plain": [
       "<Figure size 432x288 with 1 Axes>"
      ]
     },
     "metadata": {
      "needs_background": "light"
     },
     "output_type": "display_data"
    }
   ],
   "source": [
    "ls = 3\n",
    "# fig, (ax1, ax2, ax3) = plt.subplots(1,3, sharex=False, sharey=True, figsize=(12,3))\n",
    "fig = plt.figure()\n",
    "ax1 = fig.add_subplot(111)\n",
    "# ax1.plot(t[::ls], (I_t/N)[::ls], '-', alpha=0.7, lw=1, color='blue', label='$I$',mfc='none')\n",
    "# ax1.plot(t[::ls], (np.append(np.diff(R_t),0)/N)[::ls], '-', alpha=0.7, lw=1, color='red', label='$R$',mfc='none')\n",
    "plt.plot(np.arange(5,100), func(np.arange(5,100), *popt_IT)/N_IT, '--',color='black', lw=1, label=r'fit')\n",
    "\n",
    "plt.plot(xdata[::ls],ydata_IT[::ls]/N_IT, 'o-', color=coltri[2],  label=r'$r(t)$')\n",
    "ax1.plot(np.arange(1,300,1)[::ls], (algebraic(np.arange(1,300,1), popt_IT[1]+np.sqrt(pcov_IT[1][1]), popt_IT[2],popt_IT[3])/N_IT)[::ls], '-o', alpha=0.7, lw=1, color=coltri[0], label=r'$\\rho(t)$')\n",
    "# ax1.plot(t[::ls], sym_curve(t, 2.48108109e+04/N_IT, 3.44042272e+04/N_IT, 2.83619524e-01, 1./4, R0*1.14248816e+00)[::ls], '-s', alpha=0.7, lw=1, color='violet', label='$R^{theo}$',mfc='none')\n",
    "\n",
    "# ax1.plot(t[::ls], (A/(p*N))[::ls], '-o', alpha=0.7, lw=1, color=coltri[0], label='$A$',mfc='none')\n",
    "# ax1.plot(t[::ls], (S/N)[::ls], '-', alpha=0.7, lw=1, color=coltri[1], label='$S$',mfc='none')\n",
    "# ax1.plot(t[::ls], (R/N)[::ls], '-', alpha=0.7, lw=1, color=coltri[2], label='$R$',mfc='none')\n",
    "# ax1.plot(t[::ls], (I/((1-p)*N))[::ls], '-s', alpha=0.7, lw=1, color='blue', label='$I$',mfc='none')\n",
    "plt.axvline(tM, ls='--', label='$t_M$')\n",
    "# plt.axvline(np.argmax(I_t/N), label='$t_M$')\n",
    "# plt.axvline(np.argmax(np.append(np.diff(R_t),0)), label='$t_M$')\n",
    "\n",
    "plt.legend(loc='best',prop={'size':15},frameon=True)\n",
    "\n",
    "ax1.set_ylabel(r'$\\rho(t)$',fontsize=15)\n",
    "ax1.set_xlabel(r'$t$',fontsize=15)\n",
    "plt.xlim(0,100)\n",
    "# plt.yscale('log')\n",
    "# plt.xscale('log')\n",
    "# ax2.set_xlabel(r'$t$')\n",
    "# ax3.set_xlabel(r'$t$')\n",
    "plt.show()"
   ]
  },
  {
   "cell_type": "code",
   "execution_count": 223,
   "metadata": {},
   "outputs": [
    {
     "data": {
      "image/png": "[encoded data removed]",
      "text/plain": [
       "<Figure size 432x288 with 1 Axes>"
      ]
     },
     "metadata": {
      "needs_background": "light"
     },
     "output_type": "display_data"
    }
   ],
   "source": [
    "plt.plot(t,popt_IT[2]*np.exp(-eta*t))\n",
    "plt.plot(t,popt_IT[2]/(1+eta*t))\n",
    "plt.show()"
   ]
  },
  {
   "cell_type": "code",
   "execution_count": 189,
   "metadata": {},
   "outputs": [
    {
     "data": {
      "text/plain": [
       "35.096278953539866"
      ]
     },
     "execution_count": 189,
     "metadata": {},
     "output_type": "execute_result"
    }
   ],
   "source": [
    "tM"
   ]
  },
  {
   "cell_type": "code",
   "execution_count": 142,
   "metadata": {},
   "outputs": [
    {
     "data": {
      "text/plain": [
       "array([ 1.41063478e+00,  1.41064568e+00,  1.41066287e+00,  1.41068836e+00,\n",
       "        1.41072461e+00,  1.41077475e+00,  1.41084256e+00,  1.41093270e+00,\n",
       "        1.41105074e+00,  1.41120326e+00,  1.41139800e+00,  1.41164394e+00,\n",
       "        1.41195136e+00,  1.41233187e+00,  1.41279854e+00,  1.41336577e+00,\n",
       "        1.41404937e+00,  1.41486643e+00,  1.41583521e+00,  1.41697501e+00,\n",
       "        1.41830598e+00,  1.41984889e+00,  1.42162484e+00,  1.42365504e+00,\n",
       "        1.42596043e+00,  1.42856141e+00,  1.43147750e+00,  1.43472700e+00,\n",
       "        1.43832670e+00,  1.44229157e+00,  1.44663451e+00,  1.45136612e+00,\n",
       "        1.45649451e+00,  1.46202516e+00,  1.46796082e+00,  1.47430147e+00,\n",
       "        1.48104431e+00,  1.48818384e+00,  1.49571191e+00,  1.50361789e+00,\n",
       "        1.51188887e+00,  1.52050974e+00,  1.52946358e+00,  1.53873177e+00,\n",
       "        1.54829434e+00,  1.55813019e+00,  1.56821735e+00,  1.57853327e+00,\n",
       "        1.58905504e+00,  1.59975967e+00,  1.61062426e+00,  1.62162618e+00,\n",
       "        1.63274342e+00,  1.64395450e+00,  1.65523879e+00,  1.66657658e+00,\n",
       "        1.67794909e+00,  1.68933865e+00,  1.70072867e+00,  1.71210369e+00,\n",
       "        1.72344942e+00,  1.73475268e+00,  1.74600143e+00,  1.75718471e+00,\n",
       "        1.76829263e+00,  1.77931632e+00,  1.79024784e+00,  1.80108018e+00,\n",
       "        1.81180719e+00,  1.82242346e+00,  1.83292437e+00,  1.84330592e+00,\n",
       "        1.85356475e+00,  1.86369806e+00,  1.87370357e+00,  1.88357941e+00,\n",
       "        1.89332417e+00,  1.90293679e+00,  1.91241654e+00,  1.92176297e+00,\n",
       "        1.93097591e+00,  1.94005538e+00,  1.94900165e+00,  1.95781512e+00,\n",
       "        1.96649637e+00,  1.97504610e+00,  1.98346514e+00,  1.99175439e+00,\n",
       "        1.99991487e+00,  2.00794766e+00,  2.01585386e+00,  2.02363474e+00,\n",
       "        2.03129149e+00,  2.03882541e+00,  2.04623782e+00,  2.05353006e+00,\n",
       "        2.06070348e+00,  2.06775950e+00,  2.07469947e+00,  2.08152482e+00,\n",
       "        2.08823699e+00,  2.09483737e+00,  2.10132741e+00,  2.10770854e+00,\n",
       "        2.11398219e+00,  2.12014978e+00,  2.12621277e+00,  2.13217255e+00,\n",
       "        2.13803056e+00,  2.14378822e+00,  2.14944693e+00,  2.15500811e+00,\n",
       "        2.16047314e+00,  2.16584341e+00,  2.17112030e+00,  2.17630519e+00,\n",
       "        2.18139942e+00,  2.18640436e+00,  2.19132134e+00,  2.19615169e+00,\n",
       "        2.20089677e+00,  2.20555778e+00,  2.21013612e+00,  2.21463301e+00,\n",
       "        2.21904973e+00,  2.22338755e+00,  2.22764770e+00,  2.23183141e+00,\n",
       "        2.23593991e+00,  2.23997440e+00,  2.24393605e+00,  2.24782606e+00,\n",
       "        2.25164559e+00,  2.25539578e+00,  2.25907777e+00,  2.26269268e+00,\n",
       "        2.26624164e+00,  2.26972572e+00,  2.27314600e+00,  2.27650356e+00,\n",
       "        2.27979945e+00,  2.28303470e+00,  2.28621034e+00,  2.28932739e+00,\n",
       "        2.29238683e+00,  2.29538967e+00,  2.29833687e+00,  2.30122937e+00,\n",
       "        2.30406813e+00,  2.30685407e+00,  2.30958811e+00,  2.31227116e+00,\n",
       "        2.31490410e+00,  2.31748783e+00,  2.32002319e+00,  2.32251103e+00,\n",
       "        2.32495220e+00,  2.32734751e+00,  2.32969778e+00,  2.33200382e+00,\n",
       "        2.33426641e+00,  2.33648634e+00,  2.33866436e+00,  2.34080121e+00,\n",
       "        2.34289764e+00,  2.34495437e+00,  2.34697214e+00,  2.34895162e+00,\n",
       "        2.35089355e+00,  2.35279858e+00,  2.35466738e+00,  2.35650061e+00,\n",
       "        2.35829891e+00,  2.36006265e+00,  2.36179298e+00,  2.36349148e+00,\n",
       "        2.36515772e+00,  2.36679164e+00,  2.36839433e+00,  2.36996619e+00,\n",
       "        2.37150822e+00,  2.37302105e+00,  2.37450408e+00,  2.37595903e+00,\n",
       "        2.37738626e+00,  2.37878550e+00,  2.38015896e+00,  2.38150505e+00,\n",
       "        2.38284182e+00,  2.38412033e+00,  2.38535190e+00,  2.38654266e+00,\n",
       "        2.38776897e+00,  2.38898508e+00,  2.39018477e+00,  2.39129249e+00,\n",
       "        2.39241107e+00,  2.39361952e+00,  2.39520641e+00,  2.39643610e+00,\n",
       "        2.39741927e+00,  2.39833131e+00,  2.39916224e+00,  2.40014688e+00,\n",
       "        2.40176697e+00,  2.40231360e+00,  2.40228675e+00,  2.40134342e+00,\n",
       "        2.40106348e+00,  2.40078007e+00,  2.40165280e+00,  2.40175734e+00,\n",
       "        2.40066343e+00,  2.39817430e+00,  2.39344940e+00,  2.38997202e+00,\n",
       "        2.38433255e+00,  2.38872392e+00,  2.39801619e+00,  2.47285115e+00,\n",
       "        2.44064809e+00,  2.44051847e+00,  2.46308572e+00,  2.49520310e+00,\n",
       "        2.49876460e+00,  2.50087462e+00,  2.47705307e+00,  2.43913029e+00,\n",
       "        2.40639419e+00,  2.36421916e+00,  2.33840695e+00,  2.31159343e+00,\n",
       "        2.29724696e+00,  2.28306506e+00,  2.26779245e+00,  2.25839557e+00,\n",
       "        2.23480338e+00,  2.22112970e+00,  2.34381367e+00,  3.28417689e+00,\n",
       "        8.53554986e+00, -6.56459795e+00, -1.91333797e+00, -9.87174546e-01,\n",
       "       -6.09391929e-01, -4.13395047e-01, -2.98659701e-01, -2.26768653e-01,\n",
       "       -1.80183245e-01, -1.50160993e-01, -1.32579262e-01, -1.22919985e-01,\n",
       "       -8.99880825e-02, -6.71092584e-02, -5.08611601e-02, -3.91184300e-02,\n",
       "       -3.05115887e-02, -2.41323464e-02, -1.93646374e-02, -1.57838106e-02,\n",
       "       -1.30948653e-02, -1.10945468e-02, -9.64986050e-03, -8.69168305e-03,\n",
       "       -8.23263905e-03, -6.74900243e-03, -5.60381123e-03, -4.67124363e-03,\n",
       "       -3.91136540e-03, -3.29205517e-03, -2.78751054e-03, -2.37706866e-03,\n",
       "       -2.04429107e-03, -1.77628376e-03, -1.56325163e-03, -1.39833867e-03,\n",
       "       -1.27792250e-03, -1.20285545e-03, -1.00870353e-03, -7.93200566e-04,\n",
       "       -6.23745271e-04, -4.90497770e-04, -3.85720814e-04, -3.03330530e-04,\n",
       "       -2.38543139e-04, -1.87597152e-04, -1.47534915e-04, -1.16030828e-04,\n",
       "       -9.12562759e-05, -7.17734165e-05, -5.64516697e-05, -4.44020506e-05,\n",
       "       -3.49255376e-05, -2.74724752e-05, -2.16106527e-05, -1.70002056e-05,\n",
       "       -1.33738811e-05, -1.05215215e-05, -8.27786338e-06])"
      ]
     },
     "execution_count": 142,
     "metadata": {},
     "output_type": "execute_result"
    }
   ],
   "source": [
    "asym_curve(t, I0, eta, mu, beta)/(I_t/N)"
   ]
  },
  {
   "cell_type": "code",
   "execution_count": 22,
   "metadata": {},
   "outputs": [
    {
     "ename": "NameError",
     "evalue": "name 'eta' is not defined",
     "output_type": "error",
     "traceback": [
      "\u001b[0;31m---------------------------------------------------------------------------\u001b[0m",
      "\u001b[0;31mNameError\u001b[0m                                 Traceback (most recent call last)",
      "\u001b[0;32m<ipython-input-22-31edcbb99991>\u001b[0m in \u001b[0;36m<module>\u001b[0;34m\u001b[0m\n\u001b[0;32m----> 1\u001b[0;31m \u001b[0mnp\u001b[0m\u001b[0;34m.\u001b[0m\u001b[0mlog\u001b[0m\u001b[0;34m(\u001b[0m\u001b[0mR0\u001b[0m\u001b[0;34m*\u001b[0m\u001b[0mkav\u001b[0m\u001b[0;34m)\u001b[0m\u001b[0;34m/\u001b[0m\u001b[0meta\u001b[0m\u001b[0;34m\u001b[0m\u001b[0;34m\u001b[0m\u001b[0m\n\u001b[0m",
      "\u001b[0;31mNameError\u001b[0m: name 'eta' is not defined"
     ]
    }
   ],
   "source": [
    "np.log(R0*kav)/eta"
   ]
  },
  {
   "cell_type": "code",
   "execution_count": null,
   "metadata": {},
   "outputs": [],
   "source": []
  },
  {
   "cell_type": "code",
   "execution_count": 59,
   "metadata": {},
   "outputs": [
    {
     "data": {
      "text/plain": [
       "0.06330047464691936"
      ]
     },
     "execution_count": 59,
     "metadata": {},
     "output_type": "execute_result"
    }
   ],
   "source": [
    "r0, rho0, R_0, eta = popt_IT[0], popt_IT[1], popt_IT[2], popt_IT[3]\n",
    "eta"
   ]
  },
  {
   "cell_type": "code",
   "execution_count": 43,
   "metadata": {},
   "outputs": [],
   "source": [
    "mu=1./4"
   ]
  },
  {
   "cell_type": "code",
   "execution_count": 44,
   "metadata": {},
   "outputs": [
    {
     "data": {
      "text/plain": [
       "(0.25, 0.005, 0.0001)"
      ]
     },
     "execution_count": 44,
     "metadata": {},
     "output_type": "execute_result"
    }
   ],
   "source": [
    "mu, c, I0/N"
   ]
  },
  {
   "cell_type": "code",
   "execution_count": 19,
   "metadata": {},
   "outputs": [
    {
     "data": {
      "text/plain": [
       "0.0001"
      ]
     },
     "execution_count": 19,
     "metadata": {},
     "output_type": "execute_result"
    }
   ],
   "source": [
    "R_0 = 2.4\n",
    "I0/N"
   ]
  },
  {
   "cell_type": "code",
   "execution_count": 20,
   "metadata": {},
   "outputs": [
    {
     "data": {
      "text/plain": [
       "0.03352046127529697"
      ]
     },
     "execution_count": 20,
     "metadata": {},
     "output_type": "execute_result"
    }
   ],
   "source": [
    "etac = mu * (-np.log(R_0) + R_0 -1) / np.log(c/(I0/N))\n",
    "etac"
   ]
  },
  {
   "cell_type": "code",
   "execution_count": 47,
   "metadata": {},
   "outputs": [
    {
     "data": {
      "text/plain": [
       "array([0.01, 0.02, 0.03, 0.04, 0.05, 0.06, 0.07, 0.08, 0.09])"
      ]
     },
     "execution_count": 47,
     "metadata": {},
     "output_type": "execute_result"
    }
   ],
   "source": [
    "etarange = np.arange(0.01,0.10,0.01)\n",
    "etarange"
   ]
  },
  {
   "cell_type": "code",
   "execution_count": 49,
   "metadata": {},
   "outputs": [
    {
     "data": {
      "text/plain": [
       "['$\\\\eta=$ 0.01',\n",
       " '$\\\\eta=$ 0.02',\n",
       " '$\\\\eta=$ 0.03',\n",
       " '$\\\\eta=$ 0.04',\n",
       " '$\\\\eta=$ 0.05',\n",
       " '$\\\\eta=$ 0.06',\n",
       " '$\\\\eta=$ 0.07',\n",
       " '$\\\\eta=$ 0.08',\n",
       " '$\\\\eta=$ 0.09']"
      ]
     },
     "execution_count": 49,
     "metadata": {},
     "output_type": "execute_result"
    }
   ],
   "source": [
    "labe = []\n",
    "for eta in etarange:\n",
    "    labe.append(r'$\\eta=$ ' + str(round(eta,3)))\n",
    "labe   "
   ]
  },
  {
   "cell_type": "code",
   "execution_count": 88,
   "metadata": {},
   "outputs": [
    {
     "data": {
      "text/plain": [
       "(1000000000.0, 0.0001)"
      ]
     },
     "execution_count": 88,
     "metadata": {},
     "output_type": "execute_result"
    }
   ],
   "source": [
    "N,I0/N"
   ]
  },
  {
   "cell_type": "code",
   "execution_count": 16,
   "metadata": {},
   "outputs": [],
   "source": [
    "def gumbelexp(t, rho0, R_0, eta):\n",
    "    return rho0*np.exp(-(mu*R_0/eta)*(np.exp(-eta*t)-1)  - mu*t)\n",
    "def algebraic(t, rho0, R_0, eta):\n",
    "    return rho0*(1+eta*t)**(mu*R_0/eta) * np.exp(- mu*t)\n",
    "\n",
    "def SIRexp(y, t, N, eta, tstar, mu, beta):\n",
    "    S, I = y\n",
    "    dSdt = -beta*np.exp(-eta*t*np.heaviside(t-tstar,1))*S*I/N \n",
    "    dIdt = beta*np.exp(-eta*t*np.heaviside(t-tstar,1))*S*I/N - mu*I \n",
    "    return dSdt, dIdt\n",
    "def SIRpl(y, t, N, eta, tstar, mu, beta):\n",
    "    S, I = y\n",
    "    dSdt = -beta*(1+eta*t*np.heaviside(t-tstar,1))**(-1) *S*I/N \n",
    "    dIdt = beta*(1+eta*t*np.heaviside(t-tstar,1))**(-1) *S*I/N - mu*I \n",
    "    return dSdt, dIdt\n",
    "t = np.arange(1,300,1)\n",
    "S0 = N - I0\n",
    "y0 = S0, I0\n",
    "# retexp = odeint(SIRexp, y0, t, args=(N, eta, tstar, mu, mu*R_0))\n",
    "# S_expt, I_expt = retexp.T\n",
    "# R_expt = N - S_expt - I_expt\n",
    "# # I_t/N"
   ]
  },
  {
   "cell_type": "code",
   "execution_count": 53,
   "metadata": {},
   "outputs": [],
   "source": [
    "inflistexp = []\n",
    "\n",
    "for eta in etarange:\n",
    "    ret = odeint(SIRexp, y0, t, args=(N, eta, 1, mu, mu*(R_0)))\n",
    "    S_t, I_t = ret.T\n",
    "    inflistexp.append(I_t/N)\n",
    "    R_t = N - S_t - I_t\n",
    "    \n",
    "infarrayexp = np.asarray(inflistexp) \n",
    "# labe = ['$\\eta=0.03$','$\\eta=0.04$', '$\\eta=0.05$', '$\\eta=0.06$', '$\\eta=0.07$', '$\\eta=0.08$', '$\\eta=0.09$', '$\\eta=0.10$']"
   ]
  },
  {
   "cell_type": "code",
   "execution_count": 22,
   "metadata": {},
   "outputs": [
    {
     "data": {
      "text/plain": [
       "(0.0001, 0.03352046127529697, 0.25, 0.2)"
      ]
     },
     "execution_count": 22,
     "metadata": {},
     "output_type": "execute_result"
    }
   ],
   "source": [
    "I0/N,etac,mu,beta"
   ]
  },
  {
   "cell_type": "code",
   "execution_count": 28,
   "metadata": {},
   "outputs": [
    {
     "data": {
      "text/plain": [
       "((999900000.0, 100000.0),\n",
       " array([  1,   2,   3,   4,   5,   6,   7,   8,   9,  10,  11,  12,  13,\n",
       "         14,  15,  16,  17,  18,  19,  20,  21,  22,  23,  24,  25,  26,\n",
       "         27,  28,  29,  30,  31,  32,  33,  34,  35,  36,  37,  38,  39,\n",
       "         40,  41,  42,  43,  44,  45,  46,  47,  48,  49,  50,  51,  52,\n",
       "         53,  54,  55,  56,  57,  58,  59,  60,  61,  62,  63,  64,  65,\n",
       "         66,  67,  68,  69,  70,  71,  72,  73,  74,  75,  76,  77,  78,\n",
       "         79,  80,  81,  82,  83,  84,  85,  86,  87,  88,  89,  90,  91,\n",
       "         92,  93,  94,  95,  96,  97,  98,  99, 100, 101, 102, 103, 104,\n",
       "        105, 106, 107, 108, 109, 110, 111, 112, 113, 114, 115, 116, 117,\n",
       "        118, 119, 120, 121, 122, 123, 124, 125, 126, 127, 128, 129, 130,\n",
       "        131, 132, 133, 134, 135, 136, 137, 138, 139, 140, 141, 142, 143,\n",
       "        144, 145, 146, 147, 148, 149, 150, 151, 152, 153, 154, 155, 156,\n",
       "        157, 158, 159, 160, 161, 162, 163, 164, 165, 166, 167, 168, 169,\n",
       "        170, 171, 172, 173, 174, 175, 176, 177, 178, 179, 180, 181, 182,\n",
       "        183, 184, 185, 186, 187, 188, 189, 190, 191, 192, 193, 194, 195,\n",
       "        196, 197, 198, 199, 200, 201, 202, 203, 204, 205, 206, 207, 208,\n",
       "        209, 210, 211, 212, 213, 214, 215, 216, 217, 218, 219, 220, 221,\n",
       "        222, 223, 224, 225, 226, 227, 228, 229, 230, 231, 232, 233, 234,\n",
       "        235, 236, 237, 238, 239, 240, 241, 242, 243, 244, 245, 246, 247,\n",
       "        248, 249, 250, 251, 252, 253, 254, 255, 256, 257, 258, 259, 260,\n",
       "        261, 262, 263, 264, 265, 266, 267, 268, 269, 270, 271, 272, 273,\n",
       "        274, 275, 276, 277, 278, 279, 280, 281, 282, 283, 284, 285, 286,\n",
       "        287, 288, 289, 290, 291, 292, 293, 294, 295, 296, 297, 298, 299]))"
      ]
     },
     "execution_count": 28,
     "metadata": {},
     "output_type": "execute_result"
    }
   ],
   "source": [
    "y0,t"
   ]
  },
  {
   "cell_type": "code",
   "execution_count": 31,
   "metadata": {},
   "outputs": [
    {
     "data": {
      "text/plain": [
       "(999900000.0, 100000.0)"
      ]
     },
     "execution_count": 31,
     "metadata": {},
     "output_type": "execute_result"
    }
   ],
   "source": [
    "y0"
   ]
  },
  {
   "cell_type": "code",
   "execution_count": 33,
   "metadata": {},
   "outputs": [
    {
     "data": {
      "text/plain": [
       "(array([-19349.39921298, -18741.54924836, -18170.72658908, -17633.64794735,\n",
       "        -17127.40707241, -16649.4221395 , -16197.39170916, -15769.25767115,\n",
       "        -15363.17391381, -14977.47971284, -14610.67703037, -14261.41106997,\n",
       "        -13928.45355556, -13610.68829914, -13307.09870007, -13016.75688077,\n",
       "        -12738.81421438, -12472.49304052, -12217.07939904, -11971.91663854,\n",
       "        -11736.39977937, -11509.97052915, -11292.11286434, -11082.34910427,\n",
       "        -10880.23641479, -10685.36368767, -10497.34874936, -10315.83585944,\n",
       "        -10140.49346415,  -9971.01217519,  -9807.10294784,  -9648.49543596,\n",
       "         -9494.936504  ,  -9346.18887888,  -9202.02992664,  -9062.25054066,\n",
       "         -8926.65412953,  -8795.05569462,  -8667.28098796,  -8543.16574246,\n",
       "         -8422.55496741,  -8305.30230277,  -8191.26942667,  -8080.32551106,\n",
       "         -7972.34672098,  -7867.21575352,  -7764.82141271,  -7665.05821718,\n",
       "         -7567.82603777,  -7473.02976226,  -7380.57898505,  -7290.38771963,\n",
       "         -7202.37413177,  -7116.46029189,  -7032.57194495,  -6950.63829634,\n",
       "         -6870.59181268,  -6792.36803611,  -6715.90541126,  -6641.14512361,\n",
       "         -6568.03094869,  -6496.50911102,  -6426.5281522 ,  -6358.03880748,\n",
       "         -6290.99389008,  -6225.34818276,  -6161.05833613,  -6098.08277321,\n",
       "         -6036.38159972,  -5975.91651985,  -5916.65075696,  -5858.54897901,\n",
       "         -5801.57722832,  -5745.70285537,  -5690.89445641,  -5637.12181464,\n",
       "         -5584.3558446 ,  -5532.56853977,  -5481.73292295,  -5431.82299944,\n",
       "         -5382.8137127 ,  -5334.6809024 ,  -5287.40126471,  -5240.9523147 ,\n",
       "         -5195.31235065,  -5150.46042025,  -5106.37628855,  -5063.0404075 ,\n",
       "         -5020.43388705,  -4978.53846771,  -4937.33649443,  -4896.81089182,\n",
       "         -4856.94514054,  -4817.72325485,  -4779.12976126,  -4741.14967813,\n",
       "         -4703.76849632,  -4666.97216068,  -4630.74705246,  -4595.0799725 ,\n",
       "         -4559.95812515,  -4525.36910302,  -4491.30087235,  -4457.74175904,\n",
       "         -4424.68043531,  -4392.10590698,  -4360.00750124,  -4328.37485502,\n",
       "         -4297.19790384,  -4266.46687111,  -4236.17225791,  -4206.30483324,\n",
       "         -4176.85562458,  -4147.81590895,  -4119.17720429,  -4090.93126119,\n",
       "         -4063.07005496,  -4035.58577805,  -4008.47083273,  -3981.71782411,\n",
       "         -3955.31955343,  -3929.26901154,  -3903.55937276,  -3878.1839889 ,\n",
       "         -3853.13638351,  -3828.41024638,  -3803.99942824,  -3779.89793568,\n",
       "         -3756.0999262 ,  -3732.59970355,  -3709.3917131 ,  -3686.47053757,\n",
       "         -3663.83089272,  -3641.46762332,  -3619.37569928,  -3597.55021179,\n",
       "         -3575.98636978,  -3554.67949634,  -3533.62502538,  -3512.81849833,\n",
       "         -3492.25556105,  -3471.93196073,  -3451.84354299,  -3431.98624907,\n",
       "         -3412.35611304,  -3392.9492592 ,  -3373.76189953,  -3354.7903312 ,\n",
       "         -3336.03093421,  -3317.48016909,  -3299.13457463,  -3280.99076579,\n",
       "         -3263.04543158,  -3245.29533306,  -3227.73730136,  -3210.36823585,\n",
       "         -3193.18510226,  -3176.18493096,  -3159.36481519,  -3142.72190948,\n",
       "         -3126.25342797,  -3109.95664291,  -3093.82888312,  -3077.86753256,\n",
       "         -3062.07002887,  -3046.43386206,  -3030.95657312,  -3015.63575278,\n",
       "         -3000.46904023,  -2985.45412192,  -2970.58873036,  -2955.87064302,\n",
       "         -2941.2976812 ,  -2926.86770895,  -2912.57863201,  -2898.42839686,\n",
       "         -2884.41498965,  -2870.53643532,  -2856.79079663,  -2843.17617328,\n",
       "         -2829.69070099,  -2816.33255072,  -2803.09992779,  -2789.9910711 ,\n",
       "         -2777.00425231,  -2764.13777516,  -2751.38997464,  -2738.75921634,\n",
       "         -2726.2438957 ,  -2713.84243738,  -2701.55329457,  -2689.37494834,\n",
       "         -2677.30590704,  -2665.34470566,  -2653.48990527,  -2641.74009242,\n",
       "         -2630.09387858,  -2618.5498996 ,  -2607.10681519,  -2595.76330837,\n",
       "         -2584.51808499,  -2573.36987321,  -2562.31742308,  -2551.35950598,\n",
       "         -2540.49491427,  -2529.72246075,  -2519.04097829,  -2508.4493194 ,\n",
       "         -2497.94635579,  -2487.530978  ,  -2477.20209498,  -2466.95863375,\n",
       "         -2456.79953898,  -2446.72377268,  -2436.73031379,  -2426.81815789,\n",
       "         -2416.98631682,  -2407.23381837,  -2397.55970596,  -2387.96303833,\n",
       "         -2378.44288922,  -2368.99834711,  -2359.62851485,  -2350.33250949,\n",
       "         -2341.10946188,  -2331.95851651,  -2322.87883115,  -2313.86957667,\n",
       "         -2304.92993674,  -2296.05910759,  -2287.25629779,  -2278.52072799,\n",
       "         -2269.85163071,  -2261.2482501 ,  -2252.70984172,  -2244.23567235,\n",
       "         -2235.82501974,  -2227.47717245,  -2219.1914296 ,  -2210.96710071,\n",
       "         -2202.80350551,  -2194.69997373,  -2186.65584493,  -2178.6704683 ,\n",
       "         -2170.74320253,  -2162.87341559,  -2155.0604846 ,  -2147.30379562,\n",
       "         -2139.60274354,  -2131.9567319 ,  -2124.36517273,  -2116.82748639,\n",
       "         -2109.34310147,  -2101.91145458,  -2094.53199027,  -2087.20416083,\n",
       "         -2079.92742623,  -2072.7012539 ,  -2065.52511869,  -2058.39850266,\n",
       "         -2051.32089501,  -2044.29179195,  -2037.31069656,  -2030.37711867,\n",
       "         -2023.4905748 ,  -2016.65058797,  -2009.85668765,  -2003.10840961,\n",
       "         -1996.40529585,  -1989.74689448,  -1983.13275961,  -1976.56245126,\n",
       "         -1970.03553527,  -1963.55158318,  -1957.11017217,  -1950.71088494,\n",
       "         -1944.35330963,  -1938.03703973,  -1931.76167402,  -1925.52681642,\n",
       "         -1919.33207596,  -1913.17706671,  -1907.06140765,  -1900.98472262,\n",
       "         -1894.94664024,  -1888.94679383,  -1882.98482136,  -1877.06036532,\n",
       "         -1871.17307272,  -1865.32259497,  -1859.50858781,  -1853.7307113 ,\n",
       "         -1847.98862967,  -1842.28201132,  -1836.61052873,  -1830.97385839,\n",
       "         -1825.37168077,  -1819.80368021,  -1814.26954493]),\n",
       " array([ -5650.60078702,  -6258.45075164,  -6829.27341092,  -7366.35205265,\n",
       "         -7872.59292759,  -8350.5778605 ,  -8802.60829084,  -9230.74232885,\n",
       "         -9636.82608619, -10022.52028716, -10389.32296963, -10738.58893003,\n",
       "        -11071.54644444, -11389.31170086, -11692.90129993, -11983.24311923,\n",
       "        -12261.18578562, -12527.50695948, -12782.92060096, -13028.08336146,\n",
       "        -13263.60022063, -13490.02947085, -13707.88713566, -13917.65089573,\n",
       "        -14119.76358521, -14314.63631233, -14502.65125064, -14684.16414056,\n",
       "        -14859.50653585, -15028.98782481, -15192.89705216, -15351.50456404,\n",
       "        -15505.063496  , -15653.81112112, -15797.97007336, -15937.74945934,\n",
       "        -16073.34587047, -16204.94430538, -16332.71901204, -16456.83425754,\n",
       "        -16577.44503259, -16694.69769723, -16808.73057333, -16919.67448894,\n",
       "        -17027.65327902, -17132.78424648, -17235.17858729, -17334.94178282,\n",
       "        -17432.17396223, -17526.97023774, -17619.42101495, -17709.61228037,\n",
       "        -17797.62586823, -17883.53970811, -17967.42805505, -18049.36170366,\n",
       "        -18129.40818732, -18207.63196389, -18284.09458874, -18358.85487639,\n",
       "        -18431.96905131, -18503.49088898, -18573.4718478 , -18641.96119252,\n",
       "        -18709.00610992, -18774.65181724, -18838.94166387, -18901.91722679,\n",
       "        -18963.61840028, -19024.08348015, -19083.34924304, -19141.45102099,\n",
       "        -19198.42277168, -19254.29714463, -19309.10554359, -19362.87818536,\n",
       "        -19415.6441554 , -19467.43146023, -19518.26707705, -19568.17700056,\n",
       "        -19617.1862873 , -19665.3190976 , -19712.59873529, -19759.0476853 ,\n",
       "        -19804.68764935, -19849.53957975, -19893.62371145, -19936.9595925 ,\n",
       "        -19979.56611295, -20021.46153229, -20062.66350557, -20103.18910818,\n",
       "        -20143.05485946, -20182.27674515, -20220.87023874, -20258.85032187,\n",
       "        -20296.23150368, -20333.02783932, -20369.25294754, -20404.9200275 ,\n",
       "        -20440.04187485, -20474.63089698, -20508.69912765, -20542.25824096,\n",
       "        -20575.31956469, -20607.89409302, -20639.99249876, -20671.62514498,\n",
       "        -20702.80209616, -20733.53312889, -20763.82774209, -20793.69516676,\n",
       "        -20823.14437542, -20852.18409105, -20880.82279571, -20909.06873881,\n",
       "        -20936.92994504, -20964.41422195, -20991.52916727, -21018.28217589,\n",
       "        -21044.68044657, -21070.73098846, -21096.44062724, -21121.8160111 ,\n",
       "        -21146.86361649, -21171.58975362, -21196.00057176, -21220.10206432,\n",
       "        -21243.9000738 , -21267.40029645, -21290.6082869 , -21313.52946243,\n",
       "        -21336.16910728, -21358.53237668, -21380.62430072, -21402.44978821,\n",
       "        -21424.01363022, -21445.32050366, -21466.37497462, -21487.18150167,\n",
       "        -21507.74443895, -21528.06803927, -21548.15645701, -21568.01375093,\n",
       "        -21587.64388696, -21607.0507408 , -21626.23810047, -21645.2096688 ,\n",
       "        -21663.96906579, -21682.51983091, -21700.86542537, -21719.00923421,\n",
       "        -21736.95456842, -21754.70466694, -21772.26269864, -21789.63176415,\n",
       "        -21806.81489774, -21823.81506904, -21840.63518481, -21857.27809052,\n",
       "        -21873.74657203, -21890.04335709, -21906.17111688, -21922.13246744,\n",
       "        -21937.92997113, -21953.56613794, -21969.04342688, -21984.36424722,\n",
       "        -21999.53095977, -22014.54587808, -22029.41126964, -22044.12935698,\n",
       "        -22058.7023188 , -22073.13229105, -22087.42136799, -22101.57160314,\n",
       "        -22115.58501035, -22129.46356468, -22143.20920337, -22156.82382672,\n",
       "        -22170.30929901, -22183.66744928, -22196.90007221, -22210.0089289 ,\n",
       "        -22222.99574769, -22235.86222484, -22248.61002536, -22261.24078366,\n",
       "        -22273.7561043 , -22286.15756262, -22298.44670543, -22310.62505166,\n",
       "        -22322.69409296, -22334.65529434, -22346.51009473, -22358.25990758,\n",
       "        -22369.90612142, -22381.4501004 , -22392.89318481, -22404.23669163,\n",
       "        -22415.48191501, -22426.63012679, -22437.68257692, -22448.64049402,\n",
       "        -22459.50508573, -22470.27753925, -22480.95902171, -22491.5506806 ,\n",
       "        -22502.05364421, -22512.469022  , -22522.79790502, -22533.04136625,\n",
       "        -22543.20046102, -22553.27622732, -22563.26968621, -22573.18184211,\n",
       "        -22583.01368318, -22592.76618163, -22602.44029404, -22612.03696167,\n",
       "        -22621.55711078, -22631.00165289, -22640.37148515, -22649.66749051,\n",
       "        -22658.89053812, -22668.04148349, -22677.12116885, -22686.13042333,\n",
       "        -22695.07006326, -22703.94089241, -22712.74370221, -22721.47927201,\n",
       "        -22730.14836929, -22738.7517499 , -22747.29015828, -22755.76432765,\n",
       "        -22764.17498026, -22772.52282755, -22780.8085704 , -22789.03289929,\n",
       "        -22797.19649449, -22805.30002627, -22813.34415507, -22821.3295317 ,\n",
       "        -22829.25679747, -22837.12658441, -22844.9395154 , -22852.69620438,\n",
       "        -22860.39725646, -22868.0432681 , -22875.63482727, -22883.17251361,\n",
       "        -22890.65689853, -22898.08854542, -22905.46800973, -22912.79583917,\n",
       "        -22920.07257377, -22927.2987461 , -22934.47488131, -22941.60149734,\n",
       "        -22948.67910499, -22955.70820805, -22962.68930344, -22969.62288133,\n",
       "        -22976.5094252 , -22983.34941203, -22990.14331235, -22996.89159039,\n",
       "        -23003.59470415, -23010.25310552, -23016.86724039, -23023.43754874,\n",
       "        -23029.96446473, -23036.44841682, -23042.88982783, -23049.28911506,\n",
       "        -23055.64669037, -23061.96296027, -23068.23832598, -23074.47318358,\n",
       "        -23080.66792404, -23086.82293328, -23092.93859235, -23099.01527738,\n",
       "        -23105.05335976, -23111.05320617, -23117.01517864, -23122.93963468,\n",
       "        -23128.82692728, -23134.67740503, -23140.49141219, -23146.2692887 ,\n",
       "        -23152.01137033, -23157.71798868, -23163.38947127, -23169.02614161,\n",
       "        -23174.62831923, -23180.19631979, -23185.73045507]))"
      ]
     },
     "execution_count": 33,
     "metadata": {},
     "output_type": "execute_result"
    }
   ],
   "source": [
    "SIRpl(y0, t, N, etac, 1, mu, beta)"
   ]
  },
  {
   "cell_type": "code",
   "execution_count": 37,
   "metadata": {},
   "outputs": [
    {
     "data": {
      "image/png": "[encoded data removed]",
      "text/plain": [
       "<Figure size 432x288 with 1 Axes>"
      ]
     },
     "metadata": {
      "needs_background": "light"
     },
     "output_type": "display_data"
    }
   ],
   "source": [
    "fig = plt.figure()\n",
    "ax1 = fig.add_subplot(111)\n",
    "ax1.plot(t, SIRpl(y0, t, N, 0.06, 1, mu, R_0*mu)[1], '-o', alpha=0.7, lw=1.5, ms=4, mfc='none',label='$drho$')\n",
    "# plt.legend(loc='best',prop={'size':15},frameon=True)\n",
    "# plt.legend(bbox_to_anchor=(1.04,1), loc=\"upper left\",prop={'size':15},frameon=True)\n",
    "\n",
    "ax1.set_ylabel(r'$d\\rho(t)/dt$',fontsize=15)\n",
    "ax1.set_xlabel(r'$t$',fontsize=15)\n",
    "# plt.xlim(0,100)\n",
    "# plt.ylim(0.0001,0.5)\n",
    "# plt.yscale('log')\n",
    "# plt.xscale('log')\n",
    "# ax2.set_xlabel(r'$t$')\n",
    "# ax3.set_xlabel(r'$t$')\n",
    "plt.show()"
   ]
  },
  {
   "cell_type": "code",
   "execution_count": 67,
   "metadata": {},
   "outputs": [
    {
     "data": {
      "image/png": "[encoded data removed]",
      "text/plain": [
       "<Figure size 432x288 with 1 Axes>"
      ]
     },
     "metadata": {
      "needs_background": "light"
     },
     "output_type": "display_data"
    }
   ],
   "source": [
    "ls = 1\n",
    "\n",
    "\n",
    "# fig, (ax1, ax2, ax3) = plt.subplots(1,3, sharex=False, sharey=True, figsize=(12,3))\n",
    "fig = plt.figure()\n",
    "ax1 = fig.add_subplot(111)\n",
    "# ax1.plot(t[::ls], (A/N)[::ls], '-o', alpha=0.7, lw=1, color=coltri[0], label='$A$',mfc='none')\n",
    "# ax1.plot(t[::ls], (S/N)[::ls], '-', alpha=0.7, lw=1, color=coltri[1], label='$S$',mfc='none')\n",
    "# ax1.plot(t[::ls], (R/N)[::ls], '-', alpha=0.7, lw=1, color=coltri[2], label='$R$',mfc='none')\n",
    "# ax1.plot(t[::ls], (I/N)[::ls], '-', alpha=0.7, lw=1, color='blue', label='$\\eta=0$',mfc='none')\n",
    "# ax1.plot(t[::ls], (I_t/N)[::ls], '-s', alpha=0.7, lw=1, color=coltri[1], label='',mfc='none')\n",
    "ax1.plot(t[::ls], gumbelexp(t, I0/N, R_0, etac), '-o', alpha=0.7, lw=1.5, ms=4, mfc='none',label='$\\eta_m$')\n",
    "\n",
    "for ii in range(len(etarange)-3):\n",
    "    ax1.plot(t[::ls], infarrayexp[ii][::ls], '-', alpha=0.7, lw=1, label=labe[ii],mfc='none')\n",
    "\n",
    "#     ax1.plot(t[::ls], gumbelexp(t, I0, R_0, etarange[ii]), '-o', alpha=0.7, lw=1.5, ms=4, mfc='none',label=labe[ii])\n",
    "#     ax1.plot(t[::ls], algebraic(t, I0/N, 1.*R_0, etarange[ii]), '-o', alpha=0.7, lw=1.5, ms=4, mfc='none',label=labe[ii])\n",
    "    \n",
    "plt.hlines(c, 0, 100, colors='k', linestyles='--', label='critical')\n",
    "\n",
    "plt.legend(loc='best',prop={'size':15},frameon=True)\n",
    "# plt.legend(bbox_to_anchor=(1.04,1), loc=\"upper left\",prop={'size':15},frameon=True)\n",
    "\n",
    "ax1.set_ylabel(r'$\\rho(t)$',fontsize=15)\n",
    "ax1.set_xlabel(r'$t$',fontsize=15)\n",
    "plt.xlim(0,100)\n",
    "plt.ylim(0.0001,0.5)\n",
    "plt.yscale('log')\n",
    "# plt.xscale('log')\n",
    "# ax2.set_xlabel(r'$t$')\n",
    "# ax3.set_xlabel(r'$t$')\n",
    "plt.show()"
   ]
  },
  {
   "cell_type": "code",
   "execution_count": 84,
   "metadata": {},
   "outputs": [
    {
     "data": {
      "text/plain": [
       "(2.4, 0.25, array([0.01, 0.02, 0.03, 0.04, 0.05, 0.06, 0.07, 0.08, 0.09]))"
      ]
     },
     "execution_count": 84,
     "metadata": {},
     "output_type": "execute_result"
    }
   ],
   "source": [
    "R_0, mu, etarange"
   ]
  },
  {
   "cell_type": "code",
   "execution_count": 155,
   "metadata": {},
   "outputs": [
    {
     "data": {
      "text/plain": [
       "5000000.0"
      ]
     },
     "execution_count": 155,
     "metadata": {},
     "output_type": "execute_result"
    }
   ],
   "source": [
    "c*N"
   ]
  },
  {
   "cell_type": "code",
   "execution_count": 95,
   "metadata": {},
   "outputs": [
    {
     "data": {
      "text/plain": [
       "2.4"
      ]
     },
     "execution_count": 95,
     "metadata": {},
     "output_type": "execute_result"
    }
   ],
   "source": [
    "R0*kav"
   ]
  },
  {
   "cell_type": "code",
   "execution_count": 82,
   "metadata": {},
   "outputs": [
    {
     "name": "stdout",
     "output_type": "stream",
     "text": [
      "0.5\n"
     ]
    },
    {
     "data": {
      "text/plain": [
       "array([[0.267004, 0.004874, 0.329415, 1.      ],\n",
       "       [0.275191, 0.194905, 0.496005, 1.      ],\n",
       "       [0.212395, 0.359683, 0.55171 , 1.      ],\n",
       "       [0.153364, 0.497   , 0.557724, 1.      ],\n",
       "       [0.122312, 0.633153, 0.530398, 1.      ],\n",
       "       [0.288921, 0.758394, 0.428426, 1.      ],\n",
       "       [0.626579, 0.854645, 0.223353, 1.      ],\n",
       "       [0.993248, 0.906157, 0.143936, 1.      ]])"
      ]
     },
     "execution_count": 82,
     "metadata": {},
     "output_type": "execute_result"
    }
   ],
   "source": [
    "import matplotlib\n",
    "\n",
    "norm = matplotlib.colors.Normalize(vmin=10.0, vmax=20.0)\n",
    "\n",
    "print(norm(15.0)) # 0.5\n",
    "\n",
    "cmap=plt.cm.get_cmap('magma')\n",
    "cmap=plt.cm.get_cmap('viridis')\n",
    "cmap=plt.cm.get_cmap('inferno')\n",
    "\n",
    "# Accessing three values from the Pastel1 colormap\n",
    "colo = plt.cm.get_cmap('viridis', len(etarange)-1).colors\n",
    "colo"
   ]
  },
  {
   "cell_type": "code",
   "execution_count": 86,
   "metadata": {},
   "outputs": [
    {
     "data": {
      "image/png": "[encoded data removed]",
      "text/plain": [
       "<Figure size 432x288 with 1 Axes>"
      ]
     },
     "metadata": {
      "needs_background": "light"
     },
     "output_type": "display_data"
    }
   ],
   "source": [
    "fig = plt.figure()\n",
    "ax1 = fig.add_subplot(111)\n",
    "# ax1.plot(t[::ls], (I_t/N)[::ls], '-s', alpha=0.7, lw=1, color=coltri[1], label='',mfc='none')\n",
    "for ii in range(len(etarange)-1):\n",
    "#     ax1.plot(t[::ls], infarray[ii][::ls], '-', alpha=0.7, lw=1, label=labe[ii],mfc='none')\n",
    "#     ax1.plot(t[::ls], asym_curve(t, I0, etarange[ii], mu, beta), '-o', alpha=0.7, lw=1.5, color=colo[ii], ms=4,label=labe[ii])\n",
    "    ax1.plot(t[::ls], infarrayexp[ii+1][::ls], '-o', alpha=0.7, lw=1.5, color=colo[ii], label=labe[ii],ms=4)#,mfc='none')\n",
    "\n",
    "plt.hlines(c, 0, 100, colors='k', linestyles='--', label='critical')\n",
    "\n",
    "plt.legend(loc='best',prop={'size':15},frameon=True)\n",
    "# plt.legend(bbox_to_anchor=(1.04,1), loc=\"upper left\",prop={'size':15},frameon=True)\n",
    "\n",
    "ax1.set_ylabel(r'$\\rho(t)$',fontsize=15)\n",
    "ax1.set_xlabel(r'$t$',fontsize=15)\n",
    "ax1.tick_params(which = 'major', axis='both', width=1.5, length = 10, labelsize=15,direction='in')\n",
    "ax1.tick_params(which = 'minor', axis='both', width=1.5, length = 5, labelsize=15,direction='in')\n",
    "plt.ylim(0.0001,0.114)\n",
    "plt.xlim(0,100)\n",
    "plt.yscale('log')\n",
    "# plt.xscale('log')\n",
    "# ax2.set_xlabel(r'$t$')\n",
    "# ax3.set_xlabel(r'$t$')\n",
    "plt.show()"
   ]
  },
  {
   "cell_type": "code",
   "execution_count": 87,
   "metadata": {},
   "outputs": [
    {
     "data": {
      "text/plain": [
       "0.03352046127529697"
      ]
     },
     "execution_count": 87,
     "metadata": {},
     "output_type": "execute_result"
    }
   ],
   "source": [
    "etac"
   ]
  },
  {
   "cell_type": "code",
   "execution_count": null,
   "metadata": {},
   "outputs": [],
   "source": []
  },
  {
   "cell_type": "code",
   "execution_count": null,
   "metadata": {},
   "outputs": [],
   "source": []
  },
  {
   "cell_type": "code",
   "execution_count": null,
   "metadata": {},
   "outputs": [],
   "source": []
  },
  {
   "cell_type": "code",
   "execution_count": 89,
   "metadata": {},
   "outputs": [
    {
     "name": "stderr",
     "output_type": "stream",
     "text": [
      "BokehDeprecationWarning: CARTODBPOSITRON was deprecated in Bokeh 1.1.0 and will be removed, use get_provider(Vendors.CARTODBPOSITRON) instead.\n"
     ]
    }
   ],
   "source": [
    "from bokeh.plotting import figure, output_file, show\n",
    "from bokeh.tile_providers import CARTODBPOSITRON, get_provider\n",
    "\n",
    "# output_file(\"tile.html\")\n",
    "\n",
    "tile_provider = get_provider(CARTODBPOSITRON)\n",
    "\n",
    "# range bounds supplied in web mercator coordinates\n",
    "p = figure(x_range=(-2000000, 6000000), y_range=(-1000000, 7000000),\n",
    "           x_axis_type=\"mercator\", y_axis_type=\"mercator\")\n",
    "p.add_tile(tile_provider)\n",
    "\n",
    "show(p)"
   ]
  },
  {
   "cell_type": "code",
   "execution_count": null,
   "metadata": {},
   "outputs": [],
   "source": [
    "import json\n",
    "\n",
    "from bokeh.io import output_file, show\n",
    "from bokeh.models import GeoJSONDataSource\n",
    "from bokeh.plotting import figure\n",
    "from bokeh.sampledata.sample_geojson import geojson\n",
    "\n",
    "output_file(\"geojson.html\")\n",
    "\n",
    "data = json.loads(geojson)\n",
    "for i in range(len(data['features'])):\n",
    "    data['features'][i]['properties']['Color'] = ['blue', 'red'][i%2]\n",
    "\n",
    "geo_source = GeoJSONDataSource(geojson=json.dumps(data))\n",
    "\n",
    "TOOLTIPS = [\n",
    "    ('Organisation', '@OrganisationName')\n",
    "]\n",
    "\n",
    "p = figure(background_fill_color=\"lightgrey\", tooltips=TOOLTIPS)\n",
    "p.circle(x='x', y='y', size=15, color='Color', alpha=0.7, source=geo_source)\n",
    "\n",
    "show(p)"
   ]
  },
  {
   "cell_type": "code",
   "execution_count": null,
   "metadata": {},
   "outputs": [],
   "source": []
  },
  {
   "cell_type": "code",
   "execution_count": null,
   "metadata": {},
   "outputs": [],
   "source": []
  },
  {
   "cell_type": "code",
   "execution_count": null,
   "metadata": {},
   "outputs": [],
   "source": []
  },
  {
   "cell_type": "code",
   "execution_count": null,
   "metadata": {},
   "outputs": [],
   "source": []
  },
  {
   "cell_type": "code",
   "execution_count": null,
   "metadata": {},
   "outputs": [],
   "source": []
  },
  {
   "cell_type": "code",
   "execution_count": null,
   "metadata": {},
   "outputs": [],
   "source": []
  },
  {
   "cell_type": "code",
   "execution_count": null,
   "metadata": {},
   "outputs": [],
   "source": []
  },
  {
   "cell_type": "code",
   "execution_count": 198,
   "metadata": {},
   "outputs": [],
   "source": [
    "def asym_curve(t, A0, eta, muA, beta):\n",
    "    return A0*(1+eta*t)**(beta/eta) * np.exp(-muA*t)"
   ]
  },
  {
   "cell_type": "code",
   "execution_count": 301,
   "metadata": {},
   "outputs": [
    {
     "data": {
      "text/plain": [
       "0.7222222222222222"
      ]
     },
     "execution_count": 301,
     "metadata": {},
     "output_type": "execute_result"
    }
   ],
   "source": [
    "1./5/(1./5+1./13)"
   ]
  },
  {
   "cell_type": "code",
   "execution_count": 283,
   "metadata": {},
   "outputs": [
    {
     "data": {
      "image/png": "[encoded data removed]",
      "text/plain": [
       "<Figure size 432x288 with 1 Axes>"
      ]
     },
     "metadata": {
      "needs_background": "light"
     },
     "output_type": "display_data"
    }
   ],
   "source": [
    "fig = plt.figure()\n",
    "ax = fig.add_subplot(111)\n",
    "#plt.plot(xdata,func(xdata,popt[0],popt[1],popt[2]), label=r'fit: $A+B\\ln(t) + Ct$')\n",
    "# plt.plot(xdata,func(xdata,A0,B0,C0), color=coltri[0], label=r'theory')\n",
    "# plt.plot(np.arange(1,len(ydata_IT)+1,1)-7,ydata_IT, 'o-', color=coltri[2],  label=r'IT (-39)')\n",
    "# plt.plot(xdata[:],ydata_UK[:], 'o-', color=coltri[0],  label=r'UK')\n",
    "plt.plot(xdata, asym_curve(xdata,A0, eta, muA, beta), '--',color=coltri[0], lw=1, label=r'$1/\\eta$ days delay')\n",
    "plt.plot(xdata, asym_curve(xdata,A0, 2*eta, muA, beta), '--',color=coltri[1], lw=1, label=r'$1/(2\\eta)$ days delay')\n",
    "plt.legend(loc='best',prop={'size':20},frameon=True)\n",
    "plt.xlabel(r\"days\", fontsize=20)\n",
    "plt.ylabel(r\"cases\", fontsize=20)\n",
    "ax.tick_params(which = 'major', axis='both', width=1.5, length = 10, labelsize=20,direction='in')\n",
    "ax.tick_params(which = 'minor', axis='both', width=1.5, length = 5, labelsize=20,direction='in')\n",
    "#plt.xticks(fontsize = 20)\n",
    "#plt.yticks(fontsize = 20)\n",
    "# plt.ylim(10,10000)\n",
    "# plt.yscale('log')\n",
    "# plt.xscale('log')\n",
    "plt.title('',fontsize = 25)\n",
    "plt.show()"
   ]
  },
  {
   "cell_type": "code",
   "execution_count": null,
   "metadata": {},
   "outputs": [],
   "source": []
  },
  {
   "cell_type": "code",
   "execution_count": null,
   "metadata": {},
   "outputs": [],
   "source": []
  },
  {
   "cell_type": "code",
   "execution_count": null,
   "metadata": {},
   "outputs": [],
   "source": []
  },
  {
   "cell_type": "code",
   "execution_count": 3,
   "metadata": {},
   "outputs": [],
   "source": [
    "def fitExp(t, a, b, c):\n",
    "    return a*np.exp(b*t) + c\n",
    "\n",
    "def fitPowerlaw(t, a, b, c):\n",
    "    return a*t**(b) + c\n",
    "\n",
    "def fitAlgebraic(t, a, b, c):\n",
    "    return a*t + b*t**(2) "
   ]
  },
  {
   "cell_type": "code",
   "execution_count": 5,
   "metadata": {},
   "outputs": [],
   "source": [
    "data = pd.read_csv('COVID-19-geographic-disbtribution-worldwide-2020-03-14.csv',sep=';') "
   ]
  },
  {
   "cell_type": "code",
   "execution_count": 6,
   "metadata": {},
   "outputs": [
    {
     "data": {
      "text/html": [
       "<div>\n",
       "<style scoped>\n",
       "    .dataframe tbody tr th:only-of-type {\n",
       "        vertical-align: middle;\n",
       "    }\n",
       "\n",
       "    .dataframe tbody tr th {\n",
       "        vertical-align: top;\n",
       "    }\n",
       "\n",
       "    .dataframe thead th {\n",
       "        text-align: right;\n",
       "    }\n",
       "</style>\n",
       "<table border=\"1\" class=\"dataframe\">\n",
       "  <thead>\n",
       "    <tr style=\"text-align: right;\">\n",
       "      <th></th>\n",
       "      <th>DateRep</th>\n",
       "      <th>CountryExp</th>\n",
       "      <th>NewConfCases</th>\n",
       "      <th>NewDeaths</th>\n",
       "      <th>GeoId</th>\n",
       "      <th>Gaul1Nuts1</th>\n",
       "      <th>EU</th>\n",
       "    </tr>\n",
       "  </thead>\n",
       "  <tbody>\n",
       "    <tr>\n",
       "      <th>0</th>\n",
       "      <td>11/03/2020</td>\n",
       "      <td>Afghanistan</td>\n",
       "      <td>3</td>\n",
       "      <td>0</td>\n",
       "      <td>AF</td>\n",
       "      <td>NaN</td>\n",
       "      <td>Non-EU/EEA</td>\n",
       "    </tr>\n",
       "    <tr>\n",
       "      <th>1</th>\n",
       "      <td>08/03/2020</td>\n",
       "      <td>Afghanistan</td>\n",
       "      <td>3</td>\n",
       "      <td>0</td>\n",
       "      <td>AF</td>\n",
       "      <td>NaN</td>\n",
       "      <td>Non-EU/EEA</td>\n",
       "    </tr>\n",
       "    <tr>\n",
       "      <th>2</th>\n",
       "      <td>02/03/2020</td>\n",
       "      <td>Afghanistan</td>\n",
       "      <td>0</td>\n",
       "      <td>0</td>\n",
       "      <td>AF</td>\n",
       "      <td>NaN</td>\n",
       "      <td>Non-EU/EEA</td>\n",
       "    </tr>\n",
       "    <tr>\n",
       "      <th>3</th>\n",
       "      <td>01/03/2020</td>\n",
       "      <td>Afghanistan</td>\n",
       "      <td>0</td>\n",
       "      <td>0</td>\n",
       "      <td>AF</td>\n",
       "      <td>NaN</td>\n",
       "      <td>Non-EU/EEA</td>\n",
       "    </tr>\n",
       "    <tr>\n",
       "      <th>4</th>\n",
       "      <td>29/02/2020</td>\n",
       "      <td>Afghanistan</td>\n",
       "      <td>0</td>\n",
       "      <td>0</td>\n",
       "      <td>AF</td>\n",
       "      <td>NaN</td>\n",
       "      <td>Non-EU/EEA</td>\n",
       "    </tr>\n",
       "  </tbody>\n",
       "</table>\n",
       "</div>"
      ],
      "text/plain": [
       "      DateRep   CountryExp  NewConfCases  NewDeaths GeoId Gaul1Nuts1  \\\n",
       "0  11/03/2020  Afghanistan             3          0    AF        NaN   \n",
       "1  08/03/2020  Afghanistan             3          0    AF        NaN   \n",
       "2  02/03/2020  Afghanistan             0          0    AF        NaN   \n",
       "3  01/03/2020  Afghanistan             0          0    AF        NaN   \n",
       "4  29/02/2020  Afghanistan             0          0    AF        NaN   \n",
       "\n",
       "           EU  \n",
       "0  Non-EU/EEA  \n",
       "1  Non-EU/EEA  \n",
       "2  Non-EU/EEA  \n",
       "3  Non-EU/EEA  \n",
       "4  Non-EU/EEA  "
      ]
     },
     "execution_count": 6,
     "metadata": {},
     "output_type": "execute_result"
    }
   ],
   "source": [
    "data.head()"
   ]
  },
  {
   "cell_type": "code",
   "execution_count": 7,
   "metadata": {},
   "outputs": [
    {
     "data": {
      "text/html": [
       "<div>\n",
       "<style scoped>\n",
       "    .dataframe tbody tr th:only-of-type {\n",
       "        vertical-align: middle;\n",
       "    }\n",
       "\n",
       "    .dataframe tbody tr th {\n",
       "        vertical-align: top;\n",
       "    }\n",
       "\n",
       "    .dataframe thead th {\n",
       "        text-align: right;\n",
       "    }\n",
       "</style>\n",
       "<table border=\"1\" class=\"dataframe\">\n",
       "  <thead>\n",
       "    <tr style=\"text-align: right;\">\n",
       "      <th></th>\n",
       "      <th>CountryExp</th>\n",
       "      <th>NewConfCases</th>\n",
       "    </tr>\n",
       "  </thead>\n",
       "  <tbody>\n",
       "    <tr>\n",
       "      <th>0</th>\n",
       "      <td>Afghanistan</td>\n",
       "      <td>3</td>\n",
       "    </tr>\n",
       "    <tr>\n",
       "      <th>1</th>\n",
       "      <td>Afghanistan</td>\n",
       "      <td>3</td>\n",
       "    </tr>\n",
       "    <tr>\n",
       "      <th>2</th>\n",
       "      <td>Afghanistan</td>\n",
       "      <td>0</td>\n",
       "    </tr>\n",
       "    <tr>\n",
       "      <th>3</th>\n",
       "      <td>Afghanistan</td>\n",
       "      <td>0</td>\n",
       "    </tr>\n",
       "    <tr>\n",
       "      <th>4</th>\n",
       "      <td>Afghanistan</td>\n",
       "      <td>0</td>\n",
       "    </tr>\n",
       "    <tr>\n",
       "      <th>...</th>\n",
       "      <td>...</td>\n",
       "      <td>...</td>\n",
       "    </tr>\n",
       "    <tr>\n",
       "      <th>4996</th>\n",
       "      <td>Vietnam</td>\n",
       "      <td>0</td>\n",
       "    </tr>\n",
       "    <tr>\n",
       "      <th>4997</th>\n",
       "      <td>Vietnam</td>\n",
       "      <td>0</td>\n",
       "    </tr>\n",
       "    <tr>\n",
       "      <th>4998</th>\n",
       "      <td>Vietnam</td>\n",
       "      <td>0</td>\n",
       "    </tr>\n",
       "    <tr>\n",
       "      <th>4999</th>\n",
       "      <td>Vietnam</td>\n",
       "      <td>0</td>\n",
       "    </tr>\n",
       "    <tr>\n",
       "      <th>5000</th>\n",
       "      <td>Vietnam</td>\n",
       "      <td>0</td>\n",
       "    </tr>\n",
       "  </tbody>\n",
       "</table>\n",
       "<p>5001 rows × 2 columns</p>\n",
       "</div>"
      ],
      "text/plain": [
       "       CountryExp  NewConfCases\n",
       "0     Afghanistan             3\n",
       "1     Afghanistan             3\n",
       "2     Afghanistan             0\n",
       "3     Afghanistan             0\n",
       "4     Afghanistan             0\n",
       "...           ...           ...\n",
       "4996      Vietnam             0\n",
       "4997      Vietnam             0\n",
       "4998      Vietnam             0\n",
       "4999      Vietnam             0\n",
       "5000      Vietnam             0\n",
       "\n",
       "[5001 rows x 2 columns]"
      ]
     },
     "execution_count": 7,
     "metadata": {},
     "output_type": "execute_result"
    }
   ],
   "source": [
    "data[['CountryExp','NewConfCases']]"
   ]
  },
  {
   "cell_type": "code",
   "execution_count": 8,
   "metadata": {},
   "outputs": [
    {
     "data": {
      "text/html": [
       "<div>\n",
       "<style scoped>\n",
       "    .dataframe tbody tr th:only-of-type {\n",
       "        vertical-align: middle;\n",
       "    }\n",
       "\n",
       "    .dataframe tbody tr th {\n",
       "        vertical-align: top;\n",
       "    }\n",
       "\n",
       "    .dataframe thead th {\n",
       "        text-align: right;\n",
       "    }\n",
       "</style>\n",
       "<table border=\"1\" class=\"dataframe\">\n",
       "  <thead>\n",
       "    <tr style=\"text-align: right;\">\n",
       "      <th></th>\n",
       "      <th>DateRep</th>\n",
       "      <th>CountryExp</th>\n",
       "      <th>NewConfCases</th>\n",
       "      <th>NewDeaths</th>\n",
       "      <th>GeoId</th>\n",
       "      <th>Gaul1Nuts1</th>\n",
       "      <th>EU</th>\n",
       "    </tr>\n",
       "  </thead>\n",
       "  <tbody>\n",
       "    <tr>\n",
       "      <th>4780</th>\n",
       "      <td>14/03/2020</td>\n",
       "      <td>United Kingdom</td>\n",
       "      <td>117</td>\n",
       "      <td>0</td>\n",
       "      <td>UK</td>\n",
       "      <td>NaN</td>\n",
       "      <td>Former EU</td>\n",
       "    </tr>\n",
       "    <tr>\n",
       "      <th>4781</th>\n",
       "      <td>13/03/2020</td>\n",
       "      <td>United Kingdom</td>\n",
       "      <td>134</td>\n",
       "      <td>4</td>\n",
       "      <td>UK</td>\n",
       "      <td>NaN</td>\n",
       "      <td>Former EU</td>\n",
       "    </tr>\n",
       "    <tr>\n",
       "      <th>4783</th>\n",
       "      <td>11/03/2020</td>\n",
       "      <td>United Kingdom</td>\n",
       "      <td>52</td>\n",
       "      <td>1</td>\n",
       "      <td>UK</td>\n",
       "      <td>NaN</td>\n",
       "      <td>Former EU</td>\n",
       "    </tr>\n",
       "    <tr>\n",
       "      <th>4784</th>\n",
       "      <td>10/03/2020</td>\n",
       "      <td>United Kingdom</td>\n",
       "      <td>48</td>\n",
       "      <td>2</td>\n",
       "      <td>UK</td>\n",
       "      <td>NaN</td>\n",
       "      <td>Former EU</td>\n",
       "    </tr>\n",
       "    <tr>\n",
       "      <th>4785</th>\n",
       "      <td>09/03/2020</td>\n",
       "      <td>United Kingdom</td>\n",
       "      <td>67</td>\n",
       "      <td>1</td>\n",
       "      <td>UK</td>\n",
       "      <td>NaN</td>\n",
       "      <td>Former EU</td>\n",
       "    </tr>\n",
       "    <tr>\n",
       "      <th>...</th>\n",
       "      <td>...</td>\n",
       "      <td>...</td>\n",
       "      <td>...</td>\n",
       "      <td>...</td>\n",
       "      <td>...</td>\n",
       "      <td>...</td>\n",
       "      <td>...</td>\n",
       "    </tr>\n",
       "    <tr>\n",
       "      <th>4850</th>\n",
       "      <td>04/01/2020</td>\n",
       "      <td>United Kingdom</td>\n",
       "      <td>0</td>\n",
       "      <td>0</td>\n",
       "      <td>UK</td>\n",
       "      <td>NaN</td>\n",
       "      <td>Former EU</td>\n",
       "    </tr>\n",
       "    <tr>\n",
       "      <th>4851</th>\n",
       "      <td>03/01/2020</td>\n",
       "      <td>United Kingdom</td>\n",
       "      <td>0</td>\n",
       "      <td>0</td>\n",
       "      <td>UK</td>\n",
       "      <td>NaN</td>\n",
       "      <td>Former EU</td>\n",
       "    </tr>\n",
       "    <tr>\n",
       "      <th>4852</th>\n",
       "      <td>02/01/2020</td>\n",
       "      <td>United Kingdom</td>\n",
       "      <td>0</td>\n",
       "      <td>0</td>\n",
       "      <td>UK</td>\n",
       "      <td>NaN</td>\n",
       "      <td>Former EU</td>\n",
       "    </tr>\n",
       "    <tr>\n",
       "      <th>4853</th>\n",
       "      <td>01/01/2020</td>\n",
       "      <td>United Kingdom</td>\n",
       "      <td>0</td>\n",
       "      <td>0</td>\n",
       "      <td>UK</td>\n",
       "      <td>NaN</td>\n",
       "      <td>Former EU</td>\n",
       "    </tr>\n",
       "    <tr>\n",
       "      <th>4854</th>\n",
       "      <td>31/12/2019</td>\n",
       "      <td>United Kingdom</td>\n",
       "      <td>0</td>\n",
       "      <td>0</td>\n",
       "      <td>UK</td>\n",
       "      <td>NaN</td>\n",
       "      <td>Former EU</td>\n",
       "    </tr>\n",
       "  </tbody>\n",
       "</table>\n",
       "<p>74 rows × 7 columns</p>\n",
       "</div>"
      ],
      "text/plain": [
       "         DateRep      CountryExp  NewConfCases  NewDeaths GeoId Gaul1Nuts1  \\\n",
       "4780  14/03/2020  United Kingdom           117          0    UK        NaN   \n",
       "4781  13/03/2020  United Kingdom           134          4    UK        NaN   \n",
       "4783  11/03/2020  United Kingdom            52          1    UK        NaN   \n",
       "4784  10/03/2020  United Kingdom            48          2    UK        NaN   \n",
       "4785  09/03/2020  United Kingdom            67          1    UK        NaN   \n",
       "...          ...             ...           ...        ...   ...        ...   \n",
       "4850  04/01/2020  United Kingdom             0          0    UK        NaN   \n",
       "4851  03/01/2020  United Kingdom             0          0    UK        NaN   \n",
       "4852  02/01/2020  United Kingdom             0          0    UK        NaN   \n",
       "4853  01/01/2020  United Kingdom             0          0    UK        NaN   \n",
       "4854  31/12/2019  United Kingdom             0          0    UK        NaN   \n",
       "\n",
       "             EU  \n",
       "4780  Former EU  \n",
       "4781  Former EU  \n",
       "4783  Former EU  \n",
       "4784  Former EU  \n",
       "4785  Former EU  \n",
       "...         ...  \n",
       "4850  Former EU  \n",
       "4851  Former EU  \n",
       "4852  Former EU  \n",
       "4853  Former EU  \n",
       "4854  Former EU  \n",
       "\n",
       "[74 rows x 7 columns]"
      ]
     },
     "execution_count": 8,
     "metadata": {},
     "output_type": "execute_result"
    }
   ],
   "source": [
    "england = data[data.CountryExp =='United Kingdom']\n",
    "england"
   ]
  },
  {
   "cell_type": "code",
   "execution_count": 9,
   "metadata": {},
   "outputs": [],
   "source": [
    "newcases_UK = np.flip(england.NewConfCases.to_numpy()[:21])"
   ]
  },
  {
   "cell_type": "code",
   "execution_count": 10,
   "metadata": {},
   "outputs": [
    {
     "data": {
      "text/plain": [
       "(array([ 1,  2,  3,  4,  5,  6,  7,  8,  9, 10, 11, 12, 13, 14, 15, 16, 17,\n",
       "        18, 19, 20, 21]),\n",
       " array([  0,   0,   4,   4,   4,   4,   7,   9,  14,  27,  31,  42,  76,\n",
       "        106, 154, 197, 264, 312, 364, 498, 615]))"
      ]
     },
     "execution_count": 10,
     "metadata": {},
     "output_type": "execute_result"
    }
   ],
   "source": [
    "ydata_UK = np.cumsum(newcases_UK)\n",
    "t = np.arange(1,len(ydata_UK)+1,1)\n",
    "xdata = t\n",
    "xdata,ydata_UK"
   ]
  },
  {
   "cell_type": "code",
   "execution_count": 13,
   "metadata": {},
   "outputs": [],
   "source": [
    "# Initial guess.\n",
    "A0,B0,C0 = 1,1,1\n",
    "x0 = np.array([A0, B0, C0])\n",
    "\n",
    "# func = fitAlgebraic\n",
    "# func = fitPowerlaw\n",
    "func = fitExp\n",
    "\n",
    "popt_UK, pcov_UK = curve_fit(func, xdata[5:], ydata_UK[5:]+1, x0,maxfev = 5000)"
   ]
  },
  {
   "cell_type": "code",
   "execution_count": 15,
   "metadata": {},
   "outputs": [
    {
     "data": {
      "image/png": "[encoded data removed]",
      "text/plain": [
       "<Figure size 432x288 with 1 Axes>"
      ]
     },
     "metadata": {
      "needs_background": "light"
     },
     "output_type": "display_data"
    }
   ],
   "source": [
    "fig = plt.figure()\n",
    "ax = fig.add_subplot(111)\n",
    "#plt.plot(xdata,func(xdata,popt[0],popt[1],popt[2]), label=r'fit: $A+B\\ln(t) + Ct$')\n",
    "# plt.plot(xdata,func(xdata,A0,B0,C0), color=coltri[0], label=r'theory')\n",
    "# plt.plot(np.arange(1,len(ydata_IT)+1,1)-7,ydata_IT, 'o-', color=coltri[2],  label=r'IT (-39)')\n",
    "plt.plot(xdata[:],ydata_UK[:], 'o-', color=coltri[0],  label=r'UK')\n",
    "plt.plot(xdata[10:], func(xdata, *popt_UK)[10:], '--',color='black', lw=2, label=r'fit')\n",
    "plt.legend(loc='best',prop={'size':20},frameon=True)\n",
    "plt.xlabel(r\"days of the year\", fontsize=20)\n",
    "plt.ylabel(r\"infected\", fontsize=20)\n",
    "ax.tick_params(which = 'major', axis='both', width=1.5, length = 10, labelsize=20,direction='in')\n",
    "ax.tick_params(which = 'minor', axis='both', width=1.5, length = 5, labelsize=20,direction='in')\n",
    "#plt.xticks(fontsize = 20)\n",
    "#plt.yticks(fontsize = 20)\n",
    "# plt.ylim(10,10000)\n",
    "plt.yscale('log')\n",
    "# plt.xscale('log')\n",
    "plt.title('',fontsize = 25)\n",
    "plt.show()"
   ]
  },
  {
   "cell_type": "code",
   "execution_count": 16,
   "metadata": {},
   "outputs": [
    {
     "data": {
      "text/plain": [
       "array([-2.32109803e+01, -2.10925639e+01, -1.84665855e+01, -1.52114359e+01,\n",
       "       -1.11763688e+01, -6.17451980e+00,  2.57471863e-02,  7.71156708e+00,\n",
       "        1.72388709e+01,  2.90488691e+01,  4.36884836e+01,  6.18356765e+01,\n",
       "        8.43308459e+01,  1.12215745e+02,  1.46781727e+02,  1.89629544e+02,\n",
       "        2.42743484e+02,  3.08583258e+02,  3.90197913e+02,  4.91367029e+02,\n",
       "        6.16775759e+02,  7.72231793e+02,  9.64934314e+02,  1.20380739e+03,\n",
       "        1.49991327e+03,  1.86696462e+03,  2.32195965e+03,  2.88596920e+03,\n",
       "        3.58511262e+03])"
      ]
     },
     "execution_count": 16,
     "metadata": {},
     "output_type": "execute_result"
    }
   ],
   "source": [
    "func(np.arange(1,30), *popt_UK)"
   ]
  },
  {
   "cell_type": "code",
   "execution_count": null,
   "metadata": {},
   "outputs": [],
   "source": []
  },
  {
   "cell_type": "code",
   "execution_count": 17,
   "metadata": {},
   "outputs": [],
   "source": [
    "italy = data[data.CountryExp =='Italy']"
   ]
  },
  {
   "cell_type": "code",
   "execution_count": 18,
   "metadata": {},
   "outputs": [
    {
     "data": {
      "text/html": [
       "<div>\n",
       "<style scoped>\n",
       "    .dataframe tbody tr th:only-of-type {\n",
       "        vertical-align: middle;\n",
       "    }\n",
       "\n",
       "    .dataframe tbody tr th {\n",
       "        vertical-align: top;\n",
       "    }\n",
       "\n",
       "    .dataframe thead th {\n",
       "        text-align: right;\n",
       "    }\n",
       "</style>\n",
       "<table border=\"1\" class=\"dataframe\">\n",
       "  <thead>\n",
       "    <tr style=\"text-align: right;\">\n",
       "      <th></th>\n",
       "      <th>DateRep</th>\n",
       "      <th>CountryExp</th>\n",
       "      <th>NewConfCases</th>\n",
       "      <th>NewDeaths</th>\n",
       "      <th>GeoId</th>\n",
       "      <th>Gaul1Nuts1</th>\n",
       "      <th>EU</th>\n",
       "    </tr>\n",
       "  </thead>\n",
       "  <tbody>\n",
       "    <tr>\n",
       "      <th>2447</th>\n",
       "      <td>14/03/2020</td>\n",
       "      <td>Italy</td>\n",
       "      <td>2547</td>\n",
       "      <td>252</td>\n",
       "      <td>IT</td>\n",
       "      <td>NaN</td>\n",
       "      <td>EU</td>\n",
       "    </tr>\n",
       "    <tr>\n",
       "      <th>2448</th>\n",
       "      <td>13/03/2020</td>\n",
       "      <td>Italy</td>\n",
       "      <td>2651</td>\n",
       "      <td>189</td>\n",
       "      <td>IT</td>\n",
       "      <td>NaN</td>\n",
       "      <td>EU</td>\n",
       "    </tr>\n",
       "    <tr>\n",
       "      <th>2449</th>\n",
       "      <td>12/03/2020</td>\n",
       "      <td>Italy</td>\n",
       "      <td>2313</td>\n",
       "      <td>196</td>\n",
       "      <td>IT</td>\n",
       "      <td>NaN</td>\n",
       "      <td>EU</td>\n",
       "    </tr>\n",
       "    <tr>\n",
       "      <th>2450</th>\n",
       "      <td>11/03/2020</td>\n",
       "      <td>Italy</td>\n",
       "      <td>977</td>\n",
       "      <td>167</td>\n",
       "      <td>IT</td>\n",
       "      <td>NaN</td>\n",
       "      <td>EU</td>\n",
       "    </tr>\n",
       "    <tr>\n",
       "      <th>2451</th>\n",
       "      <td>10/03/2020</td>\n",
       "      <td>Italy</td>\n",
       "      <td>1797</td>\n",
       "      <td>98</td>\n",
       "      <td>IT</td>\n",
       "      <td>NaN</td>\n",
       "      <td>EU</td>\n",
       "    </tr>\n",
       "    <tr>\n",
       "      <th>...</th>\n",
       "      <td>...</td>\n",
       "      <td>...</td>\n",
       "      <td>...</td>\n",
       "      <td>...</td>\n",
       "      <td>...</td>\n",
       "      <td>...</td>\n",
       "      <td>...</td>\n",
       "    </tr>\n",
       "    <tr>\n",
       "      <th>2517</th>\n",
       "      <td>04/01/2020</td>\n",
       "      <td>Italy</td>\n",
       "      <td>0</td>\n",
       "      <td>0</td>\n",
       "      <td>IT</td>\n",
       "      <td>NaN</td>\n",
       "      <td>EU</td>\n",
       "    </tr>\n",
       "    <tr>\n",
       "      <th>2518</th>\n",
       "      <td>03/01/2020</td>\n",
       "      <td>Italy</td>\n",
       "      <td>0</td>\n",
       "      <td>0</td>\n",
       "      <td>IT</td>\n",
       "      <td>NaN</td>\n",
       "      <td>EU</td>\n",
       "    </tr>\n",
       "    <tr>\n",
       "      <th>2519</th>\n",
       "      <td>02/01/2020</td>\n",
       "      <td>Italy</td>\n",
       "      <td>0</td>\n",
       "      <td>0</td>\n",
       "      <td>IT</td>\n",
       "      <td>NaN</td>\n",
       "      <td>EU</td>\n",
       "    </tr>\n",
       "    <tr>\n",
       "      <th>2520</th>\n",
       "      <td>01/01/2020</td>\n",
       "      <td>Italy</td>\n",
       "      <td>0</td>\n",
       "      <td>0</td>\n",
       "      <td>IT</td>\n",
       "      <td>NaN</td>\n",
       "      <td>EU</td>\n",
       "    </tr>\n",
       "    <tr>\n",
       "      <th>2521</th>\n",
       "      <td>31/12/2019</td>\n",
       "      <td>Italy</td>\n",
       "      <td>0</td>\n",
       "      <td>0</td>\n",
       "      <td>IT</td>\n",
       "      <td>NaN</td>\n",
       "      <td>EU</td>\n",
       "    </tr>\n",
       "  </tbody>\n",
       "</table>\n",
       "<p>75 rows × 7 columns</p>\n",
       "</div>"
      ],
      "text/plain": [
       "         DateRep CountryExp  NewConfCases  NewDeaths GeoId Gaul1Nuts1  EU\n",
       "2447  14/03/2020      Italy          2547        252    IT        NaN  EU\n",
       "2448  13/03/2020      Italy          2651        189    IT        NaN  EU\n",
       "2449  12/03/2020      Italy          2313        196    IT        NaN  EU\n",
       "2450  11/03/2020      Italy           977        167    IT        NaN  EU\n",
       "2451  10/03/2020      Italy          1797         98    IT        NaN  EU\n",
       "...          ...        ...           ...        ...   ...        ...  ..\n",
       "2517  04/01/2020      Italy             0          0    IT        NaN  EU\n",
       "2518  03/01/2020      Italy             0          0    IT        NaN  EU\n",
       "2519  02/01/2020      Italy             0          0    IT        NaN  EU\n",
       "2520  01/01/2020      Italy             0          0    IT        NaN  EU\n",
       "2521  31/12/2019      Italy             0          0    IT        NaN  EU\n",
       "\n",
       "[75 rows x 7 columns]"
      ]
     },
     "execution_count": 18,
     "metadata": {},
     "output_type": "execute_result"
    }
   ],
   "source": [
    "italy"
   ]
  },
  {
   "cell_type": "code",
   "execution_count": 19,
   "metadata": {},
   "outputs": [],
   "source": [
    "# cases_it[[\"DateRep\", \"NewConfCases\"]].to_numpy()\n",
    "newcases_IT = np.flip(italy.NewConfCases.to_numpy()[:21])"
   ]
  },
  {
   "cell_type": "code",
   "execution_count": 20,
   "metadata": {},
   "outputs": [
    {
     "data": {
      "text/plain": [
       "array([  62,   53,   97,   93,   78,  250,  238,  240,  561,  146,  667,\n",
       "        587,  769,  778, 1247, 1492, 1797,  977, 2313, 2651, 2547])"
      ]
     },
     "execution_count": 20,
     "metadata": {},
     "output_type": "execute_result"
    }
   ],
   "source": [
    "newcases_IT"
   ]
  },
  {
   "cell_type": "code",
   "execution_count": 21,
   "metadata": {},
   "outputs": [
    {
     "data": {
      "text/plain": [
       "(array([ 1,  2,  3,  4,  5,  6,  7,  8,  9, 10, 11, 12, 13, 14, 15, 16, 17,\n",
       "        18, 19, 20, 21]),\n",
       " array([   62,   115,   212,   305,   383,   633,   871,  1111,  1672,\n",
       "         1818,  2485,  3072,  3841,  4619,  5866,  7358,  9155, 10132,\n",
       "        12445, 15096, 17643]))"
      ]
     },
     "execution_count": 21,
     "metadata": {},
     "output_type": "execute_result"
    }
   ],
   "source": [
    "ydata_IT = np.cumsum(newcases_IT)\n",
    "t = np.arange(1,len(ydata_IT)+1,1)\n",
    "xdata = t\n",
    "xdata,ydata_IT"
   ]
  },
  {
   "cell_type": "code",
   "execution_count": 22,
   "metadata": {},
   "outputs": [
    {
     "data": {
      "text/plain": [
       "(array([ 4.94194735e+02,  1.72755669e-01, -7.23353819e+02]),\n",
       " array([ -135.9659842 ,   -25.1989333 ,   106.45608775,   262.9380418 ,\n",
       "          448.92868421,   669.99263547,   932.7438681 ,  1245.04358884,\n",
       "         1616.23543674,  2057.42503377,  2581.81225193,  3205.08613786,\n",
       "         3945.89431058,  4826.40087624,  5872.94955203,  7116.8518391 ,\n",
       "         8595.32382569, 10352.59964861, 12441.25492638, 14923.77975968,\n",
       "        17874.44836139]))"
      ]
     },
     "execution_count": 22,
     "metadata": {},
     "output_type": "execute_result"
    }
   ],
   "source": [
    "# Initial guess.\n",
    "A0,B0,C0 = 1,1,1\n",
    "x0 = np.array([A0, B0, C0])\n",
    "\n",
    "# func = fitAlgebraic\n",
    "# func = fitPowerlaw\n",
    "func = fitExp\n",
    "\n",
    "popt_IT, pcov_IT = curve_fit(func, xdata[:], ydata_IT[:]+1, x0,maxfev = 5000)\n",
    "A_IT, B_IT, C_IT = popt_IT[0], popt_IT[1], popt_IT[2]\n",
    "x_IT = np.array([A_IT, B_IT, C_IT])\n",
    "curve_IT = func(t, A_IT, B_IT, C_IT)\n",
    "x_IT,curve_IT"
   ]
  },
  {
   "cell_type": "code",
   "execution_count": 23,
   "metadata": {},
   "outputs": [
    {
     "data": {
      "image/png": "[encoded data removed]",
      "text/plain": [
       "<Figure size 432x288 with 1 Axes>"
      ]
     },
     "metadata": {
      "needs_background": "light"
     },
     "output_type": "display_data"
    }
   ],
   "source": [
    "coltri = [\"darkred\", \"skyblue\", \"orange\"]\n",
    "\n",
    "\n",
    "\n",
    "fig = plt.figure()\n",
    "ax = fig.add_subplot(111)\n",
    "# plt.hlines(60e+6, 0, 70, colors='k', linestyles='--', label='max') \n",
    "#plt.plot(xdata,func(xdata,popt[0],popt[1],popt[2]), label=r'fit: $A+B\\ln(t) + Ct$')\n",
    "# plt.plot(xdata,func(xdata,A0,B0,C0), color=coltri[0], label=r'theory')\n",
    "plt.plot(xdata,ydata_IT, 'o-', color=coltri[2],  label=r'data')\n",
    "plt.plot(np.arange(1,30), func(np.arange(1,30), *popt_IT), '--',color='black', lw=2, label=r'fit: $Ae^{Bt}+C$')\n",
    "plt.legend(loc='best',prop={'size':20},frameon=True)\n",
    "plt.xlabel(r\"days since 20 February\", fontsize=20)\n",
    "plt.ylabel(r\"infected\", fontsize=20)\n",
    "ax.tick_params(which = 'major', axis='both', width=1.5, length = 10, labelsize=20,direction='in')\n",
    "ax.tick_params(which = 'minor', axis='both', width=1.5, length = 5, labelsize=20,direction='in')\n",
    "#plt.xticks(fontsize = 20)\n",
    "#plt.yticks(fontsize = 20)\n",
    "plt.yscale('log')\n",
    "# plt.xscale('log')\n",
    "plt.title('ITALY',fontsize = 20)\n",
    "plt.show()\n",
    "# fig.savefig(\"fig_diamter_SISnoinset.pdf\", bbox_inches='tight')\n",
    "# plt.close(\"all\")\n"
   ]
  },
  {
   "cell_type": "code",
   "execution_count": 24,
   "metadata": {},
   "outputs": [],
   "source": [
    "newdeaths_IT = np.flip(italy.NewDeaths.to_numpy()[:21])\n",
    "ydata_deaths_IT = np.cumsum(newdeaths_IT)\n",
    "popt_deaths_IT = curve_fit(func, xdata, ydata_deaths_IT, x0,maxfev = 5000)[0]"
   ]
  },
  {
   "cell_type": "code",
   "execution_count": 25,
   "metadata": {},
   "outputs": [
    {
     "data": {
      "image/png": "[encoded data removed]",
      "text/plain": [
       "<Figure size 432x288 with 1 Axes>"
      ]
     },
     "metadata": {
      "needs_background": "light"
     },
     "output_type": "display_data"
    }
   ],
   "source": [
    "fig = plt.figure()\n",
    "ax = fig.add_subplot(111)\n",
    "# plt.hlines(5e+3, 0, 70, colors='k', linestyles='--', label='max') \n",
    "#plt.plot(xdata,func(xdata,popt[0],popt[1],popt[2]), label=r'fit: $A+B\\ln(t) + Ct$')\n",
    "# plt.plot(xdata,func(xdata,A0,B0,C0), color=coltri[0], label=r'theory')\n",
    "plt.plot(xdata,ydata_deaths_IT, 'o-', color=coltri[2],  label=r'data')\n",
    "plt.plot(np.arange(1,30), func(np.arange(1,30), *popt_deaths_IT), '--',color='black', lw=2, label=r'fit: $Ae^{Bt}+C$')\n",
    "plt.legend(loc='best',prop={'size':20},frameon=True)\n",
    "plt.xlabel(r\"days since 20 February\", fontsize=20)\n",
    "plt.ylabel(r\"deaths\", fontsize=20)\n",
    "ax.tick_params(which = 'major', axis='both', width=1.5, length = 10, labelsize=20,direction='in')\n",
    "ax.tick_params(which = 'minor', axis='both', width=1.5, length = 5, labelsize=20,direction='in')\n",
    "#plt.xticks(fontsize = 20)\n",
    "#plt.yticks(fontsize = 20)\n",
    "plt.yscale('log')\n",
    "# plt.xscale('log')\n",
    "plt.title('ITALY',fontsize = 20)\n",
    "plt.show()\n",
    "# fig.savefig(\"fig_diamter_SISnoinset.pdf\", bbox_inches='tight')\n",
    "# plt.close(\"all\")"
   ]
  },
  {
   "cell_type": "code",
   "execution_count": 26,
   "metadata": {},
   "outputs": [
    {
     "data": {
      "text/plain": [
       "array([  6.95815336,   0.24977701, -19.79758495])"
      ]
     },
     "execution_count": 26,
     "metadata": {},
     "output_type": "execute_result"
    }
   ],
   "source": [
    "popt_deaths_IT"
   ]
  },
  {
   "cell_type": "code",
   "execution_count": null,
   "metadata": {},
   "outputs": [],
   "source": []
  },
  {
   "cell_type": "code",
   "execution_count": null,
   "metadata": {},
   "outputs": [],
   "source": []
  },
  {
   "cell_type": "code",
   "execution_count": 35,
   "metadata": {},
   "outputs": [
    {
     "data": {
      "image/png": "[encoded data removed]",
      "text/plain": [
       "<Figure size 432x288 with 1 Axes>"
      ]
     },
     "metadata": {
      "needs_background": "light"
     },
     "output_type": "display_data"
    }
   ],
   "source": [
    "fig = plt.figure()\n",
    "ax = fig.add_subplot(111)\n",
    "#plt.plot(xdata,func(xdata,popt[0],popt[1],popt[2]), label=r'fit: $A+B\\ln(t) + Ct$')\n",
    "# plt.plot(xdata,func(xdata,A0,B0,C0), color=coltri[0], label=r'theory')\n",
    "plt.plot(xdata,ydata_IT, 'o-', color=coltri[2],  label=r'IT')\n",
    "# plt.plot(xdata-9,ydata_DE, 'o-', color=coltri[1],  label=r'DE (+9)')\n",
    "plt.plot(xdata-16,ydata_UK, 'o-', color=coltri[0],  label=r'UK (-16)')\n",
    "\n",
    "\n",
    "plt.plot(np.arange(10,25), func(np.arange(10,25), *popt_IT), '--',color='black', lw=2, label=r'fit: $Ae^{Bt}+C$')\n",
    "plt.legend(loc='best',prop={'size':20},frameon=True)\n",
    "plt.xlabel(r\"days since 20 February\", fontsize=20)\n",
    "plt.ylabel(r\"infected\", fontsize=20)\n",
    "ax.tick_params(which = 'major', axis='both', width=1.5, length = 10, labelsize=20,direction='in')\n",
    "ax.tick_params(which = 'minor', axis='both', width=1.5, length = 5, labelsize=20,direction='in')\n",
    "#plt.xticks(fontsize = 20)\n",
    "#plt.yticks(fontsize = 20)\n",
    "# plt.ylim(-100,2600)\n",
    "plt.yscale('log')\n",
    "# plt.xscale('log')\n",
    "plt.title('',fontsize = 25)\n",
    "plt.show()"
   ]
  },
  {
   "cell_type": "code",
   "execution_count": 30,
   "metadata": {},
   "outputs": [],
   "source": [
    "newdeaths_UK = np.flip(england.NewDeaths.to_numpy()[:21])\n",
    "ydata_deaths_UK = np.cumsum(newdeaths_UK)\n",
    "popt_deaths_UK = curve_fit(func, xdata, ydata_deaths_UK, x0,maxfev = 5000)[0]"
   ]
  },
  {
   "cell_type": "code",
   "execution_count": 32,
   "metadata": {},
   "outputs": [
    {
     "data": {
      "image/png": "[encoded data removed]",
      "text/plain": [
       "<Figure size 432x288 with 1 Axes>"
      ]
     },
     "metadata": {
      "needs_background": "light"
     },
     "output_type": "display_data"
    }
   ],
   "source": [
    "fig = plt.figure()\n",
    "ax = fig.add_subplot(111)\n",
    "# plt.hlines(5e+3, 0, 70, colors='k', linestyles='--', label='max') \n",
    "#plt.plot(xdata,func(xdata,popt[0],popt[1],popt[2]), label=r'fit: $A+B\\ln(t) + Ct$')\n",
    "# plt.plot(xdata,func(xdata,A0,B0,C0), color=coltri[0], label=r'theory')\n",
    "plt.plot(xdata,ydata_deaths_IT, 'o-', color=coltri[2],  label=r'IT')\n",
    "plt.plot(xdata-16,ydata_deaths_UK, 'o-', color=coltri[0],  label=r'UK (-16)')\n",
    "plt.plot(np.arange(10,30), func(np.arange(10,30), *popt_deaths_IT), '--',color='black', lw=2, label=r'fit: $Ae^{Bt}+C$')\n",
    "plt.legend(loc='best',prop={'size':20},frameon=True)\n",
    "plt.xlabel(r\"days since 20 February\", fontsize=20)\n",
    "plt.ylabel(r\"deaths\", fontsize=20)\n",
    "ax.tick_params(which = 'major', axis='both', width=1.5, length = 10, labelsize=20,direction='in')\n",
    "ax.tick_params(which = 'minor', axis='both', width=1.5, length = 5, labelsize=20,direction='in')\n",
    "#plt.xticks(fontsize = 20)\n",
    "#plt.yticks(fontsize = 20)\n",
    "plt.yscale('log')\n",
    "# plt.xscale('log')\n",
    "# plt.title('ITALY',fontsize = 20)\n",
    "plt.show()\n",
    "# fig.savefig(\"fig_diamter_SISnoinset.pdf\", bbox_inches='tight')\n",
    "# plt.close(\"all\")"
   ]
  },
  {
   "cell_type": "code",
   "execution_count": 34,
   "metadata": {},
   "outputs": [
    {
     "data": {
      "text/plain": [
       "array([  6.95815336,   0.24977701, -19.79758495])"
      ]
     },
     "execution_count": 34,
     "metadata": {},
     "output_type": "execute_result"
    }
   ],
   "source": [
    "popt_deaths_IT"
   ]
  },
  {
   "cell_type": "code",
   "execution_count": null,
   "metadata": {},
   "outputs": [],
   "source": []
  },
  {
   "cell_type": "code",
   "execution_count": 24,
   "metadata": {},
   "outputs": [
    {
     "data": {
      "text/html": [
       "<div>\n",
       "<style scoped>\n",
       "    .dataframe tbody tr th:only-of-type {\n",
       "        vertical-align: middle;\n",
       "    }\n",
       "\n",
       "    .dataframe tbody tr th {\n",
       "        vertical-align: top;\n",
       "    }\n",
       "\n",
       "    .dataframe thead th {\n",
       "        text-align: right;\n",
       "    }\n",
       "</style>\n",
       "<table border=\"1\" class=\"dataframe\">\n",
       "  <thead>\n",
       "    <tr style=\"text-align: right;\">\n",
       "      <th></th>\n",
       "      <th>DateRep</th>\n",
       "      <th>CountryExp</th>\n",
       "      <th>NewConfCases</th>\n",
       "      <th>NewDeaths</th>\n",
       "      <th>GeoId</th>\n",
       "      <th>Gaul1Nuts1</th>\n",
       "      <th>EU</th>\n",
       "    </tr>\n",
       "  </thead>\n",
       "  <tbody>\n",
       "    <tr>\n",
       "      <th>1742</th>\n",
       "      <td>13/03/2020</td>\n",
       "      <td>Germany</td>\n",
       "      <td>802</td>\n",
       "      <td>2</td>\n",
       "      <td>DE</td>\n",
       "      <td>NaN</td>\n",
       "      <td>EU</td>\n",
       "    </tr>\n",
       "    <tr>\n",
       "      <th>1743</th>\n",
       "      <td>12/03/2020</td>\n",
       "      <td>Germany</td>\n",
       "      <td>271</td>\n",
       "      <td>1</td>\n",
       "      <td>DE</td>\n",
       "      <td>NaN</td>\n",
       "      <td>EU</td>\n",
       "    </tr>\n",
       "    <tr>\n",
       "      <th>1744</th>\n",
       "      <td>11/03/2020</td>\n",
       "      <td>Germany</td>\n",
       "      <td>157</td>\n",
       "      <td>0</td>\n",
       "      <td>DE</td>\n",
       "      <td>NaN</td>\n",
       "      <td>EU</td>\n",
       "    </tr>\n",
       "    <tr>\n",
       "      <th>1745</th>\n",
       "      <td>10/03/2020</td>\n",
       "      <td>Germany</td>\n",
       "      <td>237</td>\n",
       "      <td>2</td>\n",
       "      <td>DE</td>\n",
       "      <td>NaN</td>\n",
       "      <td>EU</td>\n",
       "    </tr>\n",
       "    <tr>\n",
       "      <th>1746</th>\n",
       "      <td>09/03/2020</td>\n",
       "      <td>Germany</td>\n",
       "      <td>55</td>\n",
       "      <td>0</td>\n",
       "      <td>DE</td>\n",
       "      <td>NaN</td>\n",
       "      <td>EU</td>\n",
       "    </tr>\n",
       "    <tr>\n",
       "      <th>...</th>\n",
       "      <td>...</td>\n",
       "      <td>...</td>\n",
       "      <td>...</td>\n",
       "      <td>...</td>\n",
       "      <td>...</td>\n",
       "      <td>...</td>\n",
       "      <td>...</td>\n",
       "    </tr>\n",
       "    <tr>\n",
       "      <th>1811</th>\n",
       "      <td>04/01/2020</td>\n",
       "      <td>Germany</td>\n",
       "      <td>0</td>\n",
       "      <td>0</td>\n",
       "      <td>DE</td>\n",
       "      <td>NaN</td>\n",
       "      <td>EU</td>\n",
       "    </tr>\n",
       "    <tr>\n",
       "      <th>1812</th>\n",
       "      <td>03/01/2020</td>\n",
       "      <td>Germany</td>\n",
       "      <td>0</td>\n",
       "      <td>0</td>\n",
       "      <td>DE</td>\n",
       "      <td>NaN</td>\n",
       "      <td>EU</td>\n",
       "    </tr>\n",
       "    <tr>\n",
       "      <th>1813</th>\n",
       "      <td>02/01/2020</td>\n",
       "      <td>Germany</td>\n",
       "      <td>0</td>\n",
       "      <td>0</td>\n",
       "      <td>DE</td>\n",
       "      <td>NaN</td>\n",
       "      <td>EU</td>\n",
       "    </tr>\n",
       "    <tr>\n",
       "      <th>1814</th>\n",
       "      <td>01/01/2020</td>\n",
       "      <td>Germany</td>\n",
       "      <td>0</td>\n",
       "      <td>0</td>\n",
       "      <td>DE</td>\n",
       "      <td>NaN</td>\n",
       "      <td>EU</td>\n",
       "    </tr>\n",
       "    <tr>\n",
       "      <th>1815</th>\n",
       "      <td>31/12/2019</td>\n",
       "      <td>Germany</td>\n",
       "      <td>0</td>\n",
       "      <td>0</td>\n",
       "      <td>DE</td>\n",
       "      <td>NaN</td>\n",
       "      <td>EU</td>\n",
       "    </tr>\n",
       "  </tbody>\n",
       "</table>\n",
       "<p>74 rows × 7 columns</p>\n",
       "</div>"
      ],
      "text/plain": [
       "         DateRep CountryExp  NewConfCases  NewDeaths GeoId Gaul1Nuts1  EU\n",
       "1742  13/03/2020    Germany           802          2    DE        NaN  EU\n",
       "1743  12/03/2020    Germany           271          1    DE        NaN  EU\n",
       "1744  11/03/2020    Germany           157          0    DE        NaN  EU\n",
       "1745  10/03/2020    Germany           237          2    DE        NaN  EU\n",
       "1746  09/03/2020    Germany            55          0    DE        NaN  EU\n",
       "...          ...        ...           ...        ...   ...        ...  ..\n",
       "1811  04/01/2020    Germany             0          0    DE        NaN  EU\n",
       "1812  03/01/2020    Germany             0          0    DE        NaN  EU\n",
       "1813  02/01/2020    Germany             0          0    DE        NaN  EU\n",
       "1814  01/01/2020    Germany             0          0    DE        NaN  EU\n",
       "1815  31/12/2019    Germany             0          0    DE        NaN  EU\n",
       "\n",
       "[74 rows x 7 columns]"
      ]
     },
     "execution_count": 24,
     "metadata": {},
     "output_type": "execute_result"
    }
   ],
   "source": [
    "germany = data[data.CountryExp =='Germany']\n",
    "germany"
   ]
  },
  {
   "cell_type": "code",
   "execution_count": 25,
   "metadata": {},
   "outputs": [
    {
     "data": {
      "text/plain": [
       "array([  0,   0,   0,   0,   2,   4,  26,  10,  54,  18,  28,  39,  66,\n",
       "       138, 284, 163,  55, 237, 157, 271, 802])"
      ]
     },
     "execution_count": 25,
     "metadata": {},
     "output_type": "execute_result"
    }
   ],
   "source": [
    "newcases_DE = np.flip(germany.NewConfCases.to_numpy()[:21])\n",
    "newcases_DE"
   ]
  },
  {
   "cell_type": "code",
   "execution_count": 26,
   "metadata": {},
   "outputs": [
    {
     "data": {
      "text/plain": [
       "(array([ 1,  2,  3,  4,  5,  6,  7,  8,  9, 10, 11, 12, 13, 14, 15, 16, 17,\n",
       "        18, 19, 20, 21]),\n",
       " array([   0,    0,    0,    0,    2,    6,   32,   42,   96,  114,  142,\n",
       "         181,  247,  385,  669,  832,  887, 1124, 1281, 1552, 2354]))"
      ]
     },
     "execution_count": 26,
     "metadata": {},
     "output_type": "execute_result"
    }
   ],
   "source": [
    "ydata_DE = np.cumsum(newcases_DE)\n",
    "t = np.arange(1,len(ydata_DE)+1,1)\n",
    "xdata = t\n",
    "xdata,ydata_DE"
   ]
  },
  {
   "cell_type": "code",
   "execution_count": 27,
   "metadata": {},
   "outputs": [
    {
     "data": {
      "text/plain": [
       "(array([ 19.36277632,   0.22673493, -53.20863493]),\n",
       " array([ -28.91808434,  -22.73620484,  -14.98105369,   -5.25223753,\n",
       "           6.95253606,   22.26339157,   41.47081844,   65.56648357,\n",
       "          95.79443038,  133.715308  ,  181.28694654,  240.96543859,\n",
       "         315.83194565,  409.75177652,  527.57395065,  675.38154982,\n",
       "         860.8057837 , 1093.41998423, 1385.23387043, 1751.3136024 ,\n",
       "        2210.55963726]))"
      ]
     },
     "execution_count": 27,
     "metadata": {},
     "output_type": "execute_result"
    }
   ],
   "source": [
    "# Initial guess.\n",
    "A0,B0,C0 = 1,1,1\n",
    "x0 = np.array([A0, B0, C0])\n",
    "\n",
    "func = fitExp\n",
    "popt_DE, pcov_DE = curve_fit(func, xdata, ydata_DE, x0,maxfev = 5000)\n",
    "A_DE, B_DE, C_DE = popt_DE[0], popt_DE[1], popt_DE[2]\n",
    "x_DE = np.array([A_DE, B_DE, C_DE])\n",
    "curve_DE = fitExp(t, A_DE, B_DE, C_DE)\n",
    "x_DE,curve_DE"
   ]
  },
  {
   "cell_type": "code",
   "execution_count": 28,
   "metadata": {},
   "outputs": [
    {
     "data": {
      "image/png": "[encoded data removed]",
      "text/plain": [
       "<Figure size 432x288 with 1 Axes>"
      ]
     },
     "metadata": {
      "needs_background": "light"
     },
     "output_type": "display_data"
    }
   ],
   "source": [
    "\n",
    "fig = plt.figure()\n",
    "ax = fig.add_subplot(111)\n",
    "#plt.plot(xdata,func(xdata,popt[0],popt[1],popt[2]), label=r'fit: $A+B\\ln(t) + Ct$')\n",
    "# plt.plot(xdata,func(xdata,A0,B0,C0), color=coltri[0], label=r'theory')\n",
    "plt.plot(xdata,ydata_DE, 'o', color=coltri[1],  label=r'data')\n",
    "plt.plot(np.arange(1,30), func(np.arange(1,30), *popt_DE), '--',color=coltri[0], lw=2, label=r'fit: $Ae^{Bt}+C$')\n",
    "plt.legend(loc='best',prop={'size':20},frameon=True)\n",
    "plt.xlabel(r\"days since 20 February\", fontsize=20)\n",
    "plt.ylabel(r\"infected\", fontsize=20)\n",
    "ax.tick_params(which = 'major', axis='both', width=1.5, length = 10, labelsize=20,direction='in')\n",
    "ax.tick_params(which = 'minor', axis='both', width=1.5, length = 5, labelsize=20,direction='in')\n",
    "#plt.xticks(fontsize = 20)\n",
    "#plt.yticks(fontsize = 20)\n",
    "plt.yscale('log')\n",
    "# plt.xscale('log')\n",
    "plt.title('GERMANY',fontsize = 20)\n",
    "plt.show()"
   ]
  },
  {
   "cell_type": "code",
   "execution_count": 24,
   "metadata": {},
   "outputs": [
    {
     "data": {
      "text/plain": [
       "array([-2.89180843e+01, -2.27362048e+01, -1.49810537e+01, -5.25223753e+00,\n",
       "        6.95253606e+00,  2.22633916e+01,  4.14708184e+01,  6.55664836e+01,\n",
       "        9.57944304e+01,  1.33715308e+02,  1.81286947e+02,  2.40965439e+02,\n",
       "        3.15831946e+02,  4.09751777e+02,  5.27573951e+02,  6.75381550e+02,\n",
       "        8.60805784e+02,  1.09341998e+03,  1.38523387e+03,  1.75131360e+03,\n",
       "        2.21055964e+03,  2.78668255e+03,  3.50942718e+03,  4.41610837e+03,\n",
       "        5.55353748e+03,  6.98043922e+03,  8.77048360e+03,  1.10160894e+04,\n",
       "        1.38331959e+04])"
      ]
     },
     "execution_count": 24,
     "metadata": {},
     "output_type": "execute_result"
    }
   ],
   "source": [
    "func(np.arange(1,30), *popt_DE)\n"
   ]
  },
  {
   "cell_type": "code",
   "execution_count": 31,
   "metadata": {},
   "outputs": [
    {
     "data": {
      "text/html": [
       "<div>\n",
       "<style scoped>\n",
       "    .dataframe tbody tr th:only-of-type {\n",
       "        vertical-align: middle;\n",
       "    }\n",
       "\n",
       "    .dataframe tbody tr th {\n",
       "        vertical-align: top;\n",
       "    }\n",
       "\n",
       "    .dataframe thead th {\n",
       "        text-align: right;\n",
       "    }\n",
       "</style>\n",
       "<table border=\"1\" class=\"dataframe\">\n",
       "  <thead>\n",
       "    <tr style=\"text-align: right;\">\n",
       "      <th></th>\n",
       "      <th>DateRep</th>\n",
       "      <th>CountryExp</th>\n",
       "      <th>NewConfCases</th>\n",
       "      <th>NewDeaths</th>\n",
       "      <th>GeoId</th>\n",
       "      <th>Gaul1Nuts1</th>\n",
       "      <th>EU</th>\n",
       "    </tr>\n",
       "  </thead>\n",
       "  <tbody>\n",
       "    <tr>\n",
       "      <th>4761</th>\n",
       "      <td>13/03/2020</td>\n",
       "      <td>United States of America</td>\n",
       "      <td>351</td>\n",
       "      <td>10</td>\n",
       "      <td>US</td>\n",
       "      <td>NaN</td>\n",
       "      <td>Non-EU/EEA</td>\n",
       "    </tr>\n",
       "    <tr>\n",
       "      <th>4762</th>\n",
       "      <td>12/03/2020</td>\n",
       "      <td>United States of America</td>\n",
       "      <td>287</td>\n",
       "      <td>2</td>\n",
       "      <td>US</td>\n",
       "      <td>NaN</td>\n",
       "      <td>Non-EU/EEA</td>\n",
       "    </tr>\n",
       "    <tr>\n",
       "      <th>4763</th>\n",
       "      <td>11/03/2020</td>\n",
       "      <td>United States of America</td>\n",
       "      <td>271</td>\n",
       "      <td>2</td>\n",
       "      <td>US</td>\n",
       "      <td>NaN</td>\n",
       "      <td>Non-EU/EEA</td>\n",
       "    </tr>\n",
       "    <tr>\n",
       "      <th>4764</th>\n",
       "      <td>10/03/2020</td>\n",
       "      <td>United States of America</td>\n",
       "      <td>200</td>\n",
       "      <td>5</td>\n",
       "      <td>US</td>\n",
       "      <td>NaN</td>\n",
       "      <td>Non-EU/EEA</td>\n",
       "    </tr>\n",
       "    <tr>\n",
       "      <th>4765</th>\n",
       "      <td>09/03/2020</td>\n",
       "      <td>United States of America</td>\n",
       "      <td>121</td>\n",
       "      <td>4</td>\n",
       "      <td>US</td>\n",
       "      <td>NaN</td>\n",
       "      <td>Non-EU/EEA</td>\n",
       "    </tr>\n",
       "    <tr>\n",
       "      <th>...</th>\n",
       "      <td>...</td>\n",
       "      <td>...</td>\n",
       "      <td>...</td>\n",
       "      <td>...</td>\n",
       "      <td>...</td>\n",
       "      <td>...</td>\n",
       "      <td>...</td>\n",
       "    </tr>\n",
       "    <tr>\n",
       "      <th>4830</th>\n",
       "      <td>04/01/2020</td>\n",
       "      <td>United States of America</td>\n",
       "      <td>0</td>\n",
       "      <td>0</td>\n",
       "      <td>US</td>\n",
       "      <td>NaN</td>\n",
       "      <td>Non-EU/EEA</td>\n",
       "    </tr>\n",
       "    <tr>\n",
       "      <th>4831</th>\n",
       "      <td>03/01/2020</td>\n",
       "      <td>United States of America</td>\n",
       "      <td>0</td>\n",
       "      <td>0</td>\n",
       "      <td>US</td>\n",
       "      <td>NaN</td>\n",
       "      <td>Non-EU/EEA</td>\n",
       "    </tr>\n",
       "    <tr>\n",
       "      <th>4832</th>\n",
       "      <td>02/01/2020</td>\n",
       "      <td>United States of America</td>\n",
       "      <td>0</td>\n",
       "      <td>0</td>\n",
       "      <td>US</td>\n",
       "      <td>NaN</td>\n",
       "      <td>Non-EU/EEA</td>\n",
       "    </tr>\n",
       "    <tr>\n",
       "      <th>4833</th>\n",
       "      <td>01/01/2020</td>\n",
       "      <td>United States of America</td>\n",
       "      <td>0</td>\n",
       "      <td>0</td>\n",
       "      <td>US</td>\n",
       "      <td>NaN</td>\n",
       "      <td>Non-EU/EEA</td>\n",
       "    </tr>\n",
       "    <tr>\n",
       "      <th>4834</th>\n",
       "      <td>31/12/2019</td>\n",
       "      <td>United States of America</td>\n",
       "      <td>0</td>\n",
       "      <td>0</td>\n",
       "      <td>US</td>\n",
       "      <td>NaN</td>\n",
       "      <td>Non-EU/EEA</td>\n",
       "    </tr>\n",
       "  </tbody>\n",
       "</table>\n",
       "<p>74 rows × 7 columns</p>\n",
       "</div>"
      ],
      "text/plain": [
       "         DateRep                CountryExp  NewConfCases  NewDeaths GeoId  \\\n",
       "4761  13/03/2020  United States of America           351         10    US   \n",
       "4762  12/03/2020  United States of America           287          2    US   \n",
       "4763  11/03/2020  United States of America           271          2    US   \n",
       "4764  10/03/2020  United States of America           200          5    US   \n",
       "4765  09/03/2020  United States of America           121          4    US   \n",
       "...          ...                       ...           ...        ...   ...   \n",
       "4830  04/01/2020  United States of America             0          0    US   \n",
       "4831  03/01/2020  United States of America             0          0    US   \n",
       "4832  02/01/2020  United States of America             0          0    US   \n",
       "4833  01/01/2020  United States of America             0          0    US   \n",
       "4834  31/12/2019  United States of America             0          0    US   \n",
       "\n",
       "     Gaul1Nuts1          EU  \n",
       "4761        NaN  Non-EU/EEA  \n",
       "4762        NaN  Non-EU/EEA  \n",
       "4763        NaN  Non-EU/EEA  \n",
       "4764        NaN  Non-EU/EEA  \n",
       "4765        NaN  Non-EU/EEA  \n",
       "...         ...         ...  \n",
       "4830        NaN  Non-EU/EEA  \n",
       "4831        NaN  Non-EU/EEA  \n",
       "4832        NaN  Non-EU/EEA  \n",
       "4833        NaN  Non-EU/EEA  \n",
       "4834        NaN  Non-EU/EEA  \n",
       "\n",
       "[74 rows x 7 columns]"
      ]
     },
     "execution_count": 31,
     "metadata": {},
     "output_type": "execute_result"
    }
   ],
   "source": [
    "usa = data[data.CountryExp =='United States of America']\n",
    "usa"
   ]
  },
  {
   "cell_type": "code",
   "execution_count": 32,
   "metadata": {},
   "outputs": [
    {
     "data": {
      "text/plain": [
       "array([ 19,   0,   0,  18,   0,   6,   1,   6,   3,  20,  14,  22,  34,\n",
       "        74, 105,  95, 121, 200, 271, 287, 351])"
      ]
     },
     "execution_count": 32,
     "metadata": {},
     "output_type": "execute_result"
    }
   ],
   "source": [
    "newcases_US = np.flip(usa.NewConfCases.to_numpy()[:21])\n",
    "newcases_US"
   ]
  },
  {
   "cell_type": "code",
   "execution_count": 33,
   "metadata": {},
   "outputs": [
    {
     "data": {
      "text/plain": [
       "(array([ 1,  2,  3,  4,  5,  6,  7,  8,  9, 10, 11, 12, 13, 14, 15, 16, 17,\n",
       "        18, 19, 20, 21]),\n",
       " array([  19,   19,   19,   37,   37,   43,   44,   50,   53,   73,   87,\n",
       "         109,  143,  217,  322,  417,  538,  738, 1009, 1296, 1647]))"
      ]
     },
     "execution_count": 33,
     "metadata": {},
     "output_type": "execute_result"
    }
   ],
   "source": [
    "ydata_US = np.cumsum(newcases_US)\n",
    "t = np.arange(1,len(ydata_US)+1,1)\n",
    "xdata = t\n",
    "xdata,ydata_US"
   ]
  },
  {
   "cell_type": "code",
   "execution_count": 34,
   "metadata": {},
   "outputs": [
    {
     "data": {
      "image/png": "[encoded data removed]",
      "text/plain": [
       "<Figure size 432x288 with 1 Axes>"
      ]
     },
     "metadata": {
      "needs_background": "light"
     },
     "output_type": "display_data"
    }
   ],
   "source": [
    "fig = plt.figure()\n",
    "ax = fig.add_subplot(111)\n",
    "#plt.plot(xdata,func(xdata,popt[0],popt[1],popt[2]), label=r'fit: $A+B\\ln(t) + Ct$')\n",
    "# plt.plot(xdata,func(xdata,A0,B0,C0), color=coltri[0], label=r'theory')\n",
    "plt.plot(xdata,ydata_IT, 'o-', color=coltri[2],  label=r'IT')\n",
    "# plt.plot(xdata-9,ydata_DE, 'o-', color=coltri[1],  label=r'DE (+9)')\n",
    "plt.plot(xdata-10,ydata_US, 'o-', color=coltri[0],  label=r'US (+10)')\n",
    "\n",
    "\n",
    "plt.plot(np.arange(10,20), func(np.arange(10,20)+10, 1.10748188e+02,  2.11390555e-01, 1000), '--',color='black', lw=2, label=r'fit')\n",
    "plt.legend(loc='best',prop={'size':20},frameon=True)\n",
    "plt.xlabel(r\"days since 20 February\", fontsize=20)\n",
    "plt.ylabel(r\"infected\", fontsize=20)\n",
    "ax.tick_params(which = 'major', axis='both', width=1.5, length = 10, labelsize=20,direction='in')\n",
    "ax.tick_params(which = 'minor', axis='both', width=1.5, length = 5, labelsize=20,direction='in')\n",
    "#plt.xticks(fontsize = 20)\n",
    "#plt.yticks(fontsize = 20)\n",
    "# plt.ylim(-100,2600)\n",
    "plt.yscale('log')\n",
    "# plt.xscale('log')\n",
    "plt.title('',fontsize = 25)\n",
    "plt.show()"
   ]
  },
  {
   "cell_type": "code",
   "execution_count": null,
   "metadata": {},
   "outputs": [],
   "source": []
  },
  {
   "cell_type": "code",
   "execution_count": null,
   "metadata": {},
   "outputs": [],
   "source": []
  },
  {
   "cell_type": "code",
   "execution_count": 35,
   "metadata": {},
   "outputs": [
    {
     "data": {
      "text/html": [
       "<div>\n",
       "<style scoped>\n",
       "    .dataframe tbody tr th:only-of-type {\n",
       "        vertical-align: middle;\n",
       "    }\n",
       "\n",
       "    .dataframe tbody tr th {\n",
       "        vertical-align: top;\n",
       "    }\n",
       "\n",
       "    .dataframe thead th {\n",
       "        text-align: right;\n",
       "    }\n",
       "</style>\n",
       "<table border=\"1\" class=\"dataframe\">\n",
       "  <thead>\n",
       "    <tr style=\"text-align: right;\">\n",
       "      <th></th>\n",
       "      <th>DateRep</th>\n",
       "      <th>CountryExp</th>\n",
       "      <th>NewConfCases</th>\n",
       "      <th>NewDeaths</th>\n",
       "      <th>GeoId</th>\n",
       "      <th>Gaul1Nuts1</th>\n",
       "      <th>EU</th>\n",
       "    </tr>\n",
       "  </thead>\n",
       "  <tbody>\n",
       "    <tr>\n",
       "      <th>4394</th>\n",
       "      <td>13/03/2020</td>\n",
       "      <td>Switzerland</td>\n",
       "      <td>212</td>\n",
       "      <td>0</td>\n",
       "      <td>CH</td>\n",
       "      <td>NaN</td>\n",
       "      <td>Non-EU/EEA</td>\n",
       "    </tr>\n",
       "    <tr>\n",
       "      <th>4395</th>\n",
       "      <td>12/03/2020</td>\n",
       "      <td>Switzerland</td>\n",
       "      <td>152</td>\n",
       "      <td>1</td>\n",
       "      <td>CH</td>\n",
       "      <td>NaN</td>\n",
       "      <td>Non-EU/EEA</td>\n",
       "    </tr>\n",
       "    <tr>\n",
       "      <th>4396</th>\n",
       "      <td>11/03/2020</td>\n",
       "      <td>Switzerland</td>\n",
       "      <td>116</td>\n",
       "      <td>1</td>\n",
       "      <td>CH</td>\n",
       "      <td>NaN</td>\n",
       "      <td>Non-EU/EEA</td>\n",
       "    </tr>\n",
       "    <tr>\n",
       "      <th>4397</th>\n",
       "      <td>10/03/2020</td>\n",
       "      <td>Switzerland</td>\n",
       "      <td>42</td>\n",
       "      <td>0</td>\n",
       "      <td>CH</td>\n",
       "      <td>NaN</td>\n",
       "      <td>Non-EU/EEA</td>\n",
       "    </tr>\n",
       "    <tr>\n",
       "      <th>4398</th>\n",
       "      <td>09/03/2020</td>\n",
       "      <td>Switzerland</td>\n",
       "      <td>68</td>\n",
       "      <td>1</td>\n",
       "      <td>CH</td>\n",
       "      <td>NaN</td>\n",
       "      <td>Non-EU/EEA</td>\n",
       "    </tr>\n",
       "    <tr>\n",
       "      <th>...</th>\n",
       "      <td>...</td>\n",
       "      <td>...</td>\n",
       "      <td>...</td>\n",
       "      <td>...</td>\n",
       "      <td>...</td>\n",
       "      <td>...</td>\n",
       "      <td>...</td>\n",
       "    </tr>\n",
       "    <tr>\n",
       "      <th>4463</th>\n",
       "      <td>04/01/2020</td>\n",
       "      <td>Switzerland</td>\n",
       "      <td>0</td>\n",
       "      <td>0</td>\n",
       "      <td>CH</td>\n",
       "      <td>NaN</td>\n",
       "      <td>Non-EU/EEA</td>\n",
       "    </tr>\n",
       "    <tr>\n",
       "      <th>4464</th>\n",
       "      <td>03/01/2020</td>\n",
       "      <td>Switzerland</td>\n",
       "      <td>0</td>\n",
       "      <td>0</td>\n",
       "      <td>CH</td>\n",
       "      <td>NaN</td>\n",
       "      <td>Non-EU/EEA</td>\n",
       "    </tr>\n",
       "    <tr>\n",
       "      <th>4465</th>\n",
       "      <td>02/01/2020</td>\n",
       "      <td>Switzerland</td>\n",
       "      <td>0</td>\n",
       "      <td>0</td>\n",
       "      <td>CH</td>\n",
       "      <td>NaN</td>\n",
       "      <td>Non-EU/EEA</td>\n",
       "    </tr>\n",
       "    <tr>\n",
       "      <th>4466</th>\n",
       "      <td>01/01/2020</td>\n",
       "      <td>Switzerland</td>\n",
       "      <td>0</td>\n",
       "      <td>0</td>\n",
       "      <td>CH</td>\n",
       "      <td>NaN</td>\n",
       "      <td>Non-EU/EEA</td>\n",
       "    </tr>\n",
       "    <tr>\n",
       "      <th>4467</th>\n",
       "      <td>31/12/2019</td>\n",
       "      <td>Switzerland</td>\n",
       "      <td>0</td>\n",
       "      <td>0</td>\n",
       "      <td>CH</td>\n",
       "      <td>NaN</td>\n",
       "      <td>Non-EU/EEA</td>\n",
       "    </tr>\n",
       "  </tbody>\n",
       "</table>\n",
       "<p>74 rows × 7 columns</p>\n",
       "</div>"
      ],
      "text/plain": [
       "         DateRep   CountryExp  NewConfCases  NewDeaths GeoId Gaul1Nuts1  \\\n",
       "4394  13/03/2020  Switzerland           212          0    CH        NaN   \n",
       "4395  12/03/2020  Switzerland           152          1    CH        NaN   \n",
       "4396  11/03/2020  Switzerland           116          1    CH        NaN   \n",
       "4397  10/03/2020  Switzerland            42          0    CH        NaN   \n",
       "4398  09/03/2020  Switzerland            68          1    CH        NaN   \n",
       "...          ...          ...           ...        ...   ...        ...   \n",
       "4463  04/01/2020  Switzerland             0          0    CH        NaN   \n",
       "4464  03/01/2020  Switzerland             0          0    CH        NaN   \n",
       "4465  02/01/2020  Switzerland             0          0    CH        NaN   \n",
       "4466  01/01/2020  Switzerland             0          0    CH        NaN   \n",
       "4467  31/12/2019  Switzerland             0          0    CH        NaN   \n",
       "\n",
       "              EU  \n",
       "4394  Non-EU/EEA  \n",
       "4395  Non-EU/EEA  \n",
       "4396  Non-EU/EEA  \n",
       "4397  Non-EU/EEA  \n",
       "4398  Non-EU/EEA  \n",
       "...          ...  \n",
       "4463  Non-EU/EEA  \n",
       "4464  Non-EU/EEA  \n",
       "4465  Non-EU/EEA  \n",
       "4466  Non-EU/EEA  \n",
       "4467  Non-EU/EEA  \n",
       "\n",
       "[74 rows x 7 columns]"
      ]
     },
     "execution_count": 35,
     "metadata": {},
     "output_type": "execute_result"
    }
   ],
   "source": [
    "switzerland = data[data.CountryExp =='Switzerland']\n",
    "switzerland"
   ]
  },
  {
   "cell_type": "code",
   "execution_count": 36,
   "metadata": {},
   "outputs": [
    {
     "data": {
      "text/plain": [
       "array([  0,   0,   0,   0,   1,   0,   7,   4,   6,   6,   6,   7,  20,\n",
       "        30, 122,  55,  68,  42, 116, 152, 212])"
      ]
     },
     "execution_count": 36,
     "metadata": {},
     "output_type": "execute_result"
    }
   ],
   "source": [
    "newcases_CH = np.flip(switzerland.NewConfCases.to_numpy()[:21])\n",
    "newcases_CH"
   ]
  },
  {
   "cell_type": "code",
   "execution_count": 37,
   "metadata": {},
   "outputs": [
    {
     "data": {
      "text/plain": [
       "(array([ 1,  2,  3,  4,  5,  6,  7,  8,  9, 10, 11, 12, 13, 14, 15, 16, 17,\n",
       "        18, 19, 20, 21]),\n",
       " array([  0,   0,   0,   0,   1,   1,   8,  12,  18,  24,  30,  37,  57,\n",
       "         87, 209, 264, 332, 374, 490, 642, 854]))"
      ]
     },
     "execution_count": 37,
     "metadata": {},
     "output_type": "execute_result"
    }
   ],
   "source": [
    "ydata_CH = np.cumsum(newcases_CH)\n",
    "t = np.arange(1,len(ydata_CH)+1,1)\n",
    "xdata = t\n",
    "xdata,ydata_CH"
   ]
  },
  {
   "cell_type": "code",
   "execution_count": 38,
   "metadata": {},
   "outputs": [
    {
     "data": {
      "text/plain": [
       "array([ 3.63951274e+02,  1.79342096e-01, -5.72145652e+02])"
      ]
     },
     "execution_count": 38,
     "metadata": {},
     "output_type": "execute_result"
    }
   ],
   "source": [
    "popt_IT"
   ]
  },
  {
   "cell_type": "code",
   "execution_count": 39,
   "metadata": {},
   "outputs": [
    {
     "data": {
      "image/png": "[encoded data removed]",
      "text/plain": [
       "<Figure size 432x288 with 1 Axes>"
      ]
     },
     "metadata": {
      "needs_background": "light"
     },
     "output_type": "display_data"
    }
   ],
   "source": [
    "fig = plt.figure()\n",
    "ax = fig.add_subplot(111)\n",
    "#plt.plot(xdata,func(xdata,popt[0],popt[1],popt[2]), label=r'fit: $A+B\\ln(t) + Ct$')\n",
    "# plt.plot(xdata,func(xdata,A0,B0,C0), color=coltri[0], label=r'theory')\n",
    "plt.plot(xdata,ydata_IT, 'o-', color=coltri[2],  label=r'IT')\n",
    "plt.plot(xdata-9,ydata_DE, 'o-', color=coltri[1],  label=r'DE (-9)')\n",
    "plt.plot(xdata-10,ydata_US, 'o-', color='violet',  label=r'US (-10)')\n",
    "plt.plot(xdata-12,ydata_CH, 'o-', color=coltri[0],  label=r'CH (-12)')\n",
    "\n",
    "\n",
    "plt.plot(np.arange(5,20), func(np.arange(5,20), *popt_IT), '--',color='black', lw=2, label=r'fit')\n",
    "# plt.legend(loc='best',prop={'size':20},frameon=True)\n",
    "plt.legend(bbox_to_anchor=(1.04,1), loc=\"upper left\",prop={'size':20},frameon=True)\n",
    "plt.xlabel(r\"days since 20 February\", fontsize=20)\n",
    "plt.ylabel(r\"infected\", fontsize=20)\n",
    "ax.tick_params(which = 'major', axis='both', width=1.5, length = 10, labelsize=20,direction='in')\n",
    "ax.tick_params(which = 'minor', axis='both', width=1.5, length = 5, labelsize=20,direction='in')\n",
    "#plt.xticks(fontsize = 20)\n",
    "#plt.yticks(fontsize = 20)\n",
    "# plt.ylim(-100,2600)\n",
    "plt.yscale('log')\n",
    "# plt.xscale('log')\n",
    "plt.title('',fontsize = 25)\n",
    "plt.show()"
   ]
  },
  {
   "cell_type": "code",
   "execution_count": 30,
   "metadata": {},
   "outputs": [
    {
     "data": {
      "text/plain": [
       "array([ 2.86061083e+02,  1.82237032e-01, -5.09659404e+02])"
      ]
     },
     "execution_count": 30,
     "metadata": {},
     "output_type": "execute_result"
    }
   ],
   "source": [
    "popt_IT"
   ]
  },
  {
   "cell_type": "code",
   "execution_count": null,
   "metadata": {},
   "outputs": [],
   "source": []
  },
  {
   "cell_type": "code",
   "execution_count": 43,
   "metadata": {},
   "outputs": [
    {
     "data": {
      "text/plain": [
       "array([ 9, 12, 27, 12,  0, 20, 22, 24, 20,  9, 15,  0, 14, 49, 32, 59, 47,\n",
       "       33, 26, 54, 51])"
      ]
     },
     "execution_count": 43,
     "metadata": {},
     "output_type": "execute_result"
    }
   ],
   "source": [
    "japan = data[data.CountryExp =='Japan']\n",
    "newcases_JP = np.flip(japan.NewConfCases.to_numpy()[:21])\n",
    "newcases_JP"
   ]
  },
  {
   "cell_type": "code",
   "execution_count": 89,
   "metadata": {},
   "outputs": [
    {
     "data": {
      "text/plain": [
       "(array([ 1,  2,  3,  4,  5,  6,  7,  8,  9, 10, 11, 12, 13, 14, 15, 16, 17,\n",
       "        18, 19, 20, 21]),\n",
       " array([  9,  21,  48,  60,  60,  80, 102, 126, 146, 155, 170, 170, 184,\n",
       "        233, 265, 324, 371, 404, 430, 484, 535]))"
      ]
     },
     "execution_count": 89,
     "metadata": {},
     "output_type": "execute_result"
    }
   ],
   "source": [
    "ydata_JP = np.cumsum(newcases_JP)\n",
    "t = np.arange(1,len(ydata_JP)+1,1)\n",
    "xdata = t\n",
    "xdata,ydata_JP"
   ]
  },
  {
   "cell_type": "code",
   "execution_count": 6,
   "metadata": {},
   "outputs": [
    {
     "data": {
      "text/html": [
       "<div>\n",
       "<style scoped>\n",
       "    .dataframe tbody tr th:only-of-type {\n",
       "        vertical-align: middle;\n",
       "    }\n",
       "\n",
       "    .dataframe tbody tr th {\n",
       "        vertical-align: top;\n",
       "    }\n",
       "\n",
       "    .dataframe thead th {\n",
       "        text-align: right;\n",
       "    }\n",
       "</style>\n",
       "<table border=\"1\" class=\"dataframe\">\n",
       "  <thead>\n",
       "    <tr style=\"text-align: right;\">\n",
       "      <th></th>\n",
       "      <th>DateRep</th>\n",
       "      <th>CountryExp</th>\n",
       "      <th>NewConfCases</th>\n",
       "      <th>NewDeaths</th>\n",
       "      <th>GeoId</th>\n",
       "      <th>Gaul1Nuts1</th>\n",
       "      <th>EU</th>\n",
       "    </tr>\n",
       "  </thead>\n",
       "  <tbody>\n",
       "    <tr>\n",
       "      <th>946</th>\n",
       "      <td>13/03/2020</td>\n",
       "      <td>China</td>\n",
       "      <td>22</td>\n",
       "      <td>7</td>\n",
       "      <td>CN</td>\n",
       "      <td>NaN</td>\n",
       "      <td>Non-EU/EEA</td>\n",
       "    </tr>\n",
       "    <tr>\n",
       "      <th>947</th>\n",
       "      <td>12/03/2020</td>\n",
       "      <td>China</td>\n",
       "      <td>24</td>\n",
       "      <td>11</td>\n",
       "      <td>CN</td>\n",
       "      <td>NaN</td>\n",
       "      <td>Non-EU/EEA</td>\n",
       "    </tr>\n",
       "    <tr>\n",
       "      <th>948</th>\n",
       "      <td>11/03/2020</td>\n",
       "      <td>China</td>\n",
       "      <td>29</td>\n",
       "      <td>22</td>\n",
       "      <td>CN</td>\n",
       "      <td>NaN</td>\n",
       "      <td>Non-EU/EEA</td>\n",
       "    </tr>\n",
       "    <tr>\n",
       "      <th>949</th>\n",
       "      <td>10/03/2020</td>\n",
       "      <td>China</td>\n",
       "      <td>20</td>\n",
       "      <td>17</td>\n",
       "      <td>CN</td>\n",
       "      <td>NaN</td>\n",
       "      <td>Non-EU/EEA</td>\n",
       "    </tr>\n",
       "    <tr>\n",
       "      <th>950</th>\n",
       "      <td>09/03/2020</td>\n",
       "      <td>China</td>\n",
       "      <td>45</td>\n",
       "      <td>23</td>\n",
       "      <td>CN</td>\n",
       "      <td>NaN</td>\n",
       "      <td>Non-EU/EEA</td>\n",
       "    </tr>\n",
       "    <tr>\n",
       "      <th>...</th>\n",
       "      <td>...</td>\n",
       "      <td>...</td>\n",
       "      <td>...</td>\n",
       "      <td>...</td>\n",
       "      <td>...</td>\n",
       "      <td>...</td>\n",
       "      <td>...</td>\n",
       "    </tr>\n",
       "    <tr>\n",
       "      <th>1015</th>\n",
       "      <td>04/01/2020</td>\n",
       "      <td>China</td>\n",
       "      <td>0</td>\n",
       "      <td>0</td>\n",
       "      <td>CN</td>\n",
       "      <td>NaN</td>\n",
       "      <td>Non-EU/EEA</td>\n",
       "    </tr>\n",
       "    <tr>\n",
       "      <th>1016</th>\n",
       "      <td>03/01/2020</td>\n",
       "      <td>China</td>\n",
       "      <td>17</td>\n",
       "      <td>0</td>\n",
       "      <td>CN</td>\n",
       "      <td>NaN</td>\n",
       "      <td>Non-EU/EEA</td>\n",
       "    </tr>\n",
       "    <tr>\n",
       "      <th>1017</th>\n",
       "      <td>02/01/2020</td>\n",
       "      <td>China</td>\n",
       "      <td>0</td>\n",
       "      <td>0</td>\n",
       "      <td>CN</td>\n",
       "      <td>NaN</td>\n",
       "      <td>Non-EU/EEA</td>\n",
       "    </tr>\n",
       "    <tr>\n",
       "      <th>1018</th>\n",
       "      <td>01/01/2020</td>\n",
       "      <td>China</td>\n",
       "      <td>0</td>\n",
       "      <td>0</td>\n",
       "      <td>CN</td>\n",
       "      <td>NaN</td>\n",
       "      <td>Non-EU/EEA</td>\n",
       "    </tr>\n",
       "    <tr>\n",
       "      <th>1019</th>\n",
       "      <td>31/12/2019</td>\n",
       "      <td>China</td>\n",
       "      <td>27</td>\n",
       "      <td>0</td>\n",
       "      <td>CN</td>\n",
       "      <td>NaN</td>\n",
       "      <td>Non-EU/EEA</td>\n",
       "    </tr>\n",
       "  </tbody>\n",
       "</table>\n",
       "<p>74 rows × 7 columns</p>\n",
       "</div>"
      ],
      "text/plain": [
       "         DateRep CountryExp  NewConfCases  NewDeaths GeoId Gaul1Nuts1  \\\n",
       "946   13/03/2020      China            22          7    CN        NaN   \n",
       "947   12/03/2020      China            24         11    CN        NaN   \n",
       "948   11/03/2020      China            29         22    CN        NaN   \n",
       "949   10/03/2020      China            20         17    CN        NaN   \n",
       "950   09/03/2020      China            45         23    CN        NaN   \n",
       "...          ...        ...           ...        ...   ...        ...   \n",
       "1015  04/01/2020      China             0          0    CN        NaN   \n",
       "1016  03/01/2020      China            17          0    CN        NaN   \n",
       "1017  02/01/2020      China             0          0    CN        NaN   \n",
       "1018  01/01/2020      China             0          0    CN        NaN   \n",
       "1019  31/12/2019      China            27          0    CN        NaN   \n",
       "\n",
       "              EU  \n",
       "946   Non-EU/EEA  \n",
       "947   Non-EU/EEA  \n",
       "948   Non-EU/EEA  \n",
       "949   Non-EU/EEA  \n",
       "950   Non-EU/EEA  \n",
       "...          ...  \n",
       "1015  Non-EU/EEA  \n",
       "1016  Non-EU/EEA  \n",
       "1017  Non-EU/EEA  \n",
       "1018  Non-EU/EEA  \n",
       "1019  Non-EU/EEA  \n",
       "\n",
       "[74 rows x 7 columns]"
      ]
     },
     "execution_count": 6,
     "metadata": {},
     "output_type": "execute_result"
    }
   ],
   "source": [
    "china = data[data.CountryExp =='China']\n",
    "china"
   ]
  },
  {
   "cell_type": "code",
   "execution_count": 7,
   "metadata": {},
   "outputs": [
    {
     "data": {
      "text/plain": [
       "array([   27,     0,     0,    17,     0,    15,     0,     0,     0,\n",
       "           0,     0,     0,     0,     0,     0,     0,     0,     4,\n",
       "          17,   136,    19,   151,   140,    97,   259,   441,   665,\n",
       "         787,  1753,  1466,  1740,  1980,  2095,  2590,  2812,  3237,\n",
       "        3872,  3727,  3160,  3418,  2607,  2974,  2490,  2028, 15141,\n",
       "        4156,  2538,  2007,  2052,  1890,  1750,   394,   891,   826,\n",
       "         647,   218,   515,   410,   439,   329,   428,   574,   205,\n",
       "         127,   119,   117,   170,   101,    46,    45,    20,    29,\n",
       "          24,    22])"
      ]
     },
     "execution_count": 7,
     "metadata": {},
     "output_type": "execute_result"
    }
   ],
   "source": [
    "newcases_CN = np.flip(china.NewConfCases.to_numpy())\n",
    "newcases_CN"
   ]
  },
  {
   "cell_type": "code",
   "execution_count": 8,
   "metadata": {},
   "outputs": [
    {
     "data": {
      "text/plain": [
       "(array([ 1,  2,  3,  4,  5,  6,  7,  8,  9, 10, 11, 12, 13, 14, 15, 16, 17,\n",
       "        18, 19, 20, 21, 22, 23, 24, 25, 26, 27, 28, 29, 30]),\n",
       " array([  235,   386,   526,   623,   882,  1323,  1988,  2775,  4528,\n",
       "         5994,  7734,  9714, 11809, 14399, 17211, 20448, 24320, 28047,\n",
       "        31207, 34625, 37232, 40206, 42696, 44724, 59865, 64021, 66559,\n",
       "        68566, 70618, 72508]))"
      ]
     },
     "execution_count": 8,
     "metadata": {},
     "output_type": "execute_result"
    }
   ],
   "source": [
    "ydata_CN = np.cumsum(newcases_CN)[20:50]\n",
    "# ydata_CN = np.cumsum(newcases_CN)[20:]\n",
    "xdata_CN = np.arange(1,len(ydata_CN)+1,1)\n",
    "xdata_CN,ydata_CN"
   ]
  },
  {
   "cell_type": "code",
   "execution_count": 109,
   "metadata": {},
   "outputs": [
    {
     "name": "stderr",
     "output_type": "stream",
     "text": [
      "/usr/local/lib/python3.7/site-packages/scipy/optimize/minpack.py:787: OptimizeWarning: Covariance of the parameters could not be estimated\n",
      "  category=OptimizeWarning)\n"
     ]
    },
    {
     "data": {
      "image/png": "[encoded data removed]",
      "text/plain": [
       "<Figure size 432x288 with 5 Axes>"
      ]
     },
     "metadata": {
      "needs_background": "light"
     },
     "output_type": "display_data"
    }
   ],
   "source": [
    "func = fitAlgebraic\n",
    "# func = fitPowerlaw\n",
    "# func = fitExp\n",
    "\n",
    "popt_IT, pcov_IT = curve_fit(func, xdata[:10], ydata_IT[:10], x0,maxfev = 5000)\n",
    "popt_DE, pcov_DE = curve_fit(func, xdata[:10], ydata_DE[:10], x0,maxfev = 5000)\n",
    "popt_JP, pcov_JP = curve_fit(func, xdata[:10], ydata_JP[:10], x0,maxfev = 5000)\n",
    "popt_CN, pcov_CN = curve_fit(func, xdata_CN[:10], ydata_CN[:10], x0,maxfev = 5000)\n",
    "\n",
    "fig = plt.figure()\n",
    "ax1 = fig.add_subplot(221)\n",
    "plt.plot(xdata,ydata_IT, 'o', color=coltri[2],  label=r'IT')\n",
    "plt.plot(np.arange(1,30), func(np.arange(1,30), *popt_IT), '--',color='black', lw=2, label=r'fit: $At + Bt^2$')\n",
    "plt.title('Italy',fontsize = 15)\n",
    "ax2 = fig.add_subplot(222)\n",
    "plt.plot(xdata,ydata_JP, 'o', color=coltri[1],  label=r'JP')\n",
    "plt.plot(np.arange(1,30), func(np.arange(1,30), *popt_JP), '--',color='black', lw=2, label=r'fit: $At + Bt^2$')\n",
    "plt.title('Japan',fontsize = 15)\n",
    "ax3 = fig.add_subplot(223)\n",
    "plt.plot(xdata_CN,ydata_CN, 'o', color=coltri[0],  label=r'CN')\n",
    "plt.plot(np.arange(1,30), func(np.arange(1,30), *popt_CN), '--',color='black', lw=2, label=r'fit: $At + Bt^2$')\n",
    "plt.title('China',fontsize = 15)\n",
    "ax4 = fig.add_subplot(224)\n",
    "plt.plot(xdata,ydata_DE, 'o', color='violet',  label=r'DE')\n",
    "plt.plot(np.arange(1,30), func(np.arange(1,30), *popt_DE), '--',color='black', lw=2, label=r'fit: $At + Bt^2$')\n",
    "plt.title('Germany',fontsize = 15)\n",
    "\n",
    "fig.add_subplot(111, frameon=False)\n",
    "# hide tick and tick label of the big axis\n",
    "plt.tick_params(labelcolor='none', top=False, bottom=False, left=False, right=False)\n",
    "plt.xlabel(r\"days\",fontsize = 15)\n",
    "plt.ylabel(r\"cases\",fontsize = 15)\n",
    "#plt.xticks(fontsize = 20)\n",
    "#plt.yticks(fontsize = 20)\n",
    "# plt.yscale('log')\n",
    "# plt.xscale('log')\n",
    "# plt.legend(loc='best',prop={'size':20},frameon=True)\n",
    "# ax.tick_params(which = 'major', axis='both', width=1.5, length = 10, labelsize=20,direction='in')\n",
    "# ax.tick_params(which = 'minor', axis='both', width=1.5, length = 5, labelsize=20,direction='in')\n",
    "fig.tight_layout(pad=1.0)\n",
    "plt.show()\n",
    "# fig.savefig(\"fig_diamter_SISnoinset.pdf\", bbox_inches='tight')\n",
    "# plt.close(\"all\")"
   ]
  },
  {
   "cell_type": "code",
   "execution_count": null,
   "metadata": {},
   "outputs": [],
   "source": []
  },
  {
   "cell_type": "code",
   "execution_count": null,
   "metadata": {},
   "outputs": [],
   "source": []
  },
  {
   "cell_type": "code",
   "execution_count": null,
   "metadata": {},
   "outputs": [],
   "source": []
  },
  {
   "cell_type": "code",
   "execution_count": 61,
   "metadata": {},
   "outputs": [
    {
     "data": {
      "text/plain": [
       "979    20/01/2020\n",
       "978    21/01/2020\n",
       "977    22/01/2020\n",
       "976    23/01/2020\n",
       "975    24/01/2020\n",
       "974    25/01/2020\n",
       "973    26/01/2020\n",
       "972    27/01/2020\n",
       "971    28/01/2020\n",
       "970    29/01/2020\n",
       "969    30/01/2020\n",
       "968    31/01/2020\n",
       "967    01/02/2020\n",
       "966    02/02/2020\n",
       "965    03/02/2020\n",
       "964    04/02/2020\n",
       "963    05/02/2020\n",
       "962    06/02/2020\n",
       "961    07/02/2020\n",
       "960    08/02/2020\n",
       "959    09/02/2020\n",
       "958    10/02/2020\n",
       "957    11/02/2020\n",
       "956    12/02/2020\n",
       "955    13/02/2020\n",
       "954    14/02/2020\n",
       "953    15/02/2020\n",
       "952    16/02/2020\n",
       "951    17/02/2020\n",
       "950    18/02/2020\n",
       "949    19/02/2020\n",
       "948    20/02/2020\n",
       "947    21/02/2020\n",
       "946    22/02/2020\n",
       "945    23/02/2020\n",
       "944    24/02/2020\n",
       "943    25/02/2020\n",
       "942    26/02/2020\n",
       "941    27/02/2020\n",
       "940    28/02/2020\n",
       "939    29/02/2020\n",
       "938    01/03/2020\n",
       "937    02/03/2020\n",
       "936    03/03/2020\n",
       "935    04/03/2020\n",
       "934    05/03/2020\n",
       "933    06/03/2020\n",
       "932    07/03/2020\n",
       "931    08/03/2020\n",
       "930    09/03/2020\n",
       "929    10/03/2020\n",
       "928    11/03/2020\n",
       "927    12/03/2020\n",
       "Name: DateRep, dtype: object"
      ]
     },
     "execution_count": 61,
     "metadata": {},
     "output_type": "execute_result"
    }
   ],
   "source": [
    "date_CN = np.flip(china.DateRep)[20:]"
   ]
  },
  {
   "cell_type": "code",
   "execution_count": 72,
   "metadata": {},
   "outputs": [
    {
     "data": {
      "text/plain": [
       "(array([ 3.04960181e+03,  1.29702824e-01, -4.58457153e+03]),\n",
       " array([[ 2.88766620e+05, -4.38189512e+00, -4.90715393e+05],\n",
       "        [-4.38189512e+00,  6.72092111e-05,  7.28637003e+00],\n",
       "        [-4.90715393e+05,  7.28637003e+00,  9.09852306e+05]]))"
      ]
     },
     "execution_count": 72,
     "metadata": {},
     "output_type": "execute_result"
    }
   ],
   "source": [
    "# Initial guess.\n",
    "A0,B0,C0 = 1,1,1\n",
    "x0 = np.array([A0, B0, C0])\n",
    "\n",
    "func = fitExp\n",
    "# func = fitPowerlaw\n",
    "\n",
    "popt_CN, pcov_CN = curve_fit(func, xdata[:20], ydata_CN[:20], x0,maxfev = 5000)\n",
    "popt_CN, pcov_CN"
   ]
  },
  {
   "cell_type": "code",
   "execution_count": 82,
   "metadata": {},
   "outputs": [
    {
     "data": {
      "image/png": "[encoded data removed]",
      "text/plain": [
       "<Figure size 432x288 with 1 Axes>"
      ]
     },
     "metadata": {
      "needs_background": "light"
     },
     "output_type": "display_data"
    }
   ],
   "source": [
    "fig = plt.figure()\n",
    "ax = fig.add_subplot(111)\n",
    "#plt.plot(xdata,func(xdata,popt[0],popt[1],popt[2]), label=r'fit: $A+B\\ln(t) + Ct$')\n",
    "# plt.plot(xdata,func(xdata,A0,B0,C0), color=coltri[0], label=r'theory')\n",
    "plt.plot(np.arange(1,len(ydata_IT)+1,1)-7,ydata_IT, 'o-', color=coltri[2],  label=r'IT (-39)')\n",
    "plt.plot(xdata[:20],ydata_CN[:20], 'o-', color=coltri[0],  label=r'CN')\n",
    "plt.plot(xdata[7:20], func(xdata, *popt_CN)[7:20], '--',color='black', lw=2, label=r'fit')\n",
    "plt.legend(loc='best',prop={'size':20},frameon=True)\n",
    "plt.xlabel(r\"days since 20 January\", fontsize=20)\n",
    "plt.ylabel(r\"infected\", fontsize=20)\n",
    "ax.tick_params(which = 'major', axis='both', width=1.5, length = 10, labelsize=20,direction='in')\n",
    "ax.tick_params(which = 'minor', axis='both', width=1.5, length = 5, labelsize=20,direction='in')\n",
    "#plt.xticks(fontsize = 20)\n",
    "#plt.yticks(fontsize = 20)\n",
    "# plt.ylim(10,10000)\n",
    "plt.yscale('log')\n",
    "# plt.xscale('log')\n",
    "plt.title('',fontsize = 25)\n",
    "plt.show()"
   ]
  },
  {
   "cell_type": "code",
   "execution_count": null,
   "metadata": {},
   "outputs": [],
   "source": []
  },
  {
   "cell_type": "code",
   "execution_count": null,
   "metadata": {},
   "outputs": [],
   "source": []
  },
  {
   "cell_type": "code",
   "execution_count": 9,
   "metadata": {},
   "outputs": [
    {
     "data": {
      "text/plain": [
       "(array([ 1,  2,  3,  4,  5,  6,  7,  8,  9, 10, 11, 12, 13, 14, 15, 16, 17,\n",
       "        18, 19, 20, 21, 22, 23, 24, 25, 26, 27, 28, 29, 30, 31, 32, 33, 34,\n",
       "        35, 36, 37, 38, 39, 40, 41, 42, 43, 44, 45, 46, 47, 48, 49, 50, 51,\n",
       "        52, 53, 54, 55, 56, 57, 58, 59, 60, 61, 62, 63, 64, 65, 66, 67, 68,\n",
       "        69, 70, 71, 72, 73, 74]),\n",
       " array([   27,    27,    27,    44,    44,    59,    59,    59,    59,\n",
       "           59,    59,    59,    59,    59,    59,    59,    59,    63,\n",
       "           80,   216,   235,   386,   526,   623,   882,  1323,  1988,\n",
       "         2775,  4528,  5994,  7734,  9714, 11809, 14399, 17211, 20448,\n",
       "        24320, 28047, 31207, 34625, 37232, 40206, 42696, 44724, 59865,\n",
       "        64021, 66559, 68566, 70618, 72508, 74258, 74652, 75543, 76369,\n",
       "        77016, 77234, 77749, 78159, 78598, 78927, 79355, 79929, 80134,\n",
       "        80261, 80380, 80497, 80667, 80768, 80814, 80859, 80879, 80908,\n",
       "        80932, 80954]))"
      ]
     },
     "execution_count": 9,
     "metadata": {},
     "output_type": "execute_result"
    }
   ],
   "source": [
    "ydata_CN = np.cumsum(newcases_CN)[:]\n",
    "# ydata_CN = np.cumsum(newcases_CN)[20:]\n",
    "xdata_CN = np.arange(1,len(ydata_CN)+1,1)\n",
    "xdata_CN,ydata_CN"
   ]
  },
  {
   "cell_type": "code",
   "execution_count": 14,
   "metadata": {},
   "outputs": [
    {
     "data": {
      "image/png": "[encoded data removed]",
      "text/plain": [
       "<Figure size 432x288 with 1 Axes>"
      ]
     },
     "metadata": {
      "needs_background": "light"
     },
     "output_type": "display_data"
    }
   ],
   "source": [
    "fig = plt.figure()\n",
    "ax = fig.add_subplot(111)\n",
    "#plt.plot(xdata,func(xdata,popt[0],popt[1],popt[2]), label=r'fit: $A+B\\ln(t) + Ct$')\n",
    "# plt.plot(xdata,func(xdata,A0,B0,C0), color=coltri[0], label=r'theory')\n",
    "# plt.plot(np.arange(1,len(ydata_IT)+1,1)-7,ydata_IT, 'o-', color=coltri[2],  label=r'IT (-39)')\n",
    "plt.plot(xdata_CN[:],ydata_CN[:], 'o-', color=coltri[0],  label=r'CN')\n",
    "# plt.plot(xdata[7:20], func(xdata, *popt_CN)[7:20], '--',color='black', lw=2, label=r'fit')\n",
    "plt.legend(loc='best',prop={'size':20},frameon=True)\n",
    "plt.xlabel(r\"days of the year\", fontsize=20)\n",
    "plt.ylabel(r\"infected\", fontsize=20)\n",
    "ax.tick_params(which = 'major', axis='both', width=1.5, length = 10, labelsize=20,direction='in')\n",
    "ax.tick_params(which = 'minor', axis='both', width=1.5, length = 5, labelsize=20,direction='in')\n",
    "#plt.xticks(fontsize = 20)\n",
    "#plt.yticks(fontsize = 20)\n",
    "# plt.ylim(10,10000)\n",
    "plt.yscale('log')\n",
    "# plt.xscale('log')\n",
    "plt.title('',fontsize = 25)\n",
    "plt.show()"
   ]
  },
  {
   "cell_type": "code",
   "execution_count": null,
   "metadata": {},
   "outputs": [],
   "source": []
  },
  {
   "cell_type": "code",
   "execution_count": null,
   "metadata": {},
   "outputs": [],
   "source": [
    "folder = 'COVID-19/csse_covid_19_data/csse_covid_19_time_series/'\n",
    "data = pd.read_csv(folder+'time_series_19-covid-Confirmed.csv',sep=',') \n",
    "data.rename(columns={'Province/State': 'State', 'Country/Region': 'Country'}, inplace=True)\n",
    "italy = data[data.Country =='Italy']\n",
    "italy"
   ]
  }
 ],
 "metadata": {
  "kernelspec": {
   "display_name": "Python 3",
   "language": "python",
   "name": "python3"
  },
  "language_info": {
   "codemirror_mode": {
    "name": "ipython",
    "version": 3
   },
   "file_extension": ".py",
   "mimetype": "text/x-python",
   "name": "python",
   "nbconvert_exporter": "python",
   "pygments_lexer": "ipython3",
   "version": "3.7.6"
  }
 },
 "nbformat": 4,
 "nbformat_minor": 2
}
