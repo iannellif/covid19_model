{
 "cells": [
  {
   "cell_type": "code",
   "execution_count": 1,
   "metadata": {},
   "outputs": [],
   "source": [
    "import numpy as np\n",
    "import matplotlib.pyplot as plt\n",
    "from scipy.optimize import curve_fit\n",
    "import pandas as pd "
   ]
  },
  {
   "cell_type": "code",
   "execution_count": 2,
   "metadata": {},
   "outputs": [],
   "source": [
    "plt.rc('text', usetex=True)\n",
    "plt.rc('font', family='sans-serif')\n",
    "coltri = [\"darkred\", \"skyblue\", \"orange\"]"
   ]
  },
  {
   "cell_type": "code",
   "execution_count": 3,
   "metadata": {},
   "outputs": [],
   "source": [
    "def fitExp(t, a, b, c):\n",
    "    return a*np.exp(b*t) + c\n",
    "\n",
    "def fitPowerlaw(t, a, b, c):\n",
    "    return a*t**(b) + c\n",
    "\n",
    "def fitAlgebraic(t, a, b, c):\n",
    "    return a*t + b*t**(2) "
   ]
  },
  {
   "cell_type": "code",
   "execution_count": 13,
   "metadata": {},
   "outputs": [],
   "source": [
    "data = pd.read_csv('COVID-19-geographic-disbtribution-worldwide-2020-03-30.csv',sep=';') "
   ]
  },
  {
   "cell_type": "code",
   "execution_count": 14,
   "metadata": {},
   "outputs": [
    {
     "data": {
      "text/html": [
       "<div>\n",
       "<style scoped>\n",
       "    .dataframe tbody tr th:only-of-type {\n",
       "        vertical-align: middle;\n",
       "    }\n",
       "\n",
       "    .dataframe tbody tr th {\n",
       "        vertical-align: top;\n",
       "    }\n",
       "\n",
       "    .dataframe thead th {\n",
       "        text-align: right;\n",
       "    }\n",
       "</style>\n",
       "<table border=\"1\" class=\"dataframe\">\n",
       "  <thead>\n",
       "    <tr style=\"text-align: right;\">\n",
       "      <th></th>\n",
       "      <th>dateRep</th>\n",
       "      <th>day</th>\n",
       "      <th>month</th>\n",
       "      <th>year</th>\n",
       "      <th>cases</th>\n",
       "      <th>deaths</th>\n",
       "      <th>countriesAndTerritories</th>\n",
       "      <th>geoId</th>\n",
       "      <th>countryterritoryCode</th>\n",
       "      <th>popData2018</th>\n",
       "    </tr>\n",
       "  </thead>\n",
       "  <tbody>\n",
       "    <tr>\n",
       "      <th>0</th>\n",
       "      <td>30/03/2020</td>\n",
       "      <td>30</td>\n",
       "      <td>3</td>\n",
       "      <td>2020</td>\n",
       "      <td>8</td>\n",
       "      <td>1</td>\n",
       "      <td>Afghanistan</td>\n",
       "      <td>AF</td>\n",
       "      <td>AFG</td>\n",
       "      <td>37172386.0</td>\n",
       "    </tr>\n",
       "    <tr>\n",
       "      <th>1</th>\n",
       "      <td>29/03/2020</td>\n",
       "      <td>29</td>\n",
       "      <td>3</td>\n",
       "      <td>2020</td>\n",
       "      <td>15</td>\n",
       "      <td>1</td>\n",
       "      <td>Afghanistan</td>\n",
       "      <td>AF</td>\n",
       "      <td>AFG</td>\n",
       "      <td>37172386.0</td>\n",
       "    </tr>\n",
       "    <tr>\n",
       "      <th>2</th>\n",
       "      <td>28/03/2020</td>\n",
       "      <td>28</td>\n",
       "      <td>3</td>\n",
       "      <td>2020</td>\n",
       "      <td>16</td>\n",
       "      <td>1</td>\n",
       "      <td>Afghanistan</td>\n",
       "      <td>AF</td>\n",
       "      <td>AFG</td>\n",
       "      <td>37172386.0</td>\n",
       "    </tr>\n",
       "    <tr>\n",
       "      <th>3</th>\n",
       "      <td>27/03/2020</td>\n",
       "      <td>27</td>\n",
       "      <td>3</td>\n",
       "      <td>2020</td>\n",
       "      <td>0</td>\n",
       "      <td>0</td>\n",
       "      <td>Afghanistan</td>\n",
       "      <td>AF</td>\n",
       "      <td>AFG</td>\n",
       "      <td>37172386.0</td>\n",
       "    </tr>\n",
       "    <tr>\n",
       "      <th>4</th>\n",
       "      <td>26/03/2020</td>\n",
       "      <td>26</td>\n",
       "      <td>3</td>\n",
       "      <td>2020</td>\n",
       "      <td>33</td>\n",
       "      <td>0</td>\n",
       "      <td>Afghanistan</td>\n",
       "      <td>AF</td>\n",
       "      <td>AFG</td>\n",
       "      <td>37172386.0</td>\n",
       "    </tr>\n",
       "  </tbody>\n",
       "</table>\n",
       "</div>"
      ],
      "text/plain": [
       "      dateRep  day  month  year  cases  deaths countriesAndTerritories geoId  \\\n",
       "0  30/03/2020   30      3  2020      8       1             Afghanistan    AF   \n",
       "1  29/03/2020   29      3  2020     15       1             Afghanistan    AF   \n",
       "2  28/03/2020   28      3  2020     16       1             Afghanistan    AF   \n",
       "3  27/03/2020   27      3  2020      0       0             Afghanistan    AF   \n",
       "4  26/03/2020   26      3  2020     33       0             Afghanistan    AF   \n",
       "\n",
       "  countryterritoryCode  popData2018  \n",
       "0                  AFG   37172386.0  \n",
       "1                  AFG   37172386.0  \n",
       "2                  AFG   37172386.0  \n",
       "3                  AFG   37172386.0  \n",
       "4                  AFG   37172386.0  "
      ]
     },
     "execution_count": 14,
     "metadata": {},
     "output_type": "execute_result"
    }
   ],
   "source": [
    "data.head()"
   ]
  },
  {
   "cell_type": "code",
   "execution_count": 15,
   "metadata": {},
   "outputs": [],
   "source": [
    "# data[['CountryExp','NewConfCases']]"
   ]
  },
  {
   "cell_type": "code",
   "execution_count": 16,
   "metadata": {},
   "outputs": [],
   "source": [
    "lastxdays = 36 #days since 20 february"
   ]
  },
  {
   "cell_type": "code",
   "execution_count": 19,
   "metadata": {},
   "outputs": [
    {
     "data": {
      "text/html": [
       "<div>\n",
       "<style scoped>\n",
       "    .dataframe tbody tr th:only-of-type {\n",
       "        vertical-align: middle;\n",
       "    }\n",
       "\n",
       "    .dataframe tbody tr th {\n",
       "        vertical-align: top;\n",
       "    }\n",
       "\n",
       "    .dataframe thead th {\n",
       "        text-align: right;\n",
       "    }\n",
       "</style>\n",
       "<table border=\"1\" class=\"dataframe\">\n",
       "  <thead>\n",
       "    <tr style=\"text-align: right;\">\n",
       "      <th></th>\n",
       "      <th>dateRep</th>\n",
       "      <th>day</th>\n",
       "      <th>month</th>\n",
       "      <th>year</th>\n",
       "      <th>cases</th>\n",
       "      <th>deaths</th>\n",
       "      <th>countriesAndTerritories</th>\n",
       "      <th>geoId</th>\n",
       "      <th>countryterritoryCode</th>\n",
       "      <th>popData2018</th>\n",
       "    </tr>\n",
       "  </thead>\n",
       "  <tbody>\n",
       "    <tr>\n",
       "      <th>7351</th>\n",
       "      <td>30/03/2020</td>\n",
       "      <td>30</td>\n",
       "      <td>3</td>\n",
       "      <td>2020</td>\n",
       "      <td>2433</td>\n",
       "      <td>209</td>\n",
       "      <td>United_Kingdom</td>\n",
       "      <td>UK</td>\n",
       "      <td>GBR</td>\n",
       "      <td>66488991.0</td>\n",
       "    </tr>\n",
       "    <tr>\n",
       "      <th>7352</th>\n",
       "      <td>29/03/2020</td>\n",
       "      <td>29</td>\n",
       "      <td>3</td>\n",
       "      <td>2020</td>\n",
       "      <td>2546</td>\n",
       "      <td>260</td>\n",
       "      <td>United_Kingdom</td>\n",
       "      <td>UK</td>\n",
       "      <td>GBR</td>\n",
       "      <td>66488991.0</td>\n",
       "    </tr>\n",
       "    <tr>\n",
       "      <th>7353</th>\n",
       "      <td>28/03/2020</td>\n",
       "      <td>28</td>\n",
       "      <td>3</td>\n",
       "      <td>2020</td>\n",
       "      <td>2885</td>\n",
       "      <td>181</td>\n",
       "      <td>United_Kingdom</td>\n",
       "      <td>UK</td>\n",
       "      <td>GBR</td>\n",
       "      <td>66488991.0</td>\n",
       "    </tr>\n",
       "    <tr>\n",
       "      <th>7354</th>\n",
       "      <td>27/03/2020</td>\n",
       "      <td>27</td>\n",
       "      <td>3</td>\n",
       "      <td>2020</td>\n",
       "      <td>2129</td>\n",
       "      <td>115</td>\n",
       "      <td>United_Kingdom</td>\n",
       "      <td>UK</td>\n",
       "      <td>GBR</td>\n",
       "      <td>66488991.0</td>\n",
       "    </tr>\n",
       "    <tr>\n",
       "      <th>7355</th>\n",
       "      <td>26/03/2020</td>\n",
       "      <td>26</td>\n",
       "      <td>3</td>\n",
       "      <td>2020</td>\n",
       "      <td>1452</td>\n",
       "      <td>41</td>\n",
       "      <td>United_Kingdom</td>\n",
       "      <td>UK</td>\n",
       "      <td>GBR</td>\n",
       "      <td>66488991.0</td>\n",
       "    </tr>\n",
       "    <tr>\n",
       "      <th>...</th>\n",
       "      <td>...</td>\n",
       "      <td>...</td>\n",
       "      <td>...</td>\n",
       "      <td>...</td>\n",
       "      <td>...</td>\n",
       "      <td>...</td>\n",
       "      <td>...</td>\n",
       "      <td>...</td>\n",
       "      <td>...</td>\n",
       "      <td>...</td>\n",
       "    </tr>\n",
       "    <tr>\n",
       "      <th>7437</th>\n",
       "      <td>04/01/2020</td>\n",
       "      <td>4</td>\n",
       "      <td>1</td>\n",
       "      <td>2020</td>\n",
       "      <td>0</td>\n",
       "      <td>0</td>\n",
       "      <td>United_Kingdom</td>\n",
       "      <td>UK</td>\n",
       "      <td>GBR</td>\n",
       "      <td>66488991.0</td>\n",
       "    </tr>\n",
       "    <tr>\n",
       "      <th>7438</th>\n",
       "      <td>03/01/2020</td>\n",
       "      <td>3</td>\n",
       "      <td>1</td>\n",
       "      <td>2020</td>\n",
       "      <td>0</td>\n",
       "      <td>0</td>\n",
       "      <td>United_Kingdom</td>\n",
       "      <td>UK</td>\n",
       "      <td>GBR</td>\n",
       "      <td>66488991.0</td>\n",
       "    </tr>\n",
       "    <tr>\n",
       "      <th>7439</th>\n",
       "      <td>02/01/2020</td>\n",
       "      <td>2</td>\n",
       "      <td>1</td>\n",
       "      <td>2020</td>\n",
       "      <td>0</td>\n",
       "      <td>0</td>\n",
       "      <td>United_Kingdom</td>\n",
       "      <td>UK</td>\n",
       "      <td>GBR</td>\n",
       "      <td>66488991.0</td>\n",
       "    </tr>\n",
       "    <tr>\n",
       "      <th>7440</th>\n",
       "      <td>01/01/2020</td>\n",
       "      <td>1</td>\n",
       "      <td>1</td>\n",
       "      <td>2020</td>\n",
       "      <td>0</td>\n",
       "      <td>0</td>\n",
       "      <td>United_Kingdom</td>\n",
       "      <td>UK</td>\n",
       "      <td>GBR</td>\n",
       "      <td>66488991.0</td>\n",
       "    </tr>\n",
       "    <tr>\n",
       "      <th>7441</th>\n",
       "      <td>31/12/2019</td>\n",
       "      <td>31</td>\n",
       "      <td>12</td>\n",
       "      <td>2019</td>\n",
       "      <td>0</td>\n",
       "      <td>0</td>\n",
       "      <td>United_Kingdom</td>\n",
       "      <td>UK</td>\n",
       "      <td>GBR</td>\n",
       "      <td>66488991.0</td>\n",
       "    </tr>\n",
       "  </tbody>\n",
       "</table>\n",
       "<p>91 rows × 10 columns</p>\n",
       "</div>"
      ],
      "text/plain": [
       "         dateRep  day  month  year  cases  deaths countriesAndTerritories  \\\n",
       "7351  30/03/2020   30      3  2020   2433     209          United_Kingdom   \n",
       "7352  29/03/2020   29      3  2020   2546     260          United_Kingdom   \n",
       "7353  28/03/2020   28      3  2020   2885     181          United_Kingdom   \n",
       "7354  27/03/2020   27      3  2020   2129     115          United_Kingdom   \n",
       "7355  26/03/2020   26      3  2020   1452      41          United_Kingdom   \n",
       "...          ...  ...    ...   ...    ...     ...                     ...   \n",
       "7437  04/01/2020    4      1  2020      0       0          United_Kingdom   \n",
       "7438  03/01/2020    3      1  2020      0       0          United_Kingdom   \n",
       "7439  02/01/2020    2      1  2020      0       0          United_Kingdom   \n",
       "7440  01/01/2020    1      1  2020      0       0          United_Kingdom   \n",
       "7441  31/12/2019   31     12  2019      0       0          United_Kingdom   \n",
       "\n",
       "     geoId countryterritoryCode  popData2018  \n",
       "7351    UK                  GBR   66488991.0  \n",
       "7352    UK                  GBR   66488991.0  \n",
       "7353    UK                  GBR   66488991.0  \n",
       "7354    UK                  GBR   66488991.0  \n",
       "7355    UK                  GBR   66488991.0  \n",
       "...    ...                  ...          ...  \n",
       "7437    UK                  GBR   66488991.0  \n",
       "7438    UK                  GBR   66488991.0  \n",
       "7439    UK                  GBR   66488991.0  \n",
       "7440    UK                  GBR   66488991.0  \n",
       "7441    UK                  GBR   66488991.0  \n",
       "\n",
       "[91 rows x 10 columns]"
      ]
     },
     "execution_count": 19,
     "metadata": {},
     "output_type": "execute_result"
    }
   ],
   "source": [
    "england = data[data.countriesAndTerritories =='United_Kingdom']\n",
    "england"
   ]
  },
  {
   "cell_type": "code",
   "execution_count": 21,
   "metadata": {},
   "outputs": [],
   "source": [
    "newcases_UK = np.flip(england.cases.to_numpy()[:lastxdays])"
   ]
  },
  {
   "cell_type": "code",
   "execution_count": 22,
   "metadata": {},
   "outputs": [
    {
     "data": {
      "text/plain": [
       "(array([ 1,  2,  3,  4,  5,  6,  7,  8,  9, 10, 11, 12, 13, 14, 15, 16, 17,\n",
       "        18, 19, 20, 21, 22, 23, 24, 25, 26, 27, 28, 29, 30, 31, 32, 33, 34,\n",
       "        35, 36]),\n",
       " array([    4,     4,     4,     4,     7,     9,    14,    27,    31,\n",
       "           42,    76,   106,   154,   197,   264,   312,   364,   447,\n",
       "          581,   698,  1131,  1382,  1534,  1941,  2621,  3268,  3974,\n",
       "         5009,  5674,  6641,  8068,  9520, 11649, 14534, 17080, 19513]))"
      ]
     },
     "execution_count": 22,
     "metadata": {},
     "output_type": "execute_result"
    }
   ],
   "source": [
    "ydata_UK = np.cumsum(newcases_UK)\n",
    "t = np.arange(1,len(ydata_UK)+1,1)\n",
    "xdata = t\n",
    "xdata,ydata_UK"
   ]
  },
  {
   "cell_type": "code",
   "execution_count": 23,
   "metadata": {},
   "outputs": [],
   "source": [
    "# Initial guess.\n",
    "A0,B0,C0 = 1,1,1\n",
    "x0 = np.array([A0, B0, C0])\n",
    "\n",
    "# func = fitAlgebraic\n",
    "# func = fitPowerlaw\n",
    "func = fitExp\n",
    "\n",
    "popt_UK, pcov_UK = curve_fit(func, xdata[5:], ydata_UK[5:]+1, x0,maxfev = 5000)"
   ]
  },
  {
   "cell_type": "code",
   "execution_count": 24,
   "metadata": {},
   "outputs": [
    {
     "data": {
      "image/png": "[encoded data removed]",
      "text/plain": [
       "<Figure size 432x288 with 1 Axes>"
      ]
     },
     "metadata": {
      "needs_background": "light"
     },
     "output_type": "display_data"
    }
   ],
   "source": [
    "fig = plt.figure()\n",
    "ax = fig.add_subplot(111)\n",
    "#plt.plot(xdata,func(xdata,popt[0],popt[1],popt[2]), label=r'fit: $A+B\\ln(t) + Ct$')\n",
    "# plt.plot(xdata,func(xdata,A0,B0,C0), color=coltri[0], label=r'theory')\n",
    "# plt.plot(np.arange(1,len(ydata_IT)+1,1)-7,ydata_IT, 'o-', color=coltri[2],  label=r'IT (-39)')\n",
    "plt.plot(xdata[:],ydata_UK[:], 'o-', color=coltri[0],  label=r'UK')\n",
    "plt.plot(xdata[10:], func(xdata, *popt_UK)[10:], '--',color='black', lw=2, label=r'fit')\n",
    "plt.legend(loc='best',prop={'size':20},frameon=True)\n",
    "plt.xlabel(r\"days of the year\", fontsize=20)\n",
    "plt.ylabel(r\"infected\", fontsize=20)\n",
    "ax.tick_params(which = 'major', axis='both', width=1.5, length = 10, labelsize=20,direction='in')\n",
    "ax.tick_params(which = 'minor', axis='both', width=1.5, length = 5, labelsize=20,direction='in')\n",
    "#plt.xticks(fontsize = 20)\n",
    "#plt.yticks(fontsize = 20)\n",
    "# plt.ylim(10,10000)\n",
    "plt.yscale('log')\n",
    "# plt.xscale('log')\n",
    "plt.title('',fontsize = 25)\n",
    "plt.show()"
   ]
  },
  {
   "cell_type": "code",
   "execution_count": 44,
   "metadata": {},
   "outputs": [
    {
     "data": {
      "text/plain": [
       "array([  13.48910896,    0.18320575, -149.19666265])"
      ]
     },
     "execution_count": 44,
     "metadata": {},
     "output_type": "execute_result"
    }
   ],
   "source": [
    "popt_UK"
   ]
  },
  {
   "cell_type": "code",
   "execution_count": null,
   "metadata": {},
   "outputs": [],
   "source": []
  },
  {
   "cell_type": "code",
   "execution_count": 25,
   "metadata": {},
   "outputs": [],
   "source": [
    "italy = data[data.countriesAndTerritories =='Italy']"
   ]
  },
  {
   "cell_type": "code",
   "execution_count": 26,
   "metadata": {},
   "outputs": [
    {
     "data": {
      "text/html": [
       "<div>\n",
       "<style scoped>\n",
       "    .dataframe tbody tr th:only-of-type {\n",
       "        vertical-align: middle;\n",
       "    }\n",
       "\n",
       "    .dataframe tbody tr th {\n",
       "        vertical-align: top;\n",
       "    }\n",
       "\n",
       "    .dataframe thead th {\n",
       "        text-align: right;\n",
       "    }\n",
       "</style>\n",
       "<table border=\"1\" class=\"dataframe\">\n",
       "  <thead>\n",
       "    <tr style=\"text-align: right;\">\n",
       "      <th></th>\n",
       "      <th>dateRep</th>\n",
       "      <th>day</th>\n",
       "      <th>month</th>\n",
       "      <th>year</th>\n",
       "      <th>cases</th>\n",
       "      <th>deaths</th>\n",
       "      <th>countriesAndTerritories</th>\n",
       "      <th>geoId</th>\n",
       "      <th>countryterritoryCode</th>\n",
       "      <th>popData2018</th>\n",
       "    </tr>\n",
       "  </thead>\n",
       "  <tbody>\n",
       "    <tr>\n",
       "      <th>3741</th>\n",
       "      <td>30/03/2020</td>\n",
       "      <td>30</td>\n",
       "      <td>3</td>\n",
       "      <td>2020</td>\n",
       "      <td>5217</td>\n",
       "      <td>758</td>\n",
       "      <td>Italy</td>\n",
       "      <td>IT</td>\n",
       "      <td>ITA</td>\n",
       "      <td>60431283.0</td>\n",
       "    </tr>\n",
       "    <tr>\n",
       "      <th>3742</th>\n",
       "      <td>29/03/2020</td>\n",
       "      <td>29</td>\n",
       "      <td>3</td>\n",
       "      <td>2020</td>\n",
       "      <td>5974</td>\n",
       "      <td>887</td>\n",
       "      <td>Italy</td>\n",
       "      <td>IT</td>\n",
       "      <td>ITA</td>\n",
       "      <td>60431283.0</td>\n",
       "    </tr>\n",
       "    <tr>\n",
       "      <th>3743</th>\n",
       "      <td>28/03/2020</td>\n",
       "      <td>28</td>\n",
       "      <td>3</td>\n",
       "      <td>2020</td>\n",
       "      <td>5959</td>\n",
       "      <td>971</td>\n",
       "      <td>Italy</td>\n",
       "      <td>IT</td>\n",
       "      <td>ITA</td>\n",
       "      <td>60431283.0</td>\n",
       "    </tr>\n",
       "    <tr>\n",
       "      <th>3744</th>\n",
       "      <td>27/03/2020</td>\n",
       "      <td>27</td>\n",
       "      <td>3</td>\n",
       "      <td>2020</td>\n",
       "      <td>6153</td>\n",
       "      <td>660</td>\n",
       "      <td>Italy</td>\n",
       "      <td>IT</td>\n",
       "      <td>ITA</td>\n",
       "      <td>60431283.0</td>\n",
       "    </tr>\n",
       "    <tr>\n",
       "      <th>3745</th>\n",
       "      <td>26/03/2020</td>\n",
       "      <td>26</td>\n",
       "      <td>3</td>\n",
       "      <td>2020</td>\n",
       "      <td>5210</td>\n",
       "      <td>685</td>\n",
       "      <td>Italy</td>\n",
       "      <td>IT</td>\n",
       "      <td>ITA</td>\n",
       "      <td>60431283.0</td>\n",
       "    </tr>\n",
       "    <tr>\n",
       "      <th>...</th>\n",
       "      <td>...</td>\n",
       "      <td>...</td>\n",
       "      <td>...</td>\n",
       "      <td>...</td>\n",
       "      <td>...</td>\n",
       "      <td>...</td>\n",
       "      <td>...</td>\n",
       "      <td>...</td>\n",
       "      <td>...</td>\n",
       "      <td>...</td>\n",
       "    </tr>\n",
       "    <tr>\n",
       "      <th>3827</th>\n",
       "      <td>04/01/2020</td>\n",
       "      <td>4</td>\n",
       "      <td>1</td>\n",
       "      <td>2020</td>\n",
       "      <td>0</td>\n",
       "      <td>0</td>\n",
       "      <td>Italy</td>\n",
       "      <td>IT</td>\n",
       "      <td>ITA</td>\n",
       "      <td>60431283.0</td>\n",
       "    </tr>\n",
       "    <tr>\n",
       "      <th>3828</th>\n",
       "      <td>03/01/2020</td>\n",
       "      <td>3</td>\n",
       "      <td>1</td>\n",
       "      <td>2020</td>\n",
       "      <td>0</td>\n",
       "      <td>0</td>\n",
       "      <td>Italy</td>\n",
       "      <td>IT</td>\n",
       "      <td>ITA</td>\n",
       "      <td>60431283.0</td>\n",
       "    </tr>\n",
       "    <tr>\n",
       "      <th>3829</th>\n",
       "      <td>02/01/2020</td>\n",
       "      <td>2</td>\n",
       "      <td>1</td>\n",
       "      <td>2020</td>\n",
       "      <td>0</td>\n",
       "      <td>0</td>\n",
       "      <td>Italy</td>\n",
       "      <td>IT</td>\n",
       "      <td>ITA</td>\n",
       "      <td>60431283.0</td>\n",
       "    </tr>\n",
       "    <tr>\n",
       "      <th>3830</th>\n",
       "      <td>01/01/2020</td>\n",
       "      <td>1</td>\n",
       "      <td>1</td>\n",
       "      <td>2020</td>\n",
       "      <td>0</td>\n",
       "      <td>0</td>\n",
       "      <td>Italy</td>\n",
       "      <td>IT</td>\n",
       "      <td>ITA</td>\n",
       "      <td>60431283.0</td>\n",
       "    </tr>\n",
       "    <tr>\n",
       "      <th>3831</th>\n",
       "      <td>31/12/2019</td>\n",
       "      <td>31</td>\n",
       "      <td>12</td>\n",
       "      <td>2019</td>\n",
       "      <td>0</td>\n",
       "      <td>0</td>\n",
       "      <td>Italy</td>\n",
       "      <td>IT</td>\n",
       "      <td>ITA</td>\n",
       "      <td>60431283.0</td>\n",
       "    </tr>\n",
       "  </tbody>\n",
       "</table>\n",
       "<p>91 rows × 10 columns</p>\n",
       "</div>"
      ],
      "text/plain": [
       "         dateRep  day  month  year  cases  deaths countriesAndTerritories  \\\n",
       "3741  30/03/2020   30      3  2020   5217     758                   Italy   \n",
       "3742  29/03/2020   29      3  2020   5974     887                   Italy   \n",
       "3743  28/03/2020   28      3  2020   5959     971                   Italy   \n",
       "3744  27/03/2020   27      3  2020   6153     660                   Italy   \n",
       "3745  26/03/2020   26      3  2020   5210     685                   Italy   \n",
       "...          ...  ...    ...   ...    ...     ...                     ...   \n",
       "3827  04/01/2020    4      1  2020      0       0                   Italy   \n",
       "3828  03/01/2020    3      1  2020      0       0                   Italy   \n",
       "3829  02/01/2020    2      1  2020      0       0                   Italy   \n",
       "3830  01/01/2020    1      1  2020      0       0                   Italy   \n",
       "3831  31/12/2019   31     12  2019      0       0                   Italy   \n",
       "\n",
       "     geoId countryterritoryCode  popData2018  \n",
       "3741    IT                  ITA   60431283.0  \n",
       "3742    IT                  ITA   60431283.0  \n",
       "3743    IT                  ITA   60431283.0  \n",
       "3744    IT                  ITA   60431283.0  \n",
       "3745    IT                  ITA   60431283.0  \n",
       "...    ...                  ...          ...  \n",
       "3827    IT                  ITA   60431283.0  \n",
       "3828    IT                  ITA   60431283.0  \n",
       "3829    IT                  ITA   60431283.0  \n",
       "3830    IT                  ITA   60431283.0  \n",
       "3831    IT                  ITA   60431283.0  \n",
       "\n",
       "[91 rows x 10 columns]"
      ]
     },
     "execution_count": 26,
     "metadata": {},
     "output_type": "execute_result"
    }
   ],
   "source": [
    "italy"
   ]
  },
  {
   "cell_type": "code",
   "execution_count": 27,
   "metadata": {},
   "outputs": [],
   "source": [
    "# cases_it[[\"DateRep\", \"NewConfCases\"]].to_numpy()\n",
    "newcases_IT = np.flip(italy.cases.to_numpy()[:lastxdays])"
   ]
  },
  {
   "cell_type": "code",
   "execution_count": 28,
   "metadata": {},
   "outputs": [
    {
     "data": {
      "text/plain": [
       "(array([ 1,  2,  3,  4,  5,  6,  7,  8,  9, 10, 11, 12, 13, 14, 15, 16, 17,\n",
       "        18, 19, 20, 21, 22, 23, 24, 25, 26, 27, 28, 29, 30, 31, 32, 33, 34,\n",
       "        35, 36]),\n",
       " array([   53,   150,   243,   321,   571,   809,  1049,  1610,  1756,\n",
       "         2423,  3010,  3779,  4557,  5804,  7296,  9093, 10070, 12383,\n",
       "        15034, 17581, 17671, 23901, 27901, 31427, 35634, 40956, 46942,\n",
       "        53499, 59059, 63848, 69097, 74307, 80460, 86419, 92393, 97610]))"
      ]
     },
     "execution_count": 28,
     "metadata": {},
     "output_type": "execute_result"
    }
   ],
   "source": [
    "ydata_IT = np.cumsum(newcases_IT)\n",
    "t = np.arange(1,len(ydata_IT)+1,1)\n",
    "xdata = t\n",
    "xdata,ydata_IT"
   ]
  },
  {
   "cell_type": "code",
   "execution_count": 35,
   "metadata": {},
   "outputs": [
    {
     "data": {
      "text/plain": [
       "(array([ 1.26532250e+04,  6.42350511e-02, -2.60613696e+04]),\n",
       " array([[ 6.92109250e+06, -1.29975415e+01, -1.26114279e+07],\n",
       "        [-1.29975415e+01,  2.45461904e-05,  2.34464078e+01],\n",
       "        [-1.26114279e+07,  2.34464078e+01,  2.36112006e+07]]))"
      ]
     },
     "execution_count": 35,
     "metadata": {},
     "output_type": "execute_result"
    }
   ],
   "source": [
    "# Initial guess.\n",
    "A0,B0,C0 = 1,1,1\n",
    "x0 = np.array([A0, B0, C0])\n",
    "\n",
    "# func = fitAlgebraic\n",
    "# func = fitPowerlaw\n",
    "func = fitExp\n",
    "\n",
    "popt_IT, pcov_IT = curve_fit(func, xdata[10:], ydata_IT[10:]+1, x0,maxfev = 5000)\n",
    "A_IT, B_IT, C_IT = popt_IT[0], popt_IT[1], popt_IT[2]\n",
    "x_IT = np.array([A_IT, B_IT, C_IT])\n",
    "curve_IT = func(t, A_IT, B_IT, C_IT)\n",
    "popt_IT,pcov_IT"
   ]
  },
  {
   "cell_type": "code",
   "execution_count": 34,
   "metadata": {},
   "outputs": [
    {
     "data": {
      "image/png": "[encoded data removed]",
      "text/plain": [
       "<Figure size 432x288 with 1 Axes>"
      ]
     },
     "metadata": {
      "needs_background": "light"
     },
     "output_type": "display_data"
    }
   ],
   "source": [
    "coltri = [\"darkred\", \"skyblue\", \"orange\"]\n",
    "\n",
    "\n",
    "fig = plt.figure()\n",
    "ax = fig.add_subplot(111)\n",
    "# plt.hlines(60e+6, 0, 70, colors='k', linestyles='--', label='max') \n",
    "#plt.plot(xdata,func(xdata,popt[0],popt[1],popt[2]), label=r'fit: $A+B\\ln(t) + Ct$')\n",
    "# plt.plot(xdata,func(xdata,A0,B0,C0), color=coltri[0], label=r'theory')\n",
    "plt.plot(xdata,ydata_IT, 'o-', color=coltri[2],  label=r'data')\n",
    "plt.plot(np.arange(1,30), func(np.arange(1,30), *popt_IT), '--',color='black', lw=2, label=r'fit: $Ae^{Bt}+C$')\n",
    "plt.legend(loc='best',prop={'size':20},frameon=True)\n",
    "plt.xlabel(r\"days since 20 February\", fontsize=20)\n",
    "plt.ylabel(r\"infected\", fontsize=20)\n",
    "ax.tick_params(which = 'major', axis='both', width=1.5, length = 10, labelsize=20,direction='in')\n",
    "ax.tick_params(which = 'minor', axis='both', width=1.5, length = 5, labelsize=20,direction='in')\n",
    "#plt.xticks(fontsize = 20)\n",
    "#plt.yticks(fontsize = 20)\n",
    "plt.yscale('log')\n",
    "# plt.xscale('log')\n",
    "plt.title('ITALY',fontsize = 20)\n",
    "plt.show()\n",
    "# fig.savefig(\"fig_diamter_SISnoinset.pdf\", bbox_inches='tight')\n",
    "# plt.close(\"all\")\n"
   ]
  },
  {
   "cell_type": "code",
   "execution_count": 51,
   "metadata": {},
   "outputs": [],
   "source": [
    "newdeaths_IT = np.flip(italy.Deaths.to_numpy()[:lastxdays])\n",
    "ydata_deaths_IT = np.cumsum(newdeaths_IT)\n",
    "popt_deaths_IT = curve_fit(func, xdata, ydata_deaths_IT, x0,maxfev = 5000)[0]"
   ]
  },
  {
   "cell_type": "code",
   "execution_count": 52,
   "metadata": {},
   "outputs": [
    {
     "data": {
      "image/png": "[encoded data removed]",
      "text/plain": [
       "<Figure size 432x288 with 1 Axes>"
      ]
     },
     "metadata": {
      "needs_background": "light"
     },
     "output_type": "display_data"
    }
   ],
   "source": [
    "fig = plt.figure()\n",
    "ax = fig.add_subplot(111)\n",
    "# plt.hlines(5e+3, 0, 70, colors='k', linestyles='--', label='max') \n",
    "#plt.plot(xdata,func(xdata,popt[0],popt[1],popt[2]), label=r'fit: $A+B\\ln(t) + Ct$')\n",
    "# plt.plot(xdata,func(xdata,A0,B0,C0), color=coltri[0], label=r'theory')\n",
    "plt.plot(xdata,ydata_deaths_IT, 'o-', color=coltri[2],  label=r'data')\n",
    "plt.plot(np.arange(1,30), func(np.arange(1,30), *popt_deaths_IT), '--',color='black', lw=2, label=r'fit: $Ae^{Bt}+C$')\n",
    "plt.legend(loc='best',prop={'size':20},frameon=True)\n",
    "plt.xlabel(r\"days since 20 February\", fontsize=20)\n",
    "plt.ylabel(r\"deaths\", fontsize=20)\n",
    "ax.tick_params(which = 'major', axis='both', width=1.5, length = 10, labelsize=20,direction='in')\n",
    "ax.tick_params(which = 'minor', axis='both', width=1.5, length = 5, labelsize=20,direction='in')\n",
    "#plt.xticks(fontsize = 20)\n",
    "#plt.yticks(fontsize = 20)\n",
    "plt.yscale('log')\n",
    "# plt.xscale('log')\n",
    "plt.title('ITALY',fontsize = 20)\n",
    "plt.show()\n",
    "# fig.savefig(\"fig_diamter_SISnoinset.pdf\", bbox_inches='tight')\n",
    "# plt.close(\"all\")"
   ]
  },
  {
   "cell_type": "code",
   "execution_count": 53,
   "metadata": {},
   "outputs": [
    {
     "data": {
      "text/plain": [
       "array([ 5.78552629e+01,  1.37497440e-01, -2.37857193e+02])"
      ]
     },
     "execution_count": 53,
     "metadata": {},
     "output_type": "execute_result"
    }
   ],
   "source": [
    "popt_deaths_IT"
   ]
  },
  {
   "cell_type": "code",
   "execution_count": null,
   "metadata": {},
   "outputs": [],
   "source": []
  },
  {
   "cell_type": "code",
   "execution_count": null,
   "metadata": {},
   "outputs": [],
   "source": []
  },
  {
   "cell_type": "code",
   "execution_count": 54,
   "metadata": {},
   "outputs": [
    {
     "data": {
      "image/png": "[encoded data removed]",
      "text/plain": [
       "<Figure size 432x288 with 1 Axes>"
      ]
     },
     "metadata": {
      "needs_background": "light"
     },
     "output_type": "display_data"
    }
   ],
   "source": [
    "fig = plt.figure()\n",
    "ax = fig.add_subplot(111)\n",
    "#plt.plot(xdata,func(xdata,popt[0],popt[1],popt[2]), label=r'fit: $A+B\\ln(t) + Ct$')\n",
    "# plt.plot(xdata,func(xdata,A0,B0,C0), color=coltri[0], label=r'theory')\n",
    "plt.plot(xdata,ydata_IT, 'o-', color=coltri[2],  label=r'IT')\n",
    "# plt.plot(xdata-9,ydata_DE, 'o-', color=coltri[1],  label=r'DE (+9)')\n",
    "plt.plot(xdata-16,ydata_UK, 'o-', color=coltri[0],  label=r'UK (-16)')\n",
    "\n",
    "\n",
    "plt.plot(np.arange(10,25), func(np.arange(10,25), *popt_IT), '--',color='black', lw=2, label=r'fit: $Ae^{Bt}+C$')\n",
    "plt.legend(loc='best',prop={'size':20},frameon=True)\n",
    "plt.xlabel(r\"days since 20 February\", fontsize=20)\n",
    "plt.ylabel(r\"infected\", fontsize=20)\n",
    "ax.tick_params(which = 'major', axis='both', width=1.5, length = 10, labelsize=20,direction='in')\n",
    "ax.tick_params(which = 'minor', axis='both', width=1.5, length = 5, labelsize=20,direction='in')\n",
    "#plt.xticks(fontsize = 20)\n",
    "#plt.yticks(fontsize = 20)\n",
    "# plt.ylim(-100,2600)\n",
    "plt.yscale('log')\n",
    "# plt.xscale('log')\n",
    "plt.title('',fontsize = 25)\n",
    "plt.show()"
   ]
  },
  {
   "cell_type": "code",
   "execution_count": 57,
   "metadata": {},
   "outputs": [],
   "source": [
    "newdeaths_UK = np.flip(england.Deaths.to_numpy()[:lastxdays])\n",
    "ydata_deaths_UK = np.cumsum(newdeaths_UK)\n",
    "popt_deaths_UK = curve_fit(func, xdata, ydata_deaths_UK, x0,maxfev = 5000)[0]"
   ]
  },
  {
   "cell_type": "code",
   "execution_count": 58,
   "metadata": {},
   "outputs": [
    {
     "data": {
      "image/png": "[encoded data removed]",
      "text/plain": [
       "<Figure size 432x288 with 1 Axes>"
      ]
     },
     "metadata": {
      "needs_background": "light"
     },
     "output_type": "display_data"
    }
   ],
   "source": [
    "fig = plt.figure()\n",
    "ax = fig.add_subplot(111)\n",
    "# plt.hlines(5e+3, 0, 70, colors='k', linestyles='--', label='max') \n",
    "#plt.plot(xdata,func(xdata,popt[0],popt[1],popt[2]), label=r'fit: $A+B\\ln(t) + Ct$')\n",
    "# plt.plot(xdata,func(xdata,A0,B0,C0), color=coltri[0], label=r'theory')\n",
    "plt.plot(xdata,ydata_deaths_IT, 'o-', color=coltri[2],  label=r'IT')\n",
    "plt.plot(xdata-16,ydata_deaths_UK, 'o-', color=coltri[0],  label=r'UK (-16)')\n",
    "plt.plot(np.arange(10,30), func(np.arange(10,30), *popt_deaths_IT), '--',color='black', lw=2, label=r'fit: $Ae^{Bt}+C$')\n",
    "plt.legend(loc='best',prop={'size':20},frameon=True)\n",
    "plt.xlabel(r\"days since 20 February\", fontsize=20)\n",
    "plt.ylabel(r\"deaths\", fontsize=20)\n",
    "ax.tick_params(which = 'major', axis='both', width=1.5, length = 10, labelsize=20,direction='in')\n",
    "ax.tick_params(which = 'minor', axis='both', width=1.5, length = 5, labelsize=20,direction='in')\n",
    "#plt.xticks(fontsize = 20)\n",
    "#plt.yticks(fontsize = 20)\n",
    "plt.yscale('log')\n",
    "# plt.xscale('log')\n",
    "# plt.title('ITALY',fontsize = 20)\n",
    "plt.show()\n",
    "# fig.savefig(\"fig_diamter_SISnoinset.pdf\", bbox_inches='tight')\n",
    "# plt.close(\"all\")"
   ]
  },
  {
   "cell_type": "code",
   "execution_count": 59,
   "metadata": {},
   "outputs": [
    {
     "data": {
      "text/plain": [
       "array([ 5.78552629e+01,  1.37497440e-01, -2.37857193e+02])"
      ]
     },
     "execution_count": 59,
     "metadata": {},
     "output_type": "execute_result"
    }
   ],
   "source": [
    "popt_deaths_IT"
   ]
  },
  {
   "cell_type": "code",
   "execution_count": null,
   "metadata": {},
   "outputs": [],
   "source": []
  },
  {
   "cell_type": "code",
   "execution_count": 61,
   "metadata": {},
   "outputs": [
    {
     "data": {
      "text/html": [
       "<div>\n",
       "<style scoped>\n",
       "    .dataframe tbody tr th:only-of-type {\n",
       "        vertical-align: middle;\n",
       "    }\n",
       "\n",
       "    .dataframe tbody tr th {\n",
       "        vertical-align: top;\n",
       "    }\n",
       "\n",
       "    .dataframe thead th {\n",
       "        text-align: right;\n",
       "    }\n",
       "</style>\n",
       "<table border=\"1\" class=\"dataframe\">\n",
       "  <thead>\n",
       "    <tr style=\"text-align: right;\">\n",
       "      <th></th>\n",
       "      <th>DateRep</th>\n",
       "      <th>Day</th>\n",
       "      <th>Month</th>\n",
       "      <th>Year</th>\n",
       "      <th>Cases</th>\n",
       "      <th>Deaths</th>\n",
       "      <th>Countries</th>\n",
       "      <th>GeoId</th>\n",
       "      <th>CountryCode</th>\n",
       "      <th>Pop_Data.2018</th>\n",
       "    </tr>\n",
       "  </thead>\n",
       "  <tbody>\n",
       "    <tr>\n",
       "      <th>2462</th>\n",
       "      <td>26/03/2020</td>\n",
       "      <td>26</td>\n",
       "      <td>3</td>\n",
       "      <td>2020</td>\n",
       "      <td>4954</td>\n",
       "      <td>49</td>\n",
       "      <td>Germany</td>\n",
       "      <td>DE</td>\n",
       "      <td>DEU</td>\n",
       "      <td>82927922.0</td>\n",
       "    </tr>\n",
       "    <tr>\n",
       "      <th>2463</th>\n",
       "      <td>25/03/2020</td>\n",
       "      <td>25</td>\n",
       "      <td>3</td>\n",
       "      <td>2020</td>\n",
       "      <td>2342</td>\n",
       "      <td>23</td>\n",
       "      <td>Germany</td>\n",
       "      <td>DE</td>\n",
       "      <td>DEU</td>\n",
       "      <td>82927922.0</td>\n",
       "    </tr>\n",
       "    <tr>\n",
       "      <th>2464</th>\n",
       "      <td>24/03/2020</td>\n",
       "      <td>24</td>\n",
       "      <td>3</td>\n",
       "      <td>2020</td>\n",
       "      <td>4438</td>\n",
       "      <td>32</td>\n",
       "      <td>Germany</td>\n",
       "      <td>DE</td>\n",
       "      <td>DEU</td>\n",
       "      <td>82927922.0</td>\n",
       "    </tr>\n",
       "    <tr>\n",
       "      <th>2465</th>\n",
       "      <td>23/03/2020</td>\n",
       "      <td>23</td>\n",
       "      <td>3</td>\n",
       "      <td>2020</td>\n",
       "      <td>3311</td>\n",
       "      <td>27</td>\n",
       "      <td>Germany</td>\n",
       "      <td>DE</td>\n",
       "      <td>DEU</td>\n",
       "      <td>82927922.0</td>\n",
       "    </tr>\n",
       "    <tr>\n",
       "      <th>2466</th>\n",
       "      <td>22/03/2020</td>\n",
       "      <td>22</td>\n",
       "      <td>3</td>\n",
       "      <td>2020</td>\n",
       "      <td>3276</td>\n",
       "      <td>22</td>\n",
       "      <td>Germany</td>\n",
       "      <td>DE</td>\n",
       "      <td>DEU</td>\n",
       "      <td>82927922.0</td>\n",
       "    </tr>\n",
       "    <tr>\n",
       "      <th>...</th>\n",
       "      <td>...</td>\n",
       "      <td>...</td>\n",
       "      <td>...</td>\n",
       "      <td>...</td>\n",
       "      <td>...</td>\n",
       "      <td>...</td>\n",
       "      <td>...</td>\n",
       "      <td>...</td>\n",
       "      <td>...</td>\n",
       "      <td>...</td>\n",
       "    </tr>\n",
       "    <tr>\n",
       "      <th>2544</th>\n",
       "      <td>04/01/2020</td>\n",
       "      <td>4</td>\n",
       "      <td>1</td>\n",
       "      <td>2020</td>\n",
       "      <td>0</td>\n",
       "      <td>0</td>\n",
       "      <td>Germany</td>\n",
       "      <td>DE</td>\n",
       "      <td>DEU</td>\n",
       "      <td>82927922.0</td>\n",
       "    </tr>\n",
       "    <tr>\n",
       "      <th>2545</th>\n",
       "      <td>03/01/2020</td>\n",
       "      <td>3</td>\n",
       "      <td>1</td>\n",
       "      <td>2020</td>\n",
       "      <td>0</td>\n",
       "      <td>0</td>\n",
       "      <td>Germany</td>\n",
       "      <td>DE</td>\n",
       "      <td>DEU</td>\n",
       "      <td>82927922.0</td>\n",
       "    </tr>\n",
       "    <tr>\n",
       "      <th>2546</th>\n",
       "      <td>02/01/2020</td>\n",
       "      <td>2</td>\n",
       "      <td>1</td>\n",
       "      <td>2020</td>\n",
       "      <td>0</td>\n",
       "      <td>0</td>\n",
       "      <td>Germany</td>\n",
       "      <td>DE</td>\n",
       "      <td>DEU</td>\n",
       "      <td>82927922.0</td>\n",
       "    </tr>\n",
       "    <tr>\n",
       "      <th>2547</th>\n",
       "      <td>01/01/2020</td>\n",
       "      <td>1</td>\n",
       "      <td>1</td>\n",
       "      <td>2020</td>\n",
       "      <td>0</td>\n",
       "      <td>0</td>\n",
       "      <td>Germany</td>\n",
       "      <td>DE</td>\n",
       "      <td>DEU</td>\n",
       "      <td>82927922.0</td>\n",
       "    </tr>\n",
       "    <tr>\n",
       "      <th>2548</th>\n",
       "      <td>31/12/2019</td>\n",
       "      <td>31</td>\n",
       "      <td>12</td>\n",
       "      <td>2019</td>\n",
       "      <td>0</td>\n",
       "      <td>0</td>\n",
       "      <td>Germany</td>\n",
       "      <td>DE</td>\n",
       "      <td>DEU</td>\n",
       "      <td>82927922.0</td>\n",
       "    </tr>\n",
       "  </tbody>\n",
       "</table>\n",
       "<p>87 rows × 10 columns</p>\n",
       "</div>"
      ],
      "text/plain": [
       "         DateRep  Day  Month  Year  Cases  Deaths Countries GeoId CountryCode  \\\n",
       "2462  26/03/2020   26      3  2020   4954      49   Germany    DE         DEU   \n",
       "2463  25/03/2020   25      3  2020   2342      23   Germany    DE         DEU   \n",
       "2464  24/03/2020   24      3  2020   4438      32   Germany    DE         DEU   \n",
       "2465  23/03/2020   23      3  2020   3311      27   Germany    DE         DEU   \n",
       "2466  22/03/2020   22      3  2020   3276      22   Germany    DE         DEU   \n",
       "...          ...  ...    ...   ...    ...     ...       ...   ...         ...   \n",
       "2544  04/01/2020    4      1  2020      0       0   Germany    DE         DEU   \n",
       "2545  03/01/2020    3      1  2020      0       0   Germany    DE         DEU   \n",
       "2546  02/01/2020    2      1  2020      0       0   Germany    DE         DEU   \n",
       "2547  01/01/2020    1      1  2020      0       0   Germany    DE         DEU   \n",
       "2548  31/12/2019   31     12  2019      0       0   Germany    DE         DEU   \n",
       "\n",
       "      Pop_Data.2018  \n",
       "2462     82927922.0  \n",
       "2463     82927922.0  \n",
       "2464     82927922.0  \n",
       "2465     82927922.0  \n",
       "2466     82927922.0  \n",
       "...             ...  \n",
       "2544     82927922.0  \n",
       "2545     82927922.0  \n",
       "2546     82927922.0  \n",
       "2547     82927922.0  \n",
       "2548     82927922.0  \n",
       "\n",
       "[87 rows x 10 columns]"
      ]
     },
     "execution_count": 61,
     "metadata": {},
     "output_type": "execute_result"
    }
   ],
   "source": [
    "germany = data[data.Countries =='Germany']\n",
    "germany"
   ]
  },
  {
   "cell_type": "code",
   "execution_count": 65,
   "metadata": {},
   "outputs": [
    {
     "data": {
      "text/plain": [
       "array([   0,    0,    0,    0,    0,    0,    2,    4,   26,   10,   54,\n",
       "         18,   28,   39,   66,  138,  284,  163,   55,  237,  157,  271,\n",
       "        802,  693,  733, 1043, 1174, 1144, 1042, 5940, 4049, 3276, 3311,\n",
       "       4438, 2342, 4954])"
      ]
     },
     "execution_count": 65,
     "metadata": {},
     "output_type": "execute_result"
    }
   ],
   "source": [
    "newcases_DE = np.flip(germany.Cases.to_numpy()[:lastxdays])\n",
    "newcases_DE"
   ]
  },
  {
   "cell_type": "code",
   "execution_count": 66,
   "metadata": {},
   "outputs": [
    {
     "data": {
      "text/plain": [
       "(array([ 1,  2,  3,  4,  5,  6,  7,  8,  9, 10, 11, 12, 13, 14, 15, 16, 17,\n",
       "        18, 19, 20, 21, 22, 23, 24, 25, 26, 27, 28, 29, 30, 31, 32, 33, 34,\n",
       "        35, 36]),\n",
       " array([    0,     0,     0,     0,     0,     0,     2,     6,    32,\n",
       "           42,    96,   114,   142,   181,   247,   385,   669,   832,\n",
       "          887,  1124,  1281,  1552,  2354,  3047,  3780,  4823,  5997,\n",
       "         7141,  8183, 14123, 18172, 21448, 24759, 29197, 31539, 36493]))"
      ]
     },
     "execution_count": 66,
     "metadata": {},
     "output_type": "execute_result"
    }
   ],
   "source": [
    "ydata_DE = np.cumsum(newcases_DE)\n",
    "t = np.arange(1,len(ydata_DE)+1,1)\n",
    "xdata = t\n",
    "xdata,ydata_DE"
   ]
  },
  {
   "cell_type": "code",
   "execution_count": 67,
   "metadata": {},
   "outputs": [
    {
     "data": {
      "text/plain": [
       "(array([ 6.38152717e+01,  1.78699893e-01, -6.55084617e+02]),\n",
       " array([-5.78783130e+02, -5.63853839e+02, -5.46003455e+02, -5.24660431e+02,\n",
       "        -4.99141392e+02, -4.68629250e+02, -4.32147046e+02, -3.88526665e+02,\n",
       "        -3.36371439e+02, -2.74011425e+02, -1.99449934e+02, -1.10299602e+02,\n",
       "        -3.70595107e+00,  1.23744013e+02,  2.76131074e+02,  4.58334472e+02,\n",
       "         6.76188126e+02,  9.36667433e+02,  1.24811261e+03,  1.62049572e+03,\n",
       "         2.06574001e+03,  2.59810163e+03,  3.23462612e+03,  3.99569417e+03,\n",
       "         4.90567422e+03,  5.99370265e+03,  7.29461676e+03,  8.85007015e+03,\n",
       "         1.07098665e+04,  1.29335540e+04,  1.55923323e+04,  1.87713322e+04,\n",
       "         2.25723411e+04,  2.71170625e+04,  3.25510126e+04,  3.90481795e+04]))"
      ]
     },
     "execution_count": 67,
     "metadata": {},
     "output_type": "execute_result"
    }
   ],
   "source": [
    "# Initial guess.\n",
    "A0,B0,C0 = 1,1,1\n",
    "x0 = np.array([A0, B0, C0])\n",
    "\n",
    "func = fitExp\n",
    "popt_DE, pcov_DE = curve_fit(func, xdata, ydata_DE, x0,maxfev = 5000)\n",
    "A_DE, B_DE, C_DE = popt_DE[0], popt_DE[1], popt_DE[2]\n",
    "x_DE = np.array([A_DE, B_DE, C_DE])\n",
    "curve_DE = fitExp(t, A_DE, B_DE, C_DE)\n",
    "x_DE,curve_DE"
   ]
  },
  {
   "cell_type": "code",
   "execution_count": 69,
   "metadata": {},
   "outputs": [
    {
     "data": {
      "image/png": "[encoded data removed]",
      "text/plain": [
       "<Figure size 432x288 with 1 Axes>"
      ]
     },
     "metadata": {
      "needs_background": "light"
     },
     "output_type": "display_data"
    }
   ],
   "source": [
    "\n",
    "fig = plt.figure()\n",
    "ax = fig.add_subplot(111)\n",
    "#plt.plot(xdata,func(xdata,popt[0],popt[1],popt[2]), label=r'fit: $A+B\\ln(t) + Ct$')\n",
    "# plt.plot(xdata,func(xdata,A0,B0,C0), color=coltri[0], label=r'theory')\n",
    "plt.plot(xdata,ydata_DE, 'o', color=coltri[1],  label=r'data')\n",
    "plt.plot(t, func(t, *popt_DE), '--',color=coltri[0], lw=2, label=r'fit: $Ae^{Bt}+C$')\n",
    "plt.legend(loc='best',prop={'size':20},frameon=True)\n",
    "plt.xlabel(r\"days since 20 February\", fontsize=20)\n",
    "plt.ylabel(r\"infected\", fontsize=20)\n",
    "ax.tick_params(which = 'major', axis='both', width=1.5, length = 10, labelsize=20,direction='in')\n",
    "ax.tick_params(which = 'minor', axis='both', width=1.5, length = 5, labelsize=20,direction='in')\n",
    "#plt.xticks(fontsize = 20)\n",
    "#plt.yticks(fontsize = 20)\n",
    "plt.yscale('log')\n",
    "# plt.xscale('log')\n",
    "plt.title('GERMANY',fontsize = 20)\n",
    "plt.show()"
   ]
  },
  {
   "cell_type": "code",
   "execution_count": 70,
   "metadata": {},
   "outputs": [
    {
     "data": {
      "text/plain": [
       "array([ 6.38152717e+01,  1.78699893e-01, -6.55084617e+02])"
      ]
     },
     "execution_count": 70,
     "metadata": {},
     "output_type": "execute_result"
    }
   ],
   "source": [
    "popt_DE"
   ]
  },
  {
   "cell_type": "code",
   "execution_count": 71,
   "metadata": {},
   "outputs": [
    {
     "data": {
      "text/html": [
       "<div>\n",
       "<style scoped>\n",
       "    .dataframe tbody tr th:only-of-type {\n",
       "        vertical-align: middle;\n",
       "    }\n",
       "\n",
       "    .dataframe tbody tr th {\n",
       "        vertical-align: top;\n",
       "    }\n",
       "\n",
       "    .dataframe thead th {\n",
       "        text-align: right;\n",
       "    }\n",
       "</style>\n",
       "<table border=\"1\" class=\"dataframe\">\n",
       "  <thead>\n",
       "    <tr style=\"text-align: right;\">\n",
       "      <th></th>\n",
       "      <th>DateRep</th>\n",
       "      <th>Day</th>\n",
       "      <th>Month</th>\n",
       "      <th>Year</th>\n",
       "      <th>Cases</th>\n",
       "      <th>Deaths</th>\n",
       "      <th>Countries</th>\n",
       "      <th>GeoId</th>\n",
       "      <th>CountryCode</th>\n",
       "      <th>Pop_Data.2018</th>\n",
       "    </tr>\n",
       "  </thead>\n",
       "  <tbody>\n",
       "    <tr>\n",
       "      <th>6709</th>\n",
       "      <td>26/03/2020</td>\n",
       "      <td>26</td>\n",
       "      <td>3</td>\n",
       "      <td>2020</td>\n",
       "      <td>13963</td>\n",
       "      <td>249</td>\n",
       "      <td>United_States_of_America</td>\n",
       "      <td>US</td>\n",
       "      <td>USA</td>\n",
       "      <td>327167434.0</td>\n",
       "    </tr>\n",
       "    <tr>\n",
       "      <th>6710</th>\n",
       "      <td>25/03/2020</td>\n",
       "      <td>25</td>\n",
       "      <td>3</td>\n",
       "      <td>2020</td>\n",
       "      <td>8789</td>\n",
       "      <td>211</td>\n",
       "      <td>United_States_of_America</td>\n",
       "      <td>US</td>\n",
       "      <td>USA</td>\n",
       "      <td>327167434.0</td>\n",
       "    </tr>\n",
       "    <tr>\n",
       "      <th>6711</th>\n",
       "      <td>24/03/2020</td>\n",
       "      <td>24</td>\n",
       "      <td>3</td>\n",
       "      <td>2020</td>\n",
       "      <td>11236</td>\n",
       "      <td>119</td>\n",
       "      <td>United_States_of_America</td>\n",
       "      <td>US</td>\n",
       "      <td>USA</td>\n",
       "      <td>327167434.0</td>\n",
       "    </tr>\n",
       "    <tr>\n",
       "      <th>6712</th>\n",
       "      <td>23/03/2020</td>\n",
       "      <td>23</td>\n",
       "      <td>3</td>\n",
       "      <td>2020</td>\n",
       "      <td>8459</td>\n",
       "      <td>131</td>\n",
       "      <td>United_States_of_America</td>\n",
       "      <td>US</td>\n",
       "      <td>USA</td>\n",
       "      <td>327167434.0</td>\n",
       "    </tr>\n",
       "    <tr>\n",
       "      <th>6713</th>\n",
       "      <td>22/03/2020</td>\n",
       "      <td>22</td>\n",
       "      <td>3</td>\n",
       "      <td>2020</td>\n",
       "      <td>7123</td>\n",
       "      <td>80</td>\n",
       "      <td>United_States_of_America</td>\n",
       "      <td>US</td>\n",
       "      <td>USA</td>\n",
       "      <td>327167434.0</td>\n",
       "    </tr>\n",
       "    <tr>\n",
       "      <th>...</th>\n",
       "      <td>...</td>\n",
       "      <td>...</td>\n",
       "      <td>...</td>\n",
       "      <td>...</td>\n",
       "      <td>...</td>\n",
       "      <td>...</td>\n",
       "      <td>...</td>\n",
       "      <td>...</td>\n",
       "      <td>...</td>\n",
       "      <td>...</td>\n",
       "    </tr>\n",
       "    <tr>\n",
       "      <th>6791</th>\n",
       "      <td>04/01/2020</td>\n",
       "      <td>4</td>\n",
       "      <td>1</td>\n",
       "      <td>2020</td>\n",
       "      <td>0</td>\n",
       "      <td>0</td>\n",
       "      <td>United_States_of_America</td>\n",
       "      <td>US</td>\n",
       "      <td>USA</td>\n",
       "      <td>327167434.0</td>\n",
       "    </tr>\n",
       "    <tr>\n",
       "      <th>6792</th>\n",
       "      <td>03/01/2020</td>\n",
       "      <td>3</td>\n",
       "      <td>1</td>\n",
       "      <td>2020</td>\n",
       "      <td>0</td>\n",
       "      <td>0</td>\n",
       "      <td>United_States_of_America</td>\n",
       "      <td>US</td>\n",
       "      <td>USA</td>\n",
       "      <td>327167434.0</td>\n",
       "    </tr>\n",
       "    <tr>\n",
       "      <th>6793</th>\n",
       "      <td>02/01/2020</td>\n",
       "      <td>2</td>\n",
       "      <td>1</td>\n",
       "      <td>2020</td>\n",
       "      <td>0</td>\n",
       "      <td>0</td>\n",
       "      <td>United_States_of_America</td>\n",
       "      <td>US</td>\n",
       "      <td>USA</td>\n",
       "      <td>327167434.0</td>\n",
       "    </tr>\n",
       "    <tr>\n",
       "      <th>6794</th>\n",
       "      <td>01/01/2020</td>\n",
       "      <td>1</td>\n",
       "      <td>1</td>\n",
       "      <td>2020</td>\n",
       "      <td>0</td>\n",
       "      <td>0</td>\n",
       "      <td>United_States_of_America</td>\n",
       "      <td>US</td>\n",
       "      <td>USA</td>\n",
       "      <td>327167434.0</td>\n",
       "    </tr>\n",
       "    <tr>\n",
       "      <th>6795</th>\n",
       "      <td>31/12/2019</td>\n",
       "      <td>31</td>\n",
       "      <td>12</td>\n",
       "      <td>2019</td>\n",
       "      <td>0</td>\n",
       "      <td>0</td>\n",
       "      <td>United_States_of_America</td>\n",
       "      <td>US</td>\n",
       "      <td>USA</td>\n",
       "      <td>327167434.0</td>\n",
       "    </tr>\n",
       "  </tbody>\n",
       "</table>\n",
       "<p>87 rows × 10 columns</p>\n",
       "</div>"
      ],
      "text/plain": [
       "         DateRep  Day  Month  Year  Cases  Deaths                 Countries  \\\n",
       "6709  26/03/2020   26      3  2020  13963     249  United_States_of_America   \n",
       "6710  25/03/2020   25      3  2020   8789     211  United_States_of_America   \n",
       "6711  24/03/2020   24      3  2020  11236     119  United_States_of_America   \n",
       "6712  23/03/2020   23      3  2020   8459     131  United_States_of_America   \n",
       "6713  22/03/2020   22      3  2020   7123      80  United_States_of_America   \n",
       "...          ...  ...    ...   ...    ...     ...                       ...   \n",
       "6791  04/01/2020    4      1  2020      0       0  United_States_of_America   \n",
       "6792  03/01/2020    3      1  2020      0       0  United_States_of_America   \n",
       "6793  02/01/2020    2      1  2020      0       0  United_States_of_America   \n",
       "6794  01/01/2020    1      1  2020      0       0  United_States_of_America   \n",
       "6795  31/12/2019   31     12  2019      0       0  United_States_of_America   \n",
       "\n",
       "     GeoId CountryCode  Pop_Data.2018  \n",
       "6709    US         USA    327167434.0  \n",
       "6710    US         USA    327167434.0  \n",
       "6711    US         USA    327167434.0  \n",
       "6712    US         USA    327167434.0  \n",
       "6713    US         USA    327167434.0  \n",
       "...    ...         ...            ...  \n",
       "6791    US         USA    327167434.0  \n",
       "6792    US         USA    327167434.0  \n",
       "6793    US         USA    327167434.0  \n",
       "6794    US         USA    327167434.0  \n",
       "6795    US         USA    327167434.0  \n",
       "\n",
       "[87 rows x 10 columns]"
      ]
     },
     "execution_count": 71,
     "metadata": {},
     "output_type": "execute_result"
    }
   ],
   "source": [
    "usa = data[data.Countries =='United_States_of_America']\n",
    "usa"
   ]
  },
  {
   "cell_type": "code",
   "execution_count": 73,
   "metadata": {},
   "outputs": [
    {
     "data": {
      "text/plain": [
       "array([    0,     1,    19,     0,     0,    18,     0,     6,     1,\n",
       "           6,     3,    20,    14,    22,    34,    74,   105,    95,\n",
       "         121,   200,   271,   287,   351,   511,   777,   823,   887,\n",
       "        1766,  2988,  4835,  5374,  7123,  8459, 11236,  8789, 13963])"
      ]
     },
     "execution_count": 73,
     "metadata": {},
     "output_type": "execute_result"
    }
   ],
   "source": [
    "newcases_US = np.flip(usa.Cases.to_numpy()[:lastxdays])\n",
    "newcases_US"
   ]
  },
  {
   "cell_type": "code",
   "execution_count": 74,
   "metadata": {},
   "outputs": [
    {
     "data": {
      "text/plain": [
       "(array([ 1,  2,  3,  4,  5,  6,  7,  8,  9, 10, 11, 12, 13, 14, 15, 16, 17,\n",
       "        18, 19, 20, 21, 22, 23, 24, 25, 26, 27, 28, 29, 30, 31, 32, 33, 34,\n",
       "        35, 36]),\n",
       " array([    0,     1,    20,    20,    20,    38,    38,    44,    45,\n",
       "           51,    54,    74,    88,   110,   144,   218,   323,   418,\n",
       "          539,   739,  1010,  1297,  1648,  2159,  2936,  3759,  4646,\n",
       "         6412,  9400, 14235, 19609, 26732, 35191, 46427, 55216, 69179]))"
      ]
     },
     "execution_count": 74,
     "metadata": {},
     "output_type": "execute_result"
    }
   ],
   "source": [
    "ydata_US = np.cumsum(newcases_US)\n",
    "t = np.arange(1,len(ydata_US)+1,1)\n",
    "xdata = t\n",
    "xdata,ydata_US"
   ]
  },
  {
   "cell_type": "code",
   "execution_count": 75,
   "metadata": {},
   "outputs": [
    {
     "data": {
      "image/png": "[encoded data removed]",
      "text/plain": [
       "<Figure size 432x288 with 1 Axes>"
      ]
     },
     "metadata": {
      "needs_background": "light"
     },
     "output_type": "display_data"
    }
   ],
   "source": [
    "fig = plt.figure()\n",
    "ax = fig.add_subplot(111)\n",
    "#plt.plot(xdata,func(xdata,popt[0],popt[1],popt[2]), label=r'fit: $A+B\\ln(t) + Ct$')\n",
    "# plt.plot(xdata,func(xdata,A0,B0,C0), color=coltri[0], label=r'theory')\n",
    "plt.plot(xdata,ydata_IT, 'o-', color=coltri[2],  label=r'IT')\n",
    "# plt.plot(xdata-9,ydata_DE, 'o-', color=coltri[1],  label=r'DE (+9)')\n",
    "plt.plot(xdata-10,ydata_US, 'o-', color=coltri[0],  label=r'US (+10)')\n",
    "\n",
    "\n",
    "# plt.plot(np.arange(10,20), func(np.arange(10,20)+10, 1.10748188e+02,  2.11390555e-01, 1000), '--',color='black', lw=2, label=r'fit')\n",
    "plt.legend(loc='best',prop={'size':20},frameon=True)\n",
    "plt.xlabel(r\"days since 20 February\", fontsize=20)\n",
    "plt.ylabel(r\"infected\", fontsize=20)\n",
    "ax.tick_params(which = 'major', axis='both', width=1.5, length = 10, labelsize=20,direction='in')\n",
    "ax.tick_params(which = 'minor', axis='both', width=1.5, length = 5, labelsize=20,direction='in')\n",
    "#plt.xticks(fontsize = 20)\n",
    "#plt.yticks(fontsize = 20)\n",
    "# plt.ylim(-100,2600)\n",
    "plt.yscale('log')\n",
    "# plt.xscale('log')\n",
    "plt.title('',fontsize = 25)\n",
    "plt.show()"
   ]
  },
  {
   "cell_type": "code",
   "execution_count": null,
   "metadata": {},
   "outputs": [],
   "source": []
  },
  {
   "cell_type": "code",
   "execution_count": null,
   "metadata": {},
   "outputs": [],
   "source": []
  },
  {
   "cell_type": "code",
   "execution_count": 79,
   "metadata": {},
   "outputs": [
    {
     "data": {
      "text/html": [
       "<div>\n",
       "<style scoped>\n",
       "    .dataframe tbody tr th:only-of-type {\n",
       "        vertical-align: middle;\n",
       "    }\n",
       "\n",
       "    .dataframe tbody tr th {\n",
       "        vertical-align: top;\n",
       "    }\n",
       "\n",
       "    .dataframe thead th {\n",
       "        text-align: right;\n",
       "    }\n",
       "</style>\n",
       "<table border=\"1\" class=\"dataframe\">\n",
       "  <thead>\n",
       "    <tr style=\"text-align: right;\">\n",
       "      <th></th>\n",
       "      <th>DateRep</th>\n",
       "      <th>Day</th>\n",
       "      <th>Month</th>\n",
       "      <th>Year</th>\n",
       "      <th>Cases</th>\n",
       "      <th>Deaths</th>\n",
       "      <th>Countries</th>\n",
       "      <th>GeoId</th>\n",
       "      <th>CountryCode</th>\n",
       "      <th>Pop_Data.2018</th>\n",
       "    </tr>\n",
       "  </thead>\n",
       "  <tbody>\n",
       "    <tr>\n",
       "      <th>6192</th>\n",
       "      <td>26/03/2020</td>\n",
       "      <td>26</td>\n",
       "      <td>3</td>\n",
       "      <td>2020</td>\n",
       "      <td>925</td>\n",
       "      <td>17</td>\n",
       "      <td>Switzerland</td>\n",
       "      <td>CH</td>\n",
       "      <td>CHE</td>\n",
       "      <td>8516543.0</td>\n",
       "    </tr>\n",
       "    <tr>\n",
       "      <th>6193</th>\n",
       "      <td>25/03/2020</td>\n",
       "      <td>25</td>\n",
       "      <td>3</td>\n",
       "      <td>2020</td>\n",
       "      <td>774</td>\n",
       "      <td>20</td>\n",
       "      <td>Switzerland</td>\n",
       "      <td>CH</td>\n",
       "      <td>CHE</td>\n",
       "      <td>8516543.0</td>\n",
       "    </tr>\n",
       "    <tr>\n",
       "      <th>6194</th>\n",
       "      <td>24/03/2020</td>\n",
       "      <td>24</td>\n",
       "      <td>3</td>\n",
       "      <td>2020</td>\n",
       "      <td>1044</td>\n",
       "      <td>6</td>\n",
       "      <td>Switzerland</td>\n",
       "      <td>CH</td>\n",
       "      <td>CHE</td>\n",
       "      <td>8516543.0</td>\n",
       "    </tr>\n",
       "    <tr>\n",
       "      <th>6195</th>\n",
       "      <td>23/03/2020</td>\n",
       "      <td>23</td>\n",
       "      <td>3</td>\n",
       "      <td>2020</td>\n",
       "      <td>894</td>\n",
       "      <td>4</td>\n",
       "      <td>Switzerland</td>\n",
       "      <td>CH</td>\n",
       "      <td>CHE</td>\n",
       "      <td>8516543.0</td>\n",
       "    </tr>\n",
       "    <tr>\n",
       "      <th>6196</th>\n",
       "      <td>22/03/2020</td>\n",
       "      <td>22</td>\n",
       "      <td>3</td>\n",
       "      <td>2020</td>\n",
       "      <td>1237</td>\n",
       "      <td>13</td>\n",
       "      <td>Switzerland</td>\n",
       "      <td>CH</td>\n",
       "      <td>CHE</td>\n",
       "      <td>8516543.0</td>\n",
       "    </tr>\n",
       "    <tr>\n",
       "      <th>...</th>\n",
       "      <td>...</td>\n",
       "      <td>...</td>\n",
       "      <td>...</td>\n",
       "      <td>...</td>\n",
       "      <td>...</td>\n",
       "      <td>...</td>\n",
       "      <td>...</td>\n",
       "      <td>...</td>\n",
       "      <td>...</td>\n",
       "      <td>...</td>\n",
       "    </tr>\n",
       "    <tr>\n",
       "      <th>6274</th>\n",
       "      <td>04/01/2020</td>\n",
       "      <td>4</td>\n",
       "      <td>1</td>\n",
       "      <td>2020</td>\n",
       "      <td>0</td>\n",
       "      <td>0</td>\n",
       "      <td>Switzerland</td>\n",
       "      <td>CH</td>\n",
       "      <td>CHE</td>\n",
       "      <td>8516543.0</td>\n",
       "    </tr>\n",
       "    <tr>\n",
       "      <th>6275</th>\n",
       "      <td>03/01/2020</td>\n",
       "      <td>3</td>\n",
       "      <td>1</td>\n",
       "      <td>2020</td>\n",
       "      <td>0</td>\n",
       "      <td>0</td>\n",
       "      <td>Switzerland</td>\n",
       "      <td>CH</td>\n",
       "      <td>CHE</td>\n",
       "      <td>8516543.0</td>\n",
       "    </tr>\n",
       "    <tr>\n",
       "      <th>6276</th>\n",
       "      <td>02/01/2020</td>\n",
       "      <td>2</td>\n",
       "      <td>1</td>\n",
       "      <td>2020</td>\n",
       "      <td>0</td>\n",
       "      <td>0</td>\n",
       "      <td>Switzerland</td>\n",
       "      <td>CH</td>\n",
       "      <td>CHE</td>\n",
       "      <td>8516543.0</td>\n",
       "    </tr>\n",
       "    <tr>\n",
       "      <th>6277</th>\n",
       "      <td>01/01/2020</td>\n",
       "      <td>1</td>\n",
       "      <td>1</td>\n",
       "      <td>2020</td>\n",
       "      <td>0</td>\n",
       "      <td>0</td>\n",
       "      <td>Switzerland</td>\n",
       "      <td>CH</td>\n",
       "      <td>CHE</td>\n",
       "      <td>8516543.0</td>\n",
       "    </tr>\n",
       "    <tr>\n",
       "      <th>6278</th>\n",
       "      <td>31/12/2019</td>\n",
       "      <td>31</td>\n",
       "      <td>12</td>\n",
       "      <td>2019</td>\n",
       "      <td>0</td>\n",
       "      <td>0</td>\n",
       "      <td>Switzerland</td>\n",
       "      <td>CH</td>\n",
       "      <td>CHE</td>\n",
       "      <td>8516543.0</td>\n",
       "    </tr>\n",
       "  </tbody>\n",
       "</table>\n",
       "<p>87 rows × 10 columns</p>\n",
       "</div>"
      ],
      "text/plain": [
       "         DateRep  Day  Month  Year  Cases  Deaths    Countries GeoId  \\\n",
       "6192  26/03/2020   26      3  2020    925      17  Switzerland    CH   \n",
       "6193  25/03/2020   25      3  2020    774      20  Switzerland    CH   \n",
       "6194  24/03/2020   24      3  2020   1044       6  Switzerland    CH   \n",
       "6195  23/03/2020   23      3  2020    894       4  Switzerland    CH   \n",
       "6196  22/03/2020   22      3  2020   1237      13  Switzerland    CH   \n",
       "...          ...  ...    ...   ...    ...     ...          ...   ...   \n",
       "6274  04/01/2020    4      1  2020      0       0  Switzerland    CH   \n",
       "6275  03/01/2020    3      1  2020      0       0  Switzerland    CH   \n",
       "6276  02/01/2020    2      1  2020      0       0  Switzerland    CH   \n",
       "6277  01/01/2020    1      1  2020      0       0  Switzerland    CH   \n",
       "6278  31/12/2019   31     12  2019      0       0  Switzerland    CH   \n",
       "\n",
       "     CountryCode  Pop_Data.2018  \n",
       "6192         CHE      8516543.0  \n",
       "6193         CHE      8516543.0  \n",
       "6194         CHE      8516543.0  \n",
       "6195         CHE      8516543.0  \n",
       "6196         CHE      8516543.0  \n",
       "...          ...            ...  \n",
       "6274         CHE      8516543.0  \n",
       "6275         CHE      8516543.0  \n",
       "6276         CHE      8516543.0  \n",
       "6277         CHE      8516543.0  \n",
       "6278         CHE      8516543.0  \n",
       "\n",
       "[87 rows x 10 columns]"
      ]
     },
     "execution_count": 79,
     "metadata": {},
     "output_type": "execute_result"
    }
   ],
   "source": [
    "switzerland = data[data.Countries =='Switzerland']\n",
    "switzerland"
   ]
  },
  {
   "cell_type": "code",
   "execution_count": 81,
   "metadata": {},
   "outputs": [
    {
     "data": {
      "text/plain": [
       "array([   0,    0,    0,    0,    0,    0,    1,    0,    7,    4,    6,\n",
       "          6,    6,    7,   20,   30,  122,   55,   68,   42,  116,  152,\n",
       "        212,  267,  238,  841,    0,  450,  360,  878,  952, 1237,  894,\n",
       "       1044,  774,  925])"
      ]
     },
     "execution_count": 81,
     "metadata": {},
     "output_type": "execute_result"
    }
   ],
   "source": [
    "newcases_CH = np.flip(switzerland.Cases.to_numpy()[:lastxdays])\n",
    "newcases_CH"
   ]
  },
  {
   "cell_type": "code",
   "execution_count": 82,
   "metadata": {},
   "outputs": [
    {
     "data": {
      "text/plain": [
       "(array([ 1,  2,  3,  4,  5,  6,  7,  8,  9, 10, 11, 12, 13, 14, 15, 16, 17,\n",
       "        18, 19, 20, 21, 22, 23, 24, 25, 26, 27, 28, 29, 30, 31, 32, 33, 34,\n",
       "        35, 36]),\n",
       " array([   0,    0,    0,    0,    0,    0,    1,    1,    8,   12,   18,\n",
       "          24,   30,   37,   57,   87,  209,  264,  332,  374,  490,  642,\n",
       "         854, 1121, 1359, 2200, 2200, 2650, 3010, 3888, 4840, 6077, 6971,\n",
       "        8015, 8789, 9714]))"
      ]
     },
     "execution_count": 82,
     "metadata": {},
     "output_type": "execute_result"
    }
   ],
   "source": [
    "ydata_CH = np.cumsum(newcases_CH)\n",
    "t = np.arange(1,len(ydata_CH)+1,1)\n",
    "xdata = t\n",
    "xdata,ydata_CH"
   ]
  },
  {
   "cell_type": "code",
   "execution_count": 83,
   "metadata": {},
   "outputs": [
    {
     "data": {
      "text/plain": [
       "array([ 1.55144852e+03,  1.10619016e-01, -3.76306908e+03])"
      ]
     },
     "execution_count": 83,
     "metadata": {},
     "output_type": "execute_result"
    }
   ],
   "source": [
    "popt_IT"
   ]
  },
  {
   "cell_type": "code",
   "execution_count": 98,
   "metadata": {},
   "outputs": [
    {
     "data": {
      "image/png": "[encoded data removed]",
      "text/plain": [
       "<Figure size 432x288 with 1 Axes>"
      ]
     },
     "metadata": {
      "needs_background": "light"
     },
     "output_type": "display_data"
    }
   ],
   "source": [
    "fig = plt.figure()\n",
    "ax = fig.add_subplot(111)\n",
    "#plt.plot(xdata,func(xdata,popt[0],popt[1],popt[2]), label=r'fit: $A+B\\ln(t) + Ct$')\n",
    "# plt.plot(xdata,func(xdata,A0,B0,C0), color=coltri[0], label=r'theory')\n",
    "plt.plot(xdata,ydata_IT, 'o', color=coltri[2],  label=r'IT', fillstyle='none')\n",
    "plt.plot(xdata-9,ydata_DE, 's', color=coltri[1],  label=r'DE (-9)', fillstyle='none')\n",
    "plt.plot(xdata-10,ydata_US, 'x', color='violet',  label=r'US (-10)', fillstyle='none')\n",
    "plt.plot(xdata-12,ydata_CH, '^', color=coltri[0],  label=r'CH (-12)', fillstyle='none')\n",
    "\n",
    "\n",
    "# plt.plot(np.arange(15,40), func(np.arange(15,40), *popt_IT), '--',color='black', lw=2, label=r'fit')\n",
    "# plt.legend(loc='best',prop={'size':20},frameon=True)\n",
    "plt.legend(bbox_to_anchor=(1.04,1), loc=\"upper left\",prop={'size':20},frameon=True)\n",
    "plt.xlabel(r\"days since 20 February\", fontsize=20)\n",
    "plt.ylabel(r\"infected\", fontsize=20)\n",
    "ax.tick_params(which = 'major', axis='both', width=1.5, length = 10, labelsize=20,direction='in')\n",
    "ax.tick_params(which = 'minor', axis='both', width=1.5, length = 5, labelsize=20,direction='in')\n",
    "#plt.xticks(fontsize = 20)\n",
    "#plt.yticks(fontsize = 20)\n",
    "# plt.ylim(-100,2600)\n",
    "plt.yscale('log')\n",
    "# plt.xscale('log')\n",
    "plt.title('',fontsize = 25)\n",
    "plt.show()"
   ]
  },
  {
   "cell_type": "code",
   "execution_count": 99,
   "metadata": {},
   "outputs": [
    {
     "data": {
      "text/plain": [
       "array([ 1.55144852e+03,  1.10619016e-01, -3.76306908e+03])"
      ]
     },
     "execution_count": 99,
     "metadata": {},
     "output_type": "execute_result"
    }
   ],
   "source": [
    "popt_IT"
   ]
  },
  {
   "cell_type": "code",
   "execution_count": null,
   "metadata": {},
   "outputs": [],
   "source": []
  },
  {
   "cell_type": "code",
   "execution_count": 101,
   "metadata": {},
   "outputs": [
    {
     "data": {
      "text/plain": [
       "array([18,  9, 12, 27, 12,  0, 20, 22, 24, 20,  9, 15,  0, 14, 49, 32, 59,\n",
       "       47, 33, 26, 54, 51, 56, 62, 43, 34, 10,  5, 44, 77, 57, 39, 43, 39,\n",
       "       65, 75])"
      ]
     },
     "execution_count": 101,
     "metadata": {},
     "output_type": "execute_result"
    }
   ],
   "source": [
    "japan = data[data.Countries =='Japan']\n",
    "newcases_JP = np.flip(japan.Cases.to_numpy()[:lastxdays])\n",
    "newcases_JP"
   ]
  },
  {
   "cell_type": "code",
   "execution_count": 102,
   "metadata": {},
   "outputs": [
    {
     "data": {
      "text/plain": [
       "(array([ 1,  2,  3,  4,  5,  6,  7,  8,  9, 10, 11, 12, 13, 14, 15, 16, 17,\n",
       "        18, 19, 20, 21, 22, 23, 24, 25, 26, 27, 28, 29, 30, 31, 32, 33, 34,\n",
       "        35, 36]),\n",
       " array([  18,   27,   39,   66,   78,   78,   98,  120,  144,  164,  173,\n",
       "         188,  188,  202,  251,  283,  342,  389,  422,  448,  502,  553,\n",
       "         609,  671,  714,  748,  758,  763,  807,  884,  941,  980, 1023,\n",
       "        1062, 1127, 1202]))"
      ]
     },
     "execution_count": 102,
     "metadata": {},
     "output_type": "execute_result"
    }
   ],
   "source": [
    "ydata_JP = np.cumsum(newcases_JP)\n",
    "t = np.arange(1,len(ydata_JP)+1,1)\n",
    "xdata = t\n",
    "xdata,ydata_JP"
   ]
  },
  {
   "cell_type": "code",
   "execution_count": 103,
   "metadata": {},
   "outputs": [
    {
     "data": {
      "text/html": [
       "<div>\n",
       "<style scoped>\n",
       "    .dataframe tbody tr th:only-of-type {\n",
       "        vertical-align: middle;\n",
       "    }\n",
       "\n",
       "    .dataframe tbody tr th {\n",
       "        vertical-align: top;\n",
       "    }\n",
       "\n",
       "    .dataframe thead th {\n",
       "        text-align: right;\n",
       "    }\n",
       "</style>\n",
       "<table border=\"1\" class=\"dataframe\">\n",
       "  <thead>\n",
       "    <tr style=\"text-align: right;\">\n",
       "      <th></th>\n",
       "      <th>DateRep</th>\n",
       "      <th>Day</th>\n",
       "      <th>Month</th>\n",
       "      <th>Year</th>\n",
       "      <th>Cases</th>\n",
       "      <th>Deaths</th>\n",
       "      <th>Countries</th>\n",
       "      <th>GeoId</th>\n",
       "      <th>CountryCode</th>\n",
       "      <th>Pop_Data.2018</th>\n",
       "    </tr>\n",
       "  </thead>\n",
       "  <tbody>\n",
       "    <tr>\n",
       "      <th>1329</th>\n",
       "      <td>26/03/2020</td>\n",
       "      <td>26</td>\n",
       "      <td>3</td>\n",
       "      <td>2020</td>\n",
       "      <td>121</td>\n",
       "      <td>6</td>\n",
       "      <td>China</td>\n",
       "      <td>CN</td>\n",
       "      <td>CHN</td>\n",
       "      <td>1.392730e+09</td>\n",
       "    </tr>\n",
       "    <tr>\n",
       "      <th>1330</th>\n",
       "      <td>25/03/2020</td>\n",
       "      <td>25</td>\n",
       "      <td>3</td>\n",
       "      <td>2020</td>\n",
       "      <td>99</td>\n",
       "      <td>4</td>\n",
       "      <td>China</td>\n",
       "      <td>CN</td>\n",
       "      <td>CHN</td>\n",
       "      <td>1.392730e+09</td>\n",
       "    </tr>\n",
       "    <tr>\n",
       "      <th>1331</th>\n",
       "      <td>24/03/2020</td>\n",
       "      <td>24</td>\n",
       "      <td>3</td>\n",
       "      <td>2020</td>\n",
       "      <td>99</td>\n",
       "      <td>7</td>\n",
       "      <td>China</td>\n",
       "      <td>CN</td>\n",
       "      <td>CHN</td>\n",
       "      <td>1.392730e+09</td>\n",
       "    </tr>\n",
       "    <tr>\n",
       "      <th>1332</th>\n",
       "      <td>23/03/2020</td>\n",
       "      <td>23</td>\n",
       "      <td>3</td>\n",
       "      <td>2020</td>\n",
       "      <td>150</td>\n",
       "      <td>9</td>\n",
       "      <td>China</td>\n",
       "      <td>CN</td>\n",
       "      <td>CHN</td>\n",
       "      <td>1.392730e+09</td>\n",
       "    </tr>\n",
       "    <tr>\n",
       "      <th>1333</th>\n",
       "      <td>22/03/2020</td>\n",
       "      <td>22</td>\n",
       "      <td>3</td>\n",
       "      <td>2020</td>\n",
       "      <td>83</td>\n",
       "      <td>6</td>\n",
       "      <td>China</td>\n",
       "      <td>CN</td>\n",
       "      <td>CHN</td>\n",
       "      <td>1.392730e+09</td>\n",
       "    </tr>\n",
       "    <tr>\n",
       "      <th>...</th>\n",
       "      <td>...</td>\n",
       "      <td>...</td>\n",
       "      <td>...</td>\n",
       "      <td>...</td>\n",
       "      <td>...</td>\n",
       "      <td>...</td>\n",
       "      <td>...</td>\n",
       "      <td>...</td>\n",
       "      <td>...</td>\n",
       "      <td>...</td>\n",
       "    </tr>\n",
       "    <tr>\n",
       "      <th>1411</th>\n",
       "      <td>04/01/2020</td>\n",
       "      <td>4</td>\n",
       "      <td>1</td>\n",
       "      <td>2020</td>\n",
       "      <td>0</td>\n",
       "      <td>0</td>\n",
       "      <td>China</td>\n",
       "      <td>CN</td>\n",
       "      <td>CHN</td>\n",
       "      <td>1.392730e+09</td>\n",
       "    </tr>\n",
       "    <tr>\n",
       "      <th>1412</th>\n",
       "      <td>03/01/2020</td>\n",
       "      <td>3</td>\n",
       "      <td>1</td>\n",
       "      <td>2020</td>\n",
       "      <td>17</td>\n",
       "      <td>0</td>\n",
       "      <td>China</td>\n",
       "      <td>CN</td>\n",
       "      <td>CHN</td>\n",
       "      <td>1.392730e+09</td>\n",
       "    </tr>\n",
       "    <tr>\n",
       "      <th>1413</th>\n",
       "      <td>02/01/2020</td>\n",
       "      <td>2</td>\n",
       "      <td>1</td>\n",
       "      <td>2020</td>\n",
       "      <td>0</td>\n",
       "      <td>0</td>\n",
       "      <td>China</td>\n",
       "      <td>CN</td>\n",
       "      <td>CHN</td>\n",
       "      <td>1.392730e+09</td>\n",
       "    </tr>\n",
       "    <tr>\n",
       "      <th>1414</th>\n",
       "      <td>01/01/2020</td>\n",
       "      <td>1</td>\n",
       "      <td>1</td>\n",
       "      <td>2020</td>\n",
       "      <td>0</td>\n",
       "      <td>0</td>\n",
       "      <td>China</td>\n",
       "      <td>CN</td>\n",
       "      <td>CHN</td>\n",
       "      <td>1.392730e+09</td>\n",
       "    </tr>\n",
       "    <tr>\n",
       "      <th>1415</th>\n",
       "      <td>31/12/2019</td>\n",
       "      <td>31</td>\n",
       "      <td>12</td>\n",
       "      <td>2019</td>\n",
       "      <td>27</td>\n",
       "      <td>0</td>\n",
       "      <td>China</td>\n",
       "      <td>CN</td>\n",
       "      <td>CHN</td>\n",
       "      <td>1.392730e+09</td>\n",
       "    </tr>\n",
       "  </tbody>\n",
       "</table>\n",
       "<p>87 rows × 10 columns</p>\n",
       "</div>"
      ],
      "text/plain": [
       "         DateRep  Day  Month  Year  Cases  Deaths Countries GeoId CountryCode  \\\n",
       "1329  26/03/2020   26      3  2020    121       6     China    CN         CHN   \n",
       "1330  25/03/2020   25      3  2020     99       4     China    CN         CHN   \n",
       "1331  24/03/2020   24      3  2020     99       7     China    CN         CHN   \n",
       "1332  23/03/2020   23      3  2020    150       9     China    CN         CHN   \n",
       "1333  22/03/2020   22      3  2020     83       6     China    CN         CHN   \n",
       "...          ...  ...    ...   ...    ...     ...       ...   ...         ...   \n",
       "1411  04/01/2020    4      1  2020      0       0     China    CN         CHN   \n",
       "1412  03/01/2020    3      1  2020     17       0     China    CN         CHN   \n",
       "1413  02/01/2020    2      1  2020      0       0     China    CN         CHN   \n",
       "1414  01/01/2020    1      1  2020      0       0     China    CN         CHN   \n",
       "1415  31/12/2019   31     12  2019     27       0     China    CN         CHN   \n",
       "\n",
       "      Pop_Data.2018  \n",
       "1329   1.392730e+09  \n",
       "1330   1.392730e+09  \n",
       "1331   1.392730e+09  \n",
       "1332   1.392730e+09  \n",
       "1333   1.392730e+09  \n",
       "...             ...  \n",
       "1411   1.392730e+09  \n",
       "1412   1.392730e+09  \n",
       "1413   1.392730e+09  \n",
       "1414   1.392730e+09  \n",
       "1415   1.392730e+09  \n",
       "\n",
       "[87 rows x 10 columns]"
      ]
     },
     "execution_count": 103,
     "metadata": {},
     "output_type": "execute_result"
    }
   ],
   "source": [
    "china = data[data.Countries =='China']\n",
    "china"
   ]
  },
  {
   "cell_type": "code",
   "execution_count": 104,
   "metadata": {},
   "outputs": [
    {
     "data": {
      "text/plain": [
       "array([   27,     0,     0,    17,     0,    15,     0,     0,     0,\n",
       "           0,     0,     0,     0,     0,     0,     0,     0,     4,\n",
       "          17,   136,    19,   151,   140,    97,   259,   441,   665,\n",
       "         787,  1753,  1466,  1740,  1980,  2095,  2590,  2812,  3237,\n",
       "        3872,  3727,  3160,  3418,  2607,  2974,  2490,  2028, 15141,\n",
       "        4156,  2538,  2007,  2052,  1890,  1750,   394,   891,   826,\n",
       "         647,   218,   515,   410,   439,   329,   428,   574,   205,\n",
       "         127,   119,   117,   170,   101,    46,    45,    20,    29,\n",
       "          24,    22,    19,    22,    25,   110,    33,    75,    99,\n",
       "          79,    83,   150,    99,    99,   121])"
      ]
     },
     "execution_count": 104,
     "metadata": {},
     "output_type": "execute_result"
    }
   ],
   "source": [
    "newcases_CN = np.flip(china.Cases.to_numpy())\n",
    "newcases_CN"
   ]
  },
  {
   "cell_type": "code",
   "execution_count": 129,
   "metadata": {},
   "outputs": [
    {
     "data": {
      "text/plain": [
       "(array([ 1,  2,  3,  4,  5,  6,  7,  8,  9, 10, 11, 12, 13, 14, 15, 16, 17,\n",
       "        18, 19, 20, 21, 22, 23, 24, 25, 26, 27, 28, 29, 30, 31, 32, 33, 34,\n",
       "        35, 36, 37, 38, 39, 40, 41, 42, 43, 44, 45, 46, 47, 48, 49, 50, 51,\n",
       "        52, 53, 54, 55, 56, 57, 58, 59, 60, 61, 62, 63, 64, 65, 66, 67, 68,\n",
       "        69, 70, 71, 72, 73, 74, 75, 76, 77, 78, 79, 80, 81, 82, 83, 84, 85,\n",
       "        86, 87]),\n",
       " array([   27,    27,    27,    44,    44,    59,    59,    59,    59,\n",
       "           59,    59,    59,    59,    59,    59,    59,    59,    63,\n",
       "           80,   216,   235,   386,   526,   623,   882,  1323,  1988,\n",
       "         2775,  4528,  5994,  7734,  9714, 11809, 14399, 17211, 20448,\n",
       "        24320, 28047, 31207, 34625, 37232, 40206, 42696, 44724, 59865,\n",
       "        64021, 66559, 68566, 70618, 72508, 74258, 74652, 75543, 76369,\n",
       "        77016, 77234, 77749, 78159, 78598, 78927, 79355, 79929, 80134,\n",
       "        80261, 80380, 80497, 80667, 80768, 80814, 80859, 80879, 80908,\n",
       "        80932, 80954, 80973, 80995, 81020, 81130, 81163, 81238, 81337,\n",
       "        81416, 81499, 81649, 81748, 81847, 81968]))"
      ]
     },
     "execution_count": 129,
     "metadata": {},
     "output_type": "execute_result"
    }
   ],
   "source": [
    "ydata_CN = np.cumsum(newcases_CN)[:90]\n",
    "# ydata_CN = np.cumsum(newcases_CN)[20:]\n",
    "xdata_CN = np.arange(1,len(ydata_CN)+1,1)\n",
    "xdata_CN,ydata_CN"
   ]
  },
  {
   "cell_type": "code",
   "execution_count": null,
   "metadata": {},
   "outputs": [],
   "source": []
  },
  {
   "cell_type": "code",
   "execution_count": null,
   "metadata": {},
   "outputs": [],
   "source": []
  },
  {
   "cell_type": "code",
   "execution_count": 87,
   "metadata": {},
   "outputs": [
    {
     "data": {
      "text/plain": [
       "(array([ 1,  2,  3,  4,  5,  6,  7,  8,  9, 10, 11, 12, 13, 14, 15, 16, 17,\n",
       "        18, 19, 20, 21, 22, 23, 24, 25, 26, 27, 28, 29, 30, 31, 32, 33, 34,\n",
       "        35, 36]),\n",
       " array([   0,    0,    0,    0,    0,    0,    0,    0,    0,    0,    0,\n",
       "           0,    0,    0,    0,    1,    1,    1,    1,    1,    1,    1,\n",
       "           1,    1,    2,    2,    3,    3,    4,    7,   11,   14,   15,\n",
       "          19,   20,   20,   25,   25,   25,   25,   25,   25,   25,   25,\n",
       "          29,   30,   38,   52,   59,   59,   66,   84,   93,  105,  132,\n",
       "         144,  144,  164,  186,  210,  230,  239,  254,  254,  268,  317,\n",
       "         349,  408,  455,  488,  514,  568,  619,  675,  737,  780,  814,\n",
       "         824,  829,  873,  950, 1007, 1046, 1089, 1128, 1193, 1268, 1364,\n",
       "        1499, 1693, 1866]))"
      ]
     },
     "execution_count": 87,
     "metadata": {},
     "output_type": "execute_result"
    }
   ],
   "source": [
    "japan = data[data.countriesAndTerritories =='Japan']\n",
    "newcases_JP = np.flip(japan.cases.to_numpy()[:])\n",
    "ydata_JP = np.cumsum(newcases_JP)\n",
    "xdata,ydata_JP"
   ]
  },
  {
   "cell_type": "code",
   "execution_count": 88,
   "metadata": {},
   "outputs": [
    {
     "data": {
      "text/plain": [
       "(array([ 1,  2,  3,  4,  5,  6,  7,  8,  9, 10, 11, 12, 13, 14, 15, 16, 17,\n",
       "        18, 19, 20, 21, 22, 23, 24, 25, 26, 27, 28, 29, 30, 31, 32, 33, 34,\n",
       "        35, 36]),\n",
       " array([   0,    0,    0,    0,    0,    0,    0,    0,    0,    0,    0,\n",
       "           0,    0,    0,    0,    0,    0,    0,    0,    0,    1,    1,\n",
       "           1,    1,    2,    2,    3,    4,    4,    4,    4,    7,   12,\n",
       "          15,   15,   16,   18,   23,   24,   24,   25,   27,   28,   28,\n",
       "          28,   28,   28,   29,   30,   31,   46,   80,  155,  345,  601,\n",
       "         762,  892, 1146, 1595, 2022, 2931, 3526, 4212, 4812, 5328, 5766,\n",
       "        6284, 6767, 7134, 7382, 7513, 7755, 7869, 7979, 8086, 8162, 8236,\n",
       "        8320, 8413, 8565, 8652, 8799, 8897, 8961, 9037, 9137, 9241, 9332,\n",
       "        9478, 9583, 9661]))"
      ]
     },
     "execution_count": 88,
     "metadata": {},
     "output_type": "execute_result"
    }
   ],
   "source": [
    "korea = data[data.countriesAndTerritories =='South_Korea']\n",
    "newcases_KO = np.flip(korea.cases.to_numpy()[:])\n",
    "ydata_KO = np.cumsum(newcases_KO)\n",
    "xdata,ydata_KO"
   ]
  },
  {
   "cell_type": "code",
   "execution_count": 90,
   "metadata": {},
   "outputs": [
    {
     "data": {
      "text/plain": [
       "(array([ 1,  2,  3,  4,  5,  6,  7,  8,  9, 10, 11, 12, 13, 14, 15, 16, 17,\n",
       "        18, 19, 20, 21, 22, 23, 24, 25, 26, 27, 28, 29, 30, 31, 32, 33, 34,\n",
       "        35, 36]),\n",
       " array([    0,     0,     0,     0,     0,     0,     0,     0,     0,\n",
       "            0,     0,     0,     0,     0,     0,     0,     0,     0,\n",
       "            0,     0,     0,     0,     0,     0,     0,     3,     3,\n",
       "            3,     3,     4,     5,     6,     6,     6,     6,     6,\n",
       "            6,     6,     6,    11,    11,    11,    11,    11,    11,\n",
       "           11,    11,    11,    12,    12,    12,    12,    12,    12,\n",
       "           12,    12,    12,    14,    17,    38,    57,   100,   130,\n",
       "          178,   212,   285,   423,   613,   716,  1126,  1412,  1784,\n",
       "         2281,  2876,  3661,  4499,  5423,  6633,  7730,  9134, 10995,\n",
       "        12612, 14459, 16018, 19856, 22302, 25233, 29155, 32964, 37575,\n",
       "        40174]))"
      ]
     },
     "execution_count": 90,
     "metadata": {},
     "output_type": "execute_result"
    }
   ],
   "source": [
    "france = data[data.countriesAndTerritories =='France']\n",
    "newcases_FR = np.flip(france.cases.to_numpy()[:])\n",
    "ydata_FR = np.cumsum(newcases_FR)\n",
    "xdata,ydata_FR"
   ]
  },
  {
   "cell_type": "code",
   "execution_count": 91,
   "metadata": {},
   "outputs": [
    {
     "data": {
      "text/plain": [
       "(array([ 1,  2,  3,  4,  5,  6,  7,  8,  9, 10, 11, 12, 13, 14, 15, 16, 17,\n",
       "        18, 19, 20, 21, 22, 23, 24, 25, 26, 27, 28, 29, 30, 31, 32, 33, 34,\n",
       "        35, 36]),\n",
       " array([    0,     0,     0,     0,     0,     0,     0,     0,     0,\n",
       "            0,     0,     0,     0,     0,     0,     0,     0,     0,\n",
       "            0,     0,     0,     0,     0,     0,     0,     0,     0,\n",
       "            0,     0,     0,     0,     0,     1,     1,     1,     1,\n",
       "            1,     1,     1,     1,     1,     2,     2,     2,     2,\n",
       "            2,     2,     2,     2,     2,     2,     2,     2,     2,\n",
       "            2,     2,     3,     7,    12,    25,    34,    66,    83,\n",
       "          114,   151,   200,   261,   374,   430,   589,  1204,  1639,\n",
       "         2140,  3004,  4231,  5753,  7753,  9191, 11178, 13716, 17147,\n",
       "        19980, 24926, 28572, 33089, 39673, 47610, 56188, 64059, 72248,\n",
       "        78797]))"
      ]
     },
     "execution_count": 91,
     "metadata": {},
     "output_type": "execute_result"
    }
   ],
   "source": [
    "spain = data[data.countriesAndTerritories =='Spain']\n",
    "newcases_SP = np.flip(spain.cases.to_numpy()[:])\n",
    "ydata_SP = np.cumsum(newcases_SP)\n",
    "xdata,ydata_SP"
   ]
  },
  {
   "cell_type": "code",
   "execution_count": 92,
   "metadata": {},
   "outputs": [
    {
     "data": {
      "text/plain": [
       "(array([ 1,  2,  3,  4,  5,  6,  7,  8,  9, 10, 11, 12, 13, 14, 15, 16, 17,\n",
       "        18, 19, 20, 21, 22, 23, 24, 25, 26, 27, 28, 29, 30, 31, 32, 33, 34,\n",
       "        35, 36]),\n",
       " array([    0,     0,     0,     0,     0,     0,     0,     0,     0,\n",
       "            0,     0,     0,     0,     0,     0,     0,     0,     0,\n",
       "            0,     0,     0,     0,     0,     0,     0,     0,     0,\n",
       "            0,     0,     0,     0,     0,     0,     0,     0,     0,\n",
       "            0,     0,     0,     0,     0,     0,     0,     0,     0,\n",
       "            0,     0,     0,     0,     0,     0,     2,     5,    18,\n",
       "           28,    43,    61,    95,   139,   245,   388,   593,   978,\n",
       "         1501,  2336,  2922,  3513,  4747,  5823,  6566,  7161,  8042,\n",
       "         9000, 10075, 11364, 12729, 13938, 14991, 16169, 17361, 18407,\n",
       "        19644, 20610, 21638, 23049, 24811, 27017, 29406, 32332, 35408,\n",
       "        38309]))"
      ]
     },
     "execution_count": 92,
     "metadata": {},
     "output_type": "execute_result"
    }
   ],
   "source": [
    "iran = data[data.countriesAndTerritories =='Iran']\n",
    "newcases_IR = np.flip(iran.cases.to_numpy()[:])\n",
    "ydata_IR = np.cumsum(newcases_IR)\n",
    "xdata,ydata_IR"
   ]
  },
  {
   "cell_type": "code",
   "execution_count": 93,
   "metadata": {},
   "outputs": [
    {
     "data": {
      "text/plain": [
       "(array([ 1,  2,  3,  4,  5,  6,  7,  8,  9, 10, 11, 12, 13, 14, 15, 16, 17,\n",
       "        18, 19, 20, 21, 22, 23, 24, 25, 26, 27, 28, 29, 30, 31, 32, 33, 34,\n",
       "        35, 36]),\n",
       " array([    0,     0,     0,     0,     0,     0,     0,     0,     0,\n",
       "            0,     0,     0,     0,     0,     0,     0,     0,     0,\n",
       "            0,     0,     0,     0,     0,     0,     0,     0,     0,\n",
       "            0,     1,     4,     4,     5,     7,     8,     9,    11,\n",
       "           11,    11,    12,    13,    13,    13,    13,    15,    15,\n",
       "           15,    15,    15,    15,    15,    15,    15,    15,    15,\n",
       "           15,    15,    15,    17,    21,    47,    57,   111,   129,\n",
       "          157,   196,   262,   400,   684,   847,   902,  1139,  1296,\n",
       "         1567,  2369,  3062,  3795,  4838,  6012,  7156,  8198, 14138,\n",
       "        18187, 21463, 24774, 29212, 31554, 36508, 42288, 48582, 52547,\n",
       "        57298]))"
      ]
     },
     "execution_count": 93,
     "metadata": {},
     "output_type": "execute_result"
    }
   ],
   "source": [
    "germany = data[data.countriesAndTerritories =='Germany']\n",
    "newcases_DE = np.flip(germany.cases.to_numpy()[:])\n",
    "ydata_DE = np.cumsum(newcases_DE)\n",
    "xdata,ydata_DE"
   ]
  },
  {
   "cell_type": "code",
   "execution_count": 94,
   "metadata": {},
   "outputs": [
    {
     "data": {
      "text/plain": [
       "(array([ 1,  2,  3,  4,  5,  6,  7,  8,  9, 10, 11, 12, 13, 14, 15, 16, 17,\n",
       "        18, 19, 20, 21, 22, 23, 24, 25, 26, 27, 28, 29, 30, 31, 32, 33, 34,\n",
       "        35, 36]),\n",
       " array([   0,    0,    0,    0,    0,    0,    0,    0,    0,    0,    0,\n",
       "           0,    0,    0,    0,    0,    0,    0,    0,    0,    0,    0,\n",
       "           0,    0,    0,    0,    0,    0,    0,    0,    0,    0,    0,\n",
       "           0,    0,    0,    0,    0,    0,    0,    0,    0,    0,    0,\n",
       "           0,    0,    0,    0,    0,    0,    0,    0,    0,    0,    0,\n",
       "           0,    0,    1,    1,    1,    1,    2,    2,    3,    8,   13,\n",
       "          13,   25,   34,   52,   77,   98,  121,  200,  234,  291,  428,\n",
       "         621,  904, 1128, 1546, 1891, 2201, 2433, 2915, 3417, 3904, 4256]))"
      ]
     },
     "execution_count": 94,
     "metadata": {},
     "output_type": "execute_result"
    }
   ],
   "source": [
    "brazil = data[data.countriesAndTerritories =='Brazil']\n",
    "newcases_BR = np.flip(brazil.cases.to_numpy()[:])\n",
    "ydata_BR = np.cumsum(newcases_BR)\n",
    "xdata,ydata_BR"
   ]
  },
  {
   "cell_type": "code",
   "execution_count": 95,
   "metadata": {},
   "outputs": [
    {
     "data": {
      "text/plain": [
       "(array([ 1,  2,  3,  4,  5,  6,  7,  8,  9, 10, 11, 12, 13, 14, 15, 16, 17,\n",
       "        18, 19, 20, 21, 22, 23, 24, 25, 26, 27, 28, 29, 30, 31, 32, 33, 34,\n",
       "        35, 36]),\n",
       " array([   0,    0,    0,    0,    0,    0,    0,    0,    0,    0,    0,\n",
       "           0,    0,    0,    0,    0,    0,    0,    0,    0,    0,    0,\n",
       "           0,    0,    0,    0,    1,    1,    2,    3,    3,    3,    4,\n",
       "           4,    4,    4,    5,    5,    7,    7,    7,    7,    7,    7,\n",
       "           7,    7,    8,    8,    8,    8,    8,    8,    9,    9,    9,\n",
       "           9,   11,   11,   12,   14,   16,   20,   24,   27,   30,   33,\n",
       "          45,   51,   57,   62,   77,   93,  103,  138,  176,  244,  304,\n",
       "         424,  569,  690,  846,  971, 1231, 1430, 1646, 1959, 3385, 4018,\n",
       "        4689, 5386, 6255]))"
      ]
     },
     "execution_count": 95,
     "metadata": {},
     "output_type": "execute_result"
    }
   ],
   "source": [
    "canada = data[data.countriesAndTerritories =='Canada']\n",
    "newcases_CA = np.flip(canada.cases.to_numpy()[:])\n",
    "ydata_CA = np.cumsum(newcases_CA)\n",
    "xdata,ydata_CA"
   ]
  },
  {
   "cell_type": "code",
   "execution_count": 96,
   "metadata": {},
   "outputs": [
    {
     "data": {
      "text/plain": [
       "(array([ 1,  2,  3,  4,  5,  6,  7,  8,  9, 10, 11, 12, 13, 14, 15, 16, 17,\n",
       "        18, 19, 20, 21, 22, 23, 24, 25, 26, 27, 28, 29, 30, 31, 32, 33, 34,\n",
       "        35, 36]),\n",
       " array([     0,      0,      0,      0,      0,      0,      0,      0,\n",
       "             0,      0,      0,      0,      0,      0,      0,      0,\n",
       "             0,      0,      0,      0,      0,      1,      1,      1,\n",
       "             1,      2,      2,      5,      5,      5,      5,      6,\n",
       "             7,      8,     11,     11,     11,     12,     12,     12,\n",
       "            12,     12,     13,     13,     14,     15,     15,     15,\n",
       "            15,     15,     15,     15,     16,     35,     35,     35,\n",
       "            53,     53,     59,     60,     66,     69,     89,    103,\n",
       "           125,    159,    233,    338,    433,    554,    754,   1025,\n",
       "          1312,   1663,   2174,   2951,   3774,   4661,   6427,   9415,\n",
       "         14250,  19624,  26747,  35206,  46442,  55231,  69194,  85991,\n",
       "        104686, 124665, 143025]))"
      ]
     },
     "execution_count": 96,
     "metadata": {},
     "output_type": "execute_result"
    }
   ],
   "source": [
    "usa = data[data.countriesAndTerritories =='United_States_of_America']\n",
    "newcases_US = np.flip(usa.cases.to_numpy()[:])\n",
    "ydata_US = np.cumsum(newcases_US)\n",
    "xdata,ydata_US"
   ]
  },
  {
   "cell_type": "code",
   "execution_count": 97,
   "metadata": {},
   "outputs": [
    {
     "data": {
      "text/plain": [
       "(array([ 1,  2,  3,  4,  5,  6,  7,  8,  9, 10, 11, 12, 13, 14, 15, 16, 17,\n",
       "        18, 19, 20, 21, 22, 23, 24, 25, 26, 27, 28, 29, 30, 31, 32, 33, 34,\n",
       "        35, 36]),\n",
       " array([    0,     0,     0,     0,     0,     0,     0,     0,     0,\n",
       "            0,     0,     0,     0,     0,     0,     0,     0,     0,\n",
       "            0,     0,     0,     0,     0,     0,     0,     0,     0,\n",
       "            0,     0,     0,     0,     0,     0,     0,     0,     0,\n",
       "            0,     0,     0,     0,     0,     0,     0,     0,     0,\n",
       "            0,     0,     0,     0,     0,     0,     0,     0,     0,\n",
       "            0,     0,     0,     1,     1,     8,    12,    18,    24,\n",
       "           30,    37,    57,    87,   209,   264,   332,   374,   490,\n",
       "          642,   854,  1121,  1359,  2200,  2200,  2650,  3010,  3888,\n",
       "         4840,  6077,  6971,  8015,  8789,  9714, 10714, 12104, 13152,\n",
       "        14274]))"
      ]
     },
     "execution_count": 97,
     "metadata": {},
     "output_type": "execute_result"
    }
   ],
   "source": [
    "switzerland = data[data.countriesAndTerritories =='Switzerland']\n",
    "newcases_CH = np.flip(switzerland.cases.to_numpy()[:])\n",
    "ydata_CH = np.cumsum(newcases_CH)\n",
    "xdata,ydata_CH"
   ]
  },
  {
   "cell_type": "code",
   "execution_count": 98,
   "metadata": {},
   "outputs": [
    {
     "data": {
      "text/plain": [
       "(array([ 1,  2,  3,  4,  5,  6,  7,  8,  9, 10, 11, 12, 13, 14, 15, 16, 17,\n",
       "        18, 19, 20, 21, 22, 23, 24, 25, 26, 27, 28, 29, 30, 31, 32, 33, 34,\n",
       "        35, 36]),\n",
       " array([   27,    27,    27,    44,    44,    59,    59,    59,    59,\n",
       "           59,    59,    59,    59,    59,    59,    59,    59,    63,\n",
       "           80,   216,   235,   386,   526,   623,   882,  1323,  1988,\n",
       "         2775,  4528,  5994,  7734,  9714, 11809, 14399, 17211, 20448,\n",
       "        24320, 28047, 31207, 34625, 37232, 40206, 42696, 44724, 59865,\n",
       "        64021, 66559, 68566, 70618, 72508, 74258, 74652, 75543, 76369,\n",
       "        77016, 77234, 77749, 78159, 78598, 78927, 79355, 79929, 80134,\n",
       "        80261, 80380, 80497, 80667, 80768, 80814, 80859, 80879, 80908,\n",
       "        80932, 80954, 80973, 80995, 81020, 81130, 81163, 81238, 81337,\n",
       "        81416, 81499, 81649, 81748, 81847, 81968, 82079, 82213, 82342,\n",
       "        82463]))"
      ]
     },
     "execution_count": 98,
     "metadata": {},
     "output_type": "execute_result"
    }
   ],
   "source": [
    "china = data[data.countriesAndTerritories =='China']\n",
    "newcases_CN = np.flip(china.cases.to_numpy()[:])\n",
    "ydata_CN = np.cumsum(newcases_CN)\n",
    "xdata,ydata_CN"
   ]
  },
  {
   "cell_type": "code",
   "execution_count": 99,
   "metadata": {},
   "outputs": [
    {
     "data": {
      "text/plain": [
       "(array([ 1,  2,  3,  4,  5,  6,  7,  8,  9, 10, 11, 12, 13, 14, 15, 16, 17,\n",
       "        18, 19, 20, 21, 22, 23, 24, 25, 26, 27, 28, 29, 30, 31, 32, 33, 34,\n",
       "        35, 36]),\n",
       " array([    0,     0,     0,     0,     0,     0,     0,     0,     0,\n",
       "            0,     0,     0,     0,     0,     0,     0,     0,     0,\n",
       "            0,     0,     0,     0,     0,     0,     0,     0,     0,\n",
       "            0,     0,     0,     0,     3,     3,     3,     3,     3,\n",
       "            3,     3,     3,     3,     3,     3,     3,     3,     3,\n",
       "            3,     3,     3,     3,     3,     3,     3,     3,    17,\n",
       "           79,   132,   229,   322,   400,   650,   888,  1128,  1689,\n",
       "         1835,  2502,  3089,  3858,  4636,  5883,  7375,  9172, 10149,\n",
       "        12462, 15113, 17660, 17750, 23980, 27980, 31506, 35713, 41035,\n",
       "        47021, 53578, 59138, 63927, 69176, 74386, 80539, 86498, 92472,\n",
       "        97689]))"
      ]
     },
     "execution_count": 99,
     "metadata": {},
     "output_type": "execute_result"
    }
   ],
   "source": [
    "italy = data[data.countriesAndTerritories =='Italy']\n",
    "newcases_IT = np.flip(italy.cases.to_numpy()[:])\n",
    "ydata_IT = np.cumsum(newcases_IT)\n",
    "xdata,ydata_IT"
   ]
  },
  {
   "cell_type": "code",
   "execution_count": 100,
   "metadata": {},
   "outputs": [],
   "source": [
    "shift_CA = np.argmax(ydata_CA > 100)\n",
    "shift_BR = np.argmax(ydata_BR > 100)\n",
    "shift_DE = np.argmax(ydata_DE > 100)\n",
    "shift_US = np.argmax(ydata_US > 100)\n",
    "shift_CH = np.argmax(ydata_CH > 100)\n",
    "shift_SP = np.argmax(ydata_SP > 100)\n",
    "shift_FR = np.argmax(ydata_FR > 100)\n",
    "shift_IR = np.argmax(ydata_IR > 100)\n",
    "shift_KO = np.argmax(ydata_KO > 100)\n",
    "shift_IT = np.argmax(ydata_IT > 100)\n",
    "shift_JP = np.argmax(ydata_JP > 100)\n",
    "shift_CN = np.argmax(ydata_CN > 100)"
   ]
  },
  {
   "cell_type": "code",
   "execution_count": 108,
   "metadata": {},
   "outputs": [
    {
     "data": {
      "text/plain": [
       "array([    0,     0,     0,     0,     0,     0,     0,     0,     0,\n",
       "           0,     0,     0,     0,     0,     0,     0,     0,     0,\n",
       "           0,     0,     0,     0,     0,     0,     0,     0,     0,\n",
       "           0,     0,     0,     0,     3,     3,     3,     3,     3,\n",
       "           3,     3,     3,     3,     3,     3,     3,     3,     3,\n",
       "           3,     3,     3,     3,     3,     3,     3,     3,    17,\n",
       "          79,   132,   229,   322,   400,   650,   888,  1128,  1689,\n",
       "        1835,  2502,  3089,  3858,  4636,  5883,  7375,  9172, 10149,\n",
       "       12462, 15113, 17660, 17750, 23980, 27980, 31506, 35713, 41035,\n",
       "       47021, 53578, 59138, 63927, 69176, 74386, 80539, 86498, 92472,\n",
       "       97689])"
      ]
     },
     "execution_count": 108,
     "metadata": {},
     "output_type": "execute_result"
    }
   ],
   "source": [
    "ydata_IT[ydata_IT>100]"
   ]
  },
  {
   "cell_type": "code",
   "execution_count": 109,
   "metadata": {},
   "outputs": [
    {
     "data": {
      "text/plain": [
       "array([  132,   229,   322,   400,   650,   888,  1128,  1689,  1835,\n",
       "        2502,  3089,  3858,  4636,  5883,  7375,  9172, 10149, 12462,\n",
       "       15113, 17660, 17750, 23980, 27980, 31506, 35713, 41035, 47021,\n",
       "       53578, 59138, 63927, 69176, 74386, 80539, 86498, 92472, 97689])"
      ]
     },
     "execution_count": 109,
     "metadata": {},
     "output_type": "execute_result"
    }
   ],
   "source": [
    "ydata_IT[ydata_IT>100]"
   ]
  },
  {
   "cell_type": "code",
   "execution_count": 110,
   "metadata": {},
   "outputs": [
    {
     "data": {
      "text/plain": [
       "array([  132,   229,   322,   400,   650,   888,  1128,  1689,  1835,\n",
       "        2502,  3089,  3858,  4636,  5883,  7375,  9172, 10149, 12462,\n",
       "       15113, 17660, 17750, 23980, 27980, 31506, 35713, 41035, 47021,\n",
       "       53578, 59138, 63927, 69176, 74386, 80539, 86498, 92472, 97689])"
      ]
     },
     "execution_count": 110,
     "metadata": {},
     "output_type": "execute_result"
    }
   ],
   "source": [
    "ydata_IT[ydata_IT>100][:36]"
   ]
  },
  {
   "cell_type": "code",
   "execution_count": 107,
   "metadata": {},
   "outputs": [
    {
     "data": {
      "text/plain": [
       "(array([-54, -53, -52, -51, -50, -49, -48, -47, -46, -45, -44, -43, -42,\n",
       "        -41, -40, -39, -38, -37, -36, -35, -34, -33, -32, -31, -30, -29,\n",
       "        -28, -27, -26, -25, -24, -23, -22, -21, -20, -19]),\n",
       " array([    3,     3,     3,     3,     3,     3,     3,     3,     3,\n",
       "            3,     3,     3,     3,     3,     3,     3,    17,    79,\n",
       "          132,   229,   322,   400,   650,   888,  1128,  1689,  1835,\n",
       "         2502,  3089,  3858,  4636,  5883,  7375,  9172, 10149, 12462]))"
      ]
     },
     "execution_count": 107,
     "metadata": {},
     "output_type": "execute_result"
    }
   ],
   "source": [
    "xdata-shift_IT,ydata_IT[xdata-shift_IT]"
   ]
  },
  {
   "cell_type": "code",
   "execution_count": 116,
   "metadata": {},
   "outputs": [
    {
     "data": {
      "text/plain": [
       "array([ 1,  2,  3,  4,  5,  6,  7,  8,  9, 10, 11, 12, 13, 14, 15, 16, 17,\n",
       "       18, 19, 20, 21, 22, 23, 24, 25, 26, 27, 28, 29, 30, 31, 32, 33, 34,\n",
       "       35])"
      ]
     },
     "execution_count": 116,
     "metadata": {},
     "output_type": "execute_result"
    }
   ],
   "source": [
    "lastxdays\n",
    "xdata\n",
    "np.arange(1,len(ydata_IT[ydata_IT>100]),1)"
   ]
  },
  {
   "cell_type": "code",
   "execution_count": 136,
   "metadata": {},
   "outputs": [
    {
     "data": {
      "image/png": "[encoded data removed]",
      "text/plain": [
       "<Figure size 576x288 with 1 Axes>"
      ]
     },
     "metadata": {},
     "output_type": "display_data"
    }
   ],
   "source": [
    "from matplotlib.lines import Line2D\n",
    "markers = []\n",
    "for m in Line2D.markers:\n",
    "    try:\n",
    "        if len(m) == 1 and m != ' ':\n",
    "            markers.append(m)\n",
    "    except TypeError:\n",
    "        pass\n",
    "    \n",
    "sizemarker=6\n",
    "\n",
    "fig = plt.figure(figsize=(8, 4), facecolor='w', edgecolor='k')\n",
    "plt.plot(np.arange(1,len(ydata_CN[ydata_CN>100])+1,1),ydata_CN[ydata_CN>100], '-D',fillstyle='none', ms=sizemarker, label=r'CN')#,linestyle='None')\n",
    "\n",
    "plt.plot(np.arange(1,len(ydata_IT[ydata_IT>100])+1,1),ydata_IT[ydata_IT>100], '-o',fillstyle='none', ms=sizemarker,label=r'IT')#,linestyle='None')\n",
    "plt.plot(np.arange(1,len(ydata_DE[ydata_DE>100])+1,1),ydata_DE[ydata_DE>100], '-s', fillstyle='none', ms=sizemarker, label=r'DE')#,linestyle='None')\n",
    "plt.plot(np.arange(1,len(ydata_US[ydata_US>100])+1,1),ydata_US[ydata_US>100],'-^', fillstyle='none', ms=sizemarker,label=r'US')#,linestyle='None')\n",
    "plt.plot(np.arange(1,len(ydata_CH[ydata_CH>100])+1,1),ydata_CH[ydata_CH>100],'->', fillstyle='none', ms=sizemarker, label=r'CH')#,linestyle='None')\n",
    "plt.plot(np.arange(1,len(ydata_JP[ydata_JP>100])+1,1),ydata_JP[ydata_JP>100],'-x', fillstyle='none', ms=sizemarker, label=r'JP')#,linestyle='None')\n",
    "plt.plot(np.arange(1,len(ydata_KO[ydata_KO>100])+1,1),ydata_KO[ydata_KO>100], '-<',fillstyle='none', ms=sizemarker, label=r'KO')#,linestyle='None')\n",
    "plt.plot(np.arange(1,len(ydata_SP[ydata_SP>100])+1,1),ydata_SP[ydata_SP>100], '-*',fillstyle='none', ms=sizemarker, label=r'SP')#,linestyle='None')\n",
    "plt.plot(np.arange(1,len(ydata_FR[ydata_FR>100])+1,1),ydata_FR[ydata_FR>100], '-8',fillstyle='none', ms=sizemarker, label=r'FR')#,linestyle='None')\n",
    "plt.plot(np.arange(1,len(ydata_CA[ydata_CA>100])+1,1),ydata_CA[ydata_CA>100], '-p',fillstyle='none', ms=sizemarker, label=r'CA')#,linestyle='None')\n",
    "plt.plot(np.arange(1,len(ydata_BR[ydata_BR>100])+1,1),ydata_BR[ydata_BR>100], '-h',fillstyle='none', ms=sizemarker, label=r'BR')#,linestyle='None')\n",
    "\n",
    "\n",
    "# plt.plot(xdata-shift_KO,ydata_KO, label=r'KO', marker=markers[2], ms=5, fillstyle='none',linestyle='None')\n",
    "# plt.plot(xdata_CN+36,ydata_CN, 'o', color='red',  label=r'CN (+36)', fillstyle='none')\n",
    "\n",
    "plt.legend(bbox_to_anchor=(1.04,1), loc=\"upper left\",prop={'size':14},frameon=True)\n",
    "# plt.tick_params(labelcolor='none', top=False, bottom=False, left=False, right=False)\n",
    "plt.xlabel(r\"days since 100 cases\",fontsize = 15)\n",
    "plt.ylabel(r\"cases\",fontsize = 15)\n",
    "# plt.xticks(fontsize = 15)\n",
    "# plt.yticks(fontsize = 15)\n",
    "plt.yscale('log')\n",
    "# plt.xscale('log')\n",
    "plt.xlim(0,40)\n",
    "plt.ylim(100,400000)\n",
    "# plt.legend(loc='best',prop={'size':20},frameon=True)\n",
    "plt.tick_params(which = 'major', axis='both', width=1.5, length = 10, labelsize=15,direction='in')\n",
    "plt.tick_params(which = 'minor', axis='both', width=1.5, length = 5, labelsize=15,direction='in')\n",
    "fig.tight_layout(pad=1.0)\n",
    "plt.show()\n",
    "# fig.savefig(\"fig_diamter_SISnoinset.pdf\", bbox_inches='tight')\n",
    "# plt.close(\"all\")"
   ]
  },
  {
   "cell_type": "code",
   "execution_count": null,
   "metadata": {},
   "outputs": [],
   "source": []
  },
  {
   "cell_type": "code",
   "execution_count": null,
   "metadata": {},
   "outputs": [],
   "source": []
  },
  {
   "cell_type": "code",
   "execution_count": 107,
   "metadata": {},
   "outputs": [
    {
     "name": "stderr",
     "output_type": "stream",
     "text": [
      "/usr/local/lib/python3.7/site-packages/scipy/optimize/minpack.py:787: OptimizeWarning: Covariance of the parameters could not be estimated\n",
      "  category=OptimizeWarning)\n"
     ]
    },
    {
     "data": {
      "image/png": "[encoded data removed]",
      "text/plain": [
       "<Figure size 432x288 with 5 Axes>"
      ]
     },
     "metadata": {
      "needs_background": "light"
     },
     "output_type": "display_data"
    }
   ],
   "source": [
    "func = fitAlgebraic\n",
    "# func = fitPowerlaw\n",
    "# func = fitExp\n",
    "\n",
    "popt_IT, pcov_IT = curve_fit(func, xdata[:10], ydata_IT[:10], x0,maxfev = 5000)\n",
    "popt_DE, pcov_DE = curve_fit(func, xdata[:10], ydata_DE[:10], x0,maxfev = 5000)\n",
    "popt_JP, pcov_JP = curve_fit(func, xdata[:10], ydata_JP[:10], x0,maxfev = 5000)\n",
    "popt_CN, pcov_CN = curve_fit(func, xdata_CN[:10], ydata_CN[:10], x0,maxfev = 5000)\n",
    "\n",
    "fig = plt.figure()\n",
    "ax1 = fig.add_subplot(221)\n",
    "plt.plot(xdata,ydata_IT, 'o', color=coltri[2],  label=r'IT')\n",
    "plt.plot(np.arange(1,30), func(np.arange(1,30), *popt_IT), '--',color='black', lw=2, label=r'fit: $At + Bt^2$')\n",
    "plt.title('Italy',fontsize = 15)\n",
    "ax2 = fig.add_subplot(222)\n",
    "plt.plot(xdata,ydata_JP, 'o', color=coltri[1],  label=r'JP')\n",
    "plt.plot(np.arange(1,30), func(np.arange(1,30), *popt_JP), '--',color='black', lw=2, label=r'fit: $At + Bt^2$')\n",
    "plt.title('Japan',fontsize = 15)\n",
    "ax3 = fig.add_subplot(223)\n",
    "plt.plot(xdata_CN,ydata_CN, 'o', color=coltri[0],  label=r'CN')\n",
    "plt.plot(np.arange(1,30), func(np.arange(1,30), *popt_CN), '--',color='black', lw=2, label=r'fit: $At + Bt^2$')\n",
    "plt.title('China',fontsize = 15)\n",
    "ax4 = fig.add_subplot(224)\n",
    "plt.plot(xdata,ydata_DE, 'o', color='violet',  label=r'DE')\n",
    "plt.plot(np.arange(1,30), func(np.arange(1,30), *popt_DE), '--',color='black', lw=2, label=r'fit: $At + Bt^2$')\n",
    "plt.title('Germany',fontsize = 15)\n",
    "\n",
    "fig.add_subplot(111, frameon=False)\n",
    "# hide tick and tick label of the big axis\n",
    "plt.tick_params(labelcolor='none', top=False, bottom=False, left=False, right=False)\n",
    "plt.xlabel(r\"days\",fontsize = 15)\n",
    "plt.ylabel(r\"cases\",fontsize = 15)\n",
    "#plt.xticks(fontsize = 20)\n",
    "#plt.yticks(fontsize = 20)\n",
    "# plt.yscale('log')\n",
    "# plt.xscale('log')\n",
    "# plt.legend(loc='best',prop={'size':20},frameon=True)\n",
    "# ax.tick_params(which = 'major', axis='both', width=1.5, length = 10, labelsize=20,direction='in')\n",
    "# ax.tick_params(which = 'minor', axis='both', width=1.5, length = 5, labelsize=20,direction='in')\n",
    "fig.tight_layout(pad=1.0)\n",
    "plt.show()\n",
    "# fig.savefig(\"fig_diamter_SISnoinset.pdf\", bbox_inches='tight')\n",
    "# plt.close(\"all\")"
   ]
  },
  {
   "cell_type": "code",
   "execution_count": null,
   "metadata": {},
   "outputs": [],
   "source": []
  },
  {
   "cell_type": "code",
   "execution_count": null,
   "metadata": {},
   "outputs": [],
   "source": []
  },
  {
   "cell_type": "code",
   "execution_count": null,
   "metadata": {},
   "outputs": [],
   "source": []
  },
  {
   "cell_type": "code",
   "execution_count": 61,
   "metadata": {},
   "outputs": [
    {
     "data": {
      "text/plain": [
       "979    20/01/2020\n",
       "978    21/01/2020\n",
       "977    22/01/2020\n",
       "976    23/01/2020\n",
       "975    24/01/2020\n",
       "974    25/01/2020\n",
       "973    26/01/2020\n",
       "972    27/01/2020\n",
       "971    28/01/2020\n",
       "970    29/01/2020\n",
       "969    30/01/2020\n",
       "968    31/01/2020\n",
       "967    01/02/2020\n",
       "966    02/02/2020\n",
       "965    03/02/2020\n",
       "964    04/02/2020\n",
       "963    05/02/2020\n",
       "962    06/02/2020\n",
       "961    07/02/2020\n",
       "960    08/02/2020\n",
       "959    09/02/2020\n",
       "958    10/02/2020\n",
       "957    11/02/2020\n",
       "956    12/02/2020\n",
       "955    13/02/2020\n",
       "954    14/02/2020\n",
       "953    15/02/2020\n",
       "952    16/02/2020\n",
       "951    17/02/2020\n",
       "950    18/02/2020\n",
       "949    19/02/2020\n",
       "948    20/02/2020\n",
       "947    21/02/2020\n",
       "946    22/02/2020\n",
       "945    23/02/2020\n",
       "944    24/02/2020\n",
       "943    25/02/2020\n",
       "942    26/02/2020\n",
       "941    27/02/2020\n",
       "940    28/02/2020\n",
       "939    29/02/2020\n",
       "938    01/03/2020\n",
       "937    02/03/2020\n",
       "936    03/03/2020\n",
       "935    04/03/2020\n",
       "934    05/03/2020\n",
       "933    06/03/2020\n",
       "932    07/03/2020\n",
       "931    08/03/2020\n",
       "930    09/03/2020\n",
       "929    10/03/2020\n",
       "928    11/03/2020\n",
       "927    12/03/2020\n",
       "Name: DateRep, dtype: object"
      ]
     },
     "execution_count": 61,
     "metadata": {},
     "output_type": "execute_result"
    }
   ],
   "source": [
    "date_CN = np.flip(china.DateRep)[20:]"
   ]
  },
  {
   "cell_type": "code",
   "execution_count": 72,
   "metadata": {},
   "outputs": [
    {
     "data": {
      "text/plain": [
       "(array([ 3.04960181e+03,  1.29702824e-01, -4.58457153e+03]),\n",
       " array([[ 2.88766620e+05, -4.38189512e+00, -4.90715393e+05],\n",
       "        [-4.38189512e+00,  6.72092111e-05,  7.28637003e+00],\n",
       "        [-4.90715393e+05,  7.28637003e+00,  9.09852306e+05]]))"
      ]
     },
     "execution_count": 72,
     "metadata": {},
     "output_type": "execute_result"
    }
   ],
   "source": [
    "# Initial guess.\n",
    "A0,B0,C0 = 1,1,1\n",
    "x0 = np.array([A0, B0, C0])\n",
    "\n",
    "func = fitExp\n",
    "# func = fitPowerlaw\n",
    "\n",
    "popt_CN, pcov_CN = curve_fit(func, xdata[:20], ydata_CN[:20], x0,maxfev = 5000)\n",
    "popt_CN, pcov_CN"
   ]
  },
  {
   "cell_type": "code",
   "execution_count": 82,
   "metadata": {},
   "outputs": [
    {
     "data": {
      "image/png": "[encoded data removed]",
      "text/plain": [
       "<Figure size 432x288 with 1 Axes>"
      ]
     },
     "metadata": {
      "needs_background": "light"
     },
     "output_type": "display_data"
    }
   ],
   "source": [
    "fig = plt.figure()\n",
    "ax = fig.add_subplot(111)\n",
    "#plt.plot(xdata,func(xdata,popt[0],popt[1],popt[2]), label=r'fit: $A+B\\ln(t) + Ct$')\n",
    "# plt.plot(xdata,func(xdata,A0,B0,C0), color=coltri[0], label=r'theory')\n",
    "plt.plot(np.arange(1,len(ydata_IT)+1,1)-7,ydata_IT, 'o-', color=coltri[2],  label=r'IT (-39)')\n",
    "plt.plot(xdata[:20],ydata_CN[:20], 'o-', color=coltri[0],  label=r'CN')\n",
    "plt.plot(xdata[7:20], func(xdata, *popt_CN)[7:20], '--',color='black', lw=2, label=r'fit')\n",
    "plt.legend(loc='best',prop={'size':20},frameon=True)\n",
    "plt.xlabel(r\"days since 20 January\", fontsize=20)\n",
    "plt.ylabel(r\"infected\", fontsize=20)\n",
    "ax.tick_params(which = 'major', axis='both', width=1.5, length = 10, labelsize=20,direction='in')\n",
    "ax.tick_params(which = 'minor', axis='both', width=1.5, length = 5, labelsize=20,direction='in')\n",
    "#plt.xticks(fontsize = 20)\n",
    "#plt.yticks(fontsize = 20)\n",
    "# plt.ylim(10,10000)\n",
    "plt.yscale('log')\n",
    "# plt.xscale('log')\n",
    "plt.title('',fontsize = 25)\n",
    "plt.show()"
   ]
  },
  {
   "cell_type": "code",
   "execution_count": null,
   "metadata": {},
   "outputs": [],
   "source": []
  },
  {
   "cell_type": "code",
   "execution_count": null,
   "metadata": {},
   "outputs": [],
   "source": []
  },
  {
   "cell_type": "code",
   "execution_count": 9,
   "metadata": {},
   "outputs": [
    {
     "data": {
      "text/plain": [
       "(array([ 1,  2,  3,  4,  5,  6,  7,  8,  9, 10, 11, 12, 13, 14, 15, 16, 17,\n",
       "        18, 19, 20, 21, 22, 23, 24, 25, 26, 27, 28, 29, 30, 31, 32, 33, 34,\n",
       "        35, 36, 37, 38, 39, 40, 41, 42, 43, 44, 45, 46, 47, 48, 49, 50, 51,\n",
       "        52, 53, 54, 55, 56, 57, 58, 59, 60, 61, 62, 63, 64, 65, 66, 67, 68,\n",
       "        69, 70, 71, 72, 73, 74]),\n",
       " array([   27,    27,    27,    44,    44,    59,    59,    59,    59,\n",
       "           59,    59,    59,    59,    59,    59,    59,    59,    63,\n",
       "           80,   216,   235,   386,   526,   623,   882,  1323,  1988,\n",
       "         2775,  4528,  5994,  7734,  9714, 11809, 14399, 17211, 20448,\n",
       "        24320, 28047, 31207, 34625, 37232, 40206, 42696, 44724, 59865,\n",
       "        64021, 66559, 68566, 70618, 72508, 74258, 74652, 75543, 76369,\n",
       "        77016, 77234, 77749, 78159, 78598, 78927, 79355, 79929, 80134,\n",
       "        80261, 80380, 80497, 80667, 80768, 80814, 80859, 80879, 80908,\n",
       "        80932, 80954]))"
      ]
     },
     "execution_count": 9,
     "metadata": {},
     "output_type": "execute_result"
    }
   ],
   "source": [
    "ydata_CN = np.cumsum(newcases_CN)[:]\n",
    "# ydata_CN = np.cumsum(newcases_CN)[20:]\n",
    "xdata_CN = np.arange(1,len(ydata_CN)+1,1)\n",
    "xdata_CN,ydata_CN"
   ]
  },
  {
   "cell_type": "code",
   "execution_count": 14,
   "metadata": {},
   "outputs": [
    {
     "data": {
      "image/png": "[encoded data removed]",
      "text/plain": [
       "<Figure size 432x288 with 1 Axes>"
      ]
     },
     "metadata": {
      "needs_background": "light"
     },
     "output_type": "display_data"
    }
   ],
   "source": [
    "fig = plt.figure()\n",
    "ax = fig.add_subplot(111)\n",
    "#plt.plot(xdata,func(xdata,popt[0],popt[1],popt[2]), label=r'fit: $A+B\\ln(t) + Ct$')\n",
    "# plt.plot(xdata,func(xdata,A0,B0,C0), color=coltri[0], label=r'theory')\n",
    "# plt.plot(np.arange(1,len(ydata_IT)+1,1)-7,ydata_IT, 'o-', color=coltri[2],  label=r'IT (-39)')\n",
    "plt.plot(xdata_CN[:],ydata_CN[:], 'o-', color=coltri[0],  label=r'CN')\n",
    "# plt.plot(xdata[7:20], func(xdata, *popt_CN)[7:20], '--',color='black', lw=2, label=r'fit')\n",
    "plt.legend(loc='best',prop={'size':20},frameon=True)\n",
    "plt.xlabel(r\"days of the year\", fontsize=20)\n",
    "plt.ylabel(r\"infected\", fontsize=20)\n",
    "ax.tick_params(which = 'major', axis='both', width=1.5, length = 10, labelsize=20,direction='in')\n",
    "ax.tick_params(which = 'minor', axis='both', width=1.5, length = 5, labelsize=20,direction='in')\n",
    "#plt.xticks(fontsize = 20)\n",
    "#plt.yticks(fontsize = 20)\n",
    "# plt.ylim(10,10000)\n",
    "plt.yscale('log')\n",
    "# plt.xscale('log')\n",
    "plt.title('',fontsize = 25)\n",
    "plt.show()"
   ]
  },
  {
   "cell_type": "code",
   "execution_count": null,
   "metadata": {},
   "outputs": [],
   "source": []
  },
  {
   "cell_type": "code",
   "execution_count": null,
   "metadata": {},
   "outputs": [],
   "source": [
    "folder = 'COVID-19/csse_covid_19_data/csse_covid_19_time_series/'\n",
    "data = pd.read_csv(folder+'time_series_19-covid-Confirmed.csv',sep=',') \n",
    "data.rename(columns={'Province/State': 'State', 'Country/Region': 'Country'}, inplace=True)\n",
    "italy = data[data.Country =='Italy']\n",
    "italy"
   ]
  }
 ],
 "metadata": {
  "kernelspec": {
   "display_name": "Python 3",
   "language": "python",
   "name": "python3"
  },
  "language_info": {
   "codemirror_mode": {
    "name": "ipython",
    "version": 3
   },
   "file_extension": ".py",
   "mimetype": "text/x-python",
   "name": "python",
   "nbconvert_exporter": "python",
   "pygments_lexer": "ipython3",
   "version": "3.7.6"
  }
 },
 "nbformat": 4,
 "nbformat_minor": 2
}
